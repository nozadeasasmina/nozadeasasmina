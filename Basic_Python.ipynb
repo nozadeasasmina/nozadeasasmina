{
  "nbformat": 4,
  "nbformat_minor": 0,
  "metadata": {
    "colab": {
      "name": "Basic Python.ipynb",
      "provenance": [],
      "collapsed_sections": [
        "KphLMYdt6Jom",
        "EjTMA5TiJ_WS",
        "YVgSBZy2LWuV",
        "TTivYLDwOctD",
        "zZk8-AW78FIc",
        "4jKeV84K9ilI",
        "chdjkmbtD34Z",
        "SUTuN6VWIbZe",
        "LyB-s4PXRfEJ",
        "WtN0IxgEa1qE",
        "XzWh0Wgqc4xY",
        "Nymcv2sxc85O",
        "whp2LOiFdQop",
        "FfF_6L2Pdr1O",
        "KXHMAPaId3km",
        "lkRJy1-reE9v",
        "XeEp4EN2fHB8",
        "mSnx3q8YgnNc",
        "lONHWs3YgrYh",
        "3MMF4K-mvEym",
        "r8br1_-zzlOL",
        "3CEInjN9zw98",
        "2AFwMQHj0OFR",
        "LPfmSgL_0--z",
        "f7FuVzx4126A",
        "BaMtGxei2q9R",
        "bVa_tmG321nL",
        "E9TPBC-K22oq",
        "q25ZeX2HDPbP",
        "1qGTt-y8GrDP",
        "yYgxg6bqNko4",
        "IAsKW5AwPT13",
        "-0pvUtKkPlDu",
        "wBZZnP5GQovb",
        "vN2EoOLaUqrP",
        "YPsLMDifWrTi",
        "3Nzu4j3LUfEP",
        "hs9KbQfdWtyW",
        "sgJ-HYpvWzcl",
        "wu7cpFhRW4JD",
        "3SUT91TeUo83",
        "7Y4M0ZDLY6Y_",
        "jwJpnNrUZnl3",
        "pTPzl62CZD4c",
        "ZfccPe9TaB6Y",
        "bAsT6GIH-KYO",
        "KC5wN3a_aJAi",
        "oUAZwBcJaGA0",
        "7o3TEjSMaMBW",
        "1QVoxg5haWfl",
        "H9BP3ev6eNBL",
        "jz8S1SUcjSQc",
        "_h1_QWuMlZ4k",
        "ku_DIu6Iam5k",
        "Rh1R9dT5asnX",
        "D4G48lOenLhk",
        "Tk8YQGy1Fs0Q",
        "RJs5CtGWF7cJ",
        "oydnIxJ1F9QD",
        "Evg5iksffnTQ",
        "r8P5xllQfp2h"
      ],
      "toc_visible": true,
      "authorship_tag": "ABX9TyNPMdob9aty3jYX9m/+UZ7D",
      "include_colab_link": true
    },
    "kernelspec": {
      "name": "python3",
      "display_name": "Python 3"
    },
    "language_info": {
      "name": "python"
    }
  },
  "cells": [
    {
      "cell_type": "markdown",
      "metadata": {
        "id": "view-in-github",
        "colab_type": "text"
      },
      "source": [
        "<a href=\"https://colab.research.google.com/github/nozadeasasmina/nozadeasasmina/blob/main/Basic_Python.ipynb\" target=\"_parent\"><img src=\"https://colab.research.google.com/assets/colab-badge.svg\" alt=\"Open In Colab\"/></a>"
      ]
    },
    {
      "cell_type": "markdown",
      "source": [
        "# **BASIC PYTHON**\n",
        "\n",
        "- Fungsi dan Argumen\n",
        "- Tipe Data\n",
        "- List : Slicing, Modifikasi(menambah, mengurangi, mengedit, mengurutkan)\n",
        "- Metode\n",
        "- Array\n",
        "- Array Generate\n",
        "- Dictionary\n",
        "- Conditional Statement\n",
        "- Looping : While looping, For looping \n"
      ],
      "metadata": {
        "id": "KphLMYdt6Jom"
      }
    },
    {
      "cell_type": "markdown",
      "source": [
        "## Fungsi dan Argumen"
      ],
      "metadata": {
        "id": "EjTMA5TiJ_WS"
      }
    },
    {
      "cell_type": "markdown",
      "source": [
        "aksi fungsi dilakukan kepada suatu argumen.\n",
        "- print( )  --> fungsi\n",
        "- 'Nozadea' --> argumen"
      ],
      "metadata": {
        "id": "TWXFW5jVO3ue"
      }
    },
    {
      "cell_type": "markdown",
      "source": [
        ""
      ],
      "metadata": {
        "id": "my739OtE6D9z"
      }
    },
    {
      "cell_type": "code",
      "source": [
        "print('Nozadea Sasmina')"
      ],
      "metadata": {
        "colab": {
          "base_uri": "https://localhost:8080/"
        },
        "id": "0Rg4gNIwJ2uC",
        "outputId": "6d842220-e97c-424c-8214-bc831f8b8060"
      },
      "execution_count": null,
      "outputs": [
        {
          "output_type": "stream",
          "name": "stdout",
          "text": [
            "Nozadea Sasmina\n"
          ]
        }
      ]
    },
    {
      "cell_type": "markdown",
      "source": [
        "## Tipe Data\n"
      ],
      "metadata": {
        "id": "YVgSBZy2LWuV"
      }
    },
    {
      "cell_type": "code",
      "source": [
        "print('Mengetahui tipe data: \\ntype(argumen)')"
      ],
      "metadata": {
        "colab": {
          "base_uri": "https://localhost:8080/"
        },
        "id": "_wJ9regINvNA",
        "outputId": "899227af-0cc1-434f-9aa3-146182d868f9"
      },
      "execution_count": null,
      "outputs": [
        {
          "output_type": "stream",
          "name": "stdout",
          "text": [
            "Mengetahui tipe data: \n",
            "type(argumen)\n"
          ]
        }
      ]
    },
    {
      "cell_type": "code",
      "source": [
        "Bilangan_bulat = 10\n",
        "print('Bilangan bulat:',type(Bilangan_bulat))\n",
        "Bilangan_pecahan = 0,1\n",
        "print('Bilangan pecahan:',type(Bilangan_pecahan),'/ float')\n",
        "Bilangan_text = 'tipe data'\n",
        "print('Bilangan text:',type(Bilangan_text),'/ string')\n",
        "Bilangan_boolean = 10+1 ==11\n",
        "print('Bilangan berisi true/false:',type(Bilangan_boolean))"
      ],
      "metadata": {
        "colab": {
          "base_uri": "https://localhost:8080/"
        },
        "id": "SqqzWRDwKLG6",
        "outputId": "900740e1-7943-48e0-81f4-1167f4316a56"
      },
      "execution_count": null,
      "outputs": [
        {
          "output_type": "stream",
          "name": "stdout",
          "text": [
            "Bilangan bulat: <class 'int'>\n",
            "Bilangan pecahan: <class 'tuple'> / float\n",
            "Bilangan text: <class 'str'> / string\n",
            "Bilangan berisi true/false: <class 'bool'>\n"
          ]
        }
      ]
    },
    {
      "cell_type": "markdown",
      "source": [
        "## List"
      ],
      "metadata": {
        "id": "TTivYLDwOctD"
      }
    },
    {
      "cell_type": "markdown",
      "source": [
        "list: kumpulan data yang terstruktur dengan urutan tertentu.\n",
        "\n",
        "dibuat dengan **'[ ]'** dan dipisahkan **' , '**"
      ],
      "metadata": {
        "id": "5iFgKmXlOrm3"
      }
    },
    {
      "cell_type": "code",
      "source": [
        "list1 = [False, 28, 0.6, 'huruf' ]\n",
        "type(list1)"
      ],
      "metadata": {
        "id": "GlHZVcGDO0DZ",
        "colab": {
          "base_uri": "https://localhost:8080/"
        },
        "outputId": "c7ae8af6-2ee0-4447-87e4-ceb7d3efc6df"
      },
      "execution_count": null,
      "outputs": [
        {
          "output_type": "execute_result",
          "data": {
            "text/plain": [
              "list"
            ]
          },
          "metadata": {},
          "execution_count": 33
        }
      ]
    },
    {
      "cell_type": "markdown",
      "source": [
        "terdapat **index** untuk identifikasi/memanggil data dengan urutan tertentu.\n",
        "\n",
        "index dimulai dari **0**\n",
        "\n",
        "index **-1** menunjukan urutan data terakhir pada list. eg. **list[-1]**"
      ],
      "metadata": {
        "id": "bVYaDakP8Cfz"
      }
    },
    {
      "cell_type": "code",
      "source": [
        "#memanggil urutan ke 1\n",
        "list1[0]"
      ],
      "metadata": {
        "colab": {
          "base_uri": "https://localhost:8080/"
        },
        "id": "16-armci8F5L",
        "outputId": "388c4c2d-dbe9-4772-8d60-9392f7d594e2"
      },
      "execution_count": null,
      "outputs": [
        {
          "output_type": "execute_result",
          "data": {
            "text/plain": [
              "False"
            ]
          },
          "metadata": {},
          "execution_count": 34
        }
      ]
    },
    {
      "cell_type": "code",
      "source": [
        "# urutan terakhir\n",
        "list1[-1]"
      ],
      "metadata": {
        "colab": {
          "base_uri": "https://localhost:8080/",
          "height": 35
        },
        "id": "r1CVvpd-8eKz",
        "outputId": "fcaf75aa-7c48-4c81-ef17-8a3d1f8741ea"
      },
      "execution_count": null,
      "outputs": [
        {
          "output_type": "execute_result",
          "data": {
            "text/plain": [
              "'huruf'"
            ],
            "application/vnd.google.colaboratory.intrinsic+json": {
              "type": "string"
            }
          },
          "metadata": {},
          "execution_count": 35
        }
      ]
    },
    {
      "cell_type": "markdown",
      "source": [
        "##### **Slicing** : proses memotong list pada index tertentu. "
      ],
      "metadata": {
        "id": "zZk8-AW78FIc"
      }
    },
    {
      "cell_type": "code",
      "source": [
        "#memanggil urutan 2-3\n",
        "# index ke 1 dan 2 di keluarkan, index 3 tidak\n",
        "list1[1:3]"
      ],
      "metadata": {
        "id": "u_8pfhasOf8b",
        "colab": {
          "base_uri": "https://localhost:8080/"
        },
        "outputId": "85ddb870-e012-4c6b-dd9c-1a785c27f9d8"
      },
      "execution_count": null,
      "outputs": [
        {
          "output_type": "execute_result",
          "data": {
            "text/plain": [
              "[28, 0.6]"
            ]
          },
          "metadata": {},
          "execution_count": 36
        }
      ]
    },
    {
      "cell_type": "code",
      "source": [
        "list1[:3]"
      ],
      "metadata": {
        "colab": {
          "base_uri": "https://localhost:8080/"
        },
        "id": "5EzoNZYR9FCM",
        "outputId": "70bf36b3-fa8c-4c78-a0a1-3e5029aa48ed"
      },
      "execution_count": null,
      "outputs": [
        {
          "output_type": "execute_result",
          "data": {
            "text/plain": [
              "[False, 28, 0.6]"
            ]
          },
          "metadata": {},
          "execution_count": 37
        }
      ]
    },
    {
      "cell_type": "code",
      "source": [
        "#mengeluarkan data urutan ke 3 hingga akhir\n",
        "list1[2:]"
      ],
      "metadata": {
        "colab": {
          "base_uri": "https://localhost:8080/"
        },
        "id": "XIJ3e1Ii9NKh",
        "outputId": "1f4aeeeb-8ad8-4b34-efc3-4a6752741086"
      },
      "execution_count": null,
      "outputs": [
        {
          "output_type": "execute_result",
          "data": {
            "text/plain": [
              "[0.6, 'huruf']"
            ]
          },
          "metadata": {},
          "execution_count": 39
        }
      ]
    },
    {
      "cell_type": "markdown",
      "source": [
        "##### **Modifikasi** list"
      ],
      "metadata": {
        "id": "4jKeV84K9ilI"
      }
    },
    {
      "cell_type": "markdown",
      "source": [
        "*   Menambah elemen"
      ],
      "metadata": {
        "id": "dww02m4V-BJg"
      }
    },
    {
      "cell_type": "code",
      "source": [
        "print('list1:\\n', list1)\n",
        "list1 = list1 + [21, 11]\n",
        "print ('list1 setelah ditambah:\\n', list1)"
      ],
      "metadata": {
        "id": "MdMWtHDF-GuF"
      },
      "execution_count": null,
      "outputs": []
    },
    {
      "cell_type": "markdown",
      "source": [
        "*   Mengganti elemen\n"
      ],
      "metadata": {
        "id": "pNvQuJAZ-C1m"
      }
    },
    {
      "cell_type": "code",
      "source": [
        "list1 = [False, 28, 0.6, 'huruf' ]\n",
        "print('list1:\\n',list1)\n",
        "list1[3] = 'angka'\n",
        "print('list1 setelah diganti elemen ke 4:\\n',list1)"
      ],
      "metadata": {
        "id": "GKLIcAvD-v4a"
      },
      "execution_count": null,
      "outputs": []
    },
    {
      "cell_type": "markdown",
      "source": [
        "*   Menghapus elemen\n"
      ],
      "metadata": {
        "id": "sJzi2tO8-EH-"
      }
    },
    {
      "cell_type": "code",
      "source": [
        "list1 = [False, 28, 0.6, 'huruf' ]\n",
        "print('list1:\\n',list1)\n",
        "del (list1[3]) \n",
        "print('list1 setelah dihapus elemen ke 4:\\n',list1)"
      ],
      "metadata": {
        "id": "3xJuoqiL_N76"
      },
      "execution_count": null,
      "outputs": []
    },
    {
      "cell_type": "markdown",
      "source": [
        "*   Mengurutkan elemen **' sorted() '**\n",
        "\n",
        "**tidak bisa** digunakan pada list yg berisi gabungan **tipe string & bilangan**\n",
        "\n",
        "sorted(list, **reserve=True**) -> besar ke kecil"
      ],
      "metadata": {
        "id": "pZET4lk3-FWT"
      }
    },
    {
      "cell_type": "code",
      "source": [
        "list2 = [11,6,28,21]\n",
        "print('list2:\\n',list2)\n",
        "list2_sorted= sorted(list2)\n",
        "print('list2 setelah diurutkan kecil ke besar (sorted):\\n',list2_sorted)\n",
        "list2_sorted2 = sorted(list2, reverse=True)\n",
        "print('list2 setelah diurutkan besar ke kecil (sorted, reserve=True):\\n',list2_sorted2)"
      ],
      "metadata": {
        "colab": {
          "base_uri": "https://localhost:8080/"
        },
        "id": "xOyorZHl987y",
        "outputId": "16be5791-924d-4847-fa33-e395236af718"
      },
      "execution_count": null,
      "outputs": [
        {
          "output_type": "stream",
          "name": "stdout",
          "text": [
            "list2:\n",
            " [11, 6, 28, 21]\n",
            "list2 setelah diurutkan kecil ke besar (sorted):\n",
            " [6, 11, 21, 28]\n",
            "list2 setelah diurutkan besar ke kecil (sorted, reserve=True):\n",
            " [28, 21, 11, 6]\n"
          ]
        }
      ]
    },
    {
      "cell_type": "markdown",
      "source": [
        "membuat list dari 2 list menggunakan **'[ list1 , list2 ]'**"
      ],
      "metadata": {
        "id": "JzSYeG49MxOM"
      }
    },
    {
      "cell_type": "code",
      "source": [
        "list3 = [11, 6, 28, 21, 20, 98, 10, 19]\n",
        "list4 = [list2, list3]\n",
        "print(list4)\n",
        "print(type(list4))"
      ],
      "metadata": {
        "colab": {
          "base_uri": "https://localhost:8080/"
        },
        "id": "GYj_HNtOMwEe",
        "outputId": "928e0257-ac53-49a5-a31b-8a8733d300c3"
      },
      "execution_count": null,
      "outputs": [
        {
          "output_type": "stream",
          "name": "stdout",
          "text": [
            "[[11, 6, 28, 21, 20, 20, 98, 98], [11, 6, 28, 21, 20, 98, 10, 19]]\n",
            "<class 'list'>\n"
          ]
        }
      ]
    },
    {
      "cell_type": "markdown",
      "source": [
        "## Metode"
      ],
      "metadata": {
        "id": "chdjkmbtD34Z"
      }
    },
    {
      "cell_type": "markdown",
      "source": [
        "- tipe **String**\n",
        "\n",
        "**upper()** -> kapital semua huruf\n",
        "\n",
        "**count**('huruf yg ingin dihitung')"
      ],
      "metadata": {
        "id": "rOLWuk-PEDga"
      }
    },
    {
      "cell_type": "code",
      "source": [
        "nama = 'nozadea sasmina'\n",
        "nama"
      ],
      "metadata": {
        "colab": {
          "base_uri": "https://localhost:8080/",
          "height": 35
        },
        "id": "I4unG0PZEPx3",
        "outputId": "4f1ccf34-9017-4f45-a45a-4948cb83d006"
      },
      "execution_count": null,
      "outputs": [
        {
          "output_type": "execute_result",
          "data": {
            "text/plain": [
              "'nozadea sasmina'"
            ],
            "application/vnd.google.colaboratory.intrinsic+json": {
              "type": "string"
            }
          },
          "metadata": {},
          "execution_count": 30
        }
      ]
    },
    {
      "cell_type": "code",
      "source": [
        "nama.upper()\n"
      ],
      "metadata": {
        "colab": {
          "base_uri": "https://localhost:8080/",
          "height": 35
        },
        "id": "5FAYQUAJElIz",
        "outputId": "4cbc9b61-88cb-48ba-f334-22e66fe8ce7b"
      },
      "execution_count": null,
      "outputs": [
        {
          "output_type": "execute_result",
          "data": {
            "text/plain": [
              "'NOZADEA SASMINA'"
            ],
            "application/vnd.google.colaboratory.intrinsic+json": {
              "type": "string"
            }
          },
          "metadata": {},
          "execution_count": 31
        }
      ]
    },
    {
      "cell_type": "code",
      "source": [
        "nama.count('a')"
      ],
      "metadata": {
        "colab": {
          "base_uri": "https://localhost:8080/"
        },
        "id": "7ibsk_gQEmda",
        "outputId": "31719156-e893-4cdb-ace9-3372f83c826c"
      },
      "execution_count": null,
      "outputs": [
        {
          "output_type": "execute_result",
          "data": {
            "text/plain": [
              "4"
            ]
          },
          "metadata": {},
          "execution_count": 32
        }
      ]
    },
    {
      "cell_type": "markdown",
      "source": [
        "- tipe **List**\n",
        "\n",
        "**index( )** -> mencari index"
      ],
      "metadata": {
        "id": "CmO01k6WEHRt"
      }
    },
    {
      "cell_type": "code",
      "source": [
        "list2 = [11,6,28,21,20,20,98,98]\n",
        "print('index angka 6 pada list2 adalah', list2.index(6))"
      ],
      "metadata": {
        "colab": {
          "base_uri": "https://localhost:8080/"
        },
        "id": "xakbquN_9o2D",
        "outputId": "e3b5c6ad-9c56-4f77-c580-cfb62eebff39"
      },
      "execution_count": null,
      "outputs": [
        {
          "output_type": "stream",
          "name": "stdout",
          "text": [
            "index angka 6 pada list2 adalah 1\n"
          ]
        }
      ]
    },
    {
      "cell_type": "code",
      "source": [
        "list2[1]"
      ],
      "metadata": {
        "colab": {
          "base_uri": "https://localhost:8080/"
        },
        "id": "WEAeGKpfGRnb",
        "outputId": "c98c69c1-e1d1-4f4e-b5ad-933611531b8b"
      },
      "execution_count": null,
      "outputs": [
        {
          "output_type": "execute_result",
          "data": {
            "text/plain": [
              "6"
            ]
          },
          "metadata": {},
          "execution_count": 45
        }
      ]
    },
    {
      "cell_type": "markdown",
      "source": [
        "**count()** -> menghitung elemen tertentu pada list"
      ],
      "metadata": {
        "id": "_8wWOZNjGair"
      }
    },
    {
      "cell_type": "code",
      "source": [
        "print(list2)\n",
        "print('banyaknya angka 20 pada list2 adalah', list2.count(20))"
      ],
      "metadata": {
        "colab": {
          "base_uri": "https://localhost:8080/"
        },
        "id": "nAUbFpu5Hn-0",
        "outputId": "ad159ce0-af66-42c3-d502-592be6cc8cef"
      },
      "execution_count": null,
      "outputs": [
        {
          "output_type": "stream",
          "name": "stdout",
          "text": [
            "[11, 6, 28, 21, 20, 20, 98, 98]\n",
            "banyaknya angka 20 pada list2 adalah 2\n"
          ]
        }
      ]
    },
    {
      "cell_type": "markdown",
      "source": [
        "## Array\n",
        "\n",
        "bersifat homogen atau **1 tipe data**\n",
        "\n",
        "struktur array optimal untuk **analisis numerik**"
      ],
      "metadata": {
        "id": "SUTuN6VWIbZe"
      }
    },
    {
      "cell_type": "code",
      "source": [
        "import numpy as np"
      ],
      "metadata": {
        "id": "Nj3ykmOWJbng"
      },
      "execution_count": null,
      "outputs": []
    },
    {
      "cell_type": "markdown",
      "source": [
        ".\n",
        "- array dapat dibuat dari **list**"
      ],
      "metadata": {
        "id": "G95zylhwI5FF"
      }
    },
    {
      "cell_type": "code",
      "source": [
        "list2 = [11,6,28,21,20,20,98,98]\n",
        "print('isi data list2:',list2)\n",
        "print('tipe data list2:',type(list2))\n",
        "array1 = np.array(list2)\n",
        "print('isi data array1:',array1)\n",
        "print('tipe data array1:',type(array1))"
      ],
      "metadata": {
        "colab": {
          "base_uri": "https://localhost:8080/"
        },
        "id": "-eA4Ru42IevT",
        "outputId": "6867d27f-193b-4d42-e116-b73ada713db5"
      },
      "execution_count": null,
      "outputs": [
        {
          "output_type": "stream",
          "name": "stdout",
          "text": [
            "isi data list2: [11, 6, 28, 21, 20, 20, 98, 98]\n",
            "tipe data list2: <class 'list'>\n",
            "isi data array1: [11  6 28 21 20 20 98 98]\n",
            "tipe data array1: <class 'numpy.ndarray'>\n"
          ]
        }
      ]
    },
    {
      "cell_type": "markdown",
      "source": [
        ".\n",
        "- operasi aritmatik"
      ],
      "metadata": {
        "id": "9TKIF5_YKPmS"
      }
    },
    {
      "cell_type": "code",
      "source": [
        "array2 = array1 + 1\n",
        "array3 = array1 * 2\n",
        "print(array1)\n",
        "print(array2)\n",
        "print(array3)"
      ],
      "metadata": {
        "colab": {
          "base_uri": "https://localhost:8080/"
        },
        "id": "Gb0YC6OYKOqq",
        "outputId": "18e10b5d-4d2a-4575-8e88-bdf96c602bf7"
      },
      "execution_count": null,
      "outputs": [
        {
          "output_type": "stream",
          "name": "stdout",
          "text": [
            "[11  6 28 21 20 20 98 98]\n",
            "[12  7 29 22 21 21 99 99]\n",
            "[ 22  12  56  42  40  40 196 196]\n"
          ]
        }
      ]
    },
    {
      "cell_type": "markdown",
      "source": [
        ".\n",
        "\n",
        "**2D Array**\n",
        "\n",
        "berbentuk **2 dimensi** "
      ],
      "metadata": {
        "id": "lNiDPN1yKzox"
      }
    },
    {
      "cell_type": "code",
      "source": [
        "print(list2)\n",
        "list3 = [11, 6, 28, 21, 20, 98, 10, 19]\n",
        "print(list3)"
      ],
      "metadata": {
        "colab": {
          "base_uri": "https://localhost:8080/"
        },
        "id": "LoD0MnnYK9AC",
        "outputId": "d8016422-f8b2-4f4b-be21-a5f554cddf57"
      },
      "execution_count": null,
      "outputs": [
        {
          "output_type": "stream",
          "name": "stdout",
          "text": [
            "[11, 6, 28, 21, 20, 20, 98, 98]\n",
            "[11, 6, 28, 21, 20, 98, 10, 19]\n"
          ]
        }
      ]
    },
    {
      "cell_type": "code",
      "source": [
        "list4 = [list2, list3]\n",
        "print(list4)\n",
        "print(type(list4))"
      ],
      "metadata": {
        "colab": {
          "base_uri": "https://localhost:8080/"
        },
        "id": "m6nrWDo6L8VA",
        "outputId": "ed3be8c8-a20c-4543-9ec4-dd1fe18c6c4d"
      },
      "execution_count": null,
      "outputs": [
        {
          "output_type": "stream",
          "name": "stdout",
          "text": [
            "[[11, 6, 28, 21, 20, 20, 98, 98], [11, 6, 28, 21, 20, 98, 10, 19]]\n",
            "<class 'list'>\n"
          ]
        }
      ]
    },
    {
      "cell_type": "markdown",
      "source": [
        "- **membuat array 2D dengan list**"
      ],
      "metadata": {
        "id": "DmutBvuUOCaj"
      }
    },
    {
      "cell_type": "code",
      "source": [
        "array4 = np.array(list4)\n",
        "print('elemen array4:\\n',array4)\n",
        "print('\\ntipe array4:',type(array4))\n",
        "print('\\nbentuk array4:',array4.shape, '\\nmengartikan 2 baris dengan 8 kolom')"
      ],
      "metadata": {
        "colab": {
          "base_uri": "https://localhost:8080/"
        },
        "id": "w5qVA9pwNP_C",
        "outputId": "c652e36e-1e1f-4e70-b3de-f8eec02239f0"
      },
      "execution_count": null,
      "outputs": [
        {
          "output_type": "stream",
          "name": "stdout",
          "text": [
            "elemen array4:\n",
            " [[11  6 28 21 20 20 98 98]\n",
            " [11  6 28 21 20 98 10 19]]\n",
            "\n",
            "tipe array4: <class 'numpy.ndarray'>\n",
            "\n",
            "bentuk array4: (2, 8) \n",
            "mengartikan 2 baris dengan 8 kolom\n"
          ]
        }
      ]
    },
    {
      "cell_type": "markdown",
      "source": [
        "- **subsetting** 2D array\n",
        "\n",
        "**nama_array[nomor_row, nomor_kolom]**"
      ],
      "metadata": {
        "id": "5fvXZ0ckOKu0"
      }
    },
    {
      "cell_type": "code",
      "source": [
        "array4"
      ],
      "metadata": {
        "colab": {
          "base_uri": "https://localhost:8080/"
        },
        "id": "wIdj29DZOida",
        "outputId": "70d81e08-6ebf-43d4-e86a-0a14032913cc"
      },
      "execution_count": null,
      "outputs": [
        {
          "output_type": "execute_result",
          "data": {
            "text/plain": [
              "array([[11,  6, 28, 21, 20, 20, 98, 98],\n",
              "       [11,  6, 28, 21, 20, 98, 10, 19]])"
            ]
          },
          "metadata": {},
          "execution_count": 77
        }
      ]
    },
    {
      "cell_type": "code",
      "source": [
        "#menampilkan hanya row 2 pada array4\n",
        "array4[1,]"
      ],
      "metadata": {
        "colab": {
          "base_uri": "https://localhost:8080/"
        },
        "id": "yVNyHozPOskp",
        "outputId": "b9ae1519-e4fa-4b68-8c78-56b6af6fb6cb"
      },
      "execution_count": null,
      "outputs": [
        {
          "output_type": "execute_result",
          "data": {
            "text/plain": [
              "array([11,  6, 28, 21, 20, 98, 10, 19])"
            ]
          },
          "metadata": {},
          "execution_count": 78
        }
      ]
    },
    {
      "cell_type": "code",
      "source": [
        "#menampilkan row 1 dengan kolom 4-8\n",
        "array4[0,4:]"
      ],
      "metadata": {
        "colab": {
          "base_uri": "https://localhost:8080/"
        },
        "id": "IE3RSLUBO3iT",
        "outputId": "51825ce2-5c43-49b5-af54-d0ecc5c8e785"
      },
      "execution_count": null,
      "outputs": [
        {
          "output_type": "execute_result",
          "data": {
            "text/plain": [
              "array([20, 20, 98, 98])"
            ]
          },
          "metadata": {},
          "execution_count": 83
        }
      ]
    },
    {
      "cell_type": "markdown",
      "source": [
        "- **analisis statistik dasar** \n",
        "\n",
        "\n",
        "\n",
        "**2D** \n",
        "- np.**min**(nama_array)\n",
        "- np.**max**(nama_array)\n",
        "- np.**sum**(nama_array)\n",
        "\n",
        "**1D** + fungsi pada 2D\n",
        "- np.**mean**(nama_array)\n",
        "- np.**median**(nama_array)\n",
        "\n",
        "\n"
      ],
      "metadata": {
        "id": "kDEkW7KAPwVl"
      }
    },
    {
      "cell_type": "code",
      "source": [
        "#2D\n",
        "array4"
      ],
      "metadata": {
        "colab": {
          "base_uri": "https://localhost:8080/"
        },
        "id": "wyjV30LuP2VG",
        "outputId": "7b04b5fb-f541-4148-82e6-f310ee98b4c8"
      },
      "execution_count": null,
      "outputs": [
        {
          "output_type": "execute_result",
          "data": {
            "text/plain": [
              "array([[11,  6, 28, 21, 20, 20, 98, 98],\n",
              "       [11,  6, 28, 21, 20, 98, 10, 19]])"
            ]
          },
          "metadata": {},
          "execution_count": 84
        }
      ]
    },
    {
      "cell_type": "code",
      "source": [
        "print(np.min(array4))\n",
        "print(np.max(array4))\n",
        "print(np.sum(array4))"
      ],
      "metadata": {
        "colab": {
          "base_uri": "https://localhost:8080/"
        },
        "id": "j55Xz2wqP9Yu",
        "outputId": "fea96a7c-f8f5-48fb-f8f8-59b466c47394"
      },
      "execution_count": null,
      "outputs": [
        {
          "output_type": "stream",
          "name": "stdout",
          "text": [
            "6\n",
            "98\n",
            "515\n"
          ]
        }
      ]
    },
    {
      "cell_type": "code",
      "source": [
        "array3"
      ],
      "metadata": {
        "colab": {
          "base_uri": "https://localhost:8080/"
        },
        "id": "NcruVwVfQPaB",
        "outputId": "5779c074-e2b2-417a-96c7-e246a3b6d2b2"
      },
      "execution_count": null,
      "outputs": [
        {
          "output_type": "execute_result",
          "data": {
            "text/plain": [
              "array([ 22,  12,  56,  42,  40,  40, 196, 196])"
            ]
          },
          "metadata": {},
          "execution_count": 86
        }
      ]
    },
    {
      "cell_type": "code",
      "source": [
        "#1D\n",
        "print(np.min(array3))\n",
        "print(np.max(array3))\n",
        "print(np.sum(array3))\n",
        "print(np.mean(array3))\n",
        "print(np.median(array3))"
      ],
      "metadata": {
        "colab": {
          "base_uri": "https://localhost:8080/"
        },
        "id": "XrpQRnZqQRR1",
        "outputId": "afca0b8f-3d21-4559-c3fe-f4d4f72c2086"
      },
      "execution_count": null,
      "outputs": [
        {
          "output_type": "stream",
          "name": "stdout",
          "text": [
            "12\n",
            "196\n",
            "604\n",
            "75.5\n",
            "41.0\n"
          ]
        }
      ]
    },
    {
      "cell_type": "markdown",
      "source": [
        "## Array Generator"
      ],
      "metadata": {
        "id": "LyB-s4PXRfEJ"
      }
    },
    {
      "cell_type": "code",
      "source": [
        "import numpy as np"
      ],
      "metadata": {
        "id": "dlt_6KlwRnYh"
      },
      "execution_count": null,
      "outputs": []
    },
    {
      "cell_type": "markdown",
      "source": [
        "n = banyak output yg ingin ditampilkan\n",
        "\n",
        "d = jarak\n",
        "\n",
        "- np.**random.rand(n)** = generate array dengan **float** antara **0-1**\n",
        "- np.**random.randint(min,max,n)** = generate array **integer**\n",
        "- np.**arange(min,max,d)** = generate array dengan menentukan jarak antar angka\n",
        "- np.**linspace(min,max,n)** = generate array dengan menentukan jumlah angka"
      ],
      "metadata": {
        "id": "0P2ubkd8RiZP"
      }
    },
    {
      "cell_type": "markdown",
      "source": [
        ".\n",
        "- np.**random.rand(n)**"
      ],
      "metadata": {
        "id": "Z7TBTyb-TGjj"
      }
    },
    {
      "cell_type": "code",
      "source": [
        "np.random.rand(10)"
      ],
      "metadata": {
        "colab": {
          "base_uri": "https://localhost:8080/"
        },
        "id": "rf0AtVPwTFRy",
        "outputId": "316f8748-098b-47fb-b61e-c706dbaa2447"
      },
      "execution_count": null,
      "outputs": [
        {
          "output_type": "execute_result",
          "data": {
            "text/plain": [
              "array([0.81584839, 0.603657  , 0.02416459, 0.85237064, 0.3312652 ,\n",
              "       0.90154288, 0.224679  , 0.53682829, 0.66269211, 0.33786107])"
            ]
          },
          "metadata": {},
          "execution_count": 92
        }
      ]
    },
    {
      "cell_type": "code",
      "source": [
        "#jika menampilkan float antara 1-10\n",
        "np.random.rand(10)*10"
      ],
      "metadata": {
        "colab": {
          "base_uri": "https://localhost:8080/"
        },
        "id": "rdvcVdKWTari",
        "outputId": "febcc37a-1c9c-4531-eb9b-a08e627ec57a"
      },
      "execution_count": null,
      "outputs": [
        {
          "output_type": "execute_result",
          "data": {
            "text/plain": [
              "array([4.11168868, 9.71207789, 1.13561161, 9.27838171, 2.74111447,\n",
              "       4.85152864, 9.70983062, 1.35769036, 3.87819226, 3.11089257])"
            ]
          },
          "metadata": {},
          "execution_count": 93
        }
      ]
    },
    {
      "cell_type": "markdown",
      "source": [
        ".\n",
        "- np.**random.randint(min,max,n)**"
      ],
      "metadata": {
        "id": "oXqDDvbMTotC"
      }
    },
    {
      "cell_type": "code",
      "source": [
        "np.random.randint(1,20,5)"
      ],
      "metadata": {
        "colab": {
          "base_uri": "https://localhost:8080/"
        },
        "id": "O5Lg5F9qToAi",
        "outputId": "0d9b57b1-6eb6-4914-ddab-102869cea659"
      },
      "execution_count": null,
      "outputs": [
        {
          "output_type": "execute_result",
          "data": {
            "text/plain": [
              "array([ 6, 12,  5,  1, 12])"
            ]
          },
          "metadata": {},
          "execution_count": 94
        }
      ]
    },
    {
      "cell_type": "markdown",
      "source": [
        "- np.**arange(min,max,d)**"
      ],
      "metadata": {
        "id": "SEFCNAhTT7py"
      }
    },
    {
      "cell_type": "code",
      "source": [
        "np.arange(0,20,2)"
      ],
      "metadata": {
        "colab": {
          "base_uri": "https://localhost:8080/"
        },
        "id": "kozSjKCBT9KR",
        "outputId": "477f7a65-30f6-420b-da91-cd756d89038e"
      },
      "execution_count": null,
      "outputs": [
        {
          "output_type": "execute_result",
          "data": {
            "text/plain": [
              "array([ 0,  2,  4,  6,  8, 10, 12, 14, 16, 18])"
            ]
          },
          "metadata": {},
          "execution_count": 98
        }
      ]
    },
    {
      "cell_type": "markdown",
      "source": [
        "- np.**linspace(min,max,n)**"
      ],
      "metadata": {
        "id": "VEhiWUUNURD-"
      }
    },
    {
      "cell_type": "code",
      "source": [
        "np.linspace(0,100,11)"
      ],
      "metadata": {
        "colab": {
          "base_uri": "https://localhost:8080/"
        },
        "id": "uY18e8NrUUcR",
        "outputId": "fba5c033-693f-4426-cd14-07fef70050d4"
      },
      "execution_count": null,
      "outputs": [
        {
          "output_type": "execute_result",
          "data": {
            "text/plain": [
              "array([  0.,  10.,  20.,  30.,  40.,  50.,  60.,  70.,  80.,  90., 100.])"
            ]
          },
          "metadata": {},
          "execution_count": 102
        }
      ]
    },
    {
      "cell_type": "markdown",
      "source": [
        "## Dictionary\n",
        "\n",
        "**{key1:value1, key2:value2, dll}** \n",
        "\n",
        "struktur data yang elemennya pasangan key dan value"
      ],
      "metadata": {
        "id": "WtN0IxgEa1qE"
      }
    },
    {
      "cell_type": "markdown",
      "source": [
        "##### Membuat dictionary"
      ],
      "metadata": {
        "id": "XzWh0Wgqc4xY"
      }
    },
    {
      "cell_type": "code",
      "source": [
        "ibukota = {'Indonesia':'Jakarta', 'USA':'Washington DC','UK':'London', 'Thailand':'Bangkok'}"
      ],
      "metadata": {
        "id": "2lA9AwqTce77"
      },
      "execution_count": null,
      "outputs": []
    },
    {
      "cell_type": "code",
      "source": [
        "ibukota"
      ],
      "metadata": {
        "colab": {
          "base_uri": "https://localhost:8080/"
        },
        "id": "uy7_t9Y2dE9M",
        "outputId": "12945a82-33eb-4569-a201-35d92e107b70"
      },
      "execution_count": null,
      "outputs": [
        {
          "output_type": "execute_result",
          "data": {
            "text/plain": [
              "{'Indonesia': 'Jakarta',\n",
              " 'Thailand': 'Bangkok',\n",
              " 'UK': 'London',\n",
              " 'USA': 'Washington DC'}"
            ]
          },
          "metadata": {},
          "execution_count": 118
        }
      ]
    },
    {
      "cell_type": "code",
      "source": [
        "type(ibukota)"
      ],
      "metadata": {
        "colab": {
          "base_uri": "https://localhost:8080/"
        },
        "id": "tkv0oSPjdHZQ",
        "outputId": "7dd2d70b-46cf-4c7f-f8ae-675e9debc52b"
      },
      "execution_count": null,
      "outputs": [
        {
          "output_type": "execute_result",
          "data": {
            "text/plain": [
              "dict"
            ]
          },
          "metadata": {},
          "execution_count": 119
        }
      ]
    },
    {
      "cell_type": "markdown",
      "source": [
        "##### Identifikasi value dari key "
      ],
      "metadata": {
        "id": "Nymcv2sxc85O"
      }
    },
    {
      "cell_type": "code",
      "source": [
        "ibukota['Thailand']"
      ],
      "metadata": {
        "colab": {
          "base_uri": "https://localhost:8080/",
          "height": 35
        },
        "id": "JauAbKJ4a4jE",
        "outputId": "4e3b827d-7074-475e-87b7-3aa6fd84d65d"
      },
      "execution_count": null,
      "outputs": [
        {
          "output_type": "execute_result",
          "data": {
            "text/plain": [
              "'Bangkok'"
            ],
            "application/vnd.google.colaboratory.intrinsic+json": {
              "type": "string"
            }
          },
          "metadata": {},
          "execution_count": 120
        }
      ]
    },
    {
      "cell_type": "markdown",
      "source": [
        "##### Menambah elemen"
      ],
      "metadata": {
        "id": "whp2LOiFdQop"
      }
    },
    {
      "cell_type": "code",
      "source": [
        "ibukota['France'] = 'Rome'"
      ],
      "metadata": {
        "id": "rNILQ-WtdUIY"
      },
      "execution_count": null,
      "outputs": []
    },
    {
      "cell_type": "code",
      "source": [
        "ibukota"
      ],
      "metadata": {
        "colab": {
          "base_uri": "https://localhost:8080/"
        },
        "id": "54iO-5DKdgi-",
        "outputId": "28541fe2-4717-4be8-a4a0-c3e9911bcfef"
      },
      "execution_count": null,
      "outputs": [
        {
          "output_type": "execute_result",
          "data": {
            "text/plain": [
              "{'France': 'Rome',\n",
              " 'Indonesia': 'Jakarta',\n",
              " 'Thailand': 'Bangkok',\n",
              " 'UK': 'London',\n",
              " 'USA': 'Washington DC'}"
            ]
          },
          "metadata": {},
          "execution_count": 124
        }
      ]
    },
    {
      "cell_type": "markdown",
      "source": [
        "##### Mengedit elemen"
      ],
      "metadata": {
        "id": "FfF_6L2Pdr1O"
      }
    },
    {
      "cell_type": "code",
      "source": [
        "ibukota['France'] = 'Paris'\n",
        "ibukota"
      ],
      "metadata": {
        "colab": {
          "base_uri": "https://localhost:8080/"
        },
        "id": "ov5tiqcydxMJ",
        "outputId": "1df216d7-ad9e-48ee-dd2c-4af1b5aee459"
      },
      "execution_count": null,
      "outputs": [
        {
          "output_type": "execute_result",
          "data": {
            "text/plain": [
              "{'France': 'Paris',\n",
              " 'Indonesia': 'Jakarta',\n",
              " 'Thailand': 'Bangkok',\n",
              " 'UK': 'London',\n",
              " 'USA': 'Washington DC'}"
            ]
          },
          "metadata": {},
          "execution_count": 125
        }
      ]
    },
    {
      "cell_type": "markdown",
      "source": [
        "##### Menghapus elemen"
      ],
      "metadata": {
        "id": "KXHMAPaId3km"
      }
    },
    {
      "cell_type": "code",
      "source": [
        "del ibukota['USA']\n",
        "ibukota"
      ],
      "metadata": {
        "colab": {
          "base_uri": "https://localhost:8080/"
        },
        "id": "t8z-601od7Fe",
        "outputId": "4f6db8bd-c10c-46fb-d01a-f3df9455ddbe"
      },
      "execution_count": null,
      "outputs": [
        {
          "output_type": "execute_result",
          "data": {
            "text/plain": [
              "{'France': 'Paris',\n",
              " 'Indonesia': 'Jakarta',\n",
              " 'Thailand': 'Bangkok',\n",
              " 'UK': 'London'}"
            ]
          },
          "metadata": {},
          "execution_count": 126
        }
      ]
    },
    {
      "cell_type": "markdown",
      "source": [
        "## Conditional Statement"
      ],
      "metadata": {
        "id": "lkRJy1-reE9v"
      }
    },
    {
      "cell_type": "markdown",
      "source": [
        "fungsi **if(), elif(), else()**"
      ],
      "metadata": {
        "id": "v05A5dRDePsU"
      }
    },
    {
      "cell_type": "code",
      "source": [
        "angka = 21\n",
        "\n",
        "if angka < 5:\n",
        "  print('Kecil')\n",
        "elif angka < 10:\n",
        "  print ('Sedang')\n",
        "elif angka < 15:\n",
        "  print('Besar')\n",
        "else :\n",
        "  print('Sangat Besar')"
      ],
      "metadata": {
        "colab": {
          "base_uri": "https://localhost:8080/"
        },
        "id": "fPesd5gNehKY",
        "outputId": "60e468ec-4527-4b18-85ce-ac061bbbb73c"
      },
      "execution_count": null,
      "outputs": [
        {
          "output_type": "stream",
          "name": "stdout",
          "text": [
            "Sangat Besar\n"
          ]
        }
      ]
    },
    {
      "cell_type": "markdown",
      "source": [
        "## Looping"
      ],
      "metadata": {
        "id": "XeEp4EN2fHB8"
      }
    },
    {
      "cell_type": "markdown",
      "source": [
        "#### While looping\n",
        "membuat loop berdasarkan **kondisi** tertentu"
      ],
      "metadata": {
        "id": "mSnx3q8YgnNc"
      }
    },
    {
      "cell_type": "code",
      "source": [
        "x = 5"
      ],
      "metadata": {
        "id": "yZrslOM9gzzp"
      },
      "execution_count": null,
      "outputs": []
    },
    {
      "cell_type": "code",
      "source": [
        "while x < 10:\n",
        "  print (x)\n",
        "  x+=1"
      ],
      "metadata": {
        "colab": {
          "base_uri": "https://localhost:8080/"
        },
        "id": "s_cLWX-UrWHQ",
        "outputId": "77a005ec-1565-4a5e-9f08-a1431ff8aeda"
      },
      "execution_count": null,
      "outputs": [
        {
          "output_type": "stream",
          "name": "stdout",
          "text": [
            "5\n",
            "6\n",
            "7\n",
            "8\n",
            "9\n"
          ]
        }
      ]
    },
    {
      "cell_type": "code",
      "source": [
        "while  x != 0:\n",
        "  print (x)\n",
        "  if x > 0 :\n",
        "    x = x-1\n",
        "  else :\n",
        "    x=x+1"
      ],
      "metadata": {
        "colab": {
          "base_uri": "https://localhost:8080/"
        },
        "id": "Km4B8gVBry_7",
        "outputId": "cca31a66-f3e1-47ae-cb6c-d1a48164ec5c"
      },
      "execution_count": null,
      "outputs": [
        {
          "output_type": "stream",
          "name": "stdout",
          "text": [
            "10\n",
            "9\n",
            "8\n",
            "7\n",
            "6\n",
            "5\n",
            "4\n",
            "3\n",
            "2\n",
            "1\n"
          ]
        }
      ]
    },
    {
      "cell_type": "code",
      "source": [
        "instalation = 0\n",
        "while instalation < 100:\n",
        "  print('installing...')\n",
        "  instalation=instalation+10\n",
        "else :\n",
        "  print('complete')"
      ],
      "metadata": {
        "colab": {
          "base_uri": "https://localhost:8080/"
        },
        "id": "53nIG8cfs9xy",
        "outputId": "9df321eb-7e06-4863-e076-b2b8df1338c2"
      },
      "execution_count": null,
      "outputs": [
        {
          "output_type": "stream",
          "name": "stdout",
          "text": [
            "installing...\n",
            "installing...\n",
            "installing...\n",
            "installing...\n",
            "installing...\n",
            "installing...\n",
            "installing...\n",
            "installing...\n",
            "installing...\n",
            "installing...\n",
            "complete\n"
          ]
        }
      ]
    },
    {
      "cell_type": "markdown",
      "source": [
        "#### For looping\n",
        "membuat loop berdasarkan **elemen-elemen** yang ada di dalam list"
      ],
      "metadata": {
        "id": "lONHWs3YgrYh"
      }
    },
    {
      "cell_type": "code",
      "source": [
        "negara = ['ind', 'usa','uk']\n",
        "for x in negara:\n",
        "  print(x)"
      ],
      "metadata": {
        "colab": {
          "base_uri": "https://localhost:8080/"
        },
        "id": "ywm8ZjLOfNnF",
        "outputId": "23691d3e-c743-44d9-af9a-a3e827e27e34"
      },
      "execution_count": null,
      "outputs": [
        {
          "output_type": "stream",
          "name": "stdout",
          "text": [
            "ind\n",
            "usa\n",
            "uk\n"
          ]
        }
      ]
    },
    {
      "cell_type": "code",
      "source": [
        "negara_ibukota = [['ind','jkt'], ['usa','dc'],['uk','london']]\n",
        "for i in negara_ibukota:\n",
        "  print('Ibukota negara', i[0],'adalah', i[1])"
      ],
      "metadata": {
        "colab": {
          "base_uri": "https://localhost:8080/"
        },
        "id": "Ti6nE4iZts09",
        "outputId": "7844f188-2cd0-40c0-9e92-82eff217263e"
      },
      "execution_count": null,
      "outputs": [
        {
          "output_type": "stream",
          "name": "stdout",
          "text": [
            "Ibukota negara ind adalah jkt\n",
            "Ibukota negara usa adalah dc\n",
            "Ibukota negara uk adalah london\n"
          ]
        }
      ]
    },
    {
      "cell_type": "code",
      "source": [
        "nilai = [6,9,5,7,3,5,9]\n",
        "for i in nilai:\n",
        "  if i < 6:\n",
        "    print('nilai',i,'Tidak lulus')\n",
        "  else:\n",
        "    print ('nilai',i,'Lulus')"
      ],
      "metadata": {
        "colab": {
          "base_uri": "https://localhost:8080/"
        },
        "id": "sNoQRyjRuXlc",
        "outputId": "6894dc06-d02c-4411-aabb-a1827de47a24"
      },
      "execution_count": null,
      "outputs": [
        {
          "output_type": "stream",
          "name": "stdout",
          "text": [
            "nilai 6 Lulus\n",
            "nilai 9 Lulus\n",
            "nilai 5 Tidak lulus\n",
            "nilai 7 Lulus\n",
            "nilai 3 Tidak lulus\n",
            "nilai 5 Tidak lulus\n",
            "nilai 9 Lulus\n"
          ]
        }
      ]
    },
    {
      "cell_type": "markdown",
      "source": [
        "## Custom Function\n",
        "dibuat menggunakan **def** atau **lambda**"
      ],
      "metadata": {
        "id": "3MMF4K-mvEym"
      }
    },
    {
      "cell_type": "code",
      "source": [
        "def sqrt(x):\n",
        "  return x**(1/2)"
      ],
      "metadata": {
        "id": "fH0EpaU8vEfr"
      },
      "execution_count": null,
      "outputs": []
    },
    {
      "cell_type": "code",
      "source": [
        "sqrt(9)"
      ],
      "metadata": {
        "colab": {
          "base_uri": "https://localhost:8080/"
        },
        "id": "UKxE3ZqAyY9m",
        "outputId": "d61c5fab-af16-4c73-f50f-30c1bfdf581f"
      },
      "execution_count": null,
      "outputs": [
        {
          "output_type": "execute_result",
          "data": {
            "text/plain": [
              "3.0"
            ]
          },
          "metadata": {},
          "execution_count": 142
        }
      ]
    },
    {
      "cell_type": "code",
      "source": [
        "#fungsi merubah dollar menjadi rupiah\n",
        "def rp_us(x):\n",
        "  return x*14383"
      ],
      "metadata": {
        "id": "MDPxssoLygr8"
      },
      "execution_count": null,
      "outputs": []
    },
    {
      "cell_type": "code",
      "source": [
        "rp_us(10)"
      ],
      "metadata": {
        "colab": {
          "base_uri": "https://localhost:8080/"
        },
        "id": "bM48cLYYyx-o",
        "outputId": "21bfd03b-fa18-41b6-dd7e-e7e38b0ea422"
      },
      "execution_count": null,
      "outputs": [
        {
          "output_type": "execute_result",
          "data": {
            "text/plain": [
              "143830"
            ]
          },
          "metadata": {},
          "execution_count": 147
        }
      ]
    },
    {
      "cell_type": "markdown",
      "source": [
        "# **DATAFRAME**\n",
        "\n",
        "- Membuat Dataframe\n",
        "- Subseting: .loc, .iloc\n",
        "- Filtering\n",
        "- Melting\n",
        "- Sorting: sort_values, sort_index"
      ],
      "metadata": {
        "id": "r8br1_-zzlOL"
      }
    },
    {
      "cell_type": "code",
      "source": [
        "housing = pd.read_csv('/content/sample_data/california_housing_train.csv')\n",
        "housing.head()"
      ],
      "metadata": {
        "colab": {
          "base_uri": "https://localhost:8080/",
          "height": 270
        },
        "id": "ozT-yVxoEa3V",
        "outputId": "8e449474-646e-45f7-a815-88eb2f13f388"
      },
      "execution_count": null,
      "outputs": [
        {
          "output_type": "execute_result",
          "data": {
            "text/plain": [
              "   longitude  latitude  housing_median_age  total_rooms  total_bedrooms  \\\n",
              "0    -114.31     34.19                15.0       5612.0          1283.0   \n",
              "1    -114.47     34.40                19.0       7650.0          1901.0   \n",
              "2    -114.56     33.69                17.0        720.0           174.0   \n",
              "3    -114.57     33.64                14.0       1501.0           337.0   \n",
              "4    -114.57     33.57                20.0       1454.0           326.0   \n",
              "\n",
              "   population  households  median_income  median_house_value  \n",
              "0      1015.0       472.0         1.4936             66900.0  \n",
              "1      1129.0       463.0         1.8200             80100.0  \n",
              "2       333.0       117.0         1.6509             85700.0  \n",
              "3       515.0       226.0         3.1917             73400.0  \n",
              "4       624.0       262.0         1.9250             65500.0  "
            ],
            "text/html": [
              "\n",
              "  <div id=\"df-25b9da81-d22d-4a0a-bec9-83e7f09a575f\">\n",
              "    <div class=\"colab-df-container\">\n",
              "      <div>\n",
              "<style scoped>\n",
              "    .dataframe tbody tr th:only-of-type {\n",
              "        vertical-align: middle;\n",
              "    }\n",
              "\n",
              "    .dataframe tbody tr th {\n",
              "        vertical-align: top;\n",
              "    }\n",
              "\n",
              "    .dataframe thead th {\n",
              "        text-align: right;\n",
              "    }\n",
              "</style>\n",
              "<table border=\"1\" class=\"dataframe\">\n",
              "  <thead>\n",
              "    <tr style=\"text-align: right;\">\n",
              "      <th></th>\n",
              "      <th>longitude</th>\n",
              "      <th>latitude</th>\n",
              "      <th>housing_median_age</th>\n",
              "      <th>total_rooms</th>\n",
              "      <th>total_bedrooms</th>\n",
              "      <th>population</th>\n",
              "      <th>households</th>\n",
              "      <th>median_income</th>\n",
              "      <th>median_house_value</th>\n",
              "    </tr>\n",
              "  </thead>\n",
              "  <tbody>\n",
              "    <tr>\n",
              "      <th>0</th>\n",
              "      <td>-114.31</td>\n",
              "      <td>34.19</td>\n",
              "      <td>15.0</td>\n",
              "      <td>5612.0</td>\n",
              "      <td>1283.0</td>\n",
              "      <td>1015.0</td>\n",
              "      <td>472.0</td>\n",
              "      <td>1.4936</td>\n",
              "      <td>66900.0</td>\n",
              "    </tr>\n",
              "    <tr>\n",
              "      <th>1</th>\n",
              "      <td>-114.47</td>\n",
              "      <td>34.40</td>\n",
              "      <td>19.0</td>\n",
              "      <td>7650.0</td>\n",
              "      <td>1901.0</td>\n",
              "      <td>1129.0</td>\n",
              "      <td>463.0</td>\n",
              "      <td>1.8200</td>\n",
              "      <td>80100.0</td>\n",
              "    </tr>\n",
              "    <tr>\n",
              "      <th>2</th>\n",
              "      <td>-114.56</td>\n",
              "      <td>33.69</td>\n",
              "      <td>17.0</td>\n",
              "      <td>720.0</td>\n",
              "      <td>174.0</td>\n",
              "      <td>333.0</td>\n",
              "      <td>117.0</td>\n",
              "      <td>1.6509</td>\n",
              "      <td>85700.0</td>\n",
              "    </tr>\n",
              "    <tr>\n",
              "      <th>3</th>\n",
              "      <td>-114.57</td>\n",
              "      <td>33.64</td>\n",
              "      <td>14.0</td>\n",
              "      <td>1501.0</td>\n",
              "      <td>337.0</td>\n",
              "      <td>515.0</td>\n",
              "      <td>226.0</td>\n",
              "      <td>3.1917</td>\n",
              "      <td>73400.0</td>\n",
              "    </tr>\n",
              "    <tr>\n",
              "      <th>4</th>\n",
              "      <td>-114.57</td>\n",
              "      <td>33.57</td>\n",
              "      <td>20.0</td>\n",
              "      <td>1454.0</td>\n",
              "      <td>326.0</td>\n",
              "      <td>624.0</td>\n",
              "      <td>262.0</td>\n",
              "      <td>1.9250</td>\n",
              "      <td>65500.0</td>\n",
              "    </tr>\n",
              "  </tbody>\n",
              "</table>\n",
              "</div>\n",
              "      <button class=\"colab-df-convert\" onclick=\"convertToInteractive('df-25b9da81-d22d-4a0a-bec9-83e7f09a575f')\"\n",
              "              title=\"Convert this dataframe to an interactive table.\"\n",
              "              style=\"display:none;\">\n",
              "        \n",
              "  <svg xmlns=\"http://www.w3.org/2000/svg\" height=\"24px\"viewBox=\"0 0 24 24\"\n",
              "       width=\"24px\">\n",
              "    <path d=\"M0 0h24v24H0V0z\" fill=\"none\"/>\n",
              "    <path d=\"M18.56 5.44l.94 2.06.94-2.06 2.06-.94-2.06-.94-.94-2.06-.94 2.06-2.06.94zm-11 1L8.5 8.5l.94-2.06 2.06-.94-2.06-.94L8.5 2.5l-.94 2.06-2.06.94zm10 10l.94 2.06.94-2.06 2.06-.94-2.06-.94-.94-2.06-.94 2.06-2.06.94z\"/><path d=\"M17.41 7.96l-1.37-1.37c-.4-.4-.92-.59-1.43-.59-.52 0-1.04.2-1.43.59L10.3 9.45l-7.72 7.72c-.78.78-.78 2.05 0 2.83L4 21.41c.39.39.9.59 1.41.59.51 0 1.02-.2 1.41-.59l7.78-7.78 2.81-2.81c.8-.78.8-2.07 0-2.86zM5.41 20L4 18.59l7.72-7.72 1.47 1.35L5.41 20z\"/>\n",
              "  </svg>\n",
              "      </button>\n",
              "      \n",
              "  <style>\n",
              "    .colab-df-container {\n",
              "      display:flex;\n",
              "      flex-wrap:wrap;\n",
              "      gap: 12px;\n",
              "    }\n",
              "\n",
              "    .colab-df-convert {\n",
              "      background-color: #E8F0FE;\n",
              "      border: none;\n",
              "      border-radius: 50%;\n",
              "      cursor: pointer;\n",
              "      display: none;\n",
              "      fill: #1967D2;\n",
              "      height: 32px;\n",
              "      padding: 0 0 0 0;\n",
              "      width: 32px;\n",
              "    }\n",
              "\n",
              "    .colab-df-convert:hover {\n",
              "      background-color: #E2EBFA;\n",
              "      box-shadow: 0px 1px 2px rgba(60, 64, 67, 0.3), 0px 1px 3px 1px rgba(60, 64, 67, 0.15);\n",
              "      fill: #174EA6;\n",
              "    }\n",
              "\n",
              "    [theme=dark] .colab-df-convert {\n",
              "      background-color: #3B4455;\n",
              "      fill: #D2E3FC;\n",
              "    }\n",
              "\n",
              "    [theme=dark] .colab-df-convert:hover {\n",
              "      background-color: #434B5C;\n",
              "      box-shadow: 0px 1px 3px 1px rgba(0, 0, 0, 0.15);\n",
              "      filter: drop-shadow(0px 1px 2px rgba(0, 0, 0, 0.3));\n",
              "      fill: #FFFFFF;\n",
              "    }\n",
              "  </style>\n",
              "\n",
              "      <script>\n",
              "        const buttonEl =\n",
              "          document.querySelector('#df-25b9da81-d22d-4a0a-bec9-83e7f09a575f button.colab-df-convert');\n",
              "        buttonEl.style.display =\n",
              "          google.colab.kernel.accessAllowed ? 'block' : 'none';\n",
              "\n",
              "        async function convertToInteractive(key) {\n",
              "          const element = document.querySelector('#df-25b9da81-d22d-4a0a-bec9-83e7f09a575f');\n",
              "          const dataTable =\n",
              "            await google.colab.kernel.invokeFunction('convertToInteractive',\n",
              "                                                     [key], {});\n",
              "          if (!dataTable) return;\n",
              "\n",
              "          const docLinkHtml = 'Like what you see? Visit the ' +\n",
              "            '<a target=\"_blank\" href=https://colab.research.google.com/notebooks/data_table.ipynb>data table notebook</a>'\n",
              "            + ' to learn more about interactive tables.';\n",
              "          element.innerHTML = '';\n",
              "          dataTable['output_type'] = 'display_data';\n",
              "          await google.colab.output.renderOutput(dataTable, element);\n",
              "          const docLink = document.createElement('div');\n",
              "          docLink.innerHTML = docLinkHtml;\n",
              "          element.appendChild(docLink);\n",
              "        }\n",
              "      </script>\n",
              "    </div>\n",
              "  </div>\n",
              "  "
            ]
          },
          "metadata": {},
          "execution_count": 166
        }
      ]
    },
    {
      "cell_type": "markdown",
      "source": [
        "## Membuat Dataframe"
      ],
      "metadata": {
        "id": "3CEInjN9zw98"
      }
    },
    {
      "cell_type": "code",
      "source": [
        "import pandas as pd"
      ],
      "metadata": {
        "id": "blteCJSZ1u_g"
      },
      "execution_count": null,
      "outputs": []
    },
    {
      "cell_type": "markdown",
      "source": [
        "##### Membuat list elemen untuk tiap kolom "
      ],
      "metadata": {
        "id": "2AFwMQHj0OFR"
      }
    },
    {
      "cell_type": "code",
      "source": [
        "negara = ['Indonesia','USA','UK','Thailand','France']\n",
        "ibukota = ['Jakarta','Washington DC', 'London', 'Bangkok', 'Paris']\n",
        "mata_uang = ['Rupiah','US Dollar','Poundsterling','Bath','Euro']"
      ],
      "metadata": {
        "id": "22qKYShp0ZTb"
      },
      "execution_count": null,
      "outputs": []
    },
    {
      "cell_type": "markdown",
      "source": [
        "##### Membuat dictionary {label_kolom:nama_kolom}\n"
      ],
      "metadata": {
        "id": "LPfmSgL_0--z"
      }
    },
    {
      "cell_type": "code",
      "source": [
        "df_dict = {'negara':negara, 'ibukota':ibukota, 'mata_uang':mata_uang}"
      ],
      "metadata": {
        "id": "zrVgkitP1frh"
      },
      "execution_count": null,
      "outputs": []
    },
    {
      "cell_type": "markdown",
      "source": [
        "##### Membuat dataframe dari dictionary"
      ],
      "metadata": {
        "id": "f7FuVzx4126A"
      }
    },
    {
      "cell_type": "code",
      "source": [
        "df = pd.DataFrame(df_dict)\n",
        "df"
      ],
      "metadata": {
        "colab": {
          "base_uri": "https://localhost:8080/",
          "height": 206
        },
        "id": "6WNalZ2t2AGh",
        "outputId": "f28e3bfb-28c9-499a-af27-c621e2e02c19"
      },
      "execution_count": null,
      "outputs": [
        {
          "output_type": "execute_result",
          "data": {
            "text/plain": [
              "      negara        ibukota      mata_uang\n",
              "0  Indonesia        Jakarta         Rupiah\n",
              "1        USA  Washington DC      US Dollar\n",
              "2         UK         London  Poundsterling\n",
              "3   Thailand        Bangkok           Bath\n",
              "4     France          Paris           Euro"
            ],
            "text/html": [
              "\n",
              "  <div id=\"df-fa292dd7-6189-4bf9-a5e8-b26dfe691630\">\n",
              "    <div class=\"colab-df-container\">\n",
              "      <div>\n",
              "<style scoped>\n",
              "    .dataframe tbody tr th:only-of-type {\n",
              "        vertical-align: middle;\n",
              "    }\n",
              "\n",
              "    .dataframe tbody tr th {\n",
              "        vertical-align: top;\n",
              "    }\n",
              "\n",
              "    .dataframe thead th {\n",
              "        text-align: right;\n",
              "    }\n",
              "</style>\n",
              "<table border=\"1\" class=\"dataframe\">\n",
              "  <thead>\n",
              "    <tr style=\"text-align: right;\">\n",
              "      <th></th>\n",
              "      <th>negara</th>\n",
              "      <th>ibukota</th>\n",
              "      <th>mata_uang</th>\n",
              "    </tr>\n",
              "  </thead>\n",
              "  <tbody>\n",
              "    <tr>\n",
              "      <th>0</th>\n",
              "      <td>Indonesia</td>\n",
              "      <td>Jakarta</td>\n",
              "      <td>Rupiah</td>\n",
              "    </tr>\n",
              "    <tr>\n",
              "      <th>1</th>\n",
              "      <td>USA</td>\n",
              "      <td>Washington DC</td>\n",
              "      <td>US Dollar</td>\n",
              "    </tr>\n",
              "    <tr>\n",
              "      <th>2</th>\n",
              "      <td>UK</td>\n",
              "      <td>London</td>\n",
              "      <td>Poundsterling</td>\n",
              "    </tr>\n",
              "    <tr>\n",
              "      <th>3</th>\n",
              "      <td>Thailand</td>\n",
              "      <td>Bangkok</td>\n",
              "      <td>Bath</td>\n",
              "    </tr>\n",
              "    <tr>\n",
              "      <th>4</th>\n",
              "      <td>France</td>\n",
              "      <td>Paris</td>\n",
              "      <td>Euro</td>\n",
              "    </tr>\n",
              "  </tbody>\n",
              "</table>\n",
              "</div>\n",
              "      <button class=\"colab-df-convert\" onclick=\"convertToInteractive('df-fa292dd7-6189-4bf9-a5e8-b26dfe691630')\"\n",
              "              title=\"Convert this dataframe to an interactive table.\"\n",
              "              style=\"display:none;\">\n",
              "        \n",
              "  <svg xmlns=\"http://www.w3.org/2000/svg\" height=\"24px\"viewBox=\"0 0 24 24\"\n",
              "       width=\"24px\">\n",
              "    <path d=\"M0 0h24v24H0V0z\" fill=\"none\"/>\n",
              "    <path d=\"M18.56 5.44l.94 2.06.94-2.06 2.06-.94-2.06-.94-.94-2.06-.94 2.06-2.06.94zm-11 1L8.5 8.5l.94-2.06 2.06-.94-2.06-.94L8.5 2.5l-.94 2.06-2.06.94zm10 10l.94 2.06.94-2.06 2.06-.94-2.06-.94-.94-2.06-.94 2.06-2.06.94z\"/><path d=\"M17.41 7.96l-1.37-1.37c-.4-.4-.92-.59-1.43-.59-.52 0-1.04.2-1.43.59L10.3 9.45l-7.72 7.72c-.78.78-.78 2.05 0 2.83L4 21.41c.39.39.9.59 1.41.59.51 0 1.02-.2 1.41-.59l7.78-7.78 2.81-2.81c.8-.78.8-2.07 0-2.86zM5.41 20L4 18.59l7.72-7.72 1.47 1.35L5.41 20z\"/>\n",
              "  </svg>\n",
              "      </button>\n",
              "      \n",
              "  <style>\n",
              "    .colab-df-container {\n",
              "      display:flex;\n",
              "      flex-wrap:wrap;\n",
              "      gap: 12px;\n",
              "    }\n",
              "\n",
              "    .colab-df-convert {\n",
              "      background-color: #E8F0FE;\n",
              "      border: none;\n",
              "      border-radius: 50%;\n",
              "      cursor: pointer;\n",
              "      display: none;\n",
              "      fill: #1967D2;\n",
              "      height: 32px;\n",
              "      padding: 0 0 0 0;\n",
              "      width: 32px;\n",
              "    }\n",
              "\n",
              "    .colab-df-convert:hover {\n",
              "      background-color: #E2EBFA;\n",
              "      box-shadow: 0px 1px 2px rgba(60, 64, 67, 0.3), 0px 1px 3px 1px rgba(60, 64, 67, 0.15);\n",
              "      fill: #174EA6;\n",
              "    }\n",
              "\n",
              "    [theme=dark] .colab-df-convert {\n",
              "      background-color: #3B4455;\n",
              "      fill: #D2E3FC;\n",
              "    }\n",
              "\n",
              "    [theme=dark] .colab-df-convert:hover {\n",
              "      background-color: #434B5C;\n",
              "      box-shadow: 0px 1px 3px 1px rgba(0, 0, 0, 0.15);\n",
              "      filter: drop-shadow(0px 1px 2px rgba(0, 0, 0, 0.3));\n",
              "      fill: #FFFFFF;\n",
              "    }\n",
              "  </style>\n",
              "\n",
              "      <script>\n",
              "        const buttonEl =\n",
              "          document.querySelector('#df-fa292dd7-6189-4bf9-a5e8-b26dfe691630 button.colab-df-convert');\n",
              "        buttonEl.style.display =\n",
              "          google.colab.kernel.accessAllowed ? 'block' : 'none';\n",
              "\n",
              "        async function convertToInteractive(key) {\n",
              "          const element = document.querySelector('#df-fa292dd7-6189-4bf9-a5e8-b26dfe691630');\n",
              "          const dataTable =\n",
              "            await google.colab.kernel.invokeFunction('convertToInteractive',\n",
              "                                                     [key], {});\n",
              "          if (!dataTable) return;\n",
              "\n",
              "          const docLinkHtml = 'Like what you see? Visit the ' +\n",
              "            '<a target=\"_blank\" href=https://colab.research.google.com/notebooks/data_table.ipynb>data table notebook</a>'\n",
              "            + ' to learn more about interactive tables.';\n",
              "          element.innerHTML = '';\n",
              "          dataTable['output_type'] = 'display_data';\n",
              "          await google.colab.output.renderOutput(dataTable, element);\n",
              "          const docLink = document.createElement('div');\n",
              "          docLink.innerHTML = docLinkHtml;\n",
              "          element.appendChild(docLink);\n",
              "        }\n",
              "      </script>\n",
              "    </div>\n",
              "  </div>\n",
              "  "
            ]
          },
          "metadata": {},
          "execution_count": 157
        }
      ]
    },
    {
      "cell_type": "code",
      "source": [
        "type(df)"
      ],
      "metadata": {
        "colab": {
          "base_uri": "https://localhost:8080/"
        },
        "id": "BX7VtZbC2VGy",
        "outputId": "035bfa6f-e3a6-4a8e-a307-e1d0e663922a"
      },
      "execution_count": null,
      "outputs": [
        {
          "output_type": "execute_result",
          "data": {
            "text/plain": [
              "pandas.core.frame.DataFrame"
            ]
          },
          "metadata": {},
          "execution_count": 156
        }
      ]
    },
    {
      "cell_type": "markdown",
      "source": [
        "## Subsetting"
      ],
      "metadata": {
        "id": "BaMtGxei2q9R"
      }
    },
    {
      "cell_type": "code",
      "source": [
        "df"
      ],
      "metadata": {
        "colab": {
          "base_uri": "https://localhost:8080/",
          "height": 206
        },
        "id": "REBLj2dB29ew",
        "outputId": "309fcae7-159e-40fd-fcfa-519889236148"
      },
      "execution_count": null,
      "outputs": [
        {
          "output_type": "execute_result",
          "data": {
            "text/plain": [
              "      negara        ibukota      mata_uang\n",
              "0  Indonesia        Jakarta         Rupiah\n",
              "1        USA  Washington DC      US Dollar\n",
              "2         UK         London  Poundsterling\n",
              "3   Thailand        Bangkok           Bath\n",
              "4     France          Paris           Euro"
            ],
            "text/html": [
              "\n",
              "  <div id=\"df-c98738f9-9bf5-4940-989b-30e0de33ffd4\">\n",
              "    <div class=\"colab-df-container\">\n",
              "      <div>\n",
              "<style scoped>\n",
              "    .dataframe tbody tr th:only-of-type {\n",
              "        vertical-align: middle;\n",
              "    }\n",
              "\n",
              "    .dataframe tbody tr th {\n",
              "        vertical-align: top;\n",
              "    }\n",
              "\n",
              "    .dataframe thead th {\n",
              "        text-align: right;\n",
              "    }\n",
              "</style>\n",
              "<table border=\"1\" class=\"dataframe\">\n",
              "  <thead>\n",
              "    <tr style=\"text-align: right;\">\n",
              "      <th></th>\n",
              "      <th>negara</th>\n",
              "      <th>ibukota</th>\n",
              "      <th>mata_uang</th>\n",
              "    </tr>\n",
              "  </thead>\n",
              "  <tbody>\n",
              "    <tr>\n",
              "      <th>0</th>\n",
              "      <td>Indonesia</td>\n",
              "      <td>Jakarta</td>\n",
              "      <td>Rupiah</td>\n",
              "    </tr>\n",
              "    <tr>\n",
              "      <th>1</th>\n",
              "      <td>USA</td>\n",
              "      <td>Washington DC</td>\n",
              "      <td>US Dollar</td>\n",
              "    </tr>\n",
              "    <tr>\n",
              "      <th>2</th>\n",
              "      <td>UK</td>\n",
              "      <td>London</td>\n",
              "      <td>Poundsterling</td>\n",
              "    </tr>\n",
              "    <tr>\n",
              "      <th>3</th>\n",
              "      <td>Thailand</td>\n",
              "      <td>Bangkok</td>\n",
              "      <td>Bath</td>\n",
              "    </tr>\n",
              "    <tr>\n",
              "      <th>4</th>\n",
              "      <td>France</td>\n",
              "      <td>Paris</td>\n",
              "      <td>Euro</td>\n",
              "    </tr>\n",
              "  </tbody>\n",
              "</table>\n",
              "</div>\n",
              "      <button class=\"colab-df-convert\" onclick=\"convertToInteractive('df-c98738f9-9bf5-4940-989b-30e0de33ffd4')\"\n",
              "              title=\"Convert this dataframe to an interactive table.\"\n",
              "              style=\"display:none;\">\n",
              "        \n",
              "  <svg xmlns=\"http://www.w3.org/2000/svg\" height=\"24px\"viewBox=\"0 0 24 24\"\n",
              "       width=\"24px\">\n",
              "    <path d=\"M0 0h24v24H0V0z\" fill=\"none\"/>\n",
              "    <path d=\"M18.56 5.44l.94 2.06.94-2.06 2.06-.94-2.06-.94-.94-2.06-.94 2.06-2.06.94zm-11 1L8.5 8.5l.94-2.06 2.06-.94-2.06-.94L8.5 2.5l-.94 2.06-2.06.94zm10 10l.94 2.06.94-2.06 2.06-.94-2.06-.94-.94-2.06-.94 2.06-2.06.94z\"/><path d=\"M17.41 7.96l-1.37-1.37c-.4-.4-.92-.59-1.43-.59-.52 0-1.04.2-1.43.59L10.3 9.45l-7.72 7.72c-.78.78-.78 2.05 0 2.83L4 21.41c.39.39.9.59 1.41.59.51 0 1.02-.2 1.41-.59l7.78-7.78 2.81-2.81c.8-.78.8-2.07 0-2.86zM5.41 20L4 18.59l7.72-7.72 1.47 1.35L5.41 20z\"/>\n",
              "  </svg>\n",
              "      </button>\n",
              "      \n",
              "  <style>\n",
              "    .colab-df-container {\n",
              "      display:flex;\n",
              "      flex-wrap:wrap;\n",
              "      gap: 12px;\n",
              "    }\n",
              "\n",
              "    .colab-df-convert {\n",
              "      background-color: #E8F0FE;\n",
              "      border: none;\n",
              "      border-radius: 50%;\n",
              "      cursor: pointer;\n",
              "      display: none;\n",
              "      fill: #1967D2;\n",
              "      height: 32px;\n",
              "      padding: 0 0 0 0;\n",
              "      width: 32px;\n",
              "    }\n",
              "\n",
              "    .colab-df-convert:hover {\n",
              "      background-color: #E2EBFA;\n",
              "      box-shadow: 0px 1px 2px rgba(60, 64, 67, 0.3), 0px 1px 3px 1px rgba(60, 64, 67, 0.15);\n",
              "      fill: #174EA6;\n",
              "    }\n",
              "\n",
              "    [theme=dark] .colab-df-convert {\n",
              "      background-color: #3B4455;\n",
              "      fill: #D2E3FC;\n",
              "    }\n",
              "\n",
              "    [theme=dark] .colab-df-convert:hover {\n",
              "      background-color: #434B5C;\n",
              "      box-shadow: 0px 1px 3px 1px rgba(0, 0, 0, 0.15);\n",
              "      filter: drop-shadow(0px 1px 2px rgba(0, 0, 0, 0.3));\n",
              "      fill: #FFFFFF;\n",
              "    }\n",
              "  </style>\n",
              "\n",
              "      <script>\n",
              "        const buttonEl =\n",
              "          document.querySelector('#df-c98738f9-9bf5-4940-989b-30e0de33ffd4 button.colab-df-convert');\n",
              "        buttonEl.style.display =\n",
              "          google.colab.kernel.accessAllowed ? 'block' : 'none';\n",
              "\n",
              "        async function convertToInteractive(key) {\n",
              "          const element = document.querySelector('#df-c98738f9-9bf5-4940-989b-30e0de33ffd4');\n",
              "          const dataTable =\n",
              "            await google.colab.kernel.invokeFunction('convertToInteractive',\n",
              "                                                     [key], {});\n",
              "          if (!dataTable) return;\n",
              "\n",
              "          const docLinkHtml = 'Like what you see? Visit the ' +\n",
              "            '<a target=\"_blank\" href=https://colab.research.google.com/notebooks/data_table.ipynb>data table notebook</a>'\n",
              "            + ' to learn more about interactive tables.';\n",
              "          element.innerHTML = '';\n",
              "          dataTable['output_type'] = 'display_data';\n",
              "          await google.colab.output.renderOutput(dataTable, element);\n",
              "          const docLink = document.createElement('div');\n",
              "          docLink.innerHTML = docLinkHtml;\n",
              "          element.appendChild(docLink);\n",
              "        }\n",
              "      </script>\n",
              "    </div>\n",
              "  </div>\n",
              "  "
            ]
          },
          "metadata": {},
          "execution_count": 158
        }
      ]
    },
    {
      "cell_type": "markdown",
      "source": [
        "##### **.loc**\n",
        "**dataframe.loc[[labelrow1,labelrow2],[labelcolumn1,labelcolumn2]]**\n",
        "\n",
        "dipakai dengan menggunakan **label_row** atau **label_column** (mulai dari 0)"
      ],
      "metadata": {
        "id": "bVa_tmG321nL"
      }
    },
    {
      "cell_type": "code",
      "source": [
        "df.loc[:,['negara','mata_uang']]"
      ],
      "metadata": {
        "colab": {
          "base_uri": "https://localhost:8080/",
          "height": 206
        },
        "id": "fHypaRiB25SG",
        "outputId": "28e54abb-3b2b-4d7f-d025-ca76c6451858"
      },
      "execution_count": null,
      "outputs": [
        {
          "output_type": "execute_result",
          "data": {
            "text/plain": [
              "      negara      mata_uang\n",
              "0  Indonesia         Rupiah\n",
              "1        USA      US Dollar\n",
              "2         UK  Poundsterling\n",
              "3   Thailand           Bath\n",
              "4     France           Euro"
            ],
            "text/html": [
              "\n",
              "  <div id=\"df-8600c2bf-b141-4329-9c53-cf1ad5b18796\">\n",
              "    <div class=\"colab-df-container\">\n",
              "      <div>\n",
              "<style scoped>\n",
              "    .dataframe tbody tr th:only-of-type {\n",
              "        vertical-align: middle;\n",
              "    }\n",
              "\n",
              "    .dataframe tbody tr th {\n",
              "        vertical-align: top;\n",
              "    }\n",
              "\n",
              "    .dataframe thead th {\n",
              "        text-align: right;\n",
              "    }\n",
              "</style>\n",
              "<table border=\"1\" class=\"dataframe\">\n",
              "  <thead>\n",
              "    <tr style=\"text-align: right;\">\n",
              "      <th></th>\n",
              "      <th>negara</th>\n",
              "      <th>mata_uang</th>\n",
              "    </tr>\n",
              "  </thead>\n",
              "  <tbody>\n",
              "    <tr>\n",
              "      <th>0</th>\n",
              "      <td>Indonesia</td>\n",
              "      <td>Rupiah</td>\n",
              "    </tr>\n",
              "    <tr>\n",
              "      <th>1</th>\n",
              "      <td>USA</td>\n",
              "      <td>US Dollar</td>\n",
              "    </tr>\n",
              "    <tr>\n",
              "      <th>2</th>\n",
              "      <td>UK</td>\n",
              "      <td>Poundsterling</td>\n",
              "    </tr>\n",
              "    <tr>\n",
              "      <th>3</th>\n",
              "      <td>Thailand</td>\n",
              "      <td>Bath</td>\n",
              "    </tr>\n",
              "    <tr>\n",
              "      <th>4</th>\n",
              "      <td>France</td>\n",
              "      <td>Euro</td>\n",
              "    </tr>\n",
              "  </tbody>\n",
              "</table>\n",
              "</div>\n",
              "      <button class=\"colab-df-convert\" onclick=\"convertToInteractive('df-8600c2bf-b141-4329-9c53-cf1ad5b18796')\"\n",
              "              title=\"Convert this dataframe to an interactive table.\"\n",
              "              style=\"display:none;\">\n",
              "        \n",
              "  <svg xmlns=\"http://www.w3.org/2000/svg\" height=\"24px\"viewBox=\"0 0 24 24\"\n",
              "       width=\"24px\">\n",
              "    <path d=\"M0 0h24v24H0V0z\" fill=\"none\"/>\n",
              "    <path d=\"M18.56 5.44l.94 2.06.94-2.06 2.06-.94-2.06-.94-.94-2.06-.94 2.06-2.06.94zm-11 1L8.5 8.5l.94-2.06 2.06-.94-2.06-.94L8.5 2.5l-.94 2.06-2.06.94zm10 10l.94 2.06.94-2.06 2.06-.94-2.06-.94-.94-2.06-.94 2.06-2.06.94z\"/><path d=\"M17.41 7.96l-1.37-1.37c-.4-.4-.92-.59-1.43-.59-.52 0-1.04.2-1.43.59L10.3 9.45l-7.72 7.72c-.78.78-.78 2.05 0 2.83L4 21.41c.39.39.9.59 1.41.59.51 0 1.02-.2 1.41-.59l7.78-7.78 2.81-2.81c.8-.78.8-2.07 0-2.86zM5.41 20L4 18.59l7.72-7.72 1.47 1.35L5.41 20z\"/>\n",
              "  </svg>\n",
              "      </button>\n",
              "      \n",
              "  <style>\n",
              "    .colab-df-container {\n",
              "      display:flex;\n",
              "      flex-wrap:wrap;\n",
              "      gap: 12px;\n",
              "    }\n",
              "\n",
              "    .colab-df-convert {\n",
              "      background-color: #E8F0FE;\n",
              "      border: none;\n",
              "      border-radius: 50%;\n",
              "      cursor: pointer;\n",
              "      display: none;\n",
              "      fill: #1967D2;\n",
              "      height: 32px;\n",
              "      padding: 0 0 0 0;\n",
              "      width: 32px;\n",
              "    }\n",
              "\n",
              "    .colab-df-convert:hover {\n",
              "      background-color: #E2EBFA;\n",
              "      box-shadow: 0px 1px 2px rgba(60, 64, 67, 0.3), 0px 1px 3px 1px rgba(60, 64, 67, 0.15);\n",
              "      fill: #174EA6;\n",
              "    }\n",
              "\n",
              "    [theme=dark] .colab-df-convert {\n",
              "      background-color: #3B4455;\n",
              "      fill: #D2E3FC;\n",
              "    }\n",
              "\n",
              "    [theme=dark] .colab-df-convert:hover {\n",
              "      background-color: #434B5C;\n",
              "      box-shadow: 0px 1px 3px 1px rgba(0, 0, 0, 0.15);\n",
              "      filter: drop-shadow(0px 1px 2px rgba(0, 0, 0, 0.3));\n",
              "      fill: #FFFFFF;\n",
              "    }\n",
              "  </style>\n",
              "\n",
              "      <script>\n",
              "        const buttonEl =\n",
              "          document.querySelector('#df-8600c2bf-b141-4329-9c53-cf1ad5b18796 button.colab-df-convert');\n",
              "        buttonEl.style.display =\n",
              "          google.colab.kernel.accessAllowed ? 'block' : 'none';\n",
              "\n",
              "        async function convertToInteractive(key) {\n",
              "          const element = document.querySelector('#df-8600c2bf-b141-4329-9c53-cf1ad5b18796');\n",
              "          const dataTable =\n",
              "            await google.colab.kernel.invokeFunction('convertToInteractive',\n",
              "                                                     [key], {});\n",
              "          if (!dataTable) return;\n",
              "\n",
              "          const docLinkHtml = 'Like what you see? Visit the ' +\n",
              "            '<a target=\"_blank\" href=https://colab.research.google.com/notebooks/data_table.ipynb>data table notebook</a>'\n",
              "            + ' to learn more about interactive tables.';\n",
              "          element.innerHTML = '';\n",
              "          dataTable['output_type'] = 'display_data';\n",
              "          await google.colab.output.renderOutput(dataTable, element);\n",
              "          const docLink = document.createElement('div');\n",
              "          docLink.innerHTML = docLinkHtml;\n",
              "          element.appendChild(docLink);\n",
              "        }\n",
              "      </script>\n",
              "    </div>\n",
              "  </div>\n",
              "  "
            ]
          },
          "metadata": {},
          "execution_count": 160
        }
      ]
    },
    {
      "cell_type": "markdown",
      "source": [
        "##### .iloc\n",
        "**dataframe.loc[[row1,row2],[column1,column2]]**\n",
        "\n",
        "dipakai dengan menggunakan **row_number** atau **column_number** (mulai dari 0)"
      ],
      "metadata": {
        "id": "E9TPBC-K22oq"
      }
    },
    {
      "cell_type": "code",
      "source": [
        "df.iloc[:,[0,2]]"
      ],
      "metadata": {
        "colab": {
          "base_uri": "https://localhost:8080/",
          "height": 206
        },
        "id": "0IN9wSMs2wF4",
        "outputId": "da0480cb-f791-4d26-b87e-f65ec7df2f61"
      },
      "execution_count": null,
      "outputs": [
        {
          "output_type": "execute_result",
          "data": {
            "text/plain": [
              "      negara      mata_uang\n",
              "0  Indonesia         Rupiah\n",
              "1        USA      US Dollar\n",
              "2         UK  Poundsterling\n",
              "3   Thailand           Bath\n",
              "4     France           Euro"
            ],
            "text/html": [
              "\n",
              "  <div id=\"df-eed64c71-b77a-4785-a09a-f5c8eea4c239\">\n",
              "    <div class=\"colab-df-container\">\n",
              "      <div>\n",
              "<style scoped>\n",
              "    .dataframe tbody tr th:only-of-type {\n",
              "        vertical-align: middle;\n",
              "    }\n",
              "\n",
              "    .dataframe tbody tr th {\n",
              "        vertical-align: top;\n",
              "    }\n",
              "\n",
              "    .dataframe thead th {\n",
              "        text-align: right;\n",
              "    }\n",
              "</style>\n",
              "<table border=\"1\" class=\"dataframe\">\n",
              "  <thead>\n",
              "    <tr style=\"text-align: right;\">\n",
              "      <th></th>\n",
              "      <th>negara</th>\n",
              "      <th>mata_uang</th>\n",
              "    </tr>\n",
              "  </thead>\n",
              "  <tbody>\n",
              "    <tr>\n",
              "      <th>0</th>\n",
              "      <td>Indonesia</td>\n",
              "      <td>Rupiah</td>\n",
              "    </tr>\n",
              "    <tr>\n",
              "      <th>1</th>\n",
              "      <td>USA</td>\n",
              "      <td>US Dollar</td>\n",
              "    </tr>\n",
              "    <tr>\n",
              "      <th>2</th>\n",
              "      <td>UK</td>\n",
              "      <td>Poundsterling</td>\n",
              "    </tr>\n",
              "    <tr>\n",
              "      <th>3</th>\n",
              "      <td>Thailand</td>\n",
              "      <td>Bath</td>\n",
              "    </tr>\n",
              "    <tr>\n",
              "      <th>4</th>\n",
              "      <td>France</td>\n",
              "      <td>Euro</td>\n",
              "    </tr>\n",
              "  </tbody>\n",
              "</table>\n",
              "</div>\n",
              "      <button class=\"colab-df-convert\" onclick=\"convertToInteractive('df-eed64c71-b77a-4785-a09a-f5c8eea4c239')\"\n",
              "              title=\"Convert this dataframe to an interactive table.\"\n",
              "              style=\"display:none;\">\n",
              "        \n",
              "  <svg xmlns=\"http://www.w3.org/2000/svg\" height=\"24px\"viewBox=\"0 0 24 24\"\n",
              "       width=\"24px\">\n",
              "    <path d=\"M0 0h24v24H0V0z\" fill=\"none\"/>\n",
              "    <path d=\"M18.56 5.44l.94 2.06.94-2.06 2.06-.94-2.06-.94-.94-2.06-.94 2.06-2.06.94zm-11 1L8.5 8.5l.94-2.06 2.06-.94-2.06-.94L8.5 2.5l-.94 2.06-2.06.94zm10 10l.94 2.06.94-2.06 2.06-.94-2.06-.94-.94-2.06-.94 2.06-2.06.94z\"/><path d=\"M17.41 7.96l-1.37-1.37c-.4-.4-.92-.59-1.43-.59-.52 0-1.04.2-1.43.59L10.3 9.45l-7.72 7.72c-.78.78-.78 2.05 0 2.83L4 21.41c.39.39.9.59 1.41.59.51 0 1.02-.2 1.41-.59l7.78-7.78 2.81-2.81c.8-.78.8-2.07 0-2.86zM5.41 20L4 18.59l7.72-7.72 1.47 1.35L5.41 20z\"/>\n",
              "  </svg>\n",
              "      </button>\n",
              "      \n",
              "  <style>\n",
              "    .colab-df-container {\n",
              "      display:flex;\n",
              "      flex-wrap:wrap;\n",
              "      gap: 12px;\n",
              "    }\n",
              "\n",
              "    .colab-df-convert {\n",
              "      background-color: #E8F0FE;\n",
              "      border: none;\n",
              "      border-radius: 50%;\n",
              "      cursor: pointer;\n",
              "      display: none;\n",
              "      fill: #1967D2;\n",
              "      height: 32px;\n",
              "      padding: 0 0 0 0;\n",
              "      width: 32px;\n",
              "    }\n",
              "\n",
              "    .colab-df-convert:hover {\n",
              "      background-color: #E2EBFA;\n",
              "      box-shadow: 0px 1px 2px rgba(60, 64, 67, 0.3), 0px 1px 3px 1px rgba(60, 64, 67, 0.15);\n",
              "      fill: #174EA6;\n",
              "    }\n",
              "\n",
              "    [theme=dark] .colab-df-convert {\n",
              "      background-color: #3B4455;\n",
              "      fill: #D2E3FC;\n",
              "    }\n",
              "\n",
              "    [theme=dark] .colab-df-convert:hover {\n",
              "      background-color: #434B5C;\n",
              "      box-shadow: 0px 1px 3px 1px rgba(0, 0, 0, 0.15);\n",
              "      filter: drop-shadow(0px 1px 2px rgba(0, 0, 0, 0.3));\n",
              "      fill: #FFFFFF;\n",
              "    }\n",
              "  </style>\n",
              "\n",
              "      <script>\n",
              "        const buttonEl =\n",
              "          document.querySelector('#df-eed64c71-b77a-4785-a09a-f5c8eea4c239 button.colab-df-convert');\n",
              "        buttonEl.style.display =\n",
              "          google.colab.kernel.accessAllowed ? 'block' : 'none';\n",
              "\n",
              "        async function convertToInteractive(key) {\n",
              "          const element = document.querySelector('#df-eed64c71-b77a-4785-a09a-f5c8eea4c239');\n",
              "          const dataTable =\n",
              "            await google.colab.kernel.invokeFunction('convertToInteractive',\n",
              "                                                     [key], {});\n",
              "          if (!dataTable) return;\n",
              "\n",
              "          const docLinkHtml = 'Like what you see? Visit the ' +\n",
              "            '<a target=\"_blank\" href=https://colab.research.google.com/notebooks/data_table.ipynb>data table notebook</a>'\n",
              "            + ' to learn more about interactive tables.';\n",
              "          element.innerHTML = '';\n",
              "          dataTable['output_type'] = 'display_data';\n",
              "          await google.colab.output.renderOutput(dataTable, element);\n",
              "          const docLink = document.createElement('div');\n",
              "          docLink.innerHTML = docLinkHtml;\n",
              "          element.appendChild(docLink);\n",
              "        }\n",
              "      </script>\n",
              "    </div>\n",
              "  </div>\n",
              "  "
            ]
          },
          "metadata": {},
          "execution_count": 161
        }
      ]
    },
    {
      "cell_type": "code",
      "source": [
        "df.iloc[:,1:]"
      ],
      "metadata": {
        "colab": {
          "base_uri": "https://localhost:8080/",
          "height": 206
        },
        "id": "cKRVFnMR4o7L",
        "outputId": "2ca1770b-3708-4e1a-92ca-b67036b16362"
      },
      "execution_count": null,
      "outputs": [
        {
          "output_type": "execute_result",
          "data": {
            "text/plain": [
              "         ibukota      mata_uang\n",
              "0        Jakarta         Rupiah\n",
              "1  Washington DC      US Dollar\n",
              "2         London  Poundsterling\n",
              "3        Bangkok           Bath\n",
              "4          Paris           Euro"
            ],
            "text/html": [
              "\n",
              "  <div id=\"df-1aefb8ce-9beb-4290-9156-7bf16b87db22\">\n",
              "    <div class=\"colab-df-container\">\n",
              "      <div>\n",
              "<style scoped>\n",
              "    .dataframe tbody tr th:only-of-type {\n",
              "        vertical-align: middle;\n",
              "    }\n",
              "\n",
              "    .dataframe tbody tr th {\n",
              "        vertical-align: top;\n",
              "    }\n",
              "\n",
              "    .dataframe thead th {\n",
              "        text-align: right;\n",
              "    }\n",
              "</style>\n",
              "<table border=\"1\" class=\"dataframe\">\n",
              "  <thead>\n",
              "    <tr style=\"text-align: right;\">\n",
              "      <th></th>\n",
              "      <th>ibukota</th>\n",
              "      <th>mata_uang</th>\n",
              "    </tr>\n",
              "  </thead>\n",
              "  <tbody>\n",
              "    <tr>\n",
              "      <th>0</th>\n",
              "      <td>Jakarta</td>\n",
              "      <td>Rupiah</td>\n",
              "    </tr>\n",
              "    <tr>\n",
              "      <th>1</th>\n",
              "      <td>Washington DC</td>\n",
              "      <td>US Dollar</td>\n",
              "    </tr>\n",
              "    <tr>\n",
              "      <th>2</th>\n",
              "      <td>London</td>\n",
              "      <td>Poundsterling</td>\n",
              "    </tr>\n",
              "    <tr>\n",
              "      <th>3</th>\n",
              "      <td>Bangkok</td>\n",
              "      <td>Bath</td>\n",
              "    </tr>\n",
              "    <tr>\n",
              "      <th>4</th>\n",
              "      <td>Paris</td>\n",
              "      <td>Euro</td>\n",
              "    </tr>\n",
              "  </tbody>\n",
              "</table>\n",
              "</div>\n",
              "      <button class=\"colab-df-convert\" onclick=\"convertToInteractive('df-1aefb8ce-9beb-4290-9156-7bf16b87db22')\"\n",
              "              title=\"Convert this dataframe to an interactive table.\"\n",
              "              style=\"display:none;\">\n",
              "        \n",
              "  <svg xmlns=\"http://www.w3.org/2000/svg\" height=\"24px\"viewBox=\"0 0 24 24\"\n",
              "       width=\"24px\">\n",
              "    <path d=\"M0 0h24v24H0V0z\" fill=\"none\"/>\n",
              "    <path d=\"M18.56 5.44l.94 2.06.94-2.06 2.06-.94-2.06-.94-.94-2.06-.94 2.06-2.06.94zm-11 1L8.5 8.5l.94-2.06 2.06-.94-2.06-.94L8.5 2.5l-.94 2.06-2.06.94zm10 10l.94 2.06.94-2.06 2.06-.94-2.06-.94-.94-2.06-.94 2.06-2.06.94z\"/><path d=\"M17.41 7.96l-1.37-1.37c-.4-.4-.92-.59-1.43-.59-.52 0-1.04.2-1.43.59L10.3 9.45l-7.72 7.72c-.78.78-.78 2.05 0 2.83L4 21.41c.39.39.9.59 1.41.59.51 0 1.02-.2 1.41-.59l7.78-7.78 2.81-2.81c.8-.78.8-2.07 0-2.86zM5.41 20L4 18.59l7.72-7.72 1.47 1.35L5.41 20z\"/>\n",
              "  </svg>\n",
              "      </button>\n",
              "      \n",
              "  <style>\n",
              "    .colab-df-container {\n",
              "      display:flex;\n",
              "      flex-wrap:wrap;\n",
              "      gap: 12px;\n",
              "    }\n",
              "\n",
              "    .colab-df-convert {\n",
              "      background-color: #E8F0FE;\n",
              "      border: none;\n",
              "      border-radius: 50%;\n",
              "      cursor: pointer;\n",
              "      display: none;\n",
              "      fill: #1967D2;\n",
              "      height: 32px;\n",
              "      padding: 0 0 0 0;\n",
              "      width: 32px;\n",
              "    }\n",
              "\n",
              "    .colab-df-convert:hover {\n",
              "      background-color: #E2EBFA;\n",
              "      box-shadow: 0px 1px 2px rgba(60, 64, 67, 0.3), 0px 1px 3px 1px rgba(60, 64, 67, 0.15);\n",
              "      fill: #174EA6;\n",
              "    }\n",
              "\n",
              "    [theme=dark] .colab-df-convert {\n",
              "      background-color: #3B4455;\n",
              "      fill: #D2E3FC;\n",
              "    }\n",
              "\n",
              "    [theme=dark] .colab-df-convert:hover {\n",
              "      background-color: #434B5C;\n",
              "      box-shadow: 0px 1px 3px 1px rgba(0, 0, 0, 0.15);\n",
              "      filter: drop-shadow(0px 1px 2px rgba(0, 0, 0, 0.3));\n",
              "      fill: #FFFFFF;\n",
              "    }\n",
              "  </style>\n",
              "\n",
              "      <script>\n",
              "        const buttonEl =\n",
              "          document.querySelector('#df-1aefb8ce-9beb-4290-9156-7bf16b87db22 button.colab-df-convert');\n",
              "        buttonEl.style.display =\n",
              "          google.colab.kernel.accessAllowed ? 'block' : 'none';\n",
              "\n",
              "        async function convertToInteractive(key) {\n",
              "          const element = document.querySelector('#df-1aefb8ce-9beb-4290-9156-7bf16b87db22');\n",
              "          const dataTable =\n",
              "            await google.colab.kernel.invokeFunction('convertToInteractive',\n",
              "                                                     [key], {});\n",
              "          if (!dataTable) return;\n",
              "\n",
              "          const docLinkHtml = 'Like what you see? Visit the ' +\n",
              "            '<a target=\"_blank\" href=https://colab.research.google.com/notebooks/data_table.ipynb>data table notebook</a>'\n",
              "            + ' to learn more about interactive tables.';\n",
              "          element.innerHTML = '';\n",
              "          dataTable['output_type'] = 'display_data';\n",
              "          await google.colab.output.renderOutput(dataTable, element);\n",
              "          const docLink = document.createElement('div');\n",
              "          docLink.innerHTML = docLinkHtml;\n",
              "          element.appendChild(docLink);\n",
              "        }\n",
              "      </script>\n",
              "    </div>\n",
              "  </div>\n",
              "  "
            ]
          },
          "metadata": {},
          "execution_count": 163
        }
      ]
    },
    {
      "cell_type": "markdown",
      "source": [
        "## Filtering\n",
        "menggunakan **dan - '&'** dan **or - '|' **"
      ],
      "metadata": {
        "id": "q25ZeX2HDPbP"
      }
    },
    {
      "cell_type": "code",
      "source": [
        "# menampilkan data housing dengan total_rooms < 1000 dan population < 500\n",
        "housing[(housing['total_rooms']< 1000) & (housing['population']< 500)]  "
      ],
      "metadata": {
        "colab": {
          "base_uri": "https://localhost:8080/",
          "height": 488
        },
        "id": "5TKWsfBPDSZ5",
        "outputId": "75c8c680-a443-4c90-d36a-201f6b9022de"
      },
      "execution_count": null,
      "outputs": [
        {
          "output_type": "execute_result",
          "data": {
            "text/plain": [
              "       longitude  latitude  housing_median_age  total_rooms  total_bedrooms  \\\n",
              "2        -114.56     33.69                17.0        720.0           174.0   \n",
              "7        -114.59     34.83                41.0        812.0           168.0   \n",
              "17       -114.65     32.79                21.0         44.0            33.0   \n",
              "19       -114.67     33.92                17.0         97.0            24.0   \n",
              "21       -114.73     33.43                24.0        796.0           243.0   \n",
              "...          ...       ...                 ...          ...             ...   \n",
              "16938    -124.13     40.55                38.0        544.0            89.0   \n",
              "16944    -124.14     40.67                23.0        580.0           117.0   \n",
              "16951    -124.15     40.81                50.0        340.0            74.0   \n",
              "16969    -124.17     40.80                52.0        661.0           316.0   \n",
              "16982    -124.18     40.62                35.0        952.0           178.0   \n",
              "\n",
              "       population  households  median_income  median_house_value  \n",
              "2           333.0       117.0         1.6509             85700.0  \n",
              "7           375.0       158.0         1.7083             48500.0  \n",
              "17           64.0        27.0         0.8571             25000.0  \n",
              "19           29.0        15.0         1.2656             27500.0  \n",
              "21          227.0       139.0         0.8964             59200.0  \n",
              "...           ...         ...            ...                 ...  \n",
              "16938       240.0        91.0         3.2500             94800.0  \n",
              "16944       320.0       109.0         4.2054            130600.0  \n",
              "16951       235.0        83.0         1.7500             67500.0  \n",
              "16969       392.0       244.0         0.9570             60000.0  \n",
              "16982       480.0       179.0         3.0536            107000.0  \n",
              "\n",
              "[1222 rows x 9 columns]"
            ],
            "text/html": [
              "\n",
              "  <div id=\"df-5c615beb-d59a-4dfc-ba32-28b70858a4e5\">\n",
              "    <div class=\"colab-df-container\">\n",
              "      <div>\n",
              "<style scoped>\n",
              "    .dataframe tbody tr th:only-of-type {\n",
              "        vertical-align: middle;\n",
              "    }\n",
              "\n",
              "    .dataframe tbody tr th {\n",
              "        vertical-align: top;\n",
              "    }\n",
              "\n",
              "    .dataframe thead th {\n",
              "        text-align: right;\n",
              "    }\n",
              "</style>\n",
              "<table border=\"1\" class=\"dataframe\">\n",
              "  <thead>\n",
              "    <tr style=\"text-align: right;\">\n",
              "      <th></th>\n",
              "      <th>longitude</th>\n",
              "      <th>latitude</th>\n",
              "      <th>housing_median_age</th>\n",
              "      <th>total_rooms</th>\n",
              "      <th>total_bedrooms</th>\n",
              "      <th>population</th>\n",
              "      <th>households</th>\n",
              "      <th>median_income</th>\n",
              "      <th>median_house_value</th>\n",
              "    </tr>\n",
              "  </thead>\n",
              "  <tbody>\n",
              "    <tr>\n",
              "      <th>2</th>\n",
              "      <td>-114.56</td>\n",
              "      <td>33.69</td>\n",
              "      <td>17.0</td>\n",
              "      <td>720.0</td>\n",
              "      <td>174.0</td>\n",
              "      <td>333.0</td>\n",
              "      <td>117.0</td>\n",
              "      <td>1.6509</td>\n",
              "      <td>85700.0</td>\n",
              "    </tr>\n",
              "    <tr>\n",
              "      <th>7</th>\n",
              "      <td>-114.59</td>\n",
              "      <td>34.83</td>\n",
              "      <td>41.0</td>\n",
              "      <td>812.0</td>\n",
              "      <td>168.0</td>\n",
              "      <td>375.0</td>\n",
              "      <td>158.0</td>\n",
              "      <td>1.7083</td>\n",
              "      <td>48500.0</td>\n",
              "    </tr>\n",
              "    <tr>\n",
              "      <th>17</th>\n",
              "      <td>-114.65</td>\n",
              "      <td>32.79</td>\n",
              "      <td>21.0</td>\n",
              "      <td>44.0</td>\n",
              "      <td>33.0</td>\n",
              "      <td>64.0</td>\n",
              "      <td>27.0</td>\n",
              "      <td>0.8571</td>\n",
              "      <td>25000.0</td>\n",
              "    </tr>\n",
              "    <tr>\n",
              "      <th>19</th>\n",
              "      <td>-114.67</td>\n",
              "      <td>33.92</td>\n",
              "      <td>17.0</td>\n",
              "      <td>97.0</td>\n",
              "      <td>24.0</td>\n",
              "      <td>29.0</td>\n",
              "      <td>15.0</td>\n",
              "      <td>1.2656</td>\n",
              "      <td>27500.0</td>\n",
              "    </tr>\n",
              "    <tr>\n",
              "      <th>21</th>\n",
              "      <td>-114.73</td>\n",
              "      <td>33.43</td>\n",
              "      <td>24.0</td>\n",
              "      <td>796.0</td>\n",
              "      <td>243.0</td>\n",
              "      <td>227.0</td>\n",
              "      <td>139.0</td>\n",
              "      <td>0.8964</td>\n",
              "      <td>59200.0</td>\n",
              "    </tr>\n",
              "    <tr>\n",
              "      <th>...</th>\n",
              "      <td>...</td>\n",
              "      <td>...</td>\n",
              "      <td>...</td>\n",
              "      <td>...</td>\n",
              "      <td>...</td>\n",
              "      <td>...</td>\n",
              "      <td>...</td>\n",
              "      <td>...</td>\n",
              "      <td>...</td>\n",
              "    </tr>\n",
              "    <tr>\n",
              "      <th>16938</th>\n",
              "      <td>-124.13</td>\n",
              "      <td>40.55</td>\n",
              "      <td>38.0</td>\n",
              "      <td>544.0</td>\n",
              "      <td>89.0</td>\n",
              "      <td>240.0</td>\n",
              "      <td>91.0</td>\n",
              "      <td>3.2500</td>\n",
              "      <td>94800.0</td>\n",
              "    </tr>\n",
              "    <tr>\n",
              "      <th>16944</th>\n",
              "      <td>-124.14</td>\n",
              "      <td>40.67</td>\n",
              "      <td>23.0</td>\n",
              "      <td>580.0</td>\n",
              "      <td>117.0</td>\n",
              "      <td>320.0</td>\n",
              "      <td>109.0</td>\n",
              "      <td>4.2054</td>\n",
              "      <td>130600.0</td>\n",
              "    </tr>\n",
              "    <tr>\n",
              "      <th>16951</th>\n",
              "      <td>-124.15</td>\n",
              "      <td>40.81</td>\n",
              "      <td>50.0</td>\n",
              "      <td>340.0</td>\n",
              "      <td>74.0</td>\n",
              "      <td>235.0</td>\n",
              "      <td>83.0</td>\n",
              "      <td>1.7500</td>\n",
              "      <td>67500.0</td>\n",
              "    </tr>\n",
              "    <tr>\n",
              "      <th>16969</th>\n",
              "      <td>-124.17</td>\n",
              "      <td>40.80</td>\n",
              "      <td>52.0</td>\n",
              "      <td>661.0</td>\n",
              "      <td>316.0</td>\n",
              "      <td>392.0</td>\n",
              "      <td>244.0</td>\n",
              "      <td>0.9570</td>\n",
              "      <td>60000.0</td>\n",
              "    </tr>\n",
              "    <tr>\n",
              "      <th>16982</th>\n",
              "      <td>-124.18</td>\n",
              "      <td>40.62</td>\n",
              "      <td>35.0</td>\n",
              "      <td>952.0</td>\n",
              "      <td>178.0</td>\n",
              "      <td>480.0</td>\n",
              "      <td>179.0</td>\n",
              "      <td>3.0536</td>\n",
              "      <td>107000.0</td>\n",
              "    </tr>\n",
              "  </tbody>\n",
              "</table>\n",
              "<p>1222 rows × 9 columns</p>\n",
              "</div>\n",
              "      <button class=\"colab-df-convert\" onclick=\"convertToInteractive('df-5c615beb-d59a-4dfc-ba32-28b70858a4e5')\"\n",
              "              title=\"Convert this dataframe to an interactive table.\"\n",
              "              style=\"display:none;\">\n",
              "        \n",
              "  <svg xmlns=\"http://www.w3.org/2000/svg\" height=\"24px\"viewBox=\"0 0 24 24\"\n",
              "       width=\"24px\">\n",
              "    <path d=\"M0 0h24v24H0V0z\" fill=\"none\"/>\n",
              "    <path d=\"M18.56 5.44l.94 2.06.94-2.06 2.06-.94-2.06-.94-.94-2.06-.94 2.06-2.06.94zm-11 1L8.5 8.5l.94-2.06 2.06-.94-2.06-.94L8.5 2.5l-.94 2.06-2.06.94zm10 10l.94 2.06.94-2.06 2.06-.94-2.06-.94-.94-2.06-.94 2.06-2.06.94z\"/><path d=\"M17.41 7.96l-1.37-1.37c-.4-.4-.92-.59-1.43-.59-.52 0-1.04.2-1.43.59L10.3 9.45l-7.72 7.72c-.78.78-.78 2.05 0 2.83L4 21.41c.39.39.9.59 1.41.59.51 0 1.02-.2 1.41-.59l7.78-7.78 2.81-2.81c.8-.78.8-2.07 0-2.86zM5.41 20L4 18.59l7.72-7.72 1.47 1.35L5.41 20z\"/>\n",
              "  </svg>\n",
              "      </button>\n",
              "      \n",
              "  <style>\n",
              "    .colab-df-container {\n",
              "      display:flex;\n",
              "      flex-wrap:wrap;\n",
              "      gap: 12px;\n",
              "    }\n",
              "\n",
              "    .colab-df-convert {\n",
              "      background-color: #E8F0FE;\n",
              "      border: none;\n",
              "      border-radius: 50%;\n",
              "      cursor: pointer;\n",
              "      display: none;\n",
              "      fill: #1967D2;\n",
              "      height: 32px;\n",
              "      padding: 0 0 0 0;\n",
              "      width: 32px;\n",
              "    }\n",
              "\n",
              "    .colab-df-convert:hover {\n",
              "      background-color: #E2EBFA;\n",
              "      box-shadow: 0px 1px 2px rgba(60, 64, 67, 0.3), 0px 1px 3px 1px rgba(60, 64, 67, 0.15);\n",
              "      fill: #174EA6;\n",
              "    }\n",
              "\n",
              "    [theme=dark] .colab-df-convert {\n",
              "      background-color: #3B4455;\n",
              "      fill: #D2E3FC;\n",
              "    }\n",
              "\n",
              "    [theme=dark] .colab-df-convert:hover {\n",
              "      background-color: #434B5C;\n",
              "      box-shadow: 0px 1px 3px 1px rgba(0, 0, 0, 0.15);\n",
              "      filter: drop-shadow(0px 1px 2px rgba(0, 0, 0, 0.3));\n",
              "      fill: #FFFFFF;\n",
              "    }\n",
              "  </style>\n",
              "\n",
              "      <script>\n",
              "        const buttonEl =\n",
              "          document.querySelector('#df-5c615beb-d59a-4dfc-ba32-28b70858a4e5 button.colab-df-convert');\n",
              "        buttonEl.style.display =\n",
              "          google.colab.kernel.accessAllowed ? 'block' : 'none';\n",
              "\n",
              "        async function convertToInteractive(key) {\n",
              "          const element = document.querySelector('#df-5c615beb-d59a-4dfc-ba32-28b70858a4e5');\n",
              "          const dataTable =\n",
              "            await google.colab.kernel.invokeFunction('convertToInteractive',\n",
              "                                                     [key], {});\n",
              "          if (!dataTable) return;\n",
              "\n",
              "          const docLinkHtml = 'Like what you see? Visit the ' +\n",
              "            '<a target=\"_blank\" href=https://colab.research.google.com/notebooks/data_table.ipynb>data table notebook</a>'\n",
              "            + ' to learn more about interactive tables.';\n",
              "          element.innerHTML = '';\n",
              "          dataTable['output_type'] = 'display_data';\n",
              "          await google.colab.output.renderOutput(dataTable, element);\n",
              "          const docLink = document.createElement('div');\n",
              "          docLink.innerHTML = docLinkHtml;\n",
              "          element.appendChild(docLink);\n",
              "        }\n",
              "      </script>\n",
              "    </div>\n",
              "  </div>\n",
              "  "
            ]
          },
          "metadata": {},
          "execution_count": 169
        }
      ]
    },
    {
      "cell_type": "markdown",
      "source": [
        "## Melting\n",
        "mengubah bentuk dataframe dari melebar menjadi memanjang\n",
        "\n",
        "**pd.melt(dataframe, id_vars='nama_kolom', value_vars='nama_kolom')**\n",
        "\n",
        "id_vars = kolom yang jadi acuan perubahan dataframe\n",
        "\n",
        "value_vars = kolom yang elemennya akan diikutsertakan dalam perubahan struktur"
      ],
      "metadata": {
        "id": "1qGTt-y8GrDP"
      }
    },
    {
      "cell_type": "code",
      "source": [
        "housing_melt= pd.melt(housing, id_vars='population', value_vars=['total_rooms','total_bedrooms'])\n",
        "housing_melt.head()"
      ],
      "metadata": {
        "colab": {
          "base_uri": "https://localhost:8080/",
          "height": 206
        },
        "id": "rd8a0C0pG4c9",
        "outputId": "3e358fac-872b-40a2-8fe1-c0e6409d0f21"
      },
      "execution_count": null,
      "outputs": [
        {
          "output_type": "execute_result",
          "data": {
            "text/plain": [
              "   population     variable   value\n",
              "0      1015.0  total_rooms  5612.0\n",
              "1      1129.0  total_rooms  7650.0\n",
              "2       333.0  total_rooms   720.0\n",
              "3       515.0  total_rooms  1501.0\n",
              "4       624.0  total_rooms  1454.0"
            ],
            "text/html": [
              "\n",
              "  <div id=\"df-f1874fc0-b921-4447-952e-07b59282680d\">\n",
              "    <div class=\"colab-df-container\">\n",
              "      <div>\n",
              "<style scoped>\n",
              "    .dataframe tbody tr th:only-of-type {\n",
              "        vertical-align: middle;\n",
              "    }\n",
              "\n",
              "    .dataframe tbody tr th {\n",
              "        vertical-align: top;\n",
              "    }\n",
              "\n",
              "    .dataframe thead th {\n",
              "        text-align: right;\n",
              "    }\n",
              "</style>\n",
              "<table border=\"1\" class=\"dataframe\">\n",
              "  <thead>\n",
              "    <tr style=\"text-align: right;\">\n",
              "      <th></th>\n",
              "      <th>population</th>\n",
              "      <th>variable</th>\n",
              "      <th>value</th>\n",
              "    </tr>\n",
              "  </thead>\n",
              "  <tbody>\n",
              "    <tr>\n",
              "      <th>0</th>\n",
              "      <td>1015.0</td>\n",
              "      <td>total_rooms</td>\n",
              "      <td>5612.0</td>\n",
              "    </tr>\n",
              "    <tr>\n",
              "      <th>1</th>\n",
              "      <td>1129.0</td>\n",
              "      <td>total_rooms</td>\n",
              "      <td>7650.0</td>\n",
              "    </tr>\n",
              "    <tr>\n",
              "      <th>2</th>\n",
              "      <td>333.0</td>\n",
              "      <td>total_rooms</td>\n",
              "      <td>720.0</td>\n",
              "    </tr>\n",
              "    <tr>\n",
              "      <th>3</th>\n",
              "      <td>515.0</td>\n",
              "      <td>total_rooms</td>\n",
              "      <td>1501.0</td>\n",
              "    </tr>\n",
              "    <tr>\n",
              "      <th>4</th>\n",
              "      <td>624.0</td>\n",
              "      <td>total_rooms</td>\n",
              "      <td>1454.0</td>\n",
              "    </tr>\n",
              "  </tbody>\n",
              "</table>\n",
              "</div>\n",
              "      <button class=\"colab-df-convert\" onclick=\"convertToInteractive('df-f1874fc0-b921-4447-952e-07b59282680d')\"\n",
              "              title=\"Convert this dataframe to an interactive table.\"\n",
              "              style=\"display:none;\">\n",
              "        \n",
              "  <svg xmlns=\"http://www.w3.org/2000/svg\" height=\"24px\"viewBox=\"0 0 24 24\"\n",
              "       width=\"24px\">\n",
              "    <path d=\"M0 0h24v24H0V0z\" fill=\"none\"/>\n",
              "    <path d=\"M18.56 5.44l.94 2.06.94-2.06 2.06-.94-2.06-.94-.94-2.06-.94 2.06-2.06.94zm-11 1L8.5 8.5l.94-2.06 2.06-.94-2.06-.94L8.5 2.5l-.94 2.06-2.06.94zm10 10l.94 2.06.94-2.06 2.06-.94-2.06-.94-.94-2.06-.94 2.06-2.06.94z\"/><path d=\"M17.41 7.96l-1.37-1.37c-.4-.4-.92-.59-1.43-.59-.52 0-1.04.2-1.43.59L10.3 9.45l-7.72 7.72c-.78.78-.78 2.05 0 2.83L4 21.41c.39.39.9.59 1.41.59.51 0 1.02-.2 1.41-.59l7.78-7.78 2.81-2.81c.8-.78.8-2.07 0-2.86zM5.41 20L4 18.59l7.72-7.72 1.47 1.35L5.41 20z\"/>\n",
              "  </svg>\n",
              "      </button>\n",
              "      \n",
              "  <style>\n",
              "    .colab-df-container {\n",
              "      display:flex;\n",
              "      flex-wrap:wrap;\n",
              "      gap: 12px;\n",
              "    }\n",
              "\n",
              "    .colab-df-convert {\n",
              "      background-color: #E8F0FE;\n",
              "      border: none;\n",
              "      border-radius: 50%;\n",
              "      cursor: pointer;\n",
              "      display: none;\n",
              "      fill: #1967D2;\n",
              "      height: 32px;\n",
              "      padding: 0 0 0 0;\n",
              "      width: 32px;\n",
              "    }\n",
              "\n",
              "    .colab-df-convert:hover {\n",
              "      background-color: #E2EBFA;\n",
              "      box-shadow: 0px 1px 2px rgba(60, 64, 67, 0.3), 0px 1px 3px 1px rgba(60, 64, 67, 0.15);\n",
              "      fill: #174EA6;\n",
              "    }\n",
              "\n",
              "    [theme=dark] .colab-df-convert {\n",
              "      background-color: #3B4455;\n",
              "      fill: #D2E3FC;\n",
              "    }\n",
              "\n",
              "    [theme=dark] .colab-df-convert:hover {\n",
              "      background-color: #434B5C;\n",
              "      box-shadow: 0px 1px 3px 1px rgba(0, 0, 0, 0.15);\n",
              "      filter: drop-shadow(0px 1px 2px rgba(0, 0, 0, 0.3));\n",
              "      fill: #FFFFFF;\n",
              "    }\n",
              "  </style>\n",
              "\n",
              "      <script>\n",
              "        const buttonEl =\n",
              "          document.querySelector('#df-f1874fc0-b921-4447-952e-07b59282680d button.colab-df-convert');\n",
              "        buttonEl.style.display =\n",
              "          google.colab.kernel.accessAllowed ? 'block' : 'none';\n",
              "\n",
              "        async function convertToInteractive(key) {\n",
              "          const element = document.querySelector('#df-f1874fc0-b921-4447-952e-07b59282680d');\n",
              "          const dataTable =\n",
              "            await google.colab.kernel.invokeFunction('convertToInteractive',\n",
              "                                                     [key], {});\n",
              "          if (!dataTable) return;\n",
              "\n",
              "          const docLinkHtml = 'Like what you see? Visit the ' +\n",
              "            '<a target=\"_blank\" href=https://colab.research.google.com/notebooks/data_table.ipynb>data table notebook</a>'\n",
              "            + ' to learn more about interactive tables.';\n",
              "          element.innerHTML = '';\n",
              "          dataTable['output_type'] = 'display_data';\n",
              "          await google.colab.output.renderOutput(dataTable, element);\n",
              "          const docLink = document.createElement('div');\n",
              "          docLink.innerHTML = docLinkHtml;\n",
              "          element.appendChild(docLink);\n",
              "        }\n",
              "      </script>\n",
              "    </div>\n",
              "  </div>\n",
              "  "
            ]
          },
          "metadata": {},
          "execution_count": 170
        }
      ]
    },
    {
      "cell_type": "markdown",
      "source": [
        "## Sorting\n",
        "- sort_values\n",
        "- sort_index\n"
      ],
      "metadata": {
        "id": "yYgxg6bqNko4"
      }
    },
    {
      "cell_type": "markdown",
      "source": [
        "##### **.sort_values**\n",
        "\n",
        "**dataframe.sort_values()** \n",
        "mengurutkan berdasarkan nilai"
      ],
      "metadata": {
        "id": "IAsKW5AwPT13"
      }
    },
    {
      "cell_type": "code",
      "source": [
        "housing_melt.sort_values(by=['population'],ascending=False, )"
      ],
      "metadata": {
        "colab": {
          "base_uri": "https://localhost:8080/",
          "height": 424
        },
        "id": "9ExzgDtFLAyK",
        "outputId": "d0d18646-9208-47c8-b2d5-1443b7dfeb45"
      },
      "execution_count": null,
      "outputs": [
        {
          "output_type": "execute_result",
          "data": {
            "text/plain": [
              "       population        variable    value\n",
              "2274      35682.0     total_rooms  25135.0\n",
              "19274     35682.0  total_bedrooms   4819.0\n",
              "12772     28566.0     total_rooms  32627.0\n",
              "29772     28566.0  total_bedrooms   6445.0\n",
              "2871      16122.0     total_rooms  37937.0\n",
              "...           ...             ...      ...\n",
              "19907         8.0  total_bedrooms      3.0\n",
              "19990         6.0  total_bedrooms      2.0\n",
              "2990          6.0     total_rooms      2.0\n",
              "25232         3.0  total_bedrooms      6.0\n",
              "8232          3.0     total_rooms     18.0\n",
              "\n",
              "[34000 rows x 3 columns]"
            ],
            "text/html": [
              "\n",
              "  <div id=\"df-7ef67f72-1ef8-4a2f-98d4-2b034136ea76\">\n",
              "    <div class=\"colab-df-container\">\n",
              "      <div>\n",
              "<style scoped>\n",
              "    .dataframe tbody tr th:only-of-type {\n",
              "        vertical-align: middle;\n",
              "    }\n",
              "\n",
              "    .dataframe tbody tr th {\n",
              "        vertical-align: top;\n",
              "    }\n",
              "\n",
              "    .dataframe thead th {\n",
              "        text-align: right;\n",
              "    }\n",
              "</style>\n",
              "<table border=\"1\" class=\"dataframe\">\n",
              "  <thead>\n",
              "    <tr style=\"text-align: right;\">\n",
              "      <th></th>\n",
              "      <th>population</th>\n",
              "      <th>variable</th>\n",
              "      <th>value</th>\n",
              "    </tr>\n",
              "  </thead>\n",
              "  <tbody>\n",
              "    <tr>\n",
              "      <th>2274</th>\n",
              "      <td>35682.0</td>\n",
              "      <td>total_rooms</td>\n",
              "      <td>25135.0</td>\n",
              "    </tr>\n",
              "    <tr>\n",
              "      <th>19274</th>\n",
              "      <td>35682.0</td>\n",
              "      <td>total_bedrooms</td>\n",
              "      <td>4819.0</td>\n",
              "    </tr>\n",
              "    <tr>\n",
              "      <th>12772</th>\n",
              "      <td>28566.0</td>\n",
              "      <td>total_rooms</td>\n",
              "      <td>32627.0</td>\n",
              "    </tr>\n",
              "    <tr>\n",
              "      <th>29772</th>\n",
              "      <td>28566.0</td>\n",
              "      <td>total_bedrooms</td>\n",
              "      <td>6445.0</td>\n",
              "    </tr>\n",
              "    <tr>\n",
              "      <th>2871</th>\n",
              "      <td>16122.0</td>\n",
              "      <td>total_rooms</td>\n",
              "      <td>37937.0</td>\n",
              "    </tr>\n",
              "    <tr>\n",
              "      <th>...</th>\n",
              "      <td>...</td>\n",
              "      <td>...</td>\n",
              "      <td>...</td>\n",
              "    </tr>\n",
              "    <tr>\n",
              "      <th>19907</th>\n",
              "      <td>8.0</td>\n",
              "      <td>total_bedrooms</td>\n",
              "      <td>3.0</td>\n",
              "    </tr>\n",
              "    <tr>\n",
              "      <th>19990</th>\n",
              "      <td>6.0</td>\n",
              "      <td>total_bedrooms</td>\n",
              "      <td>2.0</td>\n",
              "    </tr>\n",
              "    <tr>\n",
              "      <th>2990</th>\n",
              "      <td>6.0</td>\n",
              "      <td>total_rooms</td>\n",
              "      <td>2.0</td>\n",
              "    </tr>\n",
              "    <tr>\n",
              "      <th>25232</th>\n",
              "      <td>3.0</td>\n",
              "      <td>total_bedrooms</td>\n",
              "      <td>6.0</td>\n",
              "    </tr>\n",
              "    <tr>\n",
              "      <th>8232</th>\n",
              "      <td>3.0</td>\n",
              "      <td>total_rooms</td>\n",
              "      <td>18.0</td>\n",
              "    </tr>\n",
              "  </tbody>\n",
              "</table>\n",
              "<p>34000 rows × 3 columns</p>\n",
              "</div>\n",
              "      <button class=\"colab-df-convert\" onclick=\"convertToInteractive('df-7ef67f72-1ef8-4a2f-98d4-2b034136ea76')\"\n",
              "              title=\"Convert this dataframe to an interactive table.\"\n",
              "              style=\"display:none;\">\n",
              "        \n",
              "  <svg xmlns=\"http://www.w3.org/2000/svg\" height=\"24px\"viewBox=\"0 0 24 24\"\n",
              "       width=\"24px\">\n",
              "    <path d=\"M0 0h24v24H0V0z\" fill=\"none\"/>\n",
              "    <path d=\"M18.56 5.44l.94 2.06.94-2.06 2.06-.94-2.06-.94-.94-2.06-.94 2.06-2.06.94zm-11 1L8.5 8.5l.94-2.06 2.06-.94-2.06-.94L8.5 2.5l-.94 2.06-2.06.94zm10 10l.94 2.06.94-2.06 2.06-.94-2.06-.94-.94-2.06-.94 2.06-2.06.94z\"/><path d=\"M17.41 7.96l-1.37-1.37c-.4-.4-.92-.59-1.43-.59-.52 0-1.04.2-1.43.59L10.3 9.45l-7.72 7.72c-.78.78-.78 2.05 0 2.83L4 21.41c.39.39.9.59 1.41.59.51 0 1.02-.2 1.41-.59l7.78-7.78 2.81-2.81c.8-.78.8-2.07 0-2.86zM5.41 20L4 18.59l7.72-7.72 1.47 1.35L5.41 20z\"/>\n",
              "  </svg>\n",
              "      </button>\n",
              "      \n",
              "  <style>\n",
              "    .colab-df-container {\n",
              "      display:flex;\n",
              "      flex-wrap:wrap;\n",
              "      gap: 12px;\n",
              "    }\n",
              "\n",
              "    .colab-df-convert {\n",
              "      background-color: #E8F0FE;\n",
              "      border: none;\n",
              "      border-radius: 50%;\n",
              "      cursor: pointer;\n",
              "      display: none;\n",
              "      fill: #1967D2;\n",
              "      height: 32px;\n",
              "      padding: 0 0 0 0;\n",
              "      width: 32px;\n",
              "    }\n",
              "\n",
              "    .colab-df-convert:hover {\n",
              "      background-color: #E2EBFA;\n",
              "      box-shadow: 0px 1px 2px rgba(60, 64, 67, 0.3), 0px 1px 3px 1px rgba(60, 64, 67, 0.15);\n",
              "      fill: #174EA6;\n",
              "    }\n",
              "\n",
              "    [theme=dark] .colab-df-convert {\n",
              "      background-color: #3B4455;\n",
              "      fill: #D2E3FC;\n",
              "    }\n",
              "\n",
              "    [theme=dark] .colab-df-convert:hover {\n",
              "      background-color: #434B5C;\n",
              "      box-shadow: 0px 1px 3px 1px rgba(0, 0, 0, 0.15);\n",
              "      filter: drop-shadow(0px 1px 2px rgba(0, 0, 0, 0.3));\n",
              "      fill: #FFFFFF;\n",
              "    }\n",
              "  </style>\n",
              "\n",
              "      <script>\n",
              "        const buttonEl =\n",
              "          document.querySelector('#df-7ef67f72-1ef8-4a2f-98d4-2b034136ea76 button.colab-df-convert');\n",
              "        buttonEl.style.display =\n",
              "          google.colab.kernel.accessAllowed ? 'block' : 'none';\n",
              "\n",
              "        async function convertToInteractive(key) {\n",
              "          const element = document.querySelector('#df-7ef67f72-1ef8-4a2f-98d4-2b034136ea76');\n",
              "          const dataTable =\n",
              "            await google.colab.kernel.invokeFunction('convertToInteractive',\n",
              "                                                     [key], {});\n",
              "          if (!dataTable) return;\n",
              "\n",
              "          const docLinkHtml = 'Like what you see? Visit the ' +\n",
              "            '<a target=\"_blank\" href=https://colab.research.google.com/notebooks/data_table.ipynb>data table notebook</a>'\n",
              "            + ' to learn more about interactive tables.';\n",
              "          element.innerHTML = '';\n",
              "          dataTable['output_type'] = 'display_data';\n",
              "          await google.colab.output.renderOutput(dataTable, element);\n",
              "          const docLink = document.createElement('div');\n",
              "          docLink.innerHTML = docLinkHtml;\n",
              "          element.appendChild(docLink);\n",
              "        }\n",
              "      </script>\n",
              "    </div>\n",
              "  </div>\n",
              "  "
            ]
          },
          "metadata": {},
          "execution_count": 195
        }
      ]
    },
    {
      "cell_type": "markdown",
      "source": [
        "##### **.sort_index()**\n",
        "\n",
        "**dataframe.sort_index()**\n",
        "\n",
        "mengurutkan berdasarkan index"
      ],
      "metadata": {
        "id": "-0pvUtKkPlDu"
      }
    },
    {
      "cell_type": "code",
      "source": [
        "housing_melt.sort_index(0)"
      ],
      "metadata": {
        "colab": {
          "base_uri": "https://localhost:8080/",
          "height": 478
        },
        "id": "YfAO5lV1OCOQ",
        "outputId": "ea3bd4c0-e48d-4fe6-fed5-c98e416aee57"
      },
      "execution_count": null,
      "outputs": [
        {
          "output_type": "stream",
          "name": "stderr",
          "text": [
            "/usr/local/lib/python3.7/dist-packages/ipykernel_launcher.py:1: FutureWarning: In a future version of pandas all arguments of DataFrame.sort_index will be keyword-only\n",
            "  \"\"\"Entry point for launching an IPython kernel.\n"
          ]
        },
        {
          "output_type": "execute_result",
          "data": {
            "text/plain": [
              "       population        variable   value\n",
              "0          1015.0     total_rooms  5612.0\n",
              "1          1129.0     total_rooms  7650.0\n",
              "2           333.0     total_rooms   720.0\n",
              "3           515.0     total_rooms  1501.0\n",
              "4           624.0     total_rooms  1454.0\n",
              "...           ...             ...     ...\n",
              "33995       907.0  total_bedrooms   394.0\n",
              "33996      1194.0  total_bedrooms   528.0\n",
              "33997      1244.0  total_bedrooms   531.0\n",
              "33998      1298.0  total_bedrooms   552.0\n",
              "33999       806.0  total_bedrooms   300.0\n",
              "\n",
              "[34000 rows x 3 columns]"
            ],
            "text/html": [
              "\n",
              "  <div id=\"df-4be131c5-6a49-4a40-b4b2-4ab9e9931d42\">\n",
              "    <div class=\"colab-df-container\">\n",
              "      <div>\n",
              "<style scoped>\n",
              "    .dataframe tbody tr th:only-of-type {\n",
              "        vertical-align: middle;\n",
              "    }\n",
              "\n",
              "    .dataframe tbody tr th {\n",
              "        vertical-align: top;\n",
              "    }\n",
              "\n",
              "    .dataframe thead th {\n",
              "        text-align: right;\n",
              "    }\n",
              "</style>\n",
              "<table border=\"1\" class=\"dataframe\">\n",
              "  <thead>\n",
              "    <tr style=\"text-align: right;\">\n",
              "      <th></th>\n",
              "      <th>population</th>\n",
              "      <th>variable</th>\n",
              "      <th>value</th>\n",
              "    </tr>\n",
              "  </thead>\n",
              "  <tbody>\n",
              "    <tr>\n",
              "      <th>0</th>\n",
              "      <td>1015.0</td>\n",
              "      <td>total_rooms</td>\n",
              "      <td>5612.0</td>\n",
              "    </tr>\n",
              "    <tr>\n",
              "      <th>1</th>\n",
              "      <td>1129.0</td>\n",
              "      <td>total_rooms</td>\n",
              "      <td>7650.0</td>\n",
              "    </tr>\n",
              "    <tr>\n",
              "      <th>2</th>\n",
              "      <td>333.0</td>\n",
              "      <td>total_rooms</td>\n",
              "      <td>720.0</td>\n",
              "    </tr>\n",
              "    <tr>\n",
              "      <th>3</th>\n",
              "      <td>515.0</td>\n",
              "      <td>total_rooms</td>\n",
              "      <td>1501.0</td>\n",
              "    </tr>\n",
              "    <tr>\n",
              "      <th>4</th>\n",
              "      <td>624.0</td>\n",
              "      <td>total_rooms</td>\n",
              "      <td>1454.0</td>\n",
              "    </tr>\n",
              "    <tr>\n",
              "      <th>...</th>\n",
              "      <td>...</td>\n",
              "      <td>...</td>\n",
              "      <td>...</td>\n",
              "    </tr>\n",
              "    <tr>\n",
              "      <th>33995</th>\n",
              "      <td>907.0</td>\n",
              "      <td>total_bedrooms</td>\n",
              "      <td>394.0</td>\n",
              "    </tr>\n",
              "    <tr>\n",
              "      <th>33996</th>\n",
              "      <td>1194.0</td>\n",
              "      <td>total_bedrooms</td>\n",
              "      <td>528.0</td>\n",
              "    </tr>\n",
              "    <tr>\n",
              "      <th>33997</th>\n",
              "      <td>1244.0</td>\n",
              "      <td>total_bedrooms</td>\n",
              "      <td>531.0</td>\n",
              "    </tr>\n",
              "    <tr>\n",
              "      <th>33998</th>\n",
              "      <td>1298.0</td>\n",
              "      <td>total_bedrooms</td>\n",
              "      <td>552.0</td>\n",
              "    </tr>\n",
              "    <tr>\n",
              "      <th>33999</th>\n",
              "      <td>806.0</td>\n",
              "      <td>total_bedrooms</td>\n",
              "      <td>300.0</td>\n",
              "    </tr>\n",
              "  </tbody>\n",
              "</table>\n",
              "<p>34000 rows × 3 columns</p>\n",
              "</div>\n",
              "      <button class=\"colab-df-convert\" onclick=\"convertToInteractive('df-4be131c5-6a49-4a40-b4b2-4ab9e9931d42')\"\n",
              "              title=\"Convert this dataframe to an interactive table.\"\n",
              "              style=\"display:none;\">\n",
              "        \n",
              "  <svg xmlns=\"http://www.w3.org/2000/svg\" height=\"24px\"viewBox=\"0 0 24 24\"\n",
              "       width=\"24px\">\n",
              "    <path d=\"M0 0h24v24H0V0z\" fill=\"none\"/>\n",
              "    <path d=\"M18.56 5.44l.94 2.06.94-2.06 2.06-.94-2.06-.94-.94-2.06-.94 2.06-2.06.94zm-11 1L8.5 8.5l.94-2.06 2.06-.94-2.06-.94L8.5 2.5l-.94 2.06-2.06.94zm10 10l.94 2.06.94-2.06 2.06-.94-2.06-.94-.94-2.06-.94 2.06-2.06.94z\"/><path d=\"M17.41 7.96l-1.37-1.37c-.4-.4-.92-.59-1.43-.59-.52 0-1.04.2-1.43.59L10.3 9.45l-7.72 7.72c-.78.78-.78 2.05 0 2.83L4 21.41c.39.39.9.59 1.41.59.51 0 1.02-.2 1.41-.59l7.78-7.78 2.81-2.81c.8-.78.8-2.07 0-2.86zM5.41 20L4 18.59l7.72-7.72 1.47 1.35L5.41 20z\"/>\n",
              "  </svg>\n",
              "      </button>\n",
              "      \n",
              "  <style>\n",
              "    .colab-df-container {\n",
              "      display:flex;\n",
              "      flex-wrap:wrap;\n",
              "      gap: 12px;\n",
              "    }\n",
              "\n",
              "    .colab-df-convert {\n",
              "      background-color: #E8F0FE;\n",
              "      border: none;\n",
              "      border-radius: 50%;\n",
              "      cursor: pointer;\n",
              "      display: none;\n",
              "      fill: #1967D2;\n",
              "      height: 32px;\n",
              "      padding: 0 0 0 0;\n",
              "      width: 32px;\n",
              "    }\n",
              "\n",
              "    .colab-df-convert:hover {\n",
              "      background-color: #E2EBFA;\n",
              "      box-shadow: 0px 1px 2px rgba(60, 64, 67, 0.3), 0px 1px 3px 1px rgba(60, 64, 67, 0.15);\n",
              "      fill: #174EA6;\n",
              "    }\n",
              "\n",
              "    [theme=dark] .colab-df-convert {\n",
              "      background-color: #3B4455;\n",
              "      fill: #D2E3FC;\n",
              "    }\n",
              "\n",
              "    [theme=dark] .colab-df-convert:hover {\n",
              "      background-color: #434B5C;\n",
              "      box-shadow: 0px 1px 3px 1px rgba(0, 0, 0, 0.15);\n",
              "      filter: drop-shadow(0px 1px 2px rgba(0, 0, 0, 0.3));\n",
              "      fill: #FFFFFF;\n",
              "    }\n",
              "  </style>\n",
              "\n",
              "      <script>\n",
              "        const buttonEl =\n",
              "          document.querySelector('#df-4be131c5-6a49-4a40-b4b2-4ab9e9931d42 button.colab-df-convert');\n",
              "        buttonEl.style.display =\n",
              "          google.colab.kernel.accessAllowed ? 'block' : 'none';\n",
              "\n",
              "        async function convertToInteractive(key) {\n",
              "          const element = document.querySelector('#df-4be131c5-6a49-4a40-b4b2-4ab9e9931d42');\n",
              "          const dataTable =\n",
              "            await google.colab.kernel.invokeFunction('convertToInteractive',\n",
              "                                                     [key], {});\n",
              "          if (!dataTable) return;\n",
              "\n",
              "          const docLinkHtml = 'Like what you see? Visit the ' +\n",
              "            '<a target=\"_blank\" href=https://colab.research.google.com/notebooks/data_table.ipynb>data table notebook</a>'\n",
              "            + ' to learn more about interactive tables.';\n",
              "          element.innerHTML = '';\n",
              "          dataTable['output_type'] = 'display_data';\n",
              "          await google.colab.output.renderOutput(dataTable, element);\n",
              "          const docLink = document.createElement('div');\n",
              "          docLink.innerHTML = docLinkHtml;\n",
              "          element.appendChild(docLink);\n",
              "        }\n",
              "      </script>\n",
              "    </div>\n",
              "  </div>\n",
              "  "
            ]
          },
          "metadata": {},
          "execution_count": 196
        }
      ]
    },
    {
      "cell_type": "code",
      "source": [
        "housing_melt.sort_index(1)"
      ],
      "metadata": {
        "colab": {
          "base_uri": "https://localhost:8080/",
          "height": 478
        },
        "id": "ZNNoiJBKS6DJ",
        "outputId": "d0af59f0-ca90-4022-dfa9-700f64abb30f"
      },
      "execution_count": null,
      "outputs": [
        {
          "output_type": "stream",
          "name": "stderr",
          "text": [
            "/usr/local/lib/python3.7/dist-packages/ipykernel_launcher.py:1: FutureWarning: In a future version of pandas all arguments of DataFrame.sort_index will be keyword-only\n",
            "  \"\"\"Entry point for launching an IPython kernel.\n"
          ]
        },
        {
          "output_type": "execute_result",
          "data": {
            "text/plain": [
              "       population   value        variable\n",
              "0          1015.0  5612.0     total_rooms\n",
              "1          1129.0  7650.0     total_rooms\n",
              "2           333.0   720.0     total_rooms\n",
              "3           515.0  1501.0     total_rooms\n",
              "4           624.0  1454.0     total_rooms\n",
              "...           ...     ...             ...\n",
              "33995       907.0   394.0  total_bedrooms\n",
              "33996      1194.0   528.0  total_bedrooms\n",
              "33997      1244.0   531.0  total_bedrooms\n",
              "33998      1298.0   552.0  total_bedrooms\n",
              "33999       806.0   300.0  total_bedrooms\n",
              "\n",
              "[34000 rows x 3 columns]"
            ],
            "text/html": [
              "\n",
              "  <div id=\"df-6f62281c-b635-4241-b4fd-99ffb7193130\">\n",
              "    <div class=\"colab-df-container\">\n",
              "      <div>\n",
              "<style scoped>\n",
              "    .dataframe tbody tr th:only-of-type {\n",
              "        vertical-align: middle;\n",
              "    }\n",
              "\n",
              "    .dataframe tbody tr th {\n",
              "        vertical-align: top;\n",
              "    }\n",
              "\n",
              "    .dataframe thead th {\n",
              "        text-align: right;\n",
              "    }\n",
              "</style>\n",
              "<table border=\"1\" class=\"dataframe\">\n",
              "  <thead>\n",
              "    <tr style=\"text-align: right;\">\n",
              "      <th></th>\n",
              "      <th>population</th>\n",
              "      <th>value</th>\n",
              "      <th>variable</th>\n",
              "    </tr>\n",
              "  </thead>\n",
              "  <tbody>\n",
              "    <tr>\n",
              "      <th>0</th>\n",
              "      <td>1015.0</td>\n",
              "      <td>5612.0</td>\n",
              "      <td>total_rooms</td>\n",
              "    </tr>\n",
              "    <tr>\n",
              "      <th>1</th>\n",
              "      <td>1129.0</td>\n",
              "      <td>7650.0</td>\n",
              "      <td>total_rooms</td>\n",
              "    </tr>\n",
              "    <tr>\n",
              "      <th>2</th>\n",
              "      <td>333.0</td>\n",
              "      <td>720.0</td>\n",
              "      <td>total_rooms</td>\n",
              "    </tr>\n",
              "    <tr>\n",
              "      <th>3</th>\n",
              "      <td>515.0</td>\n",
              "      <td>1501.0</td>\n",
              "      <td>total_rooms</td>\n",
              "    </tr>\n",
              "    <tr>\n",
              "      <th>4</th>\n",
              "      <td>624.0</td>\n",
              "      <td>1454.0</td>\n",
              "      <td>total_rooms</td>\n",
              "    </tr>\n",
              "    <tr>\n",
              "      <th>...</th>\n",
              "      <td>...</td>\n",
              "      <td>...</td>\n",
              "      <td>...</td>\n",
              "    </tr>\n",
              "    <tr>\n",
              "      <th>33995</th>\n",
              "      <td>907.0</td>\n",
              "      <td>394.0</td>\n",
              "      <td>total_bedrooms</td>\n",
              "    </tr>\n",
              "    <tr>\n",
              "      <th>33996</th>\n",
              "      <td>1194.0</td>\n",
              "      <td>528.0</td>\n",
              "      <td>total_bedrooms</td>\n",
              "    </tr>\n",
              "    <tr>\n",
              "      <th>33997</th>\n",
              "      <td>1244.0</td>\n",
              "      <td>531.0</td>\n",
              "      <td>total_bedrooms</td>\n",
              "    </tr>\n",
              "    <tr>\n",
              "      <th>33998</th>\n",
              "      <td>1298.0</td>\n",
              "      <td>552.0</td>\n",
              "      <td>total_bedrooms</td>\n",
              "    </tr>\n",
              "    <tr>\n",
              "      <th>33999</th>\n",
              "      <td>806.0</td>\n",
              "      <td>300.0</td>\n",
              "      <td>total_bedrooms</td>\n",
              "    </tr>\n",
              "  </tbody>\n",
              "</table>\n",
              "<p>34000 rows × 3 columns</p>\n",
              "</div>\n",
              "      <button class=\"colab-df-convert\" onclick=\"convertToInteractive('df-6f62281c-b635-4241-b4fd-99ffb7193130')\"\n",
              "              title=\"Convert this dataframe to an interactive table.\"\n",
              "              style=\"display:none;\">\n",
              "        \n",
              "  <svg xmlns=\"http://www.w3.org/2000/svg\" height=\"24px\"viewBox=\"0 0 24 24\"\n",
              "       width=\"24px\">\n",
              "    <path d=\"M0 0h24v24H0V0z\" fill=\"none\"/>\n",
              "    <path d=\"M18.56 5.44l.94 2.06.94-2.06 2.06-.94-2.06-.94-.94-2.06-.94 2.06-2.06.94zm-11 1L8.5 8.5l.94-2.06 2.06-.94-2.06-.94L8.5 2.5l-.94 2.06-2.06.94zm10 10l.94 2.06.94-2.06 2.06-.94-2.06-.94-.94-2.06-.94 2.06-2.06.94z\"/><path d=\"M17.41 7.96l-1.37-1.37c-.4-.4-.92-.59-1.43-.59-.52 0-1.04.2-1.43.59L10.3 9.45l-7.72 7.72c-.78.78-.78 2.05 0 2.83L4 21.41c.39.39.9.59 1.41.59.51 0 1.02-.2 1.41-.59l7.78-7.78 2.81-2.81c.8-.78.8-2.07 0-2.86zM5.41 20L4 18.59l7.72-7.72 1.47 1.35L5.41 20z\"/>\n",
              "  </svg>\n",
              "      </button>\n",
              "      \n",
              "  <style>\n",
              "    .colab-df-container {\n",
              "      display:flex;\n",
              "      flex-wrap:wrap;\n",
              "      gap: 12px;\n",
              "    }\n",
              "\n",
              "    .colab-df-convert {\n",
              "      background-color: #E8F0FE;\n",
              "      border: none;\n",
              "      border-radius: 50%;\n",
              "      cursor: pointer;\n",
              "      display: none;\n",
              "      fill: #1967D2;\n",
              "      height: 32px;\n",
              "      padding: 0 0 0 0;\n",
              "      width: 32px;\n",
              "    }\n",
              "\n",
              "    .colab-df-convert:hover {\n",
              "      background-color: #E2EBFA;\n",
              "      box-shadow: 0px 1px 2px rgba(60, 64, 67, 0.3), 0px 1px 3px 1px rgba(60, 64, 67, 0.15);\n",
              "      fill: #174EA6;\n",
              "    }\n",
              "\n",
              "    [theme=dark] .colab-df-convert {\n",
              "      background-color: #3B4455;\n",
              "      fill: #D2E3FC;\n",
              "    }\n",
              "\n",
              "    [theme=dark] .colab-df-convert:hover {\n",
              "      background-color: #434B5C;\n",
              "      box-shadow: 0px 1px 3px 1px rgba(0, 0, 0, 0.15);\n",
              "      filter: drop-shadow(0px 1px 2px rgba(0, 0, 0, 0.3));\n",
              "      fill: #FFFFFF;\n",
              "    }\n",
              "  </style>\n",
              "\n",
              "      <script>\n",
              "        const buttonEl =\n",
              "          document.querySelector('#df-6f62281c-b635-4241-b4fd-99ffb7193130 button.colab-df-convert');\n",
              "        buttonEl.style.display =\n",
              "          google.colab.kernel.accessAllowed ? 'block' : 'none';\n",
              "\n",
              "        async function convertToInteractive(key) {\n",
              "          const element = document.querySelector('#df-6f62281c-b635-4241-b4fd-99ffb7193130');\n",
              "          const dataTable =\n",
              "            await google.colab.kernel.invokeFunction('convertToInteractive',\n",
              "                                                     [key], {});\n",
              "          if (!dataTable) return;\n",
              "\n",
              "          const docLinkHtml = 'Like what you see? Visit the ' +\n",
              "            '<a target=\"_blank\" href=https://colab.research.google.com/notebooks/data_table.ipynb>data table notebook</a>'\n",
              "            + ' to learn more about interactive tables.';\n",
              "          element.innerHTML = '';\n",
              "          dataTable['output_type'] = 'display_data';\n",
              "          await google.colab.output.renderOutput(dataTable, element);\n",
              "          const docLink = document.createElement('div');\n",
              "          docLink.innerHTML = docLinkHtml;\n",
              "          element.appendChild(docLink);\n",
              "        }\n",
              "      </script>\n",
              "    </div>\n",
              "  </div>\n",
              "  "
            ]
          },
          "metadata": {},
          "execution_count": 197
        }
      ]
    },
    {
      "cell_type": "markdown",
      "source": [
        "## Pivot Table\n"
      ],
      "metadata": {
        "id": "wBZZnP5GQovb"
      }
    },
    {
      "cell_type": "markdown",
      "source": [
        "**dataframe.pivot_table(index= ,columns=, values=, aggfunc=)**\n",
        "index = kolom yang akan dijadikan **index**\n",
        "\n",
        "columns = kolom yang elemennya dijadikan **label kolom**\n",
        "\n",
        "values = kolom yang elemennya dijadikan **elemen dataframe baru**\n",
        "\n",
        "aggfunc = 'sum', 'mean', 'median'\n",
        "\n",
        "Mengubah bentuk dataframe dengan menentukan index dan kolom baru"
      ],
      "metadata": {
        "id": "rTFIjVPHRyHZ"
      }
    },
    {
      "cell_type": "code",
      "source": [
        "housing_pivottable = housing.pivot_table(index = 'population', columns='total_rooms', values='households')\n",
        "housing_pivottable"
      ],
      "metadata": {
        "colab": {
          "base_uri": "https://localhost:8080/",
          "height": 519
        },
        "id": "Z-HvLO6QR2O7",
        "outputId": "9ab16b93-cb1a-44b6-c6ca-9208a4320dad"
      },
      "execution_count": null,
      "outputs": [
        {
          "output_type": "execute_result",
          "data": {
            "text/plain": [
              "total_rooms  2.0      8.0      11.0     12.0     15.0     18.0     20.0     \\\n",
              "population                                                                   \n",
              "3.0              NaN      NaN      NaN      NaN      NaN      4.0      NaN   \n",
              "6.0              2.0      NaN      NaN      NaN      NaN      NaN      NaN   \n",
              "8.0              NaN      NaN      NaN      NaN      NaN      5.0      NaN   \n",
              "9.0              NaN      NaN      NaN      NaN      NaN      NaN      NaN   \n",
              "11.0             NaN      NaN      NaN      NaN      3.0      NaN      NaN   \n",
              "...              ...      ...      ...      ...      ...      ...      ...   \n",
              "15037.0          NaN      NaN      NaN      NaN      NaN      NaN      NaN   \n",
              "15507.0          NaN      NaN      NaN      NaN      NaN      NaN      NaN   \n",
              "16122.0          NaN      NaN      NaN      NaN      NaN      NaN      NaN   \n",
              "28566.0          NaN      NaN      NaN      NaN      NaN      NaN      NaN   \n",
              "35682.0          NaN      NaN      NaN      NaN      NaN      NaN      NaN   \n",
              "\n",
              "total_rooms  22.0     24.0     25.0     ...  25187.0  25957.0  26322.0  \\\n",
              "population                              ...                              \n",
              "3.0              NaN      NaN      NaN  ...      NaN      NaN      NaN   \n",
              "6.0              NaN      NaN      NaN  ...      NaN      NaN      NaN   \n",
              "8.0              NaN      NaN      NaN  ...      NaN      NaN      NaN   \n",
              "9.0              NaN      NaN      NaN  ...      NaN      NaN      NaN   \n",
              "11.0             NaN      NaN      NaN  ...      NaN      NaN      NaN   \n",
              "...              ...      ...      ...  ...      ...      ...      ...   \n",
              "15037.0          NaN      NaN      NaN  ...      NaN      NaN      NaN   \n",
              "15507.0          NaN      NaN      NaN  ...      NaN      NaN      NaN   \n",
              "16122.0          NaN      NaN      NaN  ...      NaN      NaN      NaN   \n",
              "28566.0          NaN      NaN      NaN  ...      NaN      NaN      NaN   \n",
              "35682.0          NaN      NaN      NaN  ...      NaN      NaN      NaN   \n",
              "\n",
              "total_rooms  27700.0  28258.0  30401.0  30405.0  32054.0  32627.0  37937.0  \n",
              "population                                                                  \n",
              "3.0              NaN      NaN      NaN      NaN      NaN      NaN      NaN  \n",
              "6.0              NaN      NaN      NaN      NaN      NaN      NaN      NaN  \n",
              "8.0              NaN      NaN      NaN      NaN      NaN      NaN      NaN  \n",
              "9.0              NaN      NaN      NaN      NaN      NaN      NaN      NaN  \n",
              "11.0             NaN      NaN      NaN      NaN      NaN      NaN      NaN  \n",
              "...              ...      ...      ...      ...      ...      ...      ...  \n",
              "15037.0       4072.0      NaN      NaN      NaN      NaN      NaN      NaN  \n",
              "15507.0          NaN      NaN      NaN      NaN   5050.0      NaN      NaN  \n",
              "16122.0          NaN      NaN      NaN      NaN      NaN      NaN   5189.0  \n",
              "28566.0          NaN      NaN      NaN      NaN      NaN   6082.0      NaN  \n",
              "35682.0          NaN      NaN      NaN      NaN      NaN      NaN      NaN  \n",
              "\n",
              "[3683 rows x 5533 columns]"
            ],
            "text/html": [
              "\n",
              "  <div id=\"df-84efca70-302d-4623-a6fe-b7aa7f76e311\">\n",
              "    <div class=\"colab-df-container\">\n",
              "      <div>\n",
              "<style scoped>\n",
              "    .dataframe tbody tr th:only-of-type {\n",
              "        vertical-align: middle;\n",
              "    }\n",
              "\n",
              "    .dataframe tbody tr th {\n",
              "        vertical-align: top;\n",
              "    }\n",
              "\n",
              "    .dataframe thead th {\n",
              "        text-align: right;\n",
              "    }\n",
              "</style>\n",
              "<table border=\"1\" class=\"dataframe\">\n",
              "  <thead>\n",
              "    <tr style=\"text-align: right;\">\n",
              "      <th>total_rooms</th>\n",
              "      <th>2.0</th>\n",
              "      <th>8.0</th>\n",
              "      <th>11.0</th>\n",
              "      <th>12.0</th>\n",
              "      <th>15.0</th>\n",
              "      <th>18.0</th>\n",
              "      <th>20.0</th>\n",
              "      <th>22.0</th>\n",
              "      <th>24.0</th>\n",
              "      <th>25.0</th>\n",
              "      <th>...</th>\n",
              "      <th>25187.0</th>\n",
              "      <th>25957.0</th>\n",
              "      <th>26322.0</th>\n",
              "      <th>27700.0</th>\n",
              "      <th>28258.0</th>\n",
              "      <th>30401.0</th>\n",
              "      <th>30405.0</th>\n",
              "      <th>32054.0</th>\n",
              "      <th>32627.0</th>\n",
              "      <th>37937.0</th>\n",
              "    </tr>\n",
              "    <tr>\n",
              "      <th>population</th>\n",
              "      <th></th>\n",
              "      <th></th>\n",
              "      <th></th>\n",
              "      <th></th>\n",
              "      <th></th>\n",
              "      <th></th>\n",
              "      <th></th>\n",
              "      <th></th>\n",
              "      <th></th>\n",
              "      <th></th>\n",
              "      <th></th>\n",
              "      <th></th>\n",
              "      <th></th>\n",
              "      <th></th>\n",
              "      <th></th>\n",
              "      <th></th>\n",
              "      <th></th>\n",
              "      <th></th>\n",
              "      <th></th>\n",
              "      <th></th>\n",
              "      <th></th>\n",
              "    </tr>\n",
              "  </thead>\n",
              "  <tbody>\n",
              "    <tr>\n",
              "      <th>3.0</th>\n",
              "      <td>NaN</td>\n",
              "      <td>NaN</td>\n",
              "      <td>NaN</td>\n",
              "      <td>NaN</td>\n",
              "      <td>NaN</td>\n",
              "      <td>4.0</td>\n",
              "      <td>NaN</td>\n",
              "      <td>NaN</td>\n",
              "      <td>NaN</td>\n",
              "      <td>NaN</td>\n",
              "      <td>...</td>\n",
              "      <td>NaN</td>\n",
              "      <td>NaN</td>\n",
              "      <td>NaN</td>\n",
              "      <td>NaN</td>\n",
              "      <td>NaN</td>\n",
              "      <td>NaN</td>\n",
              "      <td>NaN</td>\n",
              "      <td>NaN</td>\n",
              "      <td>NaN</td>\n",
              "      <td>NaN</td>\n",
              "    </tr>\n",
              "    <tr>\n",
              "      <th>6.0</th>\n",
              "      <td>2.0</td>\n",
              "      <td>NaN</td>\n",
              "      <td>NaN</td>\n",
              "      <td>NaN</td>\n",
              "      <td>NaN</td>\n",
              "      <td>NaN</td>\n",
              "      <td>NaN</td>\n",
              "      <td>NaN</td>\n",
              "      <td>NaN</td>\n",
              "      <td>NaN</td>\n",
              "      <td>...</td>\n",
              "      <td>NaN</td>\n",
              "      <td>NaN</td>\n",
              "      <td>NaN</td>\n",
              "      <td>NaN</td>\n",
              "      <td>NaN</td>\n",
              "      <td>NaN</td>\n",
              "      <td>NaN</td>\n",
              "      <td>NaN</td>\n",
              "      <td>NaN</td>\n",
              "      <td>NaN</td>\n",
              "    </tr>\n",
              "    <tr>\n",
              "      <th>8.0</th>\n",
              "      <td>NaN</td>\n",
              "      <td>NaN</td>\n",
              "      <td>NaN</td>\n",
              "      <td>NaN</td>\n",
              "      <td>NaN</td>\n",
              "      <td>5.0</td>\n",
              "      <td>NaN</td>\n",
              "      <td>NaN</td>\n",
              "      <td>NaN</td>\n",
              "      <td>NaN</td>\n",
              "      <td>...</td>\n",
              "      <td>NaN</td>\n",
              "      <td>NaN</td>\n",
              "      <td>NaN</td>\n",
              "      <td>NaN</td>\n",
              "      <td>NaN</td>\n",
              "      <td>NaN</td>\n",
              "      <td>NaN</td>\n",
              "      <td>NaN</td>\n",
              "      <td>NaN</td>\n",
              "      <td>NaN</td>\n",
              "    </tr>\n",
              "    <tr>\n",
              "      <th>9.0</th>\n",
              "      <td>NaN</td>\n",
              "      <td>NaN</td>\n",
              "      <td>NaN</td>\n",
              "      <td>NaN</td>\n",
              "      <td>NaN</td>\n",
              "      <td>NaN</td>\n",
              "      <td>NaN</td>\n",
              "      <td>NaN</td>\n",
              "      <td>NaN</td>\n",
              "      <td>NaN</td>\n",
              "      <td>...</td>\n",
              "      <td>NaN</td>\n",
              "      <td>NaN</td>\n",
              "      <td>NaN</td>\n",
              "      <td>NaN</td>\n",
              "      <td>NaN</td>\n",
              "      <td>NaN</td>\n",
              "      <td>NaN</td>\n",
              "      <td>NaN</td>\n",
              "      <td>NaN</td>\n",
              "      <td>NaN</td>\n",
              "    </tr>\n",
              "    <tr>\n",
              "      <th>11.0</th>\n",
              "      <td>NaN</td>\n",
              "      <td>NaN</td>\n",
              "      <td>NaN</td>\n",
              "      <td>NaN</td>\n",
              "      <td>3.0</td>\n",
              "      <td>NaN</td>\n",
              "      <td>NaN</td>\n",
              "      <td>NaN</td>\n",
              "      <td>NaN</td>\n",
              "      <td>NaN</td>\n",
              "      <td>...</td>\n",
              "      <td>NaN</td>\n",
              "      <td>NaN</td>\n",
              "      <td>NaN</td>\n",
              "      <td>NaN</td>\n",
              "      <td>NaN</td>\n",
              "      <td>NaN</td>\n",
              "      <td>NaN</td>\n",
              "      <td>NaN</td>\n",
              "      <td>NaN</td>\n",
              "      <td>NaN</td>\n",
              "    </tr>\n",
              "    <tr>\n",
              "      <th>...</th>\n",
              "      <td>...</td>\n",
              "      <td>...</td>\n",
              "      <td>...</td>\n",
              "      <td>...</td>\n",
              "      <td>...</td>\n",
              "      <td>...</td>\n",
              "      <td>...</td>\n",
              "      <td>...</td>\n",
              "      <td>...</td>\n",
              "      <td>...</td>\n",
              "      <td>...</td>\n",
              "      <td>...</td>\n",
              "      <td>...</td>\n",
              "      <td>...</td>\n",
              "      <td>...</td>\n",
              "      <td>...</td>\n",
              "      <td>...</td>\n",
              "      <td>...</td>\n",
              "      <td>...</td>\n",
              "      <td>...</td>\n",
              "      <td>...</td>\n",
              "    </tr>\n",
              "    <tr>\n",
              "      <th>15037.0</th>\n",
              "      <td>NaN</td>\n",
              "      <td>NaN</td>\n",
              "      <td>NaN</td>\n",
              "      <td>NaN</td>\n",
              "      <td>NaN</td>\n",
              "      <td>NaN</td>\n",
              "      <td>NaN</td>\n",
              "      <td>NaN</td>\n",
              "      <td>NaN</td>\n",
              "      <td>NaN</td>\n",
              "      <td>...</td>\n",
              "      <td>NaN</td>\n",
              "      <td>NaN</td>\n",
              "      <td>NaN</td>\n",
              "      <td>4072.0</td>\n",
              "      <td>NaN</td>\n",
              "      <td>NaN</td>\n",
              "      <td>NaN</td>\n",
              "      <td>NaN</td>\n",
              "      <td>NaN</td>\n",
              "      <td>NaN</td>\n",
              "    </tr>\n",
              "    <tr>\n",
              "      <th>15507.0</th>\n",
              "      <td>NaN</td>\n",
              "      <td>NaN</td>\n",
              "      <td>NaN</td>\n",
              "      <td>NaN</td>\n",
              "      <td>NaN</td>\n",
              "      <td>NaN</td>\n",
              "      <td>NaN</td>\n",
              "      <td>NaN</td>\n",
              "      <td>NaN</td>\n",
              "      <td>NaN</td>\n",
              "      <td>...</td>\n",
              "      <td>NaN</td>\n",
              "      <td>NaN</td>\n",
              "      <td>NaN</td>\n",
              "      <td>NaN</td>\n",
              "      <td>NaN</td>\n",
              "      <td>NaN</td>\n",
              "      <td>NaN</td>\n",
              "      <td>5050.0</td>\n",
              "      <td>NaN</td>\n",
              "      <td>NaN</td>\n",
              "    </tr>\n",
              "    <tr>\n",
              "      <th>16122.0</th>\n",
              "      <td>NaN</td>\n",
              "      <td>NaN</td>\n",
              "      <td>NaN</td>\n",
              "      <td>NaN</td>\n",
              "      <td>NaN</td>\n",
              "      <td>NaN</td>\n",
              "      <td>NaN</td>\n",
              "      <td>NaN</td>\n",
              "      <td>NaN</td>\n",
              "      <td>NaN</td>\n",
              "      <td>...</td>\n",
              "      <td>NaN</td>\n",
              "      <td>NaN</td>\n",
              "      <td>NaN</td>\n",
              "      <td>NaN</td>\n",
              "      <td>NaN</td>\n",
              "      <td>NaN</td>\n",
              "      <td>NaN</td>\n",
              "      <td>NaN</td>\n",
              "      <td>NaN</td>\n",
              "      <td>5189.0</td>\n",
              "    </tr>\n",
              "    <tr>\n",
              "      <th>28566.0</th>\n",
              "      <td>NaN</td>\n",
              "      <td>NaN</td>\n",
              "      <td>NaN</td>\n",
              "      <td>NaN</td>\n",
              "      <td>NaN</td>\n",
              "      <td>NaN</td>\n",
              "      <td>NaN</td>\n",
              "      <td>NaN</td>\n",
              "      <td>NaN</td>\n",
              "      <td>NaN</td>\n",
              "      <td>...</td>\n",
              "      <td>NaN</td>\n",
              "      <td>NaN</td>\n",
              "      <td>NaN</td>\n",
              "      <td>NaN</td>\n",
              "      <td>NaN</td>\n",
              "      <td>NaN</td>\n",
              "      <td>NaN</td>\n",
              "      <td>NaN</td>\n",
              "      <td>6082.0</td>\n",
              "      <td>NaN</td>\n",
              "    </tr>\n",
              "    <tr>\n",
              "      <th>35682.0</th>\n",
              "      <td>NaN</td>\n",
              "      <td>NaN</td>\n",
              "      <td>NaN</td>\n",
              "      <td>NaN</td>\n",
              "      <td>NaN</td>\n",
              "      <td>NaN</td>\n",
              "      <td>NaN</td>\n",
              "      <td>NaN</td>\n",
              "      <td>NaN</td>\n",
              "      <td>NaN</td>\n",
              "      <td>...</td>\n",
              "      <td>NaN</td>\n",
              "      <td>NaN</td>\n",
              "      <td>NaN</td>\n",
              "      <td>NaN</td>\n",
              "      <td>NaN</td>\n",
              "      <td>NaN</td>\n",
              "      <td>NaN</td>\n",
              "      <td>NaN</td>\n",
              "      <td>NaN</td>\n",
              "      <td>NaN</td>\n",
              "    </tr>\n",
              "  </tbody>\n",
              "</table>\n",
              "<p>3683 rows × 5533 columns</p>\n",
              "</div>\n",
              "      <button class=\"colab-df-convert\" onclick=\"convertToInteractive('df-84efca70-302d-4623-a6fe-b7aa7f76e311')\"\n",
              "              title=\"Convert this dataframe to an interactive table.\"\n",
              "              style=\"display:none;\">\n",
              "        \n",
              "  <svg xmlns=\"http://www.w3.org/2000/svg\" height=\"24px\"viewBox=\"0 0 24 24\"\n",
              "       width=\"24px\">\n",
              "    <path d=\"M0 0h24v24H0V0z\" fill=\"none\"/>\n",
              "    <path d=\"M18.56 5.44l.94 2.06.94-2.06 2.06-.94-2.06-.94-.94-2.06-.94 2.06-2.06.94zm-11 1L8.5 8.5l.94-2.06 2.06-.94-2.06-.94L8.5 2.5l-.94 2.06-2.06.94zm10 10l.94 2.06.94-2.06 2.06-.94-2.06-.94-.94-2.06-.94 2.06-2.06.94z\"/><path d=\"M17.41 7.96l-1.37-1.37c-.4-.4-.92-.59-1.43-.59-.52 0-1.04.2-1.43.59L10.3 9.45l-7.72 7.72c-.78.78-.78 2.05 0 2.83L4 21.41c.39.39.9.59 1.41.59.51 0 1.02-.2 1.41-.59l7.78-7.78 2.81-2.81c.8-.78.8-2.07 0-2.86zM5.41 20L4 18.59l7.72-7.72 1.47 1.35L5.41 20z\"/>\n",
              "  </svg>\n",
              "      </button>\n",
              "      \n",
              "  <style>\n",
              "    .colab-df-container {\n",
              "      display:flex;\n",
              "      flex-wrap:wrap;\n",
              "      gap: 12px;\n",
              "    }\n",
              "\n",
              "    .colab-df-convert {\n",
              "      background-color: #E8F0FE;\n",
              "      border: none;\n",
              "      border-radius: 50%;\n",
              "      cursor: pointer;\n",
              "      display: none;\n",
              "      fill: #1967D2;\n",
              "      height: 32px;\n",
              "      padding: 0 0 0 0;\n",
              "      width: 32px;\n",
              "    }\n",
              "\n",
              "    .colab-df-convert:hover {\n",
              "      background-color: #E2EBFA;\n",
              "      box-shadow: 0px 1px 2px rgba(60, 64, 67, 0.3), 0px 1px 3px 1px rgba(60, 64, 67, 0.15);\n",
              "      fill: #174EA6;\n",
              "    }\n",
              "\n",
              "    [theme=dark] .colab-df-convert {\n",
              "      background-color: #3B4455;\n",
              "      fill: #D2E3FC;\n",
              "    }\n",
              "\n",
              "    [theme=dark] .colab-df-convert:hover {\n",
              "      background-color: #434B5C;\n",
              "      box-shadow: 0px 1px 3px 1px rgba(0, 0, 0, 0.15);\n",
              "      filter: drop-shadow(0px 1px 2px rgba(0, 0, 0, 0.3));\n",
              "      fill: #FFFFFF;\n",
              "    }\n",
              "  </style>\n",
              "\n",
              "      <script>\n",
              "        const buttonEl =\n",
              "          document.querySelector('#df-84efca70-302d-4623-a6fe-b7aa7f76e311 button.colab-df-convert');\n",
              "        buttonEl.style.display =\n",
              "          google.colab.kernel.accessAllowed ? 'block' : 'none';\n",
              "\n",
              "        async function convertToInteractive(key) {\n",
              "          const element = document.querySelector('#df-84efca70-302d-4623-a6fe-b7aa7f76e311');\n",
              "          const dataTable =\n",
              "            await google.colab.kernel.invokeFunction('convertToInteractive',\n",
              "                                                     [key], {});\n",
              "          if (!dataTable) return;\n",
              "\n",
              "          const docLinkHtml = 'Like what you see? Visit the ' +\n",
              "            '<a target=\"_blank\" href=https://colab.research.google.com/notebooks/data_table.ipynb>data table notebook</a>'\n",
              "            + ' to learn more about interactive tables.';\n",
              "          element.innerHTML = '';\n",
              "          dataTable['output_type'] = 'display_data';\n",
              "          await google.colab.output.renderOutput(dataTable, element);\n",
              "          const docLink = document.createElement('div');\n",
              "          docLink.innerHTML = docLinkHtml;\n",
              "          element.appendChild(docLink);\n",
              "        }\n",
              "      </script>\n",
              "    </div>\n",
              "  </div>\n",
              "  "
            ]
          },
          "metadata": {},
          "execution_count": 194
        }
      ]
    },
    {
      "cell_type": "markdown",
      "source": [
        "# **VISUALISASI DATA**\n",
        "\n",
        "- Membuat Plot: plt, sns\n",
        "- Mengedit Plot\n"
      ],
      "metadata": {
        "id": "vN2EoOLaUqrP"
      }
    },
    {
      "cell_type": "code",
      "source": [
        "import matplotlib.pyplot as plt\n",
        "import seaborn as sns"
      ],
      "metadata": {
        "id": "GR789ff8UxGr"
      },
      "execution_count": null,
      "outputs": []
    },
    {
      "cell_type": "markdown",
      "source": [
        "## Membuat Plot\n",
        "- plt: Line plot, Scatterplot, Histogram\n",
        "- sns: Scatterplot"
      ],
      "metadata": {
        "id": "YPsLMDifWrTi"
      }
    },
    {
      "cell_type": "markdown",
      "source": [
        "### Using **Matplotlib.pyplot**"
      ],
      "metadata": {
        "id": "3Nzu4j3LUfEP"
      }
    },
    {
      "cell_type": "markdown",
      "source": [
        "##### Line Plot \n",
        "plt**.plot(x,y)**"
      ],
      "metadata": {
        "id": "hs9KbQfdWtyW"
      }
    },
    {
      "cell_type": "code",
      "source": [
        "x = [1,2,3,4,5]\n",
        "y = [2,4,6,8,10]"
      ],
      "metadata": {
        "id": "j727kQgDW_Ys"
      },
      "execution_count": null,
      "outputs": []
    },
    {
      "cell_type": "code",
      "source": [
        "plt.plot(x,y)\n",
        "plt.show()"
      ],
      "metadata": {
        "colab": {
          "base_uri": "https://localhost:8080/"
        },
        "id": "SMcBtUvrXIs1",
        "outputId": "4ce0c71b-a528-4507-9c98-dcfc6aa3d745"
      },
      "execution_count": null,
      "outputs": [
        {
          "output_type": "display_data",
          "data": {
            "text/plain": [
              "<Figure size 432x288 with 1 Axes>"
            ],
            "image/png": "[encoded data removed]"
          },
          "metadata": {
            "needs_background": "light"
          }
        }
      ]
    },
    {
      "cell_type": "markdown",
      "source": [
        "##### Scatterplot\n",
        "plt**.scatter(x,y)**"
      ],
      "metadata": {
        "id": "sgJ-HYpvWzcl"
      }
    },
    {
      "cell_type": "code",
      "source": [
        "x = [1,2,3,4,5]\n",
        "y = [2,4,6,8,10]"
      ],
      "metadata": {
        "id": "x8XuF8M2Xxh1"
      },
      "execution_count": null,
      "outputs": []
    },
    {
      "cell_type": "code",
      "source": [
        "plt.scatter(x,y)\n",
        "plt.show()"
      ],
      "metadata": {
        "colab": {
          "base_uri": "https://localhost:8080/",
          "height": 265
        },
        "id": "OVm_D1WiXy5h",
        "outputId": "a2a1ca65-7e51-43fe-d432-b3e1fef946bd"
      },
      "execution_count": null,
      "outputs": [
        {
          "output_type": "display_data",
          "data": {
            "text/plain": [
              "<Figure size 432x288 with 1 Axes>"
            ],
            "image/png": "[encoded data removed]"
          },
          "metadata": {
            "needs_background": "light"
          }
        }
      ]
    },
    {
      "cell_type": "markdown",
      "source": [
        "##### Histogram \n",
        "plt**.hist(x, bins=n)**\n",
        "\n",
        "n = jumlah batang"
      ],
      "metadata": {
        "id": "wu7cpFhRW4JD"
      }
    },
    {
      "cell_type": "code",
      "source": [
        "x = [10,10,10,20,20,30,30,50,60,60,60,80]"
      ],
      "metadata": {
        "id": "h2Oix4PXYFjh"
      },
      "execution_count": null,
      "outputs": []
    },
    {
      "cell_type": "code",
      "source": [
        "plt.hist(x,bins=8)"
      ],
      "metadata": {
        "colab": {
          "base_uri": "https://localhost:8080/",
          "height": 317
        },
        "id": "SgFOMYP3YMox",
        "outputId": "935eb3c5-bb11-4c18-c073-b4a0440432a0"
      },
      "execution_count": null,
      "outputs": [
        {
          "output_type": "execute_result",
          "data": {
            "text/plain": [
              "(array([3., 2., 2., 0., 1., 3., 0., 1.]),\n",
              " array([10.  , 18.75, 27.5 , 36.25, 45.  , 53.75, 62.5 , 71.25, 80.  ]),\n",
              " <a list of 8 Patch objects>)"
            ]
          },
          "metadata": {},
          "execution_count": 204
        },
        {
          "output_type": "display_data",
          "data": {
            "text/plain": [
              "<Figure size 432x288 with 1 Axes>"
            ],
            "image/png": "[encoded data removed]"
          },
          "metadata": {
            "needs_background": "light"
          }
        }
      ]
    },
    {
      "cell_type": "markdown",
      "source": [
        "### Using **Seaborn**\n",
        "biasanya untuk dataframe atau pivot table\n",
        "\n",
        "\n",
        "\n"
      ],
      "metadata": {
        "id": "3SUT91TeUo83"
      }
    },
    {
      "cell_type": "markdown",
      "source": [
        "##### Scatterplot"
      ],
      "metadata": {
        "id": "6kMy67-8UxkL"
      }
    },
    {
      "cell_type": "code",
      "source": [
        "sns.scatterplot(data = housing, x='population', y='total_rooms', hue='median_income')\n",
        "plt.show()"
      ],
      "metadata": {
        "colab": {
          "base_uri": "https://localhost:8080/",
          "height": 279
        },
        "id": "3wo_W3M-VGO0",
        "outputId": "62af2296-bd56-4596-b593-1babdb7f2409"
      },
      "execution_count": null,
      "outputs": [
        {
          "output_type": "display_data",
          "data": {
            "text/plain": [
              "<Figure size 432x288 with 1 Axes>"
            ],
            "image/png": "[encoded data removed]"
          },
          "metadata": {
            "needs_background": "light"
          }
        }
      ]
    },
    {
      "cell_type": "code",
      "source": [
        ""
      ],
      "metadata": {
        "id": "mgkZABnEUw4Y"
      },
      "execution_count": null,
      "outputs": []
    },
    {
      "cell_type": "markdown",
      "source": [
        "## Mengedit Plot"
      ],
      "metadata": {
        "id": "zKdvF1_gYrXo"
      }
    },
    {
      "cell_type": "markdown",
      "source": [
        "##### Judul Plot\n",
        "plt**.title(\"judul\", size= n, color= 'color')**"
      ],
      "metadata": {
        "id": "7Y4M0ZDLY6Y_"
      }
    },
    {
      "cell_type": "code",
      "source": [
        "x = [1,2,3,4,5]\n",
        "y = [2,4,6,8,10]\n",
        "plt.scatter(x,y)\n",
        "plt.title('Scatterplot', size=20, color='blue')\n",
        "plt.show()"
      ],
      "metadata": {
        "colab": {
          "base_uri": "https://localhost:8080/"
        },
        "id": "YtGYny7cYvt7",
        "outputId": "663a7cbb-eeb7-4e05-ad29-08bfab1f6a1d"
      },
      "execution_count": null,
      "outputs": [
        {
          "output_type": "display_data",
          "data": {
            "text/plain": [
              "<Figure size 432x288 with 1 Axes>"
            ],
            "image/png": "[encoded data removed]"
          },
          "metadata": {
            "needs_background": "light"
          }
        }
      ]
    },
    {
      "cell_type": "markdown",
      "source": [
        "##### Label x-axis dan y-axis\n",
        "plt**.xlabel('label')**"
      ],
      "metadata": {
        "id": "jwJpnNrUZnl3"
      }
    },
    {
      "cell_type": "code",
      "source": [
        "x = [1,2,3,4,5]\n",
        "y = [2,4,6,8,10]\n",
        "plt.scatter(x,y)\n",
        "plt.title('Scatterplot', size=20, color='blue')\n",
        "plt.xlabel('x')\n",
        "plt.ylabel('y')\n",
        "plt.show()"
      ],
      "metadata": {
        "colab": {
          "base_uri": "https://localhost:8080/"
        },
        "id": "7-uo26oRZvhw",
        "outputId": "8c886b1d-ded1-49a0-dfea-5881bfbb97da"
      },
      "execution_count": null,
      "outputs": [
        {
          "output_type": "display_data",
          "data": {
            "text/plain": [
              "<Figure size 432x288 with 1 Axes>"
            ],
            "image/png": "[encoded data removed]"
          },
          "metadata": {
            "needs_background": "light"
          }
        }
      ]
    },
    {
      "cell_type": "markdown",
      "source": [
        "##### Nilai di x-axis dan y-axis\n",
        "plt**.yticks([1,2,dll])**"
      ],
      "metadata": {
        "id": "FdO4-fhXaA8k"
      }
    },
    {
      "cell_type": "code",
      "source": [
        "x = [1,2,3,4,5]\n",
        "y = [2,4,6,8,10]\n",
        "plt.scatter(x,y)\n",
        "plt.title('Scatterplot', size=20, color='blue')\n",
        "plt.xticks(x)\n",
        "plt.yticks([2,4,6,8,10,12])\n",
        "plt.show()"
      ],
      "metadata": {
        "colab": {
          "base_uri": "https://localhost:8080/",
          "height": 286
        },
        "id": "jdXedXD_ZvpZ",
        "outputId": "a4e2ca59-f735-42a4-95bf-dba64504d0ce"
      },
      "execution_count": null,
      "outputs": [
        {
          "output_type": "display_data",
          "data": {
            "text/plain": [
              "<Figure size 432x288 with 1 Axes>"
            ],
            "image/png": "[encoded data removed]"
          },
          "metadata": {
            "needs_background": "light"
          }
        }
      ]
    },
    {
      "cell_type": "markdown",
      "source": [
        "# **DATA PREPARATION**\n",
        "- Join Data: concat, merge, join\n",
        "- Drop & Duplicate\n",
        "- Missing Value\n",
        "- Outlier"
      ],
      "metadata": {
        "id": "pTPzl62CZD4c"
      }
    },
    {
      "cell_type": "markdown",
      "source": [
        "## Join Data"
      ],
      "metadata": {
        "id": "ZfccPe9TaB6Y"
      }
    },
    {
      "cell_type": "markdown",
      "source": [
        "### Subsetting"
      ],
      "metadata": {
        "id": "bAsT6GIH-KYO"
      }
    },
    {
      "cell_type": "code",
      "source": [
        "import pandas as pd\n",
        "import numpy as np"
      ],
      "metadata": {
        "id": "5TDG6JynBBd_"
      },
      "execution_count": 56,
      "outputs": []
    },
    {
      "cell_type": "code",
      "source": [
        "titanic = pd.read_csv('/titanic.csv')\n",
        "titanic.head()"
      ],
      "metadata": {
        "colab": {
          "base_uri": "https://localhost:8080/",
          "height": 302
        },
        "id": "804ZVywW4aHF",
        "outputId": "401c57f8-f6f6-40d8-c70f-55c6af3438b1"
      },
      "execution_count": 57,
      "outputs": [
        {
          "output_type": "execute_result",
          "data": {
            "text/plain": [
              "   PassengerId  Survived  Pclass  \\\n",
              "0            1         0       3   \n",
              "1            2         1       1   \n",
              "2            3         1       3   \n",
              "3            4         1       1   \n",
              "4            5         0       3   \n",
              "\n",
              "                                                Name     Sex   Age  SibSp  \\\n",
              "0                            Braund, Mr. Owen Harris    male  22.0      1   \n",
              "1  Cumings, Mrs. John Bradley (Florence Briggs Th...  female  38.0      1   \n",
              "2                             Heikkinen, Miss. Laina  female  26.0      0   \n",
              "3       Futrelle, Mrs. Jacques Heath (Lily May Peel)  female  35.0      1   \n",
              "4                           Allen, Mr. William Henry    male  35.0      0   \n",
              "\n",
              "   Parch            Ticket     Fare Cabin Embarked  \n",
              "0      0         A/5 21171   7.2500   NaN        S  \n",
              "1      0          PC 17599  71.2833   C85        C  \n",
              "2      0  STON/O2. 3101282   7.9250   NaN        S  \n",
              "3      0            113803  53.1000  C123        S  \n",
              "4      0            373450   8.0500   NaN        S  "
            ],
            "text/html": [
              "\n",
              "  <div id=\"df-7ecae081-da27-4c37-8a0d-877b8a3756c1\">\n",
              "    <div class=\"colab-df-container\">\n",
              "      <div>\n",
              "<style scoped>\n",
              "    .dataframe tbody tr th:only-of-type {\n",
              "        vertical-align: middle;\n",
              "    }\n",
              "\n",
              "    .dataframe tbody tr th {\n",
              "        vertical-align: top;\n",
              "    }\n",
              "\n",
              "    .dataframe thead th {\n",
              "        text-align: right;\n",
              "    }\n",
              "</style>\n",
              "<table border=\"1\" class=\"dataframe\">\n",
              "  <thead>\n",
              "    <tr style=\"text-align: right;\">\n",
              "      <th></th>\n",
              "      <th>PassengerId</th>\n",
              "      <th>Survived</th>\n",
              "      <th>Pclass</th>\n",
              "      <th>Name</th>\n",
              "      <th>Sex</th>\n",
              "      <th>Age</th>\n",
              "      <th>SibSp</th>\n",
              "      <th>Parch</th>\n",
              "      <th>Ticket</th>\n",
              "      <th>Fare</th>\n",
              "      <th>Cabin</th>\n",
              "      <th>Embarked</th>\n",
              "    </tr>\n",
              "  </thead>\n",
              "  <tbody>\n",
              "    <tr>\n",
              "      <th>0</th>\n",
              "      <td>1</td>\n",
              "      <td>0</td>\n",
              "      <td>3</td>\n",
              "      <td>Braund, Mr. Owen Harris</td>\n",
              "      <td>male</td>\n",
              "      <td>22.0</td>\n",
              "      <td>1</td>\n",
              "      <td>0</td>\n",
              "      <td>A/5 21171</td>\n",
              "      <td>7.2500</td>\n",
              "      <td>NaN</td>\n",
              "      <td>S</td>\n",
              "    </tr>\n",
              "    <tr>\n",
              "      <th>1</th>\n",
              "      <td>2</td>\n",
              "      <td>1</td>\n",
              "      <td>1</td>\n",
              "      <td>Cumings, Mrs. John Bradley (Florence Briggs Th...</td>\n",
              "      <td>female</td>\n",
              "      <td>38.0</td>\n",
              "      <td>1</td>\n",
              "      <td>0</td>\n",
              "      <td>PC 17599</td>\n",
              "      <td>71.2833</td>\n",
              "      <td>C85</td>\n",
              "      <td>C</td>\n",
              "    </tr>\n",
              "    <tr>\n",
              "      <th>2</th>\n",
              "      <td>3</td>\n",
              "      <td>1</td>\n",
              "      <td>3</td>\n",
              "      <td>Heikkinen, Miss. Laina</td>\n",
              "      <td>female</td>\n",
              "      <td>26.0</td>\n",
              "      <td>0</td>\n",
              "      <td>0</td>\n",
              "      <td>STON/O2. 3101282</td>\n",
              "      <td>7.9250</td>\n",
              "      <td>NaN</td>\n",
              "      <td>S</td>\n",
              "    </tr>\n",
              "    <tr>\n",
              "      <th>3</th>\n",
              "      <td>4</td>\n",
              "      <td>1</td>\n",
              "      <td>1</td>\n",
              "      <td>Futrelle, Mrs. Jacques Heath (Lily May Peel)</td>\n",
              "      <td>female</td>\n",
              "      <td>35.0</td>\n",
              "      <td>1</td>\n",
              "      <td>0</td>\n",
              "      <td>113803</td>\n",
              "      <td>53.1000</td>\n",
              "      <td>C123</td>\n",
              "      <td>S</td>\n",
              "    </tr>\n",
              "    <tr>\n",
              "      <th>4</th>\n",
              "      <td>5</td>\n",
              "      <td>0</td>\n",
              "      <td>3</td>\n",
              "      <td>Allen, Mr. William Henry</td>\n",
              "      <td>male</td>\n",
              "      <td>35.0</td>\n",
              "      <td>0</td>\n",
              "      <td>0</td>\n",
              "      <td>373450</td>\n",
              "      <td>8.0500</td>\n",
              "      <td>NaN</td>\n",
              "      <td>S</td>\n",
              "    </tr>\n",
              "  </tbody>\n",
              "</table>\n",
              "</div>\n",
              "      <button class=\"colab-df-convert\" onclick=\"convertToInteractive('df-7ecae081-da27-4c37-8a0d-877b8a3756c1')\"\n",
              "              title=\"Convert this dataframe to an interactive table.\"\n",
              "              style=\"display:none;\">\n",
              "        \n",
              "  <svg xmlns=\"http://www.w3.org/2000/svg\" height=\"24px\"viewBox=\"0 0 24 24\"\n",
              "       width=\"24px\">\n",
              "    <path d=\"M0 0h24v24H0V0z\" fill=\"none\"/>\n",
              "    <path d=\"M18.56 5.44l.94 2.06.94-2.06 2.06-.94-2.06-.94-.94-2.06-.94 2.06-2.06.94zm-11 1L8.5 8.5l.94-2.06 2.06-.94-2.06-.94L8.5 2.5l-.94 2.06-2.06.94zm10 10l.94 2.06.94-2.06 2.06-.94-2.06-.94-.94-2.06-.94 2.06-2.06.94z\"/><path d=\"M17.41 7.96l-1.37-1.37c-.4-.4-.92-.59-1.43-.59-.52 0-1.04.2-1.43.59L10.3 9.45l-7.72 7.72c-.78.78-.78 2.05 0 2.83L4 21.41c.39.39.9.59 1.41.59.51 0 1.02-.2 1.41-.59l7.78-7.78 2.81-2.81c.8-.78.8-2.07 0-2.86zM5.41 20L4 18.59l7.72-7.72 1.47 1.35L5.41 20z\"/>\n",
              "  </svg>\n",
              "      </button>\n",
              "      \n",
              "  <style>\n",
              "    .colab-df-container {\n",
              "      display:flex;\n",
              "      flex-wrap:wrap;\n",
              "      gap: 12px;\n",
              "    }\n",
              "\n",
              "    .colab-df-convert {\n",
              "      background-color: #E8F0FE;\n",
              "      border: none;\n",
              "      border-radius: 50%;\n",
              "      cursor: pointer;\n",
              "      display: none;\n",
              "      fill: #1967D2;\n",
              "      height: 32px;\n",
              "      padding: 0 0 0 0;\n",
              "      width: 32px;\n",
              "    }\n",
              "\n",
              "    .colab-df-convert:hover {\n",
              "      background-color: #E2EBFA;\n",
              "      box-shadow: 0px 1px 2px rgba(60, 64, 67, 0.3), 0px 1px 3px 1px rgba(60, 64, 67, 0.15);\n",
              "      fill: #174EA6;\n",
              "    }\n",
              "\n",
              "    [theme=dark] .colab-df-convert {\n",
              "      background-color: #3B4455;\n",
              "      fill: #D2E3FC;\n",
              "    }\n",
              "\n",
              "    [theme=dark] .colab-df-convert:hover {\n",
              "      background-color: #434B5C;\n",
              "      box-shadow: 0px 1px 3px 1px rgba(0, 0, 0, 0.15);\n",
              "      filter: drop-shadow(0px 1px 2px rgba(0, 0, 0, 0.3));\n",
              "      fill: #FFFFFF;\n",
              "    }\n",
              "  </style>\n",
              "\n",
              "      <script>\n",
              "        const buttonEl =\n",
              "          document.querySelector('#df-7ecae081-da27-4c37-8a0d-877b8a3756c1 button.colab-df-convert');\n",
              "        buttonEl.style.display =\n",
              "          google.colab.kernel.accessAllowed ? 'block' : 'none';\n",
              "\n",
              "        async function convertToInteractive(key) {\n",
              "          const element = document.querySelector('#df-7ecae081-da27-4c37-8a0d-877b8a3756c1');\n",
              "          const dataTable =\n",
              "            await google.colab.kernel.invokeFunction('convertToInteractive',\n",
              "                                                     [key], {});\n",
              "          if (!dataTable) return;\n",
              "\n",
              "          const docLinkHtml = 'Like what you see? Visit the ' +\n",
              "            '<a target=\"_blank\" href=https://colab.research.google.com/notebooks/data_table.ipynb>data table notebook</a>'\n",
              "            + ' to learn more about interactive tables.';\n",
              "          element.innerHTML = '';\n",
              "          dataTable['output_type'] = 'display_data';\n",
              "          await google.colab.output.renderOutput(dataTable, element);\n",
              "          const docLink = document.createElement('div');\n",
              "          docLink.innerHTML = docLinkHtml;\n",
              "          element.appendChild(docLink);\n",
              "        }\n",
              "      </script>\n",
              "    </div>\n",
              "  </div>\n",
              "  "
            ]
          },
          "metadata": {},
          "execution_count": 57
        }
      ]
    },
    {
      "cell_type": "code",
      "source": [
        "titanic.shape"
      ],
      "metadata": {
        "colab": {
          "base_uri": "https://localhost:8080/"
        },
        "id": "N1GulgZ36AhD",
        "outputId": "d5e2dd66-5053-4c0a-ed0c-363ba83b4ff4"
      },
      "execution_count": 58,
      "outputs": [
        {
          "output_type": "execute_result",
          "data": {
            "text/plain": [
              "(891, 12)"
            ]
          },
          "metadata": {},
          "execution_count": 58
        }
      ]
    },
    {
      "cell_type": "markdown",
      "metadata": {
        "id": "97e2e8c7-72c8-4822-b167-7db9b4918a84"
      },
      "source": [
        "Instruksi:\n",
        "\n",
        "buat 2 subset df\n",
        "\n",
        "1. titanic1/df1 = df yasng include row 1-10\n",
        "2. titanic2/df2 = df yang include row 11-20\n",
        "\n",
        "buat 2 subset df1\n",
        "3. titanic3/dfa = df1 yang include row 1-7 kolom 1-6\n",
        "4. titanic4/dfb = df1 yang include row 4-10 kolom 1 dan 7-12\n",
        "\n",
        "print df1, df2, dfa, dfb"
      ]
    },
    {
      "cell_type": "code",
      "source": [
        "titanic1 = titanic.iloc[:10]\n",
        "titanic1"
      ],
      "metadata": {
        "colab": {
          "base_uri": "https://localhost:8080/",
          "height": 494
        },
        "id": "xCdoM3Jz6DZq",
        "outputId": "cbfa8b13-8f2c-4c5a-8613-71f3ce57ecbc"
      },
      "execution_count": 59,
      "outputs": [
        {
          "output_type": "execute_result",
          "data": {
            "text/plain": [
              "   PassengerId  Survived  Pclass  \\\n",
              "0            1         0       3   \n",
              "1            2         1       1   \n",
              "2            3         1       3   \n",
              "3            4         1       1   \n",
              "4            5         0       3   \n",
              "5            6         0       3   \n",
              "6            7         0       1   \n",
              "7            8         0       3   \n",
              "8            9         1       3   \n",
              "9           10         1       2   \n",
              "\n",
              "                                                Name     Sex   Age  SibSp  \\\n",
              "0                            Braund, Mr. Owen Harris    male  22.0      1   \n",
              "1  Cumings, Mrs. John Bradley (Florence Briggs Th...  female  38.0      1   \n",
              "2                             Heikkinen, Miss. Laina  female  26.0      0   \n",
              "3       Futrelle, Mrs. Jacques Heath (Lily May Peel)  female  35.0      1   \n",
              "4                           Allen, Mr. William Henry    male  35.0      0   \n",
              "5                                   Moran, Mr. James    male   NaN      0   \n",
              "6                            McCarthy, Mr. Timothy J    male  54.0      0   \n",
              "7                     Palsson, Master. Gosta Leonard    male   2.0      3   \n",
              "8  Johnson, Mrs. Oscar W (Elisabeth Vilhelmina Berg)  female  27.0      0   \n",
              "9                Nasser, Mrs. Nicholas (Adele Achem)  female  14.0      1   \n",
              "\n",
              "   Parch            Ticket     Fare Cabin Embarked  \n",
              "0      0         A/5 21171   7.2500   NaN        S  \n",
              "1      0          PC 17599  71.2833   C85        C  \n",
              "2      0  STON/O2. 3101282   7.9250   NaN        S  \n",
              "3      0            113803  53.1000  C123        S  \n",
              "4      0            373450   8.0500   NaN        S  \n",
              "5      0            330877   8.4583   NaN        Q  \n",
              "6      0             17463  51.8625   E46        S  \n",
              "7      1            349909  21.0750   NaN        S  \n",
              "8      2            347742  11.1333   NaN        S  \n",
              "9      0            237736  30.0708   NaN        C  "
            ],
            "text/html": [
              "\n",
              "  <div id=\"df-7bf49289-3095-40f0-920d-36102738f1e7\">\n",
              "    <div class=\"colab-df-container\">\n",
              "      <div>\n",
              "<style scoped>\n",
              "    .dataframe tbody tr th:only-of-type {\n",
              "        vertical-align: middle;\n",
              "    }\n",
              "\n",
              "    .dataframe tbody tr th {\n",
              "        vertical-align: top;\n",
              "    }\n",
              "\n",
              "    .dataframe thead th {\n",
              "        text-align: right;\n",
              "    }\n",
              "</style>\n",
              "<table border=\"1\" class=\"dataframe\">\n",
              "  <thead>\n",
              "    <tr style=\"text-align: right;\">\n",
              "      <th></th>\n",
              "      <th>PassengerId</th>\n",
              "      <th>Survived</th>\n",
              "      <th>Pclass</th>\n",
              "      <th>Name</th>\n",
              "      <th>Sex</th>\n",
              "      <th>Age</th>\n",
              "      <th>SibSp</th>\n",
              "      <th>Parch</th>\n",
              "      <th>Ticket</th>\n",
              "      <th>Fare</th>\n",
              "      <th>Cabin</th>\n",
              "      <th>Embarked</th>\n",
              "    </tr>\n",
              "  </thead>\n",
              "  <tbody>\n",
              "    <tr>\n",
              "      <th>0</th>\n",
              "      <td>1</td>\n",
              "      <td>0</td>\n",
              "      <td>3</td>\n",
              "      <td>Braund, Mr. Owen Harris</td>\n",
              "      <td>male</td>\n",
              "      <td>22.0</td>\n",
              "      <td>1</td>\n",
              "      <td>0</td>\n",
              "      <td>A/5 21171</td>\n",
              "      <td>7.2500</td>\n",
              "      <td>NaN</td>\n",
              "      <td>S</td>\n",
              "    </tr>\n",
              "    <tr>\n",
              "      <th>1</th>\n",
              "      <td>2</td>\n",
              "      <td>1</td>\n",
              "      <td>1</td>\n",
              "      <td>Cumings, Mrs. John Bradley (Florence Briggs Th...</td>\n",
              "      <td>female</td>\n",
              "      <td>38.0</td>\n",
              "      <td>1</td>\n",
              "      <td>0</td>\n",
              "      <td>PC 17599</td>\n",
              "      <td>71.2833</td>\n",
              "      <td>C85</td>\n",
              "      <td>C</td>\n",
              "    </tr>\n",
              "    <tr>\n",
              "      <th>2</th>\n",
              "      <td>3</td>\n",
              "      <td>1</td>\n",
              "      <td>3</td>\n",
              "      <td>Heikkinen, Miss. Laina</td>\n",
              "      <td>female</td>\n",
              "      <td>26.0</td>\n",
              "      <td>0</td>\n",
              "      <td>0</td>\n",
              "      <td>STON/O2. 3101282</td>\n",
              "      <td>7.9250</td>\n",
              "      <td>NaN</td>\n",
              "      <td>S</td>\n",
              "    </tr>\n",
              "    <tr>\n",
              "      <th>3</th>\n",
              "      <td>4</td>\n",
              "      <td>1</td>\n",
              "      <td>1</td>\n",
              "      <td>Futrelle, Mrs. Jacques Heath (Lily May Peel)</td>\n",
              "      <td>female</td>\n",
              "      <td>35.0</td>\n",
              "      <td>1</td>\n",
              "      <td>0</td>\n",
              "      <td>113803</td>\n",
              "      <td>53.1000</td>\n",
              "      <td>C123</td>\n",
              "      <td>S</td>\n",
              "    </tr>\n",
              "    <tr>\n",
              "      <th>4</th>\n",
              "      <td>5</td>\n",
              "      <td>0</td>\n",
              "      <td>3</td>\n",
              "      <td>Allen, Mr. William Henry</td>\n",
              "      <td>male</td>\n",
              "      <td>35.0</td>\n",
              "      <td>0</td>\n",
              "      <td>0</td>\n",
              "      <td>373450</td>\n",
              "      <td>8.0500</td>\n",
              "      <td>NaN</td>\n",
              "      <td>S</td>\n",
              "    </tr>\n",
              "    <tr>\n",
              "      <th>5</th>\n",
              "      <td>6</td>\n",
              "      <td>0</td>\n",
              "      <td>3</td>\n",
              "      <td>Moran, Mr. James</td>\n",
              "      <td>male</td>\n",
              "      <td>NaN</td>\n",
              "      <td>0</td>\n",
              "      <td>0</td>\n",
              "      <td>330877</td>\n",
              "      <td>8.4583</td>\n",
              "      <td>NaN</td>\n",
              "      <td>Q</td>\n",
              "    </tr>\n",
              "    <tr>\n",
              "      <th>6</th>\n",
              "      <td>7</td>\n",
              "      <td>0</td>\n",
              "      <td>1</td>\n",
              "      <td>McCarthy, Mr. Timothy J</td>\n",
              "      <td>male</td>\n",
              "      <td>54.0</td>\n",
              "      <td>0</td>\n",
              "      <td>0</td>\n",
              "      <td>17463</td>\n",
              "      <td>51.8625</td>\n",
              "      <td>E46</td>\n",
              "      <td>S</td>\n",
              "    </tr>\n",
              "    <tr>\n",
              "      <th>7</th>\n",
              "      <td>8</td>\n",
              "      <td>0</td>\n",
              "      <td>3</td>\n",
              "      <td>Palsson, Master. Gosta Leonard</td>\n",
              "      <td>male</td>\n",
              "      <td>2.0</td>\n",
              "      <td>3</td>\n",
              "      <td>1</td>\n",
              "      <td>349909</td>\n",
              "      <td>21.0750</td>\n",
              "      <td>NaN</td>\n",
              "      <td>S</td>\n",
              "    </tr>\n",
              "    <tr>\n",
              "      <th>8</th>\n",
              "      <td>9</td>\n",
              "      <td>1</td>\n",
              "      <td>3</td>\n",
              "      <td>Johnson, Mrs. Oscar W (Elisabeth Vilhelmina Berg)</td>\n",
              "      <td>female</td>\n",
              "      <td>27.0</td>\n",
              "      <td>0</td>\n",
              "      <td>2</td>\n",
              "      <td>347742</td>\n",
              "      <td>11.1333</td>\n",
              "      <td>NaN</td>\n",
              "      <td>S</td>\n",
              "    </tr>\n",
              "    <tr>\n",
              "      <th>9</th>\n",
              "      <td>10</td>\n",
              "      <td>1</td>\n",
              "      <td>2</td>\n",
              "      <td>Nasser, Mrs. Nicholas (Adele Achem)</td>\n",
              "      <td>female</td>\n",
              "      <td>14.0</td>\n",
              "      <td>1</td>\n",
              "      <td>0</td>\n",
              "      <td>237736</td>\n",
              "      <td>30.0708</td>\n",
              "      <td>NaN</td>\n",
              "      <td>C</td>\n",
              "    </tr>\n",
              "  </tbody>\n",
              "</table>\n",
              "</div>\n",
              "      <button class=\"colab-df-convert\" onclick=\"convertToInteractive('df-7bf49289-3095-40f0-920d-36102738f1e7')\"\n",
              "              title=\"Convert this dataframe to an interactive table.\"\n",
              "              style=\"display:none;\">\n",
              "        \n",
              "  <svg xmlns=\"http://www.w3.org/2000/svg\" height=\"24px\"viewBox=\"0 0 24 24\"\n",
              "       width=\"24px\">\n",
              "    <path d=\"M0 0h24v24H0V0z\" fill=\"none\"/>\n",
              "    <path d=\"M18.56 5.44l.94 2.06.94-2.06 2.06-.94-2.06-.94-.94-2.06-.94 2.06-2.06.94zm-11 1L8.5 8.5l.94-2.06 2.06-.94-2.06-.94L8.5 2.5l-.94 2.06-2.06.94zm10 10l.94 2.06.94-2.06 2.06-.94-2.06-.94-.94-2.06-.94 2.06-2.06.94z\"/><path d=\"M17.41 7.96l-1.37-1.37c-.4-.4-.92-.59-1.43-.59-.52 0-1.04.2-1.43.59L10.3 9.45l-7.72 7.72c-.78.78-.78 2.05 0 2.83L4 21.41c.39.39.9.59 1.41.59.51 0 1.02-.2 1.41-.59l7.78-7.78 2.81-2.81c.8-.78.8-2.07 0-2.86zM5.41 20L4 18.59l7.72-7.72 1.47 1.35L5.41 20z\"/>\n",
              "  </svg>\n",
              "      </button>\n",
              "      \n",
              "  <style>\n",
              "    .colab-df-container {\n",
              "      display:flex;\n",
              "      flex-wrap:wrap;\n",
              "      gap: 12px;\n",
              "    }\n",
              "\n",
              "    .colab-df-convert {\n",
              "      background-color: #E8F0FE;\n",
              "      border: none;\n",
              "      border-radius: 50%;\n",
              "      cursor: pointer;\n",
              "      display: none;\n",
              "      fill: #1967D2;\n",
              "      height: 32px;\n",
              "      padding: 0 0 0 0;\n",
              "      width: 32px;\n",
              "    }\n",
              "\n",
              "    .colab-df-convert:hover {\n",
              "      background-color: #E2EBFA;\n",
              "      box-shadow: 0px 1px 2px rgba(60, 64, 67, 0.3), 0px 1px 3px 1px rgba(60, 64, 67, 0.15);\n",
              "      fill: #174EA6;\n",
              "    }\n",
              "\n",
              "    [theme=dark] .colab-df-convert {\n",
              "      background-color: #3B4455;\n",
              "      fill: #D2E3FC;\n",
              "    }\n",
              "\n",
              "    [theme=dark] .colab-df-convert:hover {\n",
              "      background-color: #434B5C;\n",
              "      box-shadow: 0px 1px 3px 1px rgba(0, 0, 0, 0.15);\n",
              "      filter: drop-shadow(0px 1px 2px rgba(0, 0, 0, 0.3));\n",
              "      fill: #FFFFFF;\n",
              "    }\n",
              "  </style>\n",
              "\n",
              "      <script>\n",
              "        const buttonEl =\n",
              "          document.querySelector('#df-7bf49289-3095-40f0-920d-36102738f1e7 button.colab-df-convert');\n",
              "        buttonEl.style.display =\n",
              "          google.colab.kernel.accessAllowed ? 'block' : 'none';\n",
              "\n",
              "        async function convertToInteractive(key) {\n",
              "          const element = document.querySelector('#df-7bf49289-3095-40f0-920d-36102738f1e7');\n",
              "          const dataTable =\n",
              "            await google.colab.kernel.invokeFunction('convertToInteractive',\n",
              "                                                     [key], {});\n",
              "          if (!dataTable) return;\n",
              "\n",
              "          const docLinkHtml = 'Like what you see? Visit the ' +\n",
              "            '<a target=\"_blank\" href=https://colab.research.google.com/notebooks/data_table.ipynb>data table notebook</a>'\n",
              "            + ' to learn more about interactive tables.';\n",
              "          element.innerHTML = '';\n",
              "          dataTable['output_type'] = 'display_data';\n",
              "          await google.colab.output.renderOutput(dataTable, element);\n",
              "          const docLink = document.createElement('div');\n",
              "          docLink.innerHTML = docLinkHtml;\n",
              "          element.appendChild(docLink);\n",
              "        }\n",
              "      </script>\n",
              "    </div>\n",
              "  </div>\n",
              "  "
            ]
          },
          "metadata": {},
          "execution_count": 59
        }
      ]
    },
    {
      "cell_type": "code",
      "source": [
        "titanic2 = titanic.iloc[10:20]\n",
        "titanic2"
      ],
      "metadata": {
        "colab": {
          "base_uri": "https://localhost:8080/",
          "height": 459
        },
        "id": "SbZDScgD654L",
        "outputId": "8a0f4393-3d27-4c13-e807-25447b998397"
      },
      "execution_count": 60,
      "outputs": [
        {
          "output_type": "execute_result",
          "data": {
            "text/plain": [
              "    PassengerId  Survived  Pclass  \\\n",
              "10           11         1       3   \n",
              "11           12         1       1   \n",
              "12           13         0       3   \n",
              "13           14         0       3   \n",
              "14           15         0       3   \n",
              "15           16         1       2   \n",
              "16           17         0       3   \n",
              "17           18         1       2   \n",
              "18           19         0       3   \n",
              "19           20         1       3   \n",
              "\n",
              "                                                 Name     Sex   Age  SibSp  \\\n",
              "10                    Sandstrom, Miss. Marguerite Rut  female   4.0      1   \n",
              "11                           Bonnell, Miss. Elizabeth  female  58.0      0   \n",
              "12                     Saundercock, Mr. William Henry    male  20.0      0   \n",
              "13                        Andersson, Mr. Anders Johan    male  39.0      1   \n",
              "14               Vestrom, Miss. Hulda Amanda Adolfina  female  14.0      0   \n",
              "15                   Hewlett, Mrs. (Mary D Kingcome)   female  55.0      0   \n",
              "16                               Rice, Master. Eugene    male   2.0      4   \n",
              "17                       Williams, Mr. Charles Eugene    male   NaN      0   \n",
              "18  Vander Planke, Mrs. Julius (Emelia Maria Vande...  female  31.0      1   \n",
              "19                            Masselmani, Mrs. Fatima  female   NaN      0   \n",
              "\n",
              "    Parch     Ticket     Fare Cabin Embarked  \n",
              "10      1    PP 9549  16.7000    G6        S  \n",
              "11      0     113783  26.5500  C103        S  \n",
              "12      0  A/5. 2151   8.0500   NaN        S  \n",
              "13      5     347082  31.2750   NaN        S  \n",
              "14      0     350406   7.8542   NaN        S  \n",
              "15      0     248706  16.0000   NaN        S  \n",
              "16      1     382652  29.1250   NaN        Q  \n",
              "17      0     244373  13.0000   NaN        S  \n",
              "18      0     345763  18.0000   NaN        S  \n",
              "19      0       2649   7.2250   NaN        C  "
            ],
            "text/html": [
              "\n",
              "  <div id=\"df-9086cc0c-715f-4167-b626-944b661e377f\">\n",
              "    <div class=\"colab-df-container\">\n",
              "      <div>\n",
              "<style scoped>\n",
              "    .dataframe tbody tr th:only-of-type {\n",
              "        vertical-align: middle;\n",
              "    }\n",
              "\n",
              "    .dataframe tbody tr th {\n",
              "        vertical-align: top;\n",
              "    }\n",
              "\n",
              "    .dataframe thead th {\n",
              "        text-align: right;\n",
              "    }\n",
              "</style>\n",
              "<table border=\"1\" class=\"dataframe\">\n",
              "  <thead>\n",
              "    <tr style=\"text-align: right;\">\n",
              "      <th></th>\n",
              "      <th>PassengerId</th>\n",
              "      <th>Survived</th>\n",
              "      <th>Pclass</th>\n",
              "      <th>Name</th>\n",
              "      <th>Sex</th>\n",
              "      <th>Age</th>\n",
              "      <th>SibSp</th>\n",
              "      <th>Parch</th>\n",
              "      <th>Ticket</th>\n",
              "      <th>Fare</th>\n",
              "      <th>Cabin</th>\n",
              "      <th>Embarked</th>\n",
              "    </tr>\n",
              "  </thead>\n",
              "  <tbody>\n",
              "    <tr>\n",
              "      <th>10</th>\n",
              "      <td>11</td>\n",
              "      <td>1</td>\n",
              "      <td>3</td>\n",
              "      <td>Sandstrom, Miss. Marguerite Rut</td>\n",
              "      <td>female</td>\n",
              "      <td>4.0</td>\n",
              "      <td>1</td>\n",
              "      <td>1</td>\n",
              "      <td>PP 9549</td>\n",
              "      <td>16.7000</td>\n",
              "      <td>G6</td>\n",
              "      <td>S</td>\n",
              "    </tr>\n",
              "    <tr>\n",
              "      <th>11</th>\n",
              "      <td>12</td>\n",
              "      <td>1</td>\n",
              "      <td>1</td>\n",
              "      <td>Bonnell, Miss. Elizabeth</td>\n",
              "      <td>female</td>\n",
              "      <td>58.0</td>\n",
              "      <td>0</td>\n",
              "      <td>0</td>\n",
              "      <td>113783</td>\n",
              "      <td>26.5500</td>\n",
              "      <td>C103</td>\n",
              "      <td>S</td>\n",
              "    </tr>\n",
              "    <tr>\n",
              "      <th>12</th>\n",
              "      <td>13</td>\n",
              "      <td>0</td>\n",
              "      <td>3</td>\n",
              "      <td>Saundercock, Mr. William Henry</td>\n",
              "      <td>male</td>\n",
              "      <td>20.0</td>\n",
              "      <td>0</td>\n",
              "      <td>0</td>\n",
              "      <td>A/5. 2151</td>\n",
              "      <td>8.0500</td>\n",
              "      <td>NaN</td>\n",
              "      <td>S</td>\n",
              "    </tr>\n",
              "    <tr>\n",
              "      <th>13</th>\n",
              "      <td>14</td>\n",
              "      <td>0</td>\n",
              "      <td>3</td>\n",
              "      <td>Andersson, Mr. Anders Johan</td>\n",
              "      <td>male</td>\n",
              "      <td>39.0</td>\n",
              "      <td>1</td>\n",
              "      <td>5</td>\n",
              "      <td>347082</td>\n",
              "      <td>31.2750</td>\n",
              "      <td>NaN</td>\n",
              "      <td>S</td>\n",
              "    </tr>\n",
              "    <tr>\n",
              "      <th>14</th>\n",
              "      <td>15</td>\n",
              "      <td>0</td>\n",
              "      <td>3</td>\n",
              "      <td>Vestrom, Miss. Hulda Amanda Adolfina</td>\n",
              "      <td>female</td>\n",
              "      <td>14.0</td>\n",
              "      <td>0</td>\n",
              "      <td>0</td>\n",
              "      <td>350406</td>\n",
              "      <td>7.8542</td>\n",
              "      <td>NaN</td>\n",
              "      <td>S</td>\n",
              "    </tr>\n",
              "    <tr>\n",
              "      <th>15</th>\n",
              "      <td>16</td>\n",
              "      <td>1</td>\n",
              "      <td>2</td>\n",
              "      <td>Hewlett, Mrs. (Mary D Kingcome)</td>\n",
              "      <td>female</td>\n",
              "      <td>55.0</td>\n",
              "      <td>0</td>\n",
              "      <td>0</td>\n",
              "      <td>248706</td>\n",
              "      <td>16.0000</td>\n",
              "      <td>NaN</td>\n",
              "      <td>S</td>\n",
              "    </tr>\n",
              "    <tr>\n",
              "      <th>16</th>\n",
              "      <td>17</td>\n",
              "      <td>0</td>\n",
              "      <td>3</td>\n",
              "      <td>Rice, Master. Eugene</td>\n",
              "      <td>male</td>\n",
              "      <td>2.0</td>\n",
              "      <td>4</td>\n",
              "      <td>1</td>\n",
              "      <td>382652</td>\n",
              "      <td>29.1250</td>\n",
              "      <td>NaN</td>\n",
              "      <td>Q</td>\n",
              "    </tr>\n",
              "    <tr>\n",
              "      <th>17</th>\n",
              "      <td>18</td>\n",
              "      <td>1</td>\n",
              "      <td>2</td>\n",
              "      <td>Williams, Mr. Charles Eugene</td>\n",
              "      <td>male</td>\n",
              "      <td>NaN</td>\n",
              "      <td>0</td>\n",
              "      <td>0</td>\n",
              "      <td>244373</td>\n",
              "      <td>13.0000</td>\n",
              "      <td>NaN</td>\n",
              "      <td>S</td>\n",
              "    </tr>\n",
              "    <tr>\n",
              "      <th>18</th>\n",
              "      <td>19</td>\n",
              "      <td>0</td>\n",
              "      <td>3</td>\n",
              "      <td>Vander Planke, Mrs. Julius (Emelia Maria Vande...</td>\n",
              "      <td>female</td>\n",
              "      <td>31.0</td>\n",
              "      <td>1</td>\n",
              "      <td>0</td>\n",
              "      <td>345763</td>\n",
              "      <td>18.0000</td>\n",
              "      <td>NaN</td>\n",
              "      <td>S</td>\n",
              "    </tr>\n",
              "    <tr>\n",
              "      <th>19</th>\n",
              "      <td>20</td>\n",
              "      <td>1</td>\n",
              "      <td>3</td>\n",
              "      <td>Masselmani, Mrs. Fatima</td>\n",
              "      <td>female</td>\n",
              "      <td>NaN</td>\n",
              "      <td>0</td>\n",
              "      <td>0</td>\n",
              "      <td>2649</td>\n",
              "      <td>7.2250</td>\n",
              "      <td>NaN</td>\n",
              "      <td>C</td>\n",
              "    </tr>\n",
              "  </tbody>\n",
              "</table>\n",
              "</div>\n",
              "      <button class=\"colab-df-convert\" onclick=\"convertToInteractive('df-9086cc0c-715f-4167-b626-944b661e377f')\"\n",
              "              title=\"Convert this dataframe to an interactive table.\"\n",
              "              style=\"display:none;\">\n",
              "        \n",
              "  <svg xmlns=\"http://www.w3.org/2000/svg\" height=\"24px\"viewBox=\"0 0 24 24\"\n",
              "       width=\"24px\">\n",
              "    <path d=\"M0 0h24v24H0V0z\" fill=\"none\"/>\n",
              "    <path d=\"M18.56 5.44l.94 2.06.94-2.06 2.06-.94-2.06-.94-.94-2.06-.94 2.06-2.06.94zm-11 1L8.5 8.5l.94-2.06 2.06-.94-2.06-.94L8.5 2.5l-.94 2.06-2.06.94zm10 10l.94 2.06.94-2.06 2.06-.94-2.06-.94-.94-2.06-.94 2.06-2.06.94z\"/><path d=\"M17.41 7.96l-1.37-1.37c-.4-.4-.92-.59-1.43-.59-.52 0-1.04.2-1.43.59L10.3 9.45l-7.72 7.72c-.78.78-.78 2.05 0 2.83L4 21.41c.39.39.9.59 1.41.59.51 0 1.02-.2 1.41-.59l7.78-7.78 2.81-2.81c.8-.78.8-2.07 0-2.86zM5.41 20L4 18.59l7.72-7.72 1.47 1.35L5.41 20z\"/>\n",
              "  </svg>\n",
              "      </button>\n",
              "      \n",
              "  <style>\n",
              "    .colab-df-container {\n",
              "      display:flex;\n",
              "      flex-wrap:wrap;\n",
              "      gap: 12px;\n",
              "    }\n",
              "\n",
              "    .colab-df-convert {\n",
              "      background-color: #E8F0FE;\n",
              "      border: none;\n",
              "      border-radius: 50%;\n",
              "      cursor: pointer;\n",
              "      display: none;\n",
              "      fill: #1967D2;\n",
              "      height: 32px;\n",
              "      padding: 0 0 0 0;\n",
              "      width: 32px;\n",
              "    }\n",
              "\n",
              "    .colab-df-convert:hover {\n",
              "      background-color: #E2EBFA;\n",
              "      box-shadow: 0px 1px 2px rgba(60, 64, 67, 0.3), 0px 1px 3px 1px rgba(60, 64, 67, 0.15);\n",
              "      fill: #174EA6;\n",
              "    }\n",
              "\n",
              "    [theme=dark] .colab-df-convert {\n",
              "      background-color: #3B4455;\n",
              "      fill: #D2E3FC;\n",
              "    }\n",
              "\n",
              "    [theme=dark] .colab-df-convert:hover {\n",
              "      background-color: #434B5C;\n",
              "      box-shadow: 0px 1px 3px 1px rgba(0, 0, 0, 0.15);\n",
              "      filter: drop-shadow(0px 1px 2px rgba(0, 0, 0, 0.3));\n",
              "      fill: #FFFFFF;\n",
              "    }\n",
              "  </style>\n",
              "\n",
              "      <script>\n",
              "        const buttonEl =\n",
              "          document.querySelector('#df-9086cc0c-715f-4167-b626-944b661e377f button.colab-df-convert');\n",
              "        buttonEl.style.display =\n",
              "          google.colab.kernel.accessAllowed ? 'block' : 'none';\n",
              "\n",
              "        async function convertToInteractive(key) {\n",
              "          const element = document.querySelector('#df-9086cc0c-715f-4167-b626-944b661e377f');\n",
              "          const dataTable =\n",
              "            await google.colab.kernel.invokeFunction('convertToInteractive',\n",
              "                                                     [key], {});\n",
              "          if (!dataTable) return;\n",
              "\n",
              "          const docLinkHtml = 'Like what you see? Visit the ' +\n",
              "            '<a target=\"_blank\" href=https://colab.research.google.com/notebooks/data_table.ipynb>data table notebook</a>'\n",
              "            + ' to learn more about interactive tables.';\n",
              "          element.innerHTML = '';\n",
              "          dataTable['output_type'] = 'display_data';\n",
              "          await google.colab.output.renderOutput(dataTable, element);\n",
              "          const docLink = document.createElement('div');\n",
              "          docLink.innerHTML = docLinkHtml;\n",
              "          element.appendChild(docLink);\n",
              "        }\n",
              "      </script>\n",
              "    </div>\n",
              "  </div>\n",
              "  "
            ]
          },
          "metadata": {},
          "execution_count": 60
        }
      ]
    },
    {
      "cell_type": "code",
      "source": [
        "#titanic1.loc[:7, list(titanic1.columns)[:6]]\n",
        "titanic3 = titanic1.iloc[:7,:6]\n",
        "titanic3"
      ],
      "metadata": {
        "colab": {
          "base_uri": "https://localhost:8080/",
          "height": 269
        },
        "id": "bjW-zHn67ygv",
        "outputId": "a0462b60-e619-4dcb-9750-53298f79f4e2"
      },
      "execution_count": 61,
      "outputs": [
        {
          "output_type": "execute_result",
          "data": {
            "text/plain": [
              "   PassengerId  Survived  Pclass  \\\n",
              "0            1         0       3   \n",
              "1            2         1       1   \n",
              "2            3         1       3   \n",
              "3            4         1       1   \n",
              "4            5         0       3   \n",
              "5            6         0       3   \n",
              "6            7         0       1   \n",
              "\n",
              "                                                Name     Sex   Age  \n",
              "0                            Braund, Mr. Owen Harris    male  22.0  \n",
              "1  Cumings, Mrs. John Bradley (Florence Briggs Th...  female  38.0  \n",
              "2                             Heikkinen, Miss. Laina  female  26.0  \n",
              "3       Futrelle, Mrs. Jacques Heath (Lily May Peel)  female  35.0  \n",
              "4                           Allen, Mr. William Henry    male  35.0  \n",
              "5                                   Moran, Mr. James    male   NaN  \n",
              "6                            McCarthy, Mr. Timothy J    male  54.0  "
            ],
            "text/html": [
              "\n",
              "  <div id=\"df-3cd3303c-0a0f-4597-8997-ca39f057464a\">\n",
              "    <div class=\"colab-df-container\">\n",
              "      <div>\n",
              "<style scoped>\n",
              "    .dataframe tbody tr th:only-of-type {\n",
              "        vertical-align: middle;\n",
              "    }\n",
              "\n",
              "    .dataframe tbody tr th {\n",
              "        vertical-align: top;\n",
              "    }\n",
              "\n",
              "    .dataframe thead th {\n",
              "        text-align: right;\n",
              "    }\n",
              "</style>\n",
              "<table border=\"1\" class=\"dataframe\">\n",
              "  <thead>\n",
              "    <tr style=\"text-align: right;\">\n",
              "      <th></th>\n",
              "      <th>PassengerId</th>\n",
              "      <th>Survived</th>\n",
              "      <th>Pclass</th>\n",
              "      <th>Name</th>\n",
              "      <th>Sex</th>\n",
              "      <th>Age</th>\n",
              "    </tr>\n",
              "  </thead>\n",
              "  <tbody>\n",
              "    <tr>\n",
              "      <th>0</th>\n",
              "      <td>1</td>\n",
              "      <td>0</td>\n",
              "      <td>3</td>\n",
              "      <td>Braund, Mr. Owen Harris</td>\n",
              "      <td>male</td>\n",
              "      <td>22.0</td>\n",
              "    </tr>\n",
              "    <tr>\n",
              "      <th>1</th>\n",
              "      <td>2</td>\n",
              "      <td>1</td>\n",
              "      <td>1</td>\n",
              "      <td>Cumings, Mrs. John Bradley (Florence Briggs Th...</td>\n",
              "      <td>female</td>\n",
              "      <td>38.0</td>\n",
              "    </tr>\n",
              "    <tr>\n",
              "      <th>2</th>\n",
              "      <td>3</td>\n",
              "      <td>1</td>\n",
              "      <td>3</td>\n",
              "      <td>Heikkinen, Miss. Laina</td>\n",
              "      <td>female</td>\n",
              "      <td>26.0</td>\n",
              "    </tr>\n",
              "    <tr>\n",
              "      <th>3</th>\n",
              "      <td>4</td>\n",
              "      <td>1</td>\n",
              "      <td>1</td>\n",
              "      <td>Futrelle, Mrs. Jacques Heath (Lily May Peel)</td>\n",
              "      <td>female</td>\n",
              "      <td>35.0</td>\n",
              "    </tr>\n",
              "    <tr>\n",
              "      <th>4</th>\n",
              "      <td>5</td>\n",
              "      <td>0</td>\n",
              "      <td>3</td>\n",
              "      <td>Allen, Mr. William Henry</td>\n",
              "      <td>male</td>\n",
              "      <td>35.0</td>\n",
              "    </tr>\n",
              "    <tr>\n",
              "      <th>5</th>\n",
              "      <td>6</td>\n",
              "      <td>0</td>\n",
              "      <td>3</td>\n",
              "      <td>Moran, Mr. James</td>\n",
              "      <td>male</td>\n",
              "      <td>NaN</td>\n",
              "    </tr>\n",
              "    <tr>\n",
              "      <th>6</th>\n",
              "      <td>7</td>\n",
              "      <td>0</td>\n",
              "      <td>1</td>\n",
              "      <td>McCarthy, Mr. Timothy J</td>\n",
              "      <td>male</td>\n",
              "      <td>54.0</td>\n",
              "    </tr>\n",
              "  </tbody>\n",
              "</table>\n",
              "</div>\n",
              "      <button class=\"colab-df-convert\" onclick=\"convertToInteractive('df-3cd3303c-0a0f-4597-8997-ca39f057464a')\"\n",
              "              title=\"Convert this dataframe to an interactive table.\"\n",
              "              style=\"display:none;\">\n",
              "        \n",
              "  <svg xmlns=\"http://www.w3.org/2000/svg\" height=\"24px\"viewBox=\"0 0 24 24\"\n",
              "       width=\"24px\">\n",
              "    <path d=\"M0 0h24v24H0V0z\" fill=\"none\"/>\n",
              "    <path d=\"M18.56 5.44l.94 2.06.94-2.06 2.06-.94-2.06-.94-.94-2.06-.94 2.06-2.06.94zm-11 1L8.5 8.5l.94-2.06 2.06-.94-2.06-.94L8.5 2.5l-.94 2.06-2.06.94zm10 10l.94 2.06.94-2.06 2.06-.94-2.06-.94-.94-2.06-.94 2.06-2.06.94z\"/><path d=\"M17.41 7.96l-1.37-1.37c-.4-.4-.92-.59-1.43-.59-.52 0-1.04.2-1.43.59L10.3 9.45l-7.72 7.72c-.78.78-.78 2.05 0 2.83L4 21.41c.39.39.9.59 1.41.59.51 0 1.02-.2 1.41-.59l7.78-7.78 2.81-2.81c.8-.78.8-2.07 0-2.86zM5.41 20L4 18.59l7.72-7.72 1.47 1.35L5.41 20z\"/>\n",
              "  </svg>\n",
              "      </button>\n",
              "      \n",
              "  <style>\n",
              "    .colab-df-container {\n",
              "      display:flex;\n",
              "      flex-wrap:wrap;\n",
              "      gap: 12px;\n",
              "    }\n",
              "\n",
              "    .colab-df-convert {\n",
              "      background-color: #E8F0FE;\n",
              "      border: none;\n",
              "      border-radius: 50%;\n",
              "      cursor: pointer;\n",
              "      display: none;\n",
              "      fill: #1967D2;\n",
              "      height: 32px;\n",
              "      padding: 0 0 0 0;\n",
              "      width: 32px;\n",
              "    }\n",
              "\n",
              "    .colab-df-convert:hover {\n",
              "      background-color: #E2EBFA;\n",
              "      box-shadow: 0px 1px 2px rgba(60, 64, 67, 0.3), 0px 1px 3px 1px rgba(60, 64, 67, 0.15);\n",
              "      fill: #174EA6;\n",
              "    }\n",
              "\n",
              "    [theme=dark] .colab-df-convert {\n",
              "      background-color: #3B4455;\n",
              "      fill: #D2E3FC;\n",
              "    }\n",
              "\n",
              "    [theme=dark] .colab-df-convert:hover {\n",
              "      background-color: #434B5C;\n",
              "      box-shadow: 0px 1px 3px 1px rgba(0, 0, 0, 0.15);\n",
              "      filter: drop-shadow(0px 1px 2px rgba(0, 0, 0, 0.3));\n",
              "      fill: #FFFFFF;\n",
              "    }\n",
              "  </style>\n",
              "\n",
              "      <script>\n",
              "        const buttonEl =\n",
              "          document.querySelector('#df-3cd3303c-0a0f-4597-8997-ca39f057464a button.colab-df-convert');\n",
              "        buttonEl.style.display =\n",
              "          google.colab.kernel.accessAllowed ? 'block' : 'none';\n",
              "\n",
              "        async function convertToInteractive(key) {\n",
              "          const element = document.querySelector('#df-3cd3303c-0a0f-4597-8997-ca39f057464a');\n",
              "          const dataTable =\n",
              "            await google.colab.kernel.invokeFunction('convertToInteractive',\n",
              "                                                     [key], {});\n",
              "          if (!dataTable) return;\n",
              "\n",
              "          const docLinkHtml = 'Like what you see? Visit the ' +\n",
              "            '<a target=\"_blank\" href=https://colab.research.google.com/notebooks/data_table.ipynb>data table notebook</a>'\n",
              "            + ' to learn more about interactive tables.';\n",
              "          element.innerHTML = '';\n",
              "          dataTable['output_type'] = 'display_data';\n",
              "          await google.colab.output.renderOutput(dataTable, element);\n",
              "          const docLink = document.createElement('div');\n",
              "          docLink.innerHTML = docLinkHtml;\n",
              "          element.appendChild(docLink);\n",
              "        }\n",
              "      </script>\n",
              "    </div>\n",
              "  </div>\n",
              "  "
            ]
          },
          "metadata": {},
          "execution_count": 61
        }
      ]
    },
    {
      "cell_type": "code",
      "source": [
        "# titanic1.iloc[3:10, [0] + list(range(6,12))]\n",
        "titanic4 = titanic1.loc[3:10,[titanic1.columns[0]] + list(titanic1.columns)[7:12]]\n",
        "titanic4"
      ],
      "metadata": {
        "colab": {
          "base_uri": "https://localhost:8080/",
          "height": 269
        },
        "id": "tGSOVVI070jq",
        "outputId": "d3e3d57b-8776-4449-a3c6-cfd11f32abe2"
      },
      "execution_count": 69,
      "outputs": [
        {
          "output_type": "execute_result",
          "data": {
            "text/plain": [
              "   PassengerId  Parch  Ticket     Fare Cabin Embarked\n",
              "3            4      0  113803  53.1000  C123        S\n",
              "4            5      0  373450   8.0500   NaN        S\n",
              "5            6      0  330877   8.4583   NaN        Q\n",
              "6            7      0   17463  51.8625   E46        S\n",
              "7            8      1  349909  21.0750   NaN        S\n",
              "8            9      2  347742  11.1333   NaN        S\n",
              "9           10      0  237736  30.0708   NaN        C"
            ],
            "text/html": [
              "\n",
              "  <div id=\"df-b899737f-8200-44a1-88f1-33d26f3ed3f9\">\n",
              "    <div class=\"colab-df-container\">\n",
              "      <div>\n",
              "<style scoped>\n",
              "    .dataframe tbody tr th:only-of-type {\n",
              "        vertical-align: middle;\n",
              "    }\n",
              "\n",
              "    .dataframe tbody tr th {\n",
              "        vertical-align: top;\n",
              "    }\n",
              "\n",
              "    .dataframe thead th {\n",
              "        text-align: right;\n",
              "    }\n",
              "</style>\n",
              "<table border=\"1\" class=\"dataframe\">\n",
              "  <thead>\n",
              "    <tr style=\"text-align: right;\">\n",
              "      <th></th>\n",
              "      <th>PassengerId</th>\n",
              "      <th>Parch</th>\n",
              "      <th>Ticket</th>\n",
              "      <th>Fare</th>\n",
              "      <th>Cabin</th>\n",
              "      <th>Embarked</th>\n",
              "    </tr>\n",
              "  </thead>\n",
              "  <tbody>\n",
              "    <tr>\n",
              "      <th>3</th>\n",
              "      <td>4</td>\n",
              "      <td>0</td>\n",
              "      <td>113803</td>\n",
              "      <td>53.1000</td>\n",
              "      <td>C123</td>\n",
              "      <td>S</td>\n",
              "    </tr>\n",
              "    <tr>\n",
              "      <th>4</th>\n",
              "      <td>5</td>\n",
              "      <td>0</td>\n",
              "      <td>373450</td>\n",
              "      <td>8.0500</td>\n",
              "      <td>NaN</td>\n",
              "      <td>S</td>\n",
              "    </tr>\n",
              "    <tr>\n",
              "      <th>5</th>\n",
              "      <td>6</td>\n",
              "      <td>0</td>\n",
              "      <td>330877</td>\n",
              "      <td>8.4583</td>\n",
              "      <td>NaN</td>\n",
              "      <td>Q</td>\n",
              "    </tr>\n",
              "    <tr>\n",
              "      <th>6</th>\n",
              "      <td>7</td>\n",
              "      <td>0</td>\n",
              "      <td>17463</td>\n",
              "      <td>51.8625</td>\n",
              "      <td>E46</td>\n",
              "      <td>S</td>\n",
              "    </tr>\n",
              "    <tr>\n",
              "      <th>7</th>\n",
              "      <td>8</td>\n",
              "      <td>1</td>\n",
              "      <td>349909</td>\n",
              "      <td>21.0750</td>\n",
              "      <td>NaN</td>\n",
              "      <td>S</td>\n",
              "    </tr>\n",
              "    <tr>\n",
              "      <th>8</th>\n",
              "      <td>9</td>\n",
              "      <td>2</td>\n",
              "      <td>347742</td>\n",
              "      <td>11.1333</td>\n",
              "      <td>NaN</td>\n",
              "      <td>S</td>\n",
              "    </tr>\n",
              "    <tr>\n",
              "      <th>9</th>\n",
              "      <td>10</td>\n",
              "      <td>0</td>\n",
              "      <td>237736</td>\n",
              "      <td>30.0708</td>\n",
              "      <td>NaN</td>\n",
              "      <td>C</td>\n",
              "    </tr>\n",
              "  </tbody>\n",
              "</table>\n",
              "</div>\n",
              "      <button class=\"colab-df-convert\" onclick=\"convertToInteractive('df-b899737f-8200-44a1-88f1-33d26f3ed3f9')\"\n",
              "              title=\"Convert this dataframe to an interactive table.\"\n",
              "              style=\"display:none;\">\n",
              "        \n",
              "  <svg xmlns=\"http://www.w3.org/2000/svg\" height=\"24px\"viewBox=\"0 0 24 24\"\n",
              "       width=\"24px\">\n",
              "    <path d=\"M0 0h24v24H0V0z\" fill=\"none\"/>\n",
              "    <path d=\"M18.56 5.44l.94 2.06.94-2.06 2.06-.94-2.06-.94-.94-2.06-.94 2.06-2.06.94zm-11 1L8.5 8.5l.94-2.06 2.06-.94-2.06-.94L8.5 2.5l-.94 2.06-2.06.94zm10 10l.94 2.06.94-2.06 2.06-.94-2.06-.94-.94-2.06-.94 2.06-2.06.94z\"/><path d=\"M17.41 7.96l-1.37-1.37c-.4-.4-.92-.59-1.43-.59-.52 0-1.04.2-1.43.59L10.3 9.45l-7.72 7.72c-.78.78-.78 2.05 0 2.83L4 21.41c.39.39.9.59 1.41.59.51 0 1.02-.2 1.41-.59l7.78-7.78 2.81-2.81c.8-.78.8-2.07 0-2.86zM5.41 20L4 18.59l7.72-7.72 1.47 1.35L5.41 20z\"/>\n",
              "  </svg>\n",
              "      </button>\n",
              "      \n",
              "  <style>\n",
              "    .colab-df-container {\n",
              "      display:flex;\n",
              "      flex-wrap:wrap;\n",
              "      gap: 12px;\n",
              "    }\n",
              "\n",
              "    .colab-df-convert {\n",
              "      background-color: #E8F0FE;\n",
              "      border: none;\n",
              "      border-radius: 50%;\n",
              "      cursor: pointer;\n",
              "      display: none;\n",
              "      fill: #1967D2;\n",
              "      height: 32px;\n",
              "      padding: 0 0 0 0;\n",
              "      width: 32px;\n",
              "    }\n",
              "\n",
              "    .colab-df-convert:hover {\n",
              "      background-color: #E2EBFA;\n",
              "      box-shadow: 0px 1px 2px rgba(60, 64, 67, 0.3), 0px 1px 3px 1px rgba(60, 64, 67, 0.15);\n",
              "      fill: #174EA6;\n",
              "    }\n",
              "\n",
              "    [theme=dark] .colab-df-convert {\n",
              "      background-color: #3B4455;\n",
              "      fill: #D2E3FC;\n",
              "    }\n",
              "\n",
              "    [theme=dark] .colab-df-convert:hover {\n",
              "      background-color: #434B5C;\n",
              "      box-shadow: 0px 1px 3px 1px rgba(0, 0, 0, 0.15);\n",
              "      filter: drop-shadow(0px 1px 2px rgba(0, 0, 0, 0.3));\n",
              "      fill: #FFFFFF;\n",
              "    }\n",
              "  </style>\n",
              "\n",
              "      <script>\n",
              "        const buttonEl =\n",
              "          document.querySelector('#df-b899737f-8200-44a1-88f1-33d26f3ed3f9 button.colab-df-convert');\n",
              "        buttonEl.style.display =\n",
              "          google.colab.kernel.accessAllowed ? 'block' : 'none';\n",
              "\n",
              "        async function convertToInteractive(key) {\n",
              "          const element = document.querySelector('#df-b899737f-8200-44a1-88f1-33d26f3ed3f9');\n",
              "          const dataTable =\n",
              "            await google.colab.kernel.invokeFunction('convertToInteractive',\n",
              "                                                     [key], {});\n",
              "          if (!dataTable) return;\n",
              "\n",
              "          const docLinkHtml = 'Like what you see? Visit the ' +\n",
              "            '<a target=\"_blank\" href=https://colab.research.google.com/notebooks/data_table.ipynb>data table notebook</a>'\n",
              "            + ' to learn more about interactive tables.';\n",
              "          element.innerHTML = '';\n",
              "          dataTable['output_type'] = 'display_data';\n",
              "          await google.colab.output.renderOutput(dataTable, element);\n",
              "          const docLink = document.createElement('div');\n",
              "          docLink.innerHTML = docLinkHtml;\n",
              "          element.appendChild(docLink);\n",
              "        }\n",
              "      </script>\n",
              "    </div>\n",
              "  </div>\n",
              "  "
            ]
          },
          "metadata": {},
          "execution_count": 69
        }
      ]
    },
    {
      "cell_type": "code",
      "source": [
        "for (columnName, columnData) in titanic.iteritems():\n",
        "    print('Column Name : ', columnName)\n",
        "    # initialize a null list\n",
        "    unique_list = []\n",
        "    null_value = 0\n",
        "     \n",
        "    # traverse for all elements\n",
        "    for x in columnData:\n",
        "        # check if exists in unique_list or not\n",
        "        if x not in unique_list:\n",
        "            unique_list.append(x)\n",
        "        \n",
        "    # print list\n",
        "    print(\"Unique Data\", len(unique_list))"
      ],
      "metadata": {
        "colab": {
          "base_uri": "https://localhost:8080/"
        },
        "id": "MO5BZgte8cNC",
        "outputId": "531b957a-3e44-4aa5-e182-8a4978cac6ce"
      },
      "execution_count": 71,
      "outputs": [
        {
          "output_type": "stream",
          "name": "stdout",
          "text": [
            "Column Name :  PassengerId\n",
            "Unique Data 891\n",
            "Column Name :  Survived\n",
            "Unique Data 2\n",
            "Column Name :  Pclass\n",
            "Unique Data 3\n",
            "Column Name :  Name\n",
            "Unique Data 891\n",
            "Column Name :  Sex\n",
            "Unique Data 2\n",
            "Column Name :  Age\n",
            "Unique Data 265\n",
            "Column Name :  SibSp\n",
            "Unique Data 7\n",
            "Column Name :  Parch\n",
            "Unique Data 7\n",
            "Column Name :  Ticket\n",
            "Unique Data 681\n",
            "Column Name :  Fare\n",
            "Unique Data 248\n",
            "Column Name :  Cabin\n",
            "Unique Data 148\n",
            "Column Name :  Embarked\n",
            "Unique Data 4\n"
          ]
        }
      ]
    },
    {
      "cell_type": "markdown",
      "source": [
        "### - Merge"
      ],
      "metadata": {
        "id": "KC5wN3a_aJAi"
      }
    },
    {
      "cell_type": "code",
      "source": [
        "titanic3"
      ],
      "metadata": {
        "colab": {
          "base_uri": "https://localhost:8080/",
          "height": 269
        },
        "id": "wLiPpAO6-eaX",
        "outputId": "2fa06aae-a217-4357-a30d-4f82febd7967"
      },
      "execution_count": 73,
      "outputs": [
        {
          "output_type": "execute_result",
          "data": {
            "text/plain": [
              "   PassengerId  Survived  Pclass  \\\n",
              "0            1         0       3   \n",
              "1            2         1       1   \n",
              "2            3         1       3   \n",
              "3            4         1       1   \n",
              "4            5         0       3   \n",
              "5            6         0       3   \n",
              "6            7         0       1   \n",
              "\n",
              "                                                Name     Sex   Age  \n",
              "0                            Braund, Mr. Owen Harris    male  22.0  \n",
              "1  Cumings, Mrs. John Bradley (Florence Briggs Th...  female  38.0  \n",
              "2                             Heikkinen, Miss. Laina  female  26.0  \n",
              "3       Futrelle, Mrs. Jacques Heath (Lily May Peel)  female  35.0  \n",
              "4                           Allen, Mr. William Henry    male  35.0  \n",
              "5                                   Moran, Mr. James    male   NaN  \n",
              "6                            McCarthy, Mr. Timothy J    male  54.0  "
            ],
            "text/html": [
              "\n",
              "  <div id=\"df-aebe7a20-2276-4a63-8008-568ce9c917aa\">\n",
              "    <div class=\"colab-df-container\">\n",
              "      <div>\n",
              "<style scoped>\n",
              "    .dataframe tbody tr th:only-of-type {\n",
              "        vertical-align: middle;\n",
              "    }\n",
              "\n",
              "    .dataframe tbody tr th {\n",
              "        vertical-align: top;\n",
              "    }\n",
              "\n",
              "    .dataframe thead th {\n",
              "        text-align: right;\n",
              "    }\n",
              "</style>\n",
              "<table border=\"1\" class=\"dataframe\">\n",
              "  <thead>\n",
              "    <tr style=\"text-align: right;\">\n",
              "      <th></th>\n",
              "      <th>PassengerId</th>\n",
              "      <th>Survived</th>\n",
              "      <th>Pclass</th>\n",
              "      <th>Name</th>\n",
              "      <th>Sex</th>\n",
              "      <th>Age</th>\n",
              "    </tr>\n",
              "  </thead>\n",
              "  <tbody>\n",
              "    <tr>\n",
              "      <th>0</th>\n",
              "      <td>1</td>\n",
              "      <td>0</td>\n",
              "      <td>3</td>\n",
              "      <td>Braund, Mr. Owen Harris</td>\n",
              "      <td>male</td>\n",
              "      <td>22.0</td>\n",
              "    </tr>\n",
              "    <tr>\n",
              "      <th>1</th>\n",
              "      <td>2</td>\n",
              "      <td>1</td>\n",
              "      <td>1</td>\n",
              "      <td>Cumings, Mrs. John Bradley (Florence Briggs Th...</td>\n",
              "      <td>female</td>\n",
              "      <td>38.0</td>\n",
              "    </tr>\n",
              "    <tr>\n",
              "      <th>2</th>\n",
              "      <td>3</td>\n",
              "      <td>1</td>\n",
              "      <td>3</td>\n",
              "      <td>Heikkinen, Miss. Laina</td>\n",
              "      <td>female</td>\n",
              "      <td>26.0</td>\n",
              "    </tr>\n",
              "    <tr>\n",
              "      <th>3</th>\n",
              "      <td>4</td>\n",
              "      <td>1</td>\n",
              "      <td>1</td>\n",
              "      <td>Futrelle, Mrs. Jacques Heath (Lily May Peel)</td>\n",
              "      <td>female</td>\n",
              "      <td>35.0</td>\n",
              "    </tr>\n",
              "    <tr>\n",
              "      <th>4</th>\n",
              "      <td>5</td>\n",
              "      <td>0</td>\n",
              "      <td>3</td>\n",
              "      <td>Allen, Mr. William Henry</td>\n",
              "      <td>male</td>\n",
              "      <td>35.0</td>\n",
              "    </tr>\n",
              "    <tr>\n",
              "      <th>5</th>\n",
              "      <td>6</td>\n",
              "      <td>0</td>\n",
              "      <td>3</td>\n",
              "      <td>Moran, Mr. James</td>\n",
              "      <td>male</td>\n",
              "      <td>NaN</td>\n",
              "    </tr>\n",
              "    <tr>\n",
              "      <th>6</th>\n",
              "      <td>7</td>\n",
              "      <td>0</td>\n",
              "      <td>1</td>\n",
              "      <td>McCarthy, Mr. Timothy J</td>\n",
              "      <td>male</td>\n",
              "      <td>54.0</td>\n",
              "    </tr>\n",
              "  </tbody>\n",
              "</table>\n",
              "</div>\n",
              "      <button class=\"colab-df-convert\" onclick=\"convertToInteractive('df-aebe7a20-2276-4a63-8008-568ce9c917aa')\"\n",
              "              title=\"Convert this dataframe to an interactive table.\"\n",
              "              style=\"display:none;\">\n",
              "        \n",
              "  <svg xmlns=\"http://www.w3.org/2000/svg\" height=\"24px\"viewBox=\"0 0 24 24\"\n",
              "       width=\"24px\">\n",
              "    <path d=\"M0 0h24v24H0V0z\" fill=\"none\"/>\n",
              "    <path d=\"M18.56 5.44l.94 2.06.94-2.06 2.06-.94-2.06-.94-.94-2.06-.94 2.06-2.06.94zm-11 1L8.5 8.5l.94-2.06 2.06-.94-2.06-.94L8.5 2.5l-.94 2.06-2.06.94zm10 10l.94 2.06.94-2.06 2.06-.94-2.06-.94-.94-2.06-.94 2.06-2.06.94z\"/><path d=\"M17.41 7.96l-1.37-1.37c-.4-.4-.92-.59-1.43-.59-.52 0-1.04.2-1.43.59L10.3 9.45l-7.72 7.72c-.78.78-.78 2.05 0 2.83L4 21.41c.39.39.9.59 1.41.59.51 0 1.02-.2 1.41-.59l7.78-7.78 2.81-2.81c.8-.78.8-2.07 0-2.86zM5.41 20L4 18.59l7.72-7.72 1.47 1.35L5.41 20z\"/>\n",
              "  </svg>\n",
              "      </button>\n",
              "      \n",
              "  <style>\n",
              "    .colab-df-container {\n",
              "      display:flex;\n",
              "      flex-wrap:wrap;\n",
              "      gap: 12px;\n",
              "    }\n",
              "\n",
              "    .colab-df-convert {\n",
              "      background-color: #E8F0FE;\n",
              "      border: none;\n",
              "      border-radius: 50%;\n",
              "      cursor: pointer;\n",
              "      display: none;\n",
              "      fill: #1967D2;\n",
              "      height: 32px;\n",
              "      padding: 0 0 0 0;\n",
              "      width: 32px;\n",
              "    }\n",
              "\n",
              "    .colab-df-convert:hover {\n",
              "      background-color: #E2EBFA;\n",
              "      box-shadow: 0px 1px 2px rgba(60, 64, 67, 0.3), 0px 1px 3px 1px rgba(60, 64, 67, 0.15);\n",
              "      fill: #174EA6;\n",
              "    }\n",
              "\n",
              "    [theme=dark] .colab-df-convert {\n",
              "      background-color: #3B4455;\n",
              "      fill: #D2E3FC;\n",
              "    }\n",
              "\n",
              "    [theme=dark] .colab-df-convert:hover {\n",
              "      background-color: #434B5C;\n",
              "      box-shadow: 0px 1px 3px 1px rgba(0, 0, 0, 0.15);\n",
              "      filter: drop-shadow(0px 1px 2px rgba(0, 0, 0, 0.3));\n",
              "      fill: #FFFFFF;\n",
              "    }\n",
              "  </style>\n",
              "\n",
              "      <script>\n",
              "        const buttonEl =\n",
              "          document.querySelector('#df-aebe7a20-2276-4a63-8008-568ce9c917aa button.colab-df-convert');\n",
              "        buttonEl.style.display =\n",
              "          google.colab.kernel.accessAllowed ? 'block' : 'none';\n",
              "\n",
              "        async function convertToInteractive(key) {\n",
              "          const element = document.querySelector('#df-aebe7a20-2276-4a63-8008-568ce9c917aa');\n",
              "          const dataTable =\n",
              "            await google.colab.kernel.invokeFunction('convertToInteractive',\n",
              "                                                     [key], {});\n",
              "          if (!dataTable) return;\n",
              "\n",
              "          const docLinkHtml = 'Like what you see? Visit the ' +\n",
              "            '<a target=\"_blank\" href=https://colab.research.google.com/notebooks/data_table.ipynb>data table notebook</a>'\n",
              "            + ' to learn more about interactive tables.';\n",
              "          element.innerHTML = '';\n",
              "          dataTable['output_type'] = 'display_data';\n",
              "          await google.colab.output.renderOutput(dataTable, element);\n",
              "          const docLink = document.createElement('div');\n",
              "          docLink.innerHTML = docLinkHtml;\n",
              "          element.appendChild(docLink);\n",
              "        }\n",
              "      </script>\n",
              "    </div>\n",
              "  </div>\n",
              "  "
            ]
          },
          "metadata": {},
          "execution_count": 73
        }
      ]
    },
    {
      "cell_type": "code",
      "source": [
        "titanic4"
      ],
      "metadata": {
        "colab": {
          "base_uri": "https://localhost:8080/",
          "height": 269
        },
        "id": "H7783y3c-gSy",
        "outputId": "36e9e914-3e22-4e1a-f09a-ecfbd86fb199"
      },
      "execution_count": 74,
      "outputs": [
        {
          "output_type": "execute_result",
          "data": {
            "text/plain": [
              "   PassengerId  Parch  Ticket     Fare Cabin Embarked\n",
              "3            4      0  113803  53.1000  C123        S\n",
              "4            5      0  373450   8.0500   NaN        S\n",
              "5            6      0  330877   8.4583   NaN        Q\n",
              "6            7      0   17463  51.8625   E46        S\n",
              "7            8      1  349909  21.0750   NaN        S\n",
              "8            9      2  347742  11.1333   NaN        S\n",
              "9           10      0  237736  30.0708   NaN        C"
            ],
            "text/html": [
              "\n",
              "  <div id=\"df-3ded5dbc-f7a2-4178-8e1f-7c3d5c05680b\">\n",
              "    <div class=\"colab-df-container\">\n",
              "      <div>\n",
              "<style scoped>\n",
              "    .dataframe tbody tr th:only-of-type {\n",
              "        vertical-align: middle;\n",
              "    }\n",
              "\n",
              "    .dataframe tbody tr th {\n",
              "        vertical-align: top;\n",
              "    }\n",
              "\n",
              "    .dataframe thead th {\n",
              "        text-align: right;\n",
              "    }\n",
              "</style>\n",
              "<table border=\"1\" class=\"dataframe\">\n",
              "  <thead>\n",
              "    <tr style=\"text-align: right;\">\n",
              "      <th></th>\n",
              "      <th>PassengerId</th>\n",
              "      <th>Parch</th>\n",
              "      <th>Ticket</th>\n",
              "      <th>Fare</th>\n",
              "      <th>Cabin</th>\n",
              "      <th>Embarked</th>\n",
              "    </tr>\n",
              "  </thead>\n",
              "  <tbody>\n",
              "    <tr>\n",
              "      <th>3</th>\n",
              "      <td>4</td>\n",
              "      <td>0</td>\n",
              "      <td>113803</td>\n",
              "      <td>53.1000</td>\n",
              "      <td>C123</td>\n",
              "      <td>S</td>\n",
              "    </tr>\n",
              "    <tr>\n",
              "      <th>4</th>\n",
              "      <td>5</td>\n",
              "      <td>0</td>\n",
              "      <td>373450</td>\n",
              "      <td>8.0500</td>\n",
              "      <td>NaN</td>\n",
              "      <td>S</td>\n",
              "    </tr>\n",
              "    <tr>\n",
              "      <th>5</th>\n",
              "      <td>6</td>\n",
              "      <td>0</td>\n",
              "      <td>330877</td>\n",
              "      <td>8.4583</td>\n",
              "      <td>NaN</td>\n",
              "      <td>Q</td>\n",
              "    </tr>\n",
              "    <tr>\n",
              "      <th>6</th>\n",
              "      <td>7</td>\n",
              "      <td>0</td>\n",
              "      <td>17463</td>\n",
              "      <td>51.8625</td>\n",
              "      <td>E46</td>\n",
              "      <td>S</td>\n",
              "    </tr>\n",
              "    <tr>\n",
              "      <th>7</th>\n",
              "      <td>8</td>\n",
              "      <td>1</td>\n",
              "      <td>349909</td>\n",
              "      <td>21.0750</td>\n",
              "      <td>NaN</td>\n",
              "      <td>S</td>\n",
              "    </tr>\n",
              "    <tr>\n",
              "      <th>8</th>\n",
              "      <td>9</td>\n",
              "      <td>2</td>\n",
              "      <td>347742</td>\n",
              "      <td>11.1333</td>\n",
              "      <td>NaN</td>\n",
              "      <td>S</td>\n",
              "    </tr>\n",
              "    <tr>\n",
              "      <th>9</th>\n",
              "      <td>10</td>\n",
              "      <td>0</td>\n",
              "      <td>237736</td>\n",
              "      <td>30.0708</td>\n",
              "      <td>NaN</td>\n",
              "      <td>C</td>\n",
              "    </tr>\n",
              "  </tbody>\n",
              "</table>\n",
              "</div>\n",
              "      <button class=\"colab-df-convert\" onclick=\"convertToInteractive('df-3ded5dbc-f7a2-4178-8e1f-7c3d5c05680b')\"\n",
              "              title=\"Convert this dataframe to an interactive table.\"\n",
              "              style=\"display:none;\">\n",
              "        \n",
              "  <svg xmlns=\"http://www.w3.org/2000/svg\" height=\"24px\"viewBox=\"0 0 24 24\"\n",
              "       width=\"24px\">\n",
              "    <path d=\"M0 0h24v24H0V0z\" fill=\"none\"/>\n",
              "    <path d=\"M18.56 5.44l.94 2.06.94-2.06 2.06-.94-2.06-.94-.94-2.06-.94 2.06-2.06.94zm-11 1L8.5 8.5l.94-2.06 2.06-.94-2.06-.94L8.5 2.5l-.94 2.06-2.06.94zm10 10l.94 2.06.94-2.06 2.06-.94-2.06-.94-.94-2.06-.94 2.06-2.06.94z\"/><path d=\"M17.41 7.96l-1.37-1.37c-.4-.4-.92-.59-1.43-.59-.52 0-1.04.2-1.43.59L10.3 9.45l-7.72 7.72c-.78.78-.78 2.05 0 2.83L4 21.41c.39.39.9.59 1.41.59.51 0 1.02-.2 1.41-.59l7.78-7.78 2.81-2.81c.8-.78.8-2.07 0-2.86zM5.41 20L4 18.59l7.72-7.72 1.47 1.35L5.41 20z\"/>\n",
              "  </svg>\n",
              "      </button>\n",
              "      \n",
              "  <style>\n",
              "    .colab-df-container {\n",
              "      display:flex;\n",
              "      flex-wrap:wrap;\n",
              "      gap: 12px;\n",
              "    }\n",
              "\n",
              "    .colab-df-convert {\n",
              "      background-color: #E8F0FE;\n",
              "      border: none;\n",
              "      border-radius: 50%;\n",
              "      cursor: pointer;\n",
              "      display: none;\n",
              "      fill: #1967D2;\n",
              "      height: 32px;\n",
              "      padding: 0 0 0 0;\n",
              "      width: 32px;\n",
              "    }\n",
              "\n",
              "    .colab-df-convert:hover {\n",
              "      background-color: #E2EBFA;\n",
              "      box-shadow: 0px 1px 2px rgba(60, 64, 67, 0.3), 0px 1px 3px 1px rgba(60, 64, 67, 0.15);\n",
              "      fill: #174EA6;\n",
              "    }\n",
              "\n",
              "    [theme=dark] .colab-df-convert {\n",
              "      background-color: #3B4455;\n",
              "      fill: #D2E3FC;\n",
              "    }\n",
              "\n",
              "    [theme=dark] .colab-df-convert:hover {\n",
              "      background-color: #434B5C;\n",
              "      box-shadow: 0px 1px 3px 1px rgba(0, 0, 0, 0.15);\n",
              "      filter: drop-shadow(0px 1px 2px rgba(0, 0, 0, 0.3));\n",
              "      fill: #FFFFFF;\n",
              "    }\n",
              "  </style>\n",
              "\n",
              "      <script>\n",
              "        const buttonEl =\n",
              "          document.querySelector('#df-3ded5dbc-f7a2-4178-8e1f-7c3d5c05680b button.colab-df-convert');\n",
              "        buttonEl.style.display =\n",
              "          google.colab.kernel.accessAllowed ? 'block' : 'none';\n",
              "\n",
              "        async function convertToInteractive(key) {\n",
              "          const element = document.querySelector('#df-3ded5dbc-f7a2-4178-8e1f-7c3d5c05680b');\n",
              "          const dataTable =\n",
              "            await google.colab.kernel.invokeFunction('convertToInteractive',\n",
              "                                                     [key], {});\n",
              "          if (!dataTable) return;\n",
              "\n",
              "          const docLinkHtml = 'Like what you see? Visit the ' +\n",
              "            '<a target=\"_blank\" href=https://colab.research.google.com/notebooks/data_table.ipynb>data table notebook</a>'\n",
              "            + ' to learn more about interactive tables.';\n",
              "          element.innerHTML = '';\n",
              "          dataTable['output_type'] = 'display_data';\n",
              "          await google.colab.output.renderOutput(dataTable, element);\n",
              "          const docLink = document.createElement('div');\n",
              "          docLink.innerHTML = docLinkHtml;\n",
              "          element.appendChild(docLink);\n",
              "        }\n",
              "      </script>\n",
              "    </div>\n",
              "  </div>\n",
              "  "
            ]
          },
          "metadata": {},
          "execution_count": 74
        }
      ]
    },
    {
      "cell_type": "code",
      "source": [
        "titanic_merge = pd.merge(titanic3, titanic4, left_on = 'PassengerId', right_on = 'PassengerId', how = 'outer')\n",
        "titanic_merge"
      ],
      "metadata": {
        "colab": {
          "base_uri": "https://localhost:8080/",
          "height": 424
        },
        "id": "uP8jgcmo96T8",
        "outputId": "07cce4d0-c383-4727-98db-cfbb577077dc"
      },
      "execution_count": 72,
      "outputs": [
        {
          "output_type": "execute_result",
          "data": {
            "text/plain": [
              "   PassengerId  Survived  Pclass  \\\n",
              "0            1       0.0     3.0   \n",
              "1            2       1.0     1.0   \n",
              "2            3       1.0     3.0   \n",
              "3            4       1.0     1.0   \n",
              "4            5       0.0     3.0   \n",
              "5            6       0.0     3.0   \n",
              "6            7       0.0     1.0   \n",
              "7            8       NaN     NaN   \n",
              "8            9       NaN     NaN   \n",
              "9           10       NaN     NaN   \n",
              "\n",
              "                                                Name     Sex   Age  Parch  \\\n",
              "0                            Braund, Mr. Owen Harris    male  22.0    NaN   \n",
              "1  Cumings, Mrs. John Bradley (Florence Briggs Th...  female  38.0    NaN   \n",
              "2                             Heikkinen, Miss. Laina  female  26.0    NaN   \n",
              "3       Futrelle, Mrs. Jacques Heath (Lily May Peel)  female  35.0    0.0   \n",
              "4                           Allen, Mr. William Henry    male  35.0    0.0   \n",
              "5                                   Moran, Mr. James    male   NaN    0.0   \n",
              "6                            McCarthy, Mr. Timothy J    male  54.0    0.0   \n",
              "7                                                NaN     NaN   NaN    1.0   \n",
              "8                                                NaN     NaN   NaN    2.0   \n",
              "9                                                NaN     NaN   NaN    0.0   \n",
              "\n",
              "   Ticket     Fare Cabin Embarked  \n",
              "0     NaN      NaN   NaN      NaN  \n",
              "1     NaN      NaN   NaN      NaN  \n",
              "2     NaN      NaN   NaN      NaN  \n",
              "3  113803  53.1000  C123        S  \n",
              "4  373450   8.0500   NaN        S  \n",
              "5  330877   8.4583   NaN        Q  \n",
              "6   17463  51.8625   E46        S  \n",
              "7  349909  21.0750   NaN        S  \n",
              "8  347742  11.1333   NaN        S  \n",
              "9  237736  30.0708   NaN        C  "
            ],
            "text/html": [
              "\n",
              "  <div id=\"df-73b50221-e70e-4934-b132-e19965ee94d4\">\n",
              "    <div class=\"colab-df-container\">\n",
              "      <div>\n",
              "<style scoped>\n",
              "    .dataframe tbody tr th:only-of-type {\n",
              "        vertical-align: middle;\n",
              "    }\n",
              "\n",
              "    .dataframe tbody tr th {\n",
              "        vertical-align: top;\n",
              "    }\n",
              "\n",
              "    .dataframe thead th {\n",
              "        text-align: right;\n",
              "    }\n",
              "</style>\n",
              "<table border=\"1\" class=\"dataframe\">\n",
              "  <thead>\n",
              "    <tr style=\"text-align: right;\">\n",
              "      <th></th>\n",
              "      <th>PassengerId</th>\n",
              "      <th>Survived</th>\n",
              "      <th>Pclass</th>\n",
              "      <th>Name</th>\n",
              "      <th>Sex</th>\n",
              "      <th>Age</th>\n",
              "      <th>Parch</th>\n",
              "      <th>Ticket</th>\n",
              "      <th>Fare</th>\n",
              "      <th>Cabin</th>\n",
              "      <th>Embarked</th>\n",
              "    </tr>\n",
              "  </thead>\n",
              "  <tbody>\n",
              "    <tr>\n",
              "      <th>0</th>\n",
              "      <td>1</td>\n",
              "      <td>0.0</td>\n",
              "      <td>3.0</td>\n",
              "      <td>Braund, Mr. Owen Harris</td>\n",
              "      <td>male</td>\n",
              "      <td>22.0</td>\n",
              "      <td>NaN</td>\n",
              "      <td>NaN</td>\n",
              "      <td>NaN</td>\n",
              "      <td>NaN</td>\n",
              "      <td>NaN</td>\n",
              "    </tr>\n",
              "    <tr>\n",
              "      <th>1</th>\n",
              "      <td>2</td>\n",
              "      <td>1.0</td>\n",
              "      <td>1.0</td>\n",
              "      <td>Cumings, Mrs. John Bradley (Florence Briggs Th...</td>\n",
              "      <td>female</td>\n",
              "      <td>38.0</td>\n",
              "      <td>NaN</td>\n",
              "      <td>NaN</td>\n",
              "      <td>NaN</td>\n",
              "      <td>NaN</td>\n",
              "      <td>NaN</td>\n",
              "    </tr>\n",
              "    <tr>\n",
              "      <th>2</th>\n",
              "      <td>3</td>\n",
              "      <td>1.0</td>\n",
              "      <td>3.0</td>\n",
              "      <td>Heikkinen, Miss. Laina</td>\n",
              "      <td>female</td>\n",
              "      <td>26.0</td>\n",
              "      <td>NaN</td>\n",
              "      <td>NaN</td>\n",
              "      <td>NaN</td>\n",
              "      <td>NaN</td>\n",
              "      <td>NaN</td>\n",
              "    </tr>\n",
              "    <tr>\n",
              "      <th>3</th>\n",
              "      <td>4</td>\n",
              "      <td>1.0</td>\n",
              "      <td>1.0</td>\n",
              "      <td>Futrelle, Mrs. Jacques Heath (Lily May Peel)</td>\n",
              "      <td>female</td>\n",
              "      <td>35.0</td>\n",
              "      <td>0.0</td>\n",
              "      <td>113803</td>\n",
              "      <td>53.1000</td>\n",
              "      <td>C123</td>\n",
              "      <td>S</td>\n",
              "    </tr>\n",
              "    <tr>\n",
              "      <th>4</th>\n",
              "      <td>5</td>\n",
              "      <td>0.0</td>\n",
              "      <td>3.0</td>\n",
              "      <td>Allen, Mr. William Henry</td>\n",
              "      <td>male</td>\n",
              "      <td>35.0</td>\n",
              "      <td>0.0</td>\n",
              "      <td>373450</td>\n",
              "      <td>8.0500</td>\n",
              "      <td>NaN</td>\n",
              "      <td>S</td>\n",
              "    </tr>\n",
              "    <tr>\n",
              "      <th>5</th>\n",
              "      <td>6</td>\n",
              "      <td>0.0</td>\n",
              "      <td>3.0</td>\n",
              "      <td>Moran, Mr. James</td>\n",
              "      <td>male</td>\n",
              "      <td>NaN</td>\n",
              "      <td>0.0</td>\n",
              "      <td>330877</td>\n",
              "      <td>8.4583</td>\n",
              "      <td>NaN</td>\n",
              "      <td>Q</td>\n",
              "    </tr>\n",
              "    <tr>\n",
              "      <th>6</th>\n",
              "      <td>7</td>\n",
              "      <td>0.0</td>\n",
              "      <td>1.0</td>\n",
              "      <td>McCarthy, Mr. Timothy J</td>\n",
              "      <td>male</td>\n",
              "      <td>54.0</td>\n",
              "      <td>0.0</td>\n",
              "      <td>17463</td>\n",
              "      <td>51.8625</td>\n",
              "      <td>E46</td>\n",
              "      <td>S</td>\n",
              "    </tr>\n",
              "    <tr>\n",
              "      <th>7</th>\n",
              "      <td>8</td>\n",
              "      <td>NaN</td>\n",
              "      <td>NaN</td>\n",
              "      <td>NaN</td>\n",
              "      <td>NaN</td>\n",
              "      <td>NaN</td>\n",
              "      <td>1.0</td>\n",
              "      <td>349909</td>\n",
              "      <td>21.0750</td>\n",
              "      <td>NaN</td>\n",
              "      <td>S</td>\n",
              "    </tr>\n",
              "    <tr>\n",
              "      <th>8</th>\n",
              "      <td>9</td>\n",
              "      <td>NaN</td>\n",
              "      <td>NaN</td>\n",
              "      <td>NaN</td>\n",
              "      <td>NaN</td>\n",
              "      <td>NaN</td>\n",
              "      <td>2.0</td>\n",
              "      <td>347742</td>\n",
              "      <td>11.1333</td>\n",
              "      <td>NaN</td>\n",
              "      <td>S</td>\n",
              "    </tr>\n",
              "    <tr>\n",
              "      <th>9</th>\n",
              "      <td>10</td>\n",
              "      <td>NaN</td>\n",
              "      <td>NaN</td>\n",
              "      <td>NaN</td>\n",
              "      <td>NaN</td>\n",
              "      <td>NaN</td>\n",
              "      <td>0.0</td>\n",
              "      <td>237736</td>\n",
              "      <td>30.0708</td>\n",
              "      <td>NaN</td>\n",
              "      <td>C</td>\n",
              "    </tr>\n",
              "  </tbody>\n",
              "</table>\n",
              "</div>\n",
              "      <button class=\"colab-df-convert\" onclick=\"convertToInteractive('df-73b50221-e70e-4934-b132-e19965ee94d4')\"\n",
              "              title=\"Convert this dataframe to an interactive table.\"\n",
              "              style=\"display:none;\">\n",
              "        \n",
              "  <svg xmlns=\"http://www.w3.org/2000/svg\" height=\"24px\"viewBox=\"0 0 24 24\"\n",
              "       width=\"24px\">\n",
              "    <path d=\"M0 0h24v24H0V0z\" fill=\"none\"/>\n",
              "    <path d=\"M18.56 5.44l.94 2.06.94-2.06 2.06-.94-2.06-.94-.94-2.06-.94 2.06-2.06.94zm-11 1L8.5 8.5l.94-2.06 2.06-.94-2.06-.94L8.5 2.5l-.94 2.06-2.06.94zm10 10l.94 2.06.94-2.06 2.06-.94-2.06-.94-.94-2.06-.94 2.06-2.06.94z\"/><path d=\"M17.41 7.96l-1.37-1.37c-.4-.4-.92-.59-1.43-.59-.52 0-1.04.2-1.43.59L10.3 9.45l-7.72 7.72c-.78.78-.78 2.05 0 2.83L4 21.41c.39.39.9.59 1.41.59.51 0 1.02-.2 1.41-.59l7.78-7.78 2.81-2.81c.8-.78.8-2.07 0-2.86zM5.41 20L4 18.59l7.72-7.72 1.47 1.35L5.41 20z\"/>\n",
              "  </svg>\n",
              "      </button>\n",
              "      \n",
              "  <style>\n",
              "    .colab-df-container {\n",
              "      display:flex;\n",
              "      flex-wrap:wrap;\n",
              "      gap: 12px;\n",
              "    }\n",
              "\n",
              "    .colab-df-convert {\n",
              "      background-color: #E8F0FE;\n",
              "      border: none;\n",
              "      border-radius: 50%;\n",
              "      cursor: pointer;\n",
              "      display: none;\n",
              "      fill: #1967D2;\n",
              "      height: 32px;\n",
              "      padding: 0 0 0 0;\n",
              "      width: 32px;\n",
              "    }\n",
              "\n",
              "    .colab-df-convert:hover {\n",
              "      background-color: #E2EBFA;\n",
              "      box-shadow: 0px 1px 2px rgba(60, 64, 67, 0.3), 0px 1px 3px 1px rgba(60, 64, 67, 0.15);\n",
              "      fill: #174EA6;\n",
              "    }\n",
              "\n",
              "    [theme=dark] .colab-df-convert {\n",
              "      background-color: #3B4455;\n",
              "      fill: #D2E3FC;\n",
              "    }\n",
              "\n",
              "    [theme=dark] .colab-df-convert:hover {\n",
              "      background-color: #434B5C;\n",
              "      box-shadow: 0px 1px 3px 1px rgba(0, 0, 0, 0.15);\n",
              "      filter: drop-shadow(0px 1px 2px rgba(0, 0, 0, 0.3));\n",
              "      fill: #FFFFFF;\n",
              "    }\n",
              "  </style>\n",
              "\n",
              "      <script>\n",
              "        const buttonEl =\n",
              "          document.querySelector('#df-73b50221-e70e-4934-b132-e19965ee94d4 button.colab-df-convert');\n",
              "        buttonEl.style.display =\n",
              "          google.colab.kernel.accessAllowed ? 'block' : 'none';\n",
              "\n",
              "        async function convertToInteractive(key) {\n",
              "          const element = document.querySelector('#df-73b50221-e70e-4934-b132-e19965ee94d4');\n",
              "          const dataTable =\n",
              "            await google.colab.kernel.invokeFunction('convertToInteractive',\n",
              "                                                     [key], {});\n",
              "          if (!dataTable) return;\n",
              "\n",
              "          const docLinkHtml = 'Like what you see? Visit the ' +\n",
              "            '<a target=\"_blank\" href=https://colab.research.google.com/notebooks/data_table.ipynb>data table notebook</a>'\n",
              "            + ' to learn more about interactive tables.';\n",
              "          element.innerHTML = '';\n",
              "          dataTable['output_type'] = 'display_data';\n",
              "          await google.colab.output.renderOutput(dataTable, element);\n",
              "          const docLink = document.createElement('div');\n",
              "          docLink.innerHTML = docLinkHtml;\n",
              "          element.appendChild(docLink);\n",
              "        }\n",
              "      </script>\n",
              "    </div>\n",
              "  </div>\n",
              "  "
            ]
          },
          "metadata": {},
          "execution_count": 72
        }
      ]
    },
    {
      "cell_type": "code",
      "source": [
        ""
      ],
      "metadata": {
        "id": "uONoZSnh-biN"
      },
      "execution_count": null,
      "outputs": []
    },
    {
      "cell_type": "markdown",
      "source": [
        "### - Concat"
      ],
      "metadata": {
        "id": "oUAZwBcJaGA0"
      }
    },
    {
      "cell_type": "markdown",
      "source": [
        "axis = 0 -> untuk menambah row<p>\n",
        "axis = 1 -> untuk menambah column"
      ],
      "metadata": {
        "id": "a2_NYhzy_UjQ"
      }
    },
    {
      "cell_type": "code",
      "source": [
        "titanic_concat = pd.concat([titanic_merge, titanic2], axis = 0)\n",
        "titanic_concat"
      ],
      "metadata": {
        "colab": {
          "base_uri": "https://localhost:8080/",
          "height": 807
        },
        "id": "h8KLU6w9_Esv",
        "outputId": "5daf540d-2727-4da6-f36f-e88d53662163"
      },
      "execution_count": 76,
      "outputs": [
        {
          "output_type": "execute_result",
          "data": {
            "text/plain": [
              "    PassengerId  Survived  Pclass  \\\n",
              "0             1       0.0     3.0   \n",
              "1             2       1.0     1.0   \n",
              "2             3       1.0     3.0   \n",
              "3             4       1.0     1.0   \n",
              "4             5       0.0     3.0   \n",
              "5             6       0.0     3.0   \n",
              "6             7       0.0     1.0   \n",
              "7             8       NaN     NaN   \n",
              "8             9       NaN     NaN   \n",
              "9            10       NaN     NaN   \n",
              "10           11       1.0     3.0   \n",
              "11           12       1.0     1.0   \n",
              "12           13       0.0     3.0   \n",
              "13           14       0.0     3.0   \n",
              "14           15       0.0     3.0   \n",
              "15           16       1.0     2.0   \n",
              "16           17       0.0     3.0   \n",
              "17           18       1.0     2.0   \n",
              "18           19       0.0     3.0   \n",
              "19           20       1.0     3.0   \n",
              "\n",
              "                                                 Name     Sex   Age  Parch  \\\n",
              "0                             Braund, Mr. Owen Harris    male  22.0    NaN   \n",
              "1   Cumings, Mrs. John Bradley (Florence Briggs Th...  female  38.0    NaN   \n",
              "2                              Heikkinen, Miss. Laina  female  26.0    NaN   \n",
              "3        Futrelle, Mrs. Jacques Heath (Lily May Peel)  female  35.0    0.0   \n",
              "4                            Allen, Mr. William Henry    male  35.0    0.0   \n",
              "5                                    Moran, Mr. James    male   NaN    0.0   \n",
              "6                             McCarthy, Mr. Timothy J    male  54.0    0.0   \n",
              "7                                                 NaN     NaN   NaN    1.0   \n",
              "8                                                 NaN     NaN   NaN    2.0   \n",
              "9                                                 NaN     NaN   NaN    0.0   \n",
              "10                    Sandstrom, Miss. Marguerite Rut  female   4.0    1.0   \n",
              "11                           Bonnell, Miss. Elizabeth  female  58.0    0.0   \n",
              "12                     Saundercock, Mr. William Henry    male  20.0    0.0   \n",
              "13                        Andersson, Mr. Anders Johan    male  39.0    5.0   \n",
              "14               Vestrom, Miss. Hulda Amanda Adolfina  female  14.0    0.0   \n",
              "15                   Hewlett, Mrs. (Mary D Kingcome)   female  55.0    0.0   \n",
              "16                               Rice, Master. Eugene    male   2.0    1.0   \n",
              "17                       Williams, Mr. Charles Eugene    male   NaN    0.0   \n",
              "18  Vander Planke, Mrs. Julius (Emelia Maria Vande...  female  31.0    0.0   \n",
              "19                            Masselmani, Mrs. Fatima  female   NaN    0.0   \n",
              "\n",
              "       Ticket     Fare Cabin Embarked  SibSp  \n",
              "0         NaN      NaN   NaN      NaN    NaN  \n",
              "1         NaN      NaN   NaN      NaN    NaN  \n",
              "2         NaN      NaN   NaN      NaN    NaN  \n",
              "3      113803  53.1000  C123        S    NaN  \n",
              "4      373450   8.0500   NaN        S    NaN  \n",
              "5      330877   8.4583   NaN        Q    NaN  \n",
              "6       17463  51.8625   E46        S    NaN  \n",
              "7      349909  21.0750   NaN        S    NaN  \n",
              "8      347742  11.1333   NaN        S    NaN  \n",
              "9      237736  30.0708   NaN        C    NaN  \n",
              "10    PP 9549  16.7000    G6        S    1.0  \n",
              "11     113783  26.5500  C103        S    0.0  \n",
              "12  A/5. 2151   8.0500   NaN        S    0.0  \n",
              "13     347082  31.2750   NaN        S    1.0  \n",
              "14     350406   7.8542   NaN        S    0.0  \n",
              "15     248706  16.0000   NaN        S    0.0  \n",
              "16     382652  29.1250   NaN        Q    4.0  \n",
              "17     244373  13.0000   NaN        S    0.0  \n",
              "18     345763  18.0000   NaN        S    1.0  \n",
              "19       2649   7.2250   NaN        C    0.0  "
            ],
            "text/html": [
              "\n",
              "  <div id=\"df-35e3a096-ae62-432b-9b26-bad4b511b35e\">\n",
              "    <div class=\"colab-df-container\">\n",
              "      <div>\n",
              "<style scoped>\n",
              "    .dataframe tbody tr th:only-of-type {\n",
              "        vertical-align: middle;\n",
              "    }\n",
              "\n",
              "    .dataframe tbody tr th {\n",
              "        vertical-align: top;\n",
              "    }\n",
              "\n",
              "    .dataframe thead th {\n",
              "        text-align: right;\n",
              "    }\n",
              "</style>\n",
              "<table border=\"1\" class=\"dataframe\">\n",
              "  <thead>\n",
              "    <tr style=\"text-align: right;\">\n",
              "      <th></th>\n",
              "      <th>PassengerId</th>\n",
              "      <th>Survived</th>\n",
              "      <th>Pclass</th>\n",
              "      <th>Name</th>\n",
              "      <th>Sex</th>\n",
              "      <th>Age</th>\n",
              "      <th>Parch</th>\n",
              "      <th>Ticket</th>\n",
              "      <th>Fare</th>\n",
              "      <th>Cabin</th>\n",
              "      <th>Embarked</th>\n",
              "      <th>SibSp</th>\n",
              "    </tr>\n",
              "  </thead>\n",
              "  <tbody>\n",
              "    <tr>\n",
              "      <th>0</th>\n",
              "      <td>1</td>\n",
              "      <td>0.0</td>\n",
              "      <td>3.0</td>\n",
              "      <td>Braund, Mr. Owen Harris</td>\n",
              "      <td>male</td>\n",
              "      <td>22.0</td>\n",
              "      <td>NaN</td>\n",
              "      <td>NaN</td>\n",
              "      <td>NaN</td>\n",
              "      <td>NaN</td>\n",
              "      <td>NaN</td>\n",
              "      <td>NaN</td>\n",
              "    </tr>\n",
              "    <tr>\n",
              "      <th>1</th>\n",
              "      <td>2</td>\n",
              "      <td>1.0</td>\n",
              "      <td>1.0</td>\n",
              "      <td>Cumings, Mrs. John Bradley (Florence Briggs Th...</td>\n",
              "      <td>female</td>\n",
              "      <td>38.0</td>\n",
              "      <td>NaN</td>\n",
              "      <td>NaN</td>\n",
              "      <td>NaN</td>\n",
              "      <td>NaN</td>\n",
              "      <td>NaN</td>\n",
              "      <td>NaN</td>\n",
              "    </tr>\n",
              "    <tr>\n",
              "      <th>2</th>\n",
              "      <td>3</td>\n",
              "      <td>1.0</td>\n",
              "      <td>3.0</td>\n",
              "      <td>Heikkinen, Miss. Laina</td>\n",
              "      <td>female</td>\n",
              "      <td>26.0</td>\n",
              "      <td>NaN</td>\n",
              "      <td>NaN</td>\n",
              "      <td>NaN</td>\n",
              "      <td>NaN</td>\n",
              "      <td>NaN</td>\n",
              "      <td>NaN</td>\n",
              "    </tr>\n",
              "    <tr>\n",
              "      <th>3</th>\n",
              "      <td>4</td>\n",
              "      <td>1.0</td>\n",
              "      <td>1.0</td>\n",
              "      <td>Futrelle, Mrs. Jacques Heath (Lily May Peel)</td>\n",
              "      <td>female</td>\n",
              "      <td>35.0</td>\n",
              "      <td>0.0</td>\n",
              "      <td>113803</td>\n",
              "      <td>53.1000</td>\n",
              "      <td>C123</td>\n",
              "      <td>S</td>\n",
              "      <td>NaN</td>\n",
              "    </tr>\n",
              "    <tr>\n",
              "      <th>4</th>\n",
              "      <td>5</td>\n",
              "      <td>0.0</td>\n",
              "      <td>3.0</td>\n",
              "      <td>Allen, Mr. William Henry</td>\n",
              "      <td>male</td>\n",
              "      <td>35.0</td>\n",
              "      <td>0.0</td>\n",
              "      <td>373450</td>\n",
              "      <td>8.0500</td>\n",
              "      <td>NaN</td>\n",
              "      <td>S</td>\n",
              "      <td>NaN</td>\n",
              "    </tr>\n",
              "    <tr>\n",
              "      <th>5</th>\n",
              "      <td>6</td>\n",
              "      <td>0.0</td>\n",
              "      <td>3.0</td>\n",
              "      <td>Moran, Mr. James</td>\n",
              "      <td>male</td>\n",
              "      <td>NaN</td>\n",
              "      <td>0.0</td>\n",
              "      <td>330877</td>\n",
              "      <td>8.4583</td>\n",
              "      <td>NaN</td>\n",
              "      <td>Q</td>\n",
              "      <td>NaN</td>\n",
              "    </tr>\n",
              "    <tr>\n",
              "      <th>6</th>\n",
              "      <td>7</td>\n",
              "      <td>0.0</td>\n",
              "      <td>1.0</td>\n",
              "      <td>McCarthy, Mr. Timothy J</td>\n",
              "      <td>male</td>\n",
              "      <td>54.0</td>\n",
              "      <td>0.0</td>\n",
              "      <td>17463</td>\n",
              "      <td>51.8625</td>\n",
              "      <td>E46</td>\n",
              "      <td>S</td>\n",
              "      <td>NaN</td>\n",
              "    </tr>\n",
              "    <tr>\n",
              "      <th>7</th>\n",
              "      <td>8</td>\n",
              "      <td>NaN</td>\n",
              "      <td>NaN</td>\n",
              "      <td>NaN</td>\n",
              "      <td>NaN</td>\n",
              "      <td>NaN</td>\n",
              "      <td>1.0</td>\n",
              "      <td>349909</td>\n",
              "      <td>21.0750</td>\n",
              "      <td>NaN</td>\n",
              "      <td>S</td>\n",
              "      <td>NaN</td>\n",
              "    </tr>\n",
              "    <tr>\n",
              "      <th>8</th>\n",
              "      <td>9</td>\n",
              "      <td>NaN</td>\n",
              "      <td>NaN</td>\n",
              "      <td>NaN</td>\n",
              "      <td>NaN</td>\n",
              "      <td>NaN</td>\n",
              "      <td>2.0</td>\n",
              "      <td>347742</td>\n",
              "      <td>11.1333</td>\n",
              "      <td>NaN</td>\n",
              "      <td>S</td>\n",
              "      <td>NaN</td>\n",
              "    </tr>\n",
              "    <tr>\n",
              "      <th>9</th>\n",
              "      <td>10</td>\n",
              "      <td>NaN</td>\n",
              "      <td>NaN</td>\n",
              "      <td>NaN</td>\n",
              "      <td>NaN</td>\n",
              "      <td>NaN</td>\n",
              "      <td>0.0</td>\n",
              "      <td>237736</td>\n",
              "      <td>30.0708</td>\n",
              "      <td>NaN</td>\n",
              "      <td>C</td>\n",
              "      <td>NaN</td>\n",
              "    </tr>\n",
              "    <tr>\n",
              "      <th>10</th>\n",
              "      <td>11</td>\n",
              "      <td>1.0</td>\n",
              "      <td>3.0</td>\n",
              "      <td>Sandstrom, Miss. Marguerite Rut</td>\n",
              "      <td>female</td>\n",
              "      <td>4.0</td>\n",
              "      <td>1.0</td>\n",
              "      <td>PP 9549</td>\n",
              "      <td>16.7000</td>\n",
              "      <td>G6</td>\n",
              "      <td>S</td>\n",
              "      <td>1.0</td>\n",
              "    </tr>\n",
              "    <tr>\n",
              "      <th>11</th>\n",
              "      <td>12</td>\n",
              "      <td>1.0</td>\n",
              "      <td>1.0</td>\n",
              "      <td>Bonnell, Miss. Elizabeth</td>\n",
              "      <td>female</td>\n",
              "      <td>58.0</td>\n",
              "      <td>0.0</td>\n",
              "      <td>113783</td>\n",
              "      <td>26.5500</td>\n",
              "      <td>C103</td>\n",
              "      <td>S</td>\n",
              "      <td>0.0</td>\n",
              "    </tr>\n",
              "    <tr>\n",
              "      <th>12</th>\n",
              "      <td>13</td>\n",
              "      <td>0.0</td>\n",
              "      <td>3.0</td>\n",
              "      <td>Saundercock, Mr. William Henry</td>\n",
              "      <td>male</td>\n",
              "      <td>20.0</td>\n",
              "      <td>0.0</td>\n",
              "      <td>A/5. 2151</td>\n",
              "      <td>8.0500</td>\n",
              "      <td>NaN</td>\n",
              "      <td>S</td>\n",
              "      <td>0.0</td>\n",
              "    </tr>\n",
              "    <tr>\n",
              "      <th>13</th>\n",
              "      <td>14</td>\n",
              "      <td>0.0</td>\n",
              "      <td>3.0</td>\n",
              "      <td>Andersson, Mr. Anders Johan</td>\n",
              "      <td>male</td>\n",
              "      <td>39.0</td>\n",
              "      <td>5.0</td>\n",
              "      <td>347082</td>\n",
              "      <td>31.2750</td>\n",
              "      <td>NaN</td>\n",
              "      <td>S</td>\n",
              "      <td>1.0</td>\n",
              "    </tr>\n",
              "    <tr>\n",
              "      <th>14</th>\n",
              "      <td>15</td>\n",
              "      <td>0.0</td>\n",
              "      <td>3.0</td>\n",
              "      <td>Vestrom, Miss. Hulda Amanda Adolfina</td>\n",
              "      <td>female</td>\n",
              "      <td>14.0</td>\n",
              "      <td>0.0</td>\n",
              "      <td>350406</td>\n",
              "      <td>7.8542</td>\n",
              "      <td>NaN</td>\n",
              "      <td>S</td>\n",
              "      <td>0.0</td>\n",
              "    </tr>\n",
              "    <tr>\n",
              "      <th>15</th>\n",
              "      <td>16</td>\n",
              "      <td>1.0</td>\n",
              "      <td>2.0</td>\n",
              "      <td>Hewlett, Mrs. (Mary D Kingcome)</td>\n",
              "      <td>female</td>\n",
              "      <td>55.0</td>\n",
              "      <td>0.0</td>\n",
              "      <td>248706</td>\n",
              "      <td>16.0000</td>\n",
              "      <td>NaN</td>\n",
              "      <td>S</td>\n",
              "      <td>0.0</td>\n",
              "    </tr>\n",
              "    <tr>\n",
              "      <th>16</th>\n",
              "      <td>17</td>\n",
              "      <td>0.0</td>\n",
              "      <td>3.0</td>\n",
              "      <td>Rice, Master. Eugene</td>\n",
              "      <td>male</td>\n",
              "      <td>2.0</td>\n",
              "      <td>1.0</td>\n",
              "      <td>382652</td>\n",
              "      <td>29.1250</td>\n",
              "      <td>NaN</td>\n",
              "      <td>Q</td>\n",
              "      <td>4.0</td>\n",
              "    </tr>\n",
              "    <tr>\n",
              "      <th>17</th>\n",
              "      <td>18</td>\n",
              "      <td>1.0</td>\n",
              "      <td>2.0</td>\n",
              "      <td>Williams, Mr. Charles Eugene</td>\n",
              "      <td>male</td>\n",
              "      <td>NaN</td>\n",
              "      <td>0.0</td>\n",
              "      <td>244373</td>\n",
              "      <td>13.0000</td>\n",
              "      <td>NaN</td>\n",
              "      <td>S</td>\n",
              "      <td>0.0</td>\n",
              "    </tr>\n",
              "    <tr>\n",
              "      <th>18</th>\n",
              "      <td>19</td>\n",
              "      <td>0.0</td>\n",
              "      <td>3.0</td>\n",
              "      <td>Vander Planke, Mrs. Julius (Emelia Maria Vande...</td>\n",
              "      <td>female</td>\n",
              "      <td>31.0</td>\n",
              "      <td>0.0</td>\n",
              "      <td>345763</td>\n",
              "      <td>18.0000</td>\n",
              "      <td>NaN</td>\n",
              "      <td>S</td>\n",
              "      <td>1.0</td>\n",
              "    </tr>\n",
              "    <tr>\n",
              "      <th>19</th>\n",
              "      <td>20</td>\n",
              "      <td>1.0</td>\n",
              "      <td>3.0</td>\n",
              "      <td>Masselmani, Mrs. Fatima</td>\n",
              "      <td>female</td>\n",
              "      <td>NaN</td>\n",
              "      <td>0.0</td>\n",
              "      <td>2649</td>\n",
              "      <td>7.2250</td>\n",
              "      <td>NaN</td>\n",
              "      <td>C</td>\n",
              "      <td>0.0</td>\n",
              "    </tr>\n",
              "  </tbody>\n",
              "</table>\n",
              "</div>\n",
              "      <button class=\"colab-df-convert\" onclick=\"convertToInteractive('df-35e3a096-ae62-432b-9b26-bad4b511b35e')\"\n",
              "              title=\"Convert this dataframe to an interactive table.\"\n",
              "              style=\"display:none;\">\n",
              "        \n",
              "  <svg xmlns=\"http://www.w3.org/2000/svg\" height=\"24px\"viewBox=\"0 0 24 24\"\n",
              "       width=\"24px\">\n",
              "    <path d=\"M0 0h24v24H0V0z\" fill=\"none\"/>\n",
              "    <path d=\"M18.56 5.44l.94 2.06.94-2.06 2.06-.94-2.06-.94-.94-2.06-.94 2.06-2.06.94zm-11 1L8.5 8.5l.94-2.06 2.06-.94-2.06-.94L8.5 2.5l-.94 2.06-2.06.94zm10 10l.94 2.06.94-2.06 2.06-.94-2.06-.94-.94-2.06-.94 2.06-2.06.94z\"/><path d=\"M17.41 7.96l-1.37-1.37c-.4-.4-.92-.59-1.43-.59-.52 0-1.04.2-1.43.59L10.3 9.45l-7.72 7.72c-.78.78-.78 2.05 0 2.83L4 21.41c.39.39.9.59 1.41.59.51 0 1.02-.2 1.41-.59l7.78-7.78 2.81-2.81c.8-.78.8-2.07 0-2.86zM5.41 20L4 18.59l7.72-7.72 1.47 1.35L5.41 20z\"/>\n",
              "  </svg>\n",
              "      </button>\n",
              "      \n",
              "  <style>\n",
              "    .colab-df-container {\n",
              "      display:flex;\n",
              "      flex-wrap:wrap;\n",
              "      gap: 12px;\n",
              "    }\n",
              "\n",
              "    .colab-df-convert {\n",
              "      background-color: #E8F0FE;\n",
              "      border: none;\n",
              "      border-radius: 50%;\n",
              "      cursor: pointer;\n",
              "      display: none;\n",
              "      fill: #1967D2;\n",
              "      height: 32px;\n",
              "      padding: 0 0 0 0;\n",
              "      width: 32px;\n",
              "    }\n",
              "\n",
              "    .colab-df-convert:hover {\n",
              "      background-color: #E2EBFA;\n",
              "      box-shadow: 0px 1px 2px rgba(60, 64, 67, 0.3), 0px 1px 3px 1px rgba(60, 64, 67, 0.15);\n",
              "      fill: #174EA6;\n",
              "    }\n",
              "\n",
              "    [theme=dark] .colab-df-convert {\n",
              "      background-color: #3B4455;\n",
              "      fill: #D2E3FC;\n",
              "    }\n",
              "\n",
              "    [theme=dark] .colab-df-convert:hover {\n",
              "      background-color: #434B5C;\n",
              "      box-shadow: 0px 1px 3px 1px rgba(0, 0, 0, 0.15);\n",
              "      filter: drop-shadow(0px 1px 2px rgba(0, 0, 0, 0.3));\n",
              "      fill: #FFFFFF;\n",
              "    }\n",
              "  </style>\n",
              "\n",
              "      <script>\n",
              "        const buttonEl =\n",
              "          document.querySelector('#df-35e3a096-ae62-432b-9b26-bad4b511b35e button.colab-df-convert');\n",
              "        buttonEl.style.display =\n",
              "          google.colab.kernel.accessAllowed ? 'block' : 'none';\n",
              "\n",
              "        async function convertToInteractive(key) {\n",
              "          const element = document.querySelector('#df-35e3a096-ae62-432b-9b26-bad4b511b35e');\n",
              "          const dataTable =\n",
              "            await google.colab.kernel.invokeFunction('convertToInteractive',\n",
              "                                                     [key], {});\n",
              "          if (!dataTable) return;\n",
              "\n",
              "          const docLinkHtml = 'Like what you see? Visit the ' +\n",
              "            '<a target=\"_blank\" href=https://colab.research.google.com/notebooks/data_table.ipynb>data table notebook</a>'\n",
              "            + ' to learn more about interactive tables.';\n",
              "          element.innerHTML = '';\n",
              "          dataTable['output_type'] = 'display_data';\n",
              "          await google.colab.output.renderOutput(dataTable, element);\n",
              "          const docLink = document.createElement('div');\n",
              "          docLink.innerHTML = docLinkHtml;\n",
              "          element.appendChild(docLink);\n",
              "        }\n",
              "      </script>\n",
              "    </div>\n",
              "  </div>\n",
              "  "
            ]
          },
          "metadata": {},
          "execution_count": 76
        }
      ]
    },
    {
      "cell_type": "code",
      "source": [
        ""
      ],
      "metadata": {
        "id": "VebP9xoH_j6q"
      },
      "execution_count": null,
      "outputs": []
    },
    {
      "cell_type": "markdown",
      "source": [
        "### - Join"
      ],
      "metadata": {
        "id": "SYiWHGXKaKzL"
      }
    },
    {
      "cell_type": "markdown",
      "source": [
        "## Drop & Duplicate"
      ],
      "metadata": {
        "id": "7o3TEjSMaMBW"
      }
    },
    {
      "cell_type": "markdown",
      "source": [
        "### Drop"
      ],
      "metadata": {
        "id": "gkkSRjQ3aQSe"
      }
    },
    {
      "cell_type": "markdown",
      "source": [
        "### Duplicate"
      ],
      "metadata": {
        "id": "A8-4b8f8aTih"
      }
    },
    {
      "cell_type": "markdown",
      "source": [
        "## Missing Value"
      ],
      "metadata": {
        "id": "1QVoxg5haWfl"
      }
    },
    {
      "cell_type": "markdown",
      "source": [
        "### Finding Missing Value"
      ],
      "metadata": {
        "id": "H9BP3ev6eNBL"
      }
    },
    {
      "cell_type": "markdown",
      "source": [
        "MCAR: typo, salah input, lupa mengisi\n",
        "\n",
        "MAR: beberapa tidak mengisi\n",
        "\n",
        "MNAR: systematic error"
      ],
      "metadata": {
        "id": "83gJMd6mjRVk"
      }
    },
    {
      "cell_type": "markdown",
      "source": [
        "##### **data.isnull().sum()**\n",
        "\n",
        "total NA tiap kolom dlm dataset"
      ],
      "metadata": {
        "id": "jz8S1SUcjSQc"
      }
    },
    {
      "cell_type": "code",
      "source": [
        "housing.isnull().sum()"
      ],
      "metadata": {
        "colab": {
          "base_uri": "https://localhost:8080/"
        },
        "id": "5DGEnBZejnY4",
        "outputId": "29f3520d-c0b2-4889-8333-028eb0033ea2"
      },
      "execution_count": null,
      "outputs": [
        {
          "output_type": "execute_result",
          "data": {
            "text/plain": [
              "longitude             0\n",
              "latitude              0\n",
              "housing_median_age    0\n",
              "total_rooms           0\n",
              "total_bedrooms        0\n",
              "population            0\n",
              "households            0\n",
              "median_income         0\n",
              "median_house_value    0\n",
              "dtype: int64"
            ]
          },
          "metadata": {},
          "execution_count": 216
        }
      ]
    },
    {
      "cell_type": "markdown",
      "source": [
        "- Barplot total NA tiap kolom"
      ],
      "metadata": {
        "id": "7Nj1G8kKkVMn"
      }
    },
    {
      "cell_type": "code",
      "source": [
        "housing.isna().sum().plot(kind='bar')"
      ],
      "metadata": {
        "colab": {
          "base_uri": "https://localhost:8080/",
          "height": 378
        },
        "id": "MLEuNIsikL_R",
        "outputId": "7e244a6f-7ece-4d5d-d651-4bec2a9be8dc"
      },
      "execution_count": null,
      "outputs": [
        {
          "output_type": "execute_result",
          "data": {
            "text/plain": [
              "<matplotlib.axes._subplots.AxesSubplot at 0x7fe4fd9848d0>"
            ]
          },
          "metadata": {},
          "execution_count": 218
        },
        {
          "output_type": "display_data",
          "data": {
            "text/plain": [
              "<Figure size 432x288 with 1 Axes>"
            ],
            "image/png": "[encoded data removed]"
          },
          "metadata": {
            "needs_background": "light"
          }
        }
      ]
    },
    {
      "cell_type": "markdown",
      "source": [
        "- Percentage NA tiap kolom"
      ],
      "metadata": {
        "id": "jgyfZxlmkd-R"
      }
    },
    {
      "cell_type": "code",
      "source": [
        "print(len(housing))\n",
        "print(housing.shape)"
      ],
      "metadata": {
        "colab": {
          "base_uri": "https://localhost:8080/"
        },
        "id": "novt0kF9kq3p",
        "outputId": "f7c5cc69-2c4f-4944-c51b-7a686d682671"
      },
      "execution_count": null,
      "outputs": [
        {
          "output_type": "stream",
          "name": "stdout",
          "text": [
            "17000\n",
            "(17000, 9)\n"
          ]
        }
      ]
    },
    {
      "cell_type": "code",
      "source": [
        "housing.isna().sum()/len(housing)"
      ],
      "metadata": {
        "colab": {
          "base_uri": "https://localhost:8080/"
        },
        "id": "RJNP0fuEkh6M",
        "outputId": "431f5293-a4f1-4c75-8967-f134591f1082"
      },
      "execution_count": null,
      "outputs": [
        {
          "output_type": "execute_result",
          "data": {
            "text/plain": [
              "longitude             0.0\n",
              "latitude              0.0\n",
              "housing_median_age    0.0\n",
              "total_rooms           0.0\n",
              "total_bedrooms        0.0\n",
              "population            0.0\n",
              "households            0.0\n",
              "median_income         0.0\n",
              "median_house_value    0.0\n",
              "dtype: float64"
            ]
          },
          "metadata": {},
          "execution_count": 219
        }
      ]
    },
    {
      "cell_type": "markdown",
      "source": [
        "##### **missingno**"
      ],
      "metadata": {
        "id": "_h1_QWuMlZ4k"
      }
    },
    {
      "cell_type": "code",
      "source": [
        "pip install missingno"
      ],
      "metadata": {
        "colab": {
          "base_uri": "https://localhost:8080/"
        },
        "id": "H-rODu_4lgJh",
        "outputId": "a7c8619f-af42-4fb6-e69c-6e42c23473fa"
      },
      "execution_count": null,
      "outputs": [
        {
          "output_type": "stream",
          "name": "stdout",
          "text": [
            "Requirement already satisfied: missingno in /usr/local/lib/python3.7/dist-packages (0.5.1)\n",
            "Requirement already satisfied: scipy in /usr/local/lib/python3.7/dist-packages (from missingno) (1.4.1)\n",
            "Requirement already satisfied: seaborn in /usr/local/lib/python3.7/dist-packages (from missingno) (0.11.2)\n",
            "Requirement already satisfied: numpy in /usr/local/lib/python3.7/dist-packages (from missingno) (1.21.5)\n",
            "Requirement already satisfied: matplotlib in /usr/local/lib/python3.7/dist-packages (from missingno) (3.2.2)\n",
            "Requirement already satisfied: kiwisolver>=1.0.1 in /usr/local/lib/python3.7/dist-packages (from matplotlib->missingno) (1.3.2)\n",
            "Requirement already satisfied: pyparsing!=2.0.4,!=2.1.2,!=2.1.6,>=2.0.1 in /usr/local/lib/python3.7/dist-packages (from matplotlib->missingno) (3.0.7)\n",
            "Requirement already satisfied: python-dateutil>=2.1 in /usr/local/lib/python3.7/dist-packages (from matplotlib->missingno) (2.8.2)\n",
            "Requirement already satisfied: cycler>=0.10 in /usr/local/lib/python3.7/dist-packages (from matplotlib->missingno) (0.11.0)\n",
            "Requirement already satisfied: six>=1.5 in /usr/local/lib/python3.7/dist-packages (from python-dateutil>=2.1->matplotlib->missingno) (1.15.0)\n",
            "Requirement already satisfied: pandas>=0.23 in /usr/local/lib/python3.7/dist-packages (from seaborn->missingno) (1.3.5)\n",
            "Requirement already satisfied: pytz>=2017.3 in /usr/local/lib/python3.7/dist-packages (from pandas>=0.23->seaborn->missingno) (2018.9)\n"
          ]
        }
      ]
    },
    {
      "cell_type": "code",
      "source": [
        "import missingno as msno"
      ],
      "metadata": {
        "id": "j-cPvM4oln0P"
      },
      "execution_count": null,
      "outputs": []
    },
    {
      "cell_type": "markdown",
      "source": [
        "**msno**\n",
        "\n",
        "msno.matrix(data)\n",
        "\n",
        "msno.bar(data)\n",
        "\n",
        "msno.heatmap(data)"
      ],
      "metadata": {
        "id": "hmYf5WcMmCZP"
      }
    },
    {
      "cell_type": "code",
      "source": [
        "msno.matrix(housing)"
      ],
      "metadata": {
        "colab": {
          "base_uri": "https://localhost:8080/",
          "height": 626
        },
        "id": "VHVvcD72ltPg",
        "outputId": "cde7f832-c6a0-49df-c451-02fc65fc6a77"
      },
      "execution_count": null,
      "outputs": [
        {
          "output_type": "execute_result",
          "data": {
            "text/plain": [
              "<matplotlib.axes._subplots.AxesSubplot at 0x7fe4fdb29b90>"
            ]
          },
          "metadata": {},
          "execution_count": 225
        },
        {
          "output_type": "display_data",
          "data": {
            "text/plain": [
              "<Figure size 1800x720 with 2 Axes>"
            ],
            "image/png": "[encoded data removed]"
          },
          "metadata": {
            "needs_background": "light"
          }
        }
      ]
    },
    {
      "cell_type": "code",
      "source": [
        "from google.colab import drive\n",
        "drive.mount('/content/drive')"
      ],
      "metadata": {
        "id": "-cdFemrGFBGS"
      },
      "execution_count": null,
      "outputs": []
    },
    {
      "cell_type": "markdown",
      "source": [
        "### Handling Missing Value\n",
        "- Deletion\n",
        "- Imputation\n",
        "\n",
        "\n"
      ],
      "metadata": {
        "id": "ku_DIu6Iam5k"
      }
    },
    {
      "cell_type": "markdown",
      "source": [
        "NaN > 30% = column deletion\n",
        "\n",
        "NaN > 10% - 30% = advance imputation(KNN, MICE)\n",
        "\n",
        "NaN > 10% = simple imputation (mean, median)\n",
        "\n",
        "NaN > 1%  = row deletion (drop.na())"
      ],
      "metadata": {
        "id": "BQqth49wcBmv"
      }
    },
    {
      "cell_type": "markdown",
      "source": [
        "![Skewed Distribution.jpg](data:image/jpeg;base64,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)"
      ],
      "metadata": {
        "id": "3XPvt21Phr2X"
      }
    },
    {
      "cell_type": "markdown",
      "source": [
        "Right Skew : Mean > Median\n",
        "\n",
        "No Skew    : Mean = Median\n",
        "\n",
        "Left Skew  : Mean < Median"
      ],
      "metadata": {
        "id": "sBMK0sEWhzzP"
      }
    },
    {
      "cell_type": "markdown",
      "source": [
        "#### Deletion\n",
        "- list-wise deletion : row di delete\n",
        "- column di delete"
      ],
      "metadata": {
        "id": "G1FWoQ6Bap3g"
      }
    },
    {
      "cell_type": "markdown",
      "source": [
        "#### Imputation\n",
        "- Simple: mean, median\n",
        "- Advance: KNN, MICE\n",
        "- Kategorikal: modus, cross-step\n"
      ],
      "metadata": {
        "id": "Rh1R9dT5asnX"
      }
    },
    {
      "cell_type": "markdown",
      "source": [
        ""
      ],
      "metadata": {
        "id": "uypS4eUvnUWP"
      }
    },
    {
      "cell_type": "code",
      "source": [
        "import pandas as pd\n",
        "import numpy as np\n",
        "import seaborn as sns\n",
        "import matplotlib.pyplot as plt"
      ],
      "metadata": {
        "id": "wfz2WU2LF0SQ"
      },
      "execution_count": 10,
      "outputs": []
    },
    {
      "cell_type": "code",
      "source": [
        "admit = pd.read_csv('/admit_miss.csv')\n",
        "admit.head()"
      ],
      "metadata": {
        "colab": {
          "base_uri": "https://localhost:8080/",
          "height": 206
        },
        "id": "AdcNBj7IGfmA",
        "outputId": "fc2aadbc-7695-423f-a2ee-8805b3f78b25"
      },
      "execution_count": 3,
      "outputs": [
        {
          "output_type": "execute_result",
          "data": {
            "text/plain": [
              "   Serial No.  GRE Score  TOEFL Score  University Rating  SOP  LOR   CGPA  \\\n",
              "0           1        337        118.0                  4  4.5   4.5  9.65   \n",
              "1           2        324        107.0                  4  4.0   4.5  8.87   \n",
              "2           3        316        104.0                  3  3.0   3.5  8.00   \n",
              "3           4        322          NaN                  3  3.5   2.5  8.67   \n",
              "4           5        314          NaN                  2  2.0   3.0  8.21   \n",
              "\n",
              "   Research  Chance of Admit   \n",
              "0         1              0.92  \n",
              "1         1              0.76  \n",
              "2         1              0.72  \n",
              "3         1              0.80  \n",
              "4         0              0.65  "
            ],
            "text/html": [
              "\n",
              "  <div id=\"df-916875bc-3ae6-493a-b6a4-470f60c293f9\">\n",
              "    <div class=\"colab-df-container\">\n",
              "      <div>\n",
              "<style scoped>\n",
              "    .dataframe tbody tr th:only-of-type {\n",
              "        vertical-align: middle;\n",
              "    }\n",
              "\n",
              "    .dataframe tbody tr th {\n",
              "        vertical-align: top;\n",
              "    }\n",
              "\n",
              "    .dataframe thead th {\n",
              "        text-align: right;\n",
              "    }\n",
              "</style>\n",
              "<table border=\"1\" class=\"dataframe\">\n",
              "  <thead>\n",
              "    <tr style=\"text-align: right;\">\n",
              "      <th></th>\n",
              "      <th>Serial No.</th>\n",
              "      <th>GRE Score</th>\n",
              "      <th>TOEFL Score</th>\n",
              "      <th>University Rating</th>\n",
              "      <th>SOP</th>\n",
              "      <th>LOR</th>\n",
              "      <th>CGPA</th>\n",
              "      <th>Research</th>\n",
              "      <th>Chance of Admit</th>\n",
              "    </tr>\n",
              "  </thead>\n",
              "  <tbody>\n",
              "    <tr>\n",
              "      <th>0</th>\n",
              "      <td>1</td>\n",
              "      <td>337</td>\n",
              "      <td>118.0</td>\n",
              "      <td>4</td>\n",
              "      <td>4.5</td>\n",
              "      <td>4.5</td>\n",
              "      <td>9.65</td>\n",
              "      <td>1</td>\n",
              "      <td>0.92</td>\n",
              "    </tr>\n",
              "    <tr>\n",
              "      <th>1</th>\n",
              "      <td>2</td>\n",
              "      <td>324</td>\n",
              "      <td>107.0</td>\n",
              "      <td>4</td>\n",
              "      <td>4.0</td>\n",
              "      <td>4.5</td>\n",
              "      <td>8.87</td>\n",
              "      <td>1</td>\n",
              "      <td>0.76</td>\n",
              "    </tr>\n",
              "    <tr>\n",
              "      <th>2</th>\n",
              "      <td>3</td>\n",
              "      <td>316</td>\n",
              "      <td>104.0</td>\n",
              "      <td>3</td>\n",
              "      <td>3.0</td>\n",
              "      <td>3.5</td>\n",
              "      <td>8.00</td>\n",
              "      <td>1</td>\n",
              "      <td>0.72</td>\n",
              "    </tr>\n",
              "    <tr>\n",
              "      <th>3</th>\n",
              "      <td>4</td>\n",
              "      <td>322</td>\n",
              "      <td>NaN</td>\n",
              "      <td>3</td>\n",
              "      <td>3.5</td>\n",
              "      <td>2.5</td>\n",
              "      <td>8.67</td>\n",
              "      <td>1</td>\n",
              "      <td>0.80</td>\n",
              "    </tr>\n",
              "    <tr>\n",
              "      <th>4</th>\n",
              "      <td>5</td>\n",
              "      <td>314</td>\n",
              "      <td>NaN</td>\n",
              "      <td>2</td>\n",
              "      <td>2.0</td>\n",
              "      <td>3.0</td>\n",
              "      <td>8.21</td>\n",
              "      <td>0</td>\n",
              "      <td>0.65</td>\n",
              "    </tr>\n",
              "  </tbody>\n",
              "</table>\n",
              "</div>\n",
              "      <button class=\"colab-df-convert\" onclick=\"convertToInteractive('df-916875bc-3ae6-493a-b6a4-470f60c293f9')\"\n",
              "              title=\"Convert this dataframe to an interactive table.\"\n",
              "              style=\"display:none;\">\n",
              "        \n",
              "  <svg xmlns=\"http://www.w3.org/2000/svg\" height=\"24px\"viewBox=\"0 0 24 24\"\n",
              "       width=\"24px\">\n",
              "    <path d=\"M0 0h24v24H0V0z\" fill=\"none\"/>\n",
              "    <path d=\"M18.56 5.44l.94 2.06.94-2.06 2.06-.94-2.06-.94-.94-2.06-.94 2.06-2.06.94zm-11 1L8.5 8.5l.94-2.06 2.06-.94-2.06-.94L8.5 2.5l-.94 2.06-2.06.94zm10 10l.94 2.06.94-2.06 2.06-.94-2.06-.94-.94-2.06-.94 2.06-2.06.94z\"/><path d=\"M17.41 7.96l-1.37-1.37c-.4-.4-.92-.59-1.43-.59-.52 0-1.04.2-1.43.59L10.3 9.45l-7.72 7.72c-.78.78-.78 2.05 0 2.83L4 21.41c.39.39.9.59 1.41.59.51 0 1.02-.2 1.41-.59l7.78-7.78 2.81-2.81c.8-.78.8-2.07 0-2.86zM5.41 20L4 18.59l7.72-7.72 1.47 1.35L5.41 20z\"/>\n",
              "  </svg>\n",
              "      </button>\n",
              "      \n",
              "  <style>\n",
              "    .colab-df-container {\n",
              "      display:flex;\n",
              "      flex-wrap:wrap;\n",
              "      gap: 12px;\n",
              "    }\n",
              "\n",
              "    .colab-df-convert {\n",
              "      background-color: #E8F0FE;\n",
              "      border: none;\n",
              "      border-radius: 50%;\n",
              "      cursor: pointer;\n",
              "      display: none;\n",
              "      fill: #1967D2;\n",
              "      height: 32px;\n",
              "      padding: 0 0 0 0;\n",
              "      width: 32px;\n",
              "    }\n",
              "\n",
              "    .colab-df-convert:hover {\n",
              "      background-color: #E2EBFA;\n",
              "      box-shadow: 0px 1px 2px rgba(60, 64, 67, 0.3), 0px 1px 3px 1px rgba(60, 64, 67, 0.15);\n",
              "      fill: #174EA6;\n",
              "    }\n",
              "\n",
              "    [theme=dark] .colab-df-convert {\n",
              "      background-color: #3B4455;\n",
              "      fill: #D2E3FC;\n",
              "    }\n",
              "\n",
              "    [theme=dark] .colab-df-convert:hover {\n",
              "      background-color: #434B5C;\n",
              "      box-shadow: 0px 1px 3px 1px rgba(0, 0, 0, 0.15);\n",
              "      filter: drop-shadow(0px 1px 2px rgba(0, 0, 0, 0.3));\n",
              "      fill: #FFFFFF;\n",
              "    }\n",
              "  </style>\n",
              "\n",
              "      <script>\n",
              "        const buttonEl =\n",
              "          document.querySelector('#df-916875bc-3ae6-493a-b6a4-470f60c293f9 button.colab-df-convert');\n",
              "        buttonEl.style.display =\n",
              "          google.colab.kernel.accessAllowed ? 'block' : 'none';\n",
              "\n",
              "        async function convertToInteractive(key) {\n",
              "          const element = document.querySelector('#df-916875bc-3ae6-493a-b6a4-470f60c293f9');\n",
              "          const dataTable =\n",
              "            await google.colab.kernel.invokeFunction('convertToInteractive',\n",
              "                                                     [key], {});\n",
              "          if (!dataTable) return;\n",
              "\n",
              "          const docLinkHtml = 'Like what you see? Visit the ' +\n",
              "            '<a target=\"_blank\" href=https://colab.research.google.com/notebooks/data_table.ipynb>data table notebook</a>'\n",
              "            + ' to learn more about interactive tables.';\n",
              "          element.innerHTML = '';\n",
              "          dataTable['output_type'] = 'display_data';\n",
              "          await google.colab.output.renderOutput(dataTable, element);\n",
              "          const docLink = document.createElement('div');\n",
              "          docLink.innerHTML = docLinkHtml;\n",
              "          element.appendChild(docLink);\n",
              "        }\n",
              "      </script>\n",
              "    </div>\n",
              "  </div>\n",
              "  "
            ]
          },
          "metadata": {},
          "execution_count": 3
        }
      ]
    },
    {
      "cell_type": "markdown",
      "source": [
        "**latihan**<p>\n",
        "admit=admit_miss.csv<p>\n",
        "dilakukan imputasi pada kolom TOEFL Score dengan simple imputer, kkn<p>\n",
        "kemudian bandingkan mana imputer yg baik untuk kolom toefl"
      ],
      "metadata": {
        "id": "7lollgqOHBR3"
      }
    },
    {
      "cell_type": "markdown",
      "source": [
        "##### Simple Imputer"
      ],
      "metadata": {
        "id": "D4G48lOenLhk"
      }
    },
    {
      "cell_type": "markdown",
      "source": [
        "jika  data berdistribusi skewed, digunakan median<p>\n",
        "mean sensitif terhadap outlier"
      ],
      "metadata": {
        "id": "TSvg4CP628Bf"
      }
    },
    {
      "cell_type": "markdown",
      "source": [
        "from sklearn.impute import SimpleImputer<p>\n",
        "**impute = SimpleImputer(strategy = )**\n",
        "\n",
        "\n",
        "strategy = mean, median"
      ],
      "metadata": {
        "id": "HJWw61bEm3ba"
      }
    },
    {
      "cell_type": "code",
      "source": [
        "admit.isnull().sum()"
      ],
      "metadata": {
        "colab": {
          "base_uri": "https://localhost:8080/"
        },
        "id": "ukYH0bjXLnex",
        "outputId": "e00f6ecd-76fb-4115-8067-c48fd22f2bd3"
      },
      "execution_count": null,
      "outputs": [
        {
          "output_type": "execute_result",
          "data": {
            "text/plain": [
              "Serial No.             0\n",
              "GRE Score              0\n",
              "TOEFL Score          124\n",
              "University Rating      0\n",
              "SOP                    0\n",
              "LOR                    0\n",
              "CGPA                   0\n",
              "Research               0\n",
              "Chance of Admit        0\n",
              "dtype: int64"
            ]
          },
          "metadata": {},
          "execution_count": 10
        }
      ]
    },
    {
      "cell_type": "code",
      "source": [
        "from sklearn.impute import SimpleImputer\n",
        "impute = SimpleImputer(strategy='median')"
      ],
      "metadata": {
        "id": "Hwbpplm7lEaw"
      },
      "execution_count": null,
      "outputs": []
    },
    {
      "cell_type": "code",
      "source": [
        "admit_imp = admit.copy(deep=True)\n",
        "impute.fit(admit_imp)\n",
        "admit_imp = impute.transform(admit_imp)\n",
        "admit_imp = pd.DataFrame(admit_imp)\n",
        "admit_imp.columns = admit.columns"
      ],
      "metadata": {
        "id": "e5E3pQzIH4h6"
      },
      "execution_count": null,
      "outputs": []
    },
    {
      "cell_type": "code",
      "source": [
        "admit_imp.head()"
      ],
      "metadata": {
        "colab": {
          "base_uri": "https://localhost:8080/",
          "height": 206
        },
        "id": "6-S4KYS7LPVf",
        "outputId": "745b5608-6fd9-4b64-8fa8-c4ad93e06b6c"
      },
      "execution_count": null,
      "outputs": [
        {
          "output_type": "execute_result",
          "data": {
            "text/plain": [
              "   Serial No.  GRE Score  TOEFL Score  University Rating  SOP  LOR   CGPA  \\\n",
              "0         1.0      337.0        118.0                4.0  4.5   4.5  9.65   \n",
              "1         2.0      324.0        107.0                4.0  4.0   4.5  8.87   \n",
              "2         3.0      316.0        104.0                3.0  3.0   3.5  8.00   \n",
              "3         4.0      322.0        107.0                3.0  3.5   2.5  8.67   \n",
              "4         5.0      314.0        107.0                2.0  2.0   3.0  8.21   \n",
              "\n",
              "   Research  Chance of Admit   \n",
              "0       1.0              0.92  \n",
              "1       1.0              0.76  \n",
              "2       1.0              0.72  \n",
              "3       1.0              0.80  \n",
              "4       0.0              0.65  "
            ],
            "text/html": [
              "\n",
              "  <div id=\"df-c15b7ac7-038e-43fa-980d-eedfba42a696\">\n",
              "    <div class=\"colab-df-container\">\n",
              "      <div>\n",
              "<style scoped>\n",
              "    .dataframe tbody tr th:only-of-type {\n",
              "        vertical-align: middle;\n",
              "    }\n",
              "\n",
              "    .dataframe tbody tr th {\n",
              "        vertical-align: top;\n",
              "    }\n",
              "\n",
              "    .dataframe thead th {\n",
              "        text-align: right;\n",
              "    }\n",
              "</style>\n",
              "<table border=\"1\" class=\"dataframe\">\n",
              "  <thead>\n",
              "    <tr style=\"text-align: right;\">\n",
              "      <th></th>\n",
              "      <th>Serial No.</th>\n",
              "      <th>GRE Score</th>\n",
              "      <th>TOEFL Score</th>\n",
              "      <th>University Rating</th>\n",
              "      <th>SOP</th>\n",
              "      <th>LOR</th>\n",
              "      <th>CGPA</th>\n",
              "      <th>Research</th>\n",
              "      <th>Chance of Admit</th>\n",
              "    </tr>\n",
              "  </thead>\n",
              "  <tbody>\n",
              "    <tr>\n",
              "      <th>0</th>\n",
              "      <td>1.0</td>\n",
              "      <td>337.0</td>\n",
              "      <td>118.0</td>\n",
              "      <td>4.0</td>\n",
              "      <td>4.5</td>\n",
              "      <td>4.5</td>\n",
              "      <td>9.65</td>\n",
              "      <td>1.0</td>\n",
              "      <td>0.92</td>\n",
              "    </tr>\n",
              "    <tr>\n",
              "      <th>1</th>\n",
              "      <td>2.0</td>\n",
              "      <td>324.0</td>\n",
              "      <td>107.0</td>\n",
              "      <td>4.0</td>\n",
              "      <td>4.0</td>\n",
              "      <td>4.5</td>\n",
              "      <td>8.87</td>\n",
              "      <td>1.0</td>\n",
              "      <td>0.76</td>\n",
              "    </tr>\n",
              "    <tr>\n",
              "      <th>2</th>\n",
              "      <td>3.0</td>\n",
              "      <td>316.0</td>\n",
              "      <td>104.0</td>\n",
              "      <td>3.0</td>\n",
              "      <td>3.0</td>\n",
              "      <td>3.5</td>\n",
              "      <td>8.00</td>\n",
              "      <td>1.0</td>\n",
              "      <td>0.72</td>\n",
              "    </tr>\n",
              "    <tr>\n",
              "      <th>3</th>\n",
              "      <td>4.0</td>\n",
              "      <td>322.0</td>\n",
              "      <td>107.0</td>\n",
              "      <td>3.0</td>\n",
              "      <td>3.5</td>\n",
              "      <td>2.5</td>\n",
              "      <td>8.67</td>\n",
              "      <td>1.0</td>\n",
              "      <td>0.80</td>\n",
              "    </tr>\n",
              "    <tr>\n",
              "      <th>4</th>\n",
              "      <td>5.0</td>\n",
              "      <td>314.0</td>\n",
              "      <td>107.0</td>\n",
              "      <td>2.0</td>\n",
              "      <td>2.0</td>\n",
              "      <td>3.0</td>\n",
              "      <td>8.21</td>\n",
              "      <td>0.0</td>\n",
              "      <td>0.65</td>\n",
              "    </tr>\n",
              "  </tbody>\n",
              "</table>\n",
              "</div>\n",
              "      <button class=\"colab-df-convert\" onclick=\"convertToInteractive('df-c15b7ac7-038e-43fa-980d-eedfba42a696')\"\n",
              "              title=\"Convert this dataframe to an interactive table.\"\n",
              "              style=\"display:none;\">\n",
              "        \n",
              "  <svg xmlns=\"http://www.w3.org/2000/svg\" height=\"24px\"viewBox=\"0 0 24 24\"\n",
              "       width=\"24px\">\n",
              "    <path d=\"M0 0h24v24H0V0z\" fill=\"none\"/>\n",
              "    <path d=\"M18.56 5.44l.94 2.06.94-2.06 2.06-.94-2.06-.94-.94-2.06-.94 2.06-2.06.94zm-11 1L8.5 8.5l.94-2.06 2.06-.94-2.06-.94L8.5 2.5l-.94 2.06-2.06.94zm10 10l.94 2.06.94-2.06 2.06-.94-2.06-.94-.94-2.06-.94 2.06-2.06.94z\"/><path d=\"M17.41 7.96l-1.37-1.37c-.4-.4-.92-.59-1.43-.59-.52 0-1.04.2-1.43.59L10.3 9.45l-7.72 7.72c-.78.78-.78 2.05 0 2.83L4 21.41c.39.39.9.59 1.41.59.51 0 1.02-.2 1.41-.59l7.78-7.78 2.81-2.81c.8-.78.8-2.07 0-2.86zM5.41 20L4 18.59l7.72-7.72 1.47 1.35L5.41 20z\"/>\n",
              "  </svg>\n",
              "      </button>\n",
              "      \n",
              "  <style>\n",
              "    .colab-df-container {\n",
              "      display:flex;\n",
              "      flex-wrap:wrap;\n",
              "      gap: 12px;\n",
              "    }\n",
              "\n",
              "    .colab-df-convert {\n",
              "      background-color: #E8F0FE;\n",
              "      border: none;\n",
              "      border-radius: 50%;\n",
              "      cursor: pointer;\n",
              "      display: none;\n",
              "      fill: #1967D2;\n",
              "      height: 32px;\n",
              "      padding: 0 0 0 0;\n",
              "      width: 32px;\n",
              "    }\n",
              "\n",
              "    .colab-df-convert:hover {\n",
              "      background-color: #E2EBFA;\n",
              "      box-shadow: 0px 1px 2px rgba(60, 64, 67, 0.3), 0px 1px 3px 1px rgba(60, 64, 67, 0.15);\n",
              "      fill: #174EA6;\n",
              "    }\n",
              "\n",
              "    [theme=dark] .colab-df-convert {\n",
              "      background-color: #3B4455;\n",
              "      fill: #D2E3FC;\n",
              "    }\n",
              "\n",
              "    [theme=dark] .colab-df-convert:hover {\n",
              "      background-color: #434B5C;\n",
              "      box-shadow: 0px 1px 3px 1px rgba(0, 0, 0, 0.15);\n",
              "      filter: drop-shadow(0px 1px 2px rgba(0, 0, 0, 0.3));\n",
              "      fill: #FFFFFF;\n",
              "    }\n",
              "  </style>\n",
              "\n",
              "      <script>\n",
              "        const buttonEl =\n",
              "          document.querySelector('#df-c15b7ac7-038e-43fa-980d-eedfba42a696 button.colab-df-convert');\n",
              "        buttonEl.style.display =\n",
              "          google.colab.kernel.accessAllowed ? 'block' : 'none';\n",
              "\n",
              "        async function convertToInteractive(key) {\n",
              "          const element = document.querySelector('#df-c15b7ac7-038e-43fa-980d-eedfba42a696');\n",
              "          const dataTable =\n",
              "            await google.colab.kernel.invokeFunction('convertToInteractive',\n",
              "                                                     [key], {});\n",
              "          if (!dataTable) return;\n",
              "\n",
              "          const docLinkHtml = 'Like what you see? Visit the ' +\n",
              "            '<a target=\"_blank\" href=https://colab.research.google.com/notebooks/data_table.ipynb>data table notebook</a>'\n",
              "            + ' to learn more about interactive tables.';\n",
              "          element.innerHTML = '';\n",
              "          dataTable['output_type'] = 'display_data';\n",
              "          await google.colab.output.renderOutput(dataTable, element);\n",
              "          const docLink = document.createElement('div');\n",
              "          docLink.innerHTML = docLinkHtml;\n",
              "          element.appendChild(docLink);\n",
              "        }\n",
              "      </script>\n",
              "    </div>\n",
              "  </div>\n",
              "  "
            ]
          },
          "metadata": {},
          "execution_count": 8
        }
      ]
    },
    {
      "cell_type": "code",
      "source": [
        "admit_imp['TOEFL Score'].isnull().sum()"
      ],
      "metadata": {
        "colab": {
          "base_uri": "https://localhost:8080/"
        },
        "id": "B2zoe_D0KRqK",
        "outputId": "7180034b-800a-4baf-81ed-ca25f945aadd"
      },
      "execution_count": null,
      "outputs": [
        {
          "output_type": "execute_result",
          "data": {
            "text/plain": [
              "0"
            ]
          },
          "metadata": {},
          "execution_count": 9
        }
      ]
    },
    {
      "cell_type": "markdown",
      "source": [
        "melihat mean dan std pada pre- dan post - imputation"
      ],
      "metadata": {
        "id": "HvSJtxhyLyLL"
      }
    },
    {
      "cell_type": "code",
      "source": [
        "import seaborn as sns\n",
        "import matplotlib.pyplot as plt"
      ],
      "metadata": {
        "id": "6LP1vSXkHbxD"
      },
      "execution_count": null,
      "outputs": []
    },
    {
      "cell_type": "code",
      "source": [
        "#kde = True, untuk menampilkan distribusinya\n",
        "sns.histplot(admit['TOEFL Score'], alpha=0.2, kde=True)\n",
        "sns.histplot(admit_imp['TOEFL Score'], alpha=0.2, kde=True, color='red')\n",
        "plt.legend(['pre', 'post'])\n",
        "plt.show()\n",
        "print('pre: mean: {}, std: {}'.format(np.mean(admit['TOEFL Score']), \n",
        "                                      np.std(admit['TOEFL Score'])))\n",
        "print('post: mean: {}, std: {}'.format(np.mean(admit_imp['TOEFL Score']), \n",
        "                                      np.std(admit_imp['TOEFL Score'])))"
      ],
      "metadata": {
        "colab": {
          "base_uri": "https://localhost:8080/",
          "height": 314
        },
        "id": "XZN5fauWL6wk",
        "outputId": "1bab1411-a56e-4321-acd0-9f5b0a03ad21"
      },
      "execution_count": null,
      "outputs": [
        {
          "output_type": "display_data",
          "data": {
            "text/plain": [
              "<Figure size 432x288 with 1 Axes>"
            ],
            "image/png": "[encoded data removed]"
          },
          "metadata": {
            "needs_background": "light"
          }
        },
        {
          "output_type": "stream",
          "name": "stdout",
          "text": [
            "pre: mean: 107.39627659574468, std: 6.111976990467603\n",
            "post: mean: 107.298, std: 5.302942202211921\n"
          ]
        }
      ]
    },
    {
      "cell_type": "markdown",
      "source": [
        ""
      ],
      "metadata": {
        "id": "tYvkpanpHQmP"
      }
    },
    {
      "cell_type": "code",
      "source": [
        "impute = SimpleImputer(missing_values= ,strategy = )"
      ],
      "metadata": {
        "id": "FXYY-BgvmlLW"
      },
      "execution_count": null,
      "outputs": []
    },
    {
      "cell_type": "markdown",
      "source": [
        "##### Advance Imputer\n",
        "KKN, MICE"
      ],
      "metadata": {
        "id": "Tk8YQGy1Fs0Q"
      }
    },
    {
      "cell_type": "markdown",
      "source": [
        "###### **KKN**"
      ],
      "metadata": {
        "id": "RJs5CtGWF7cJ"
      }
    },
    {
      "cell_type": "markdown",
      "source": [
        "KNN menggunakan data dengan distance terkecil"
      ],
      "metadata": {
        "id": "lS1tw3OE2v3N"
      }
    },
    {
      "cell_type": "markdown",
      "source": [
        "- KNN(n_neighbors = 3)"
      ],
      "metadata": {
        "id": "PlPxP92RPGPH"
      }
    },
    {
      "cell_type": "code",
      "source": [
        "from sklearn.impute import KNNImputer"
      ],
      "metadata": {
        "id": "0ZdFwmibGpff"
      },
      "execution_count": 4,
      "outputs": []
    },
    {
      "cell_type": "code",
      "source": [
        "impute_knn = KNNImputer(n_neighbors=3)\n",
        "#nilai n_neighbors biasanya ganjil\n",
        "#nilai n_neighbors tidak dapat langsung di beri, \n",
        "#perlu dilakukan trial n_neighbours error agar dapat menentukan nilai n_neighbours yang baik bagi imputation"
      ],
      "metadata": {
        "id": "6deJADW6PCYa"
      },
      "execution_count": 5,
      "outputs": []
    },
    {
      "cell_type": "code",
      "source": [
        "admit_knn = admit.copy(deep=True)\n",
        "impute_knn.fit(admit_knn)\n",
        "admit_knn = impute_knn.transform(admit_knn)\n",
        "admit_knn = pd.DataFrame(admit_knn)\n",
        "admit_knn.columns = admit.columns"
      ],
      "metadata": {
        "id": "izupE3eGF8nO"
      },
      "execution_count": 6,
      "outputs": []
    },
    {
      "cell_type": "code",
      "source": [
        "admit_knn.isnull().sum()"
      ],
      "metadata": {
        "colab": {
          "base_uri": "https://localhost:8080/"
        },
        "id": "QzCHgt-VOQxF",
        "outputId": "4ce56729-56de-4e30-c59e-f1f0f7de6c88"
      },
      "execution_count": null,
      "outputs": [
        {
          "output_type": "execute_result",
          "data": {
            "text/plain": [
              "Serial No.           0\n",
              "GRE Score            0\n",
              "TOEFL Score          0\n",
              "University Rating    0\n",
              "SOP                  0\n",
              "LOR                  0\n",
              "CGPA                 0\n",
              "Research             0\n",
              "Chance of Admit      0\n",
              "dtype: int64"
            ]
          },
          "metadata": {},
          "execution_count": 24
        }
      ]
    },
    {
      "cell_type": "code",
      "source": [
        "sns.histplot(admit['TOEFL Score'], alpha=0.2, kde=True)\n",
        "sns.histplot(admit_knn['TOEFL Score'], alpha=0.2, kde=True, color='red')\n",
        "plt.legend(['pre', 'post'])\n",
        "plt.show()\n",
        "print('pre: mean: {}, std: {}'.format(np.mean(admit['TOEFL Score']), \n",
        "                                      np.std(admit['TOEFL Score'])))\n",
        "print('post: mean: {}, std: {}'.format(np.mean(admit_knn['TOEFL Score']), \n",
        "                                      np.std(admit_knn['TOEFL Score'])))"
      ],
      "metadata": {
        "colab": {
          "base_uri": "https://localhost:8080/",
          "height": 314
        },
        "id": "5OiRr1R-Nedr",
        "outputId": "3f8cd665-c776-4827-bbf2-7945578a9e18"
      },
      "execution_count": 11,
      "outputs": [
        {
          "output_type": "display_data",
          "data": {
            "text/plain": [
              "<Figure size 432x288 with 1 Axes>"
            ],
            "image/png": "[encoded data removed]"
          },
          "metadata": {
            "needs_background": "light"
          }
        },
        {
          "output_type": "stream",
          "name": "stdout",
          "text": [
            "pre: mean: 107.39627659574468, std: 6.111976990467603\n",
            "post: mean: 107.15399999999993, std: 5.818367048503483\n"
          ]
        }
      ]
    },
    {
      "cell_type": "markdown",
      "source": [
        "- KNN (n_neigbors = 5)"
      ],
      "metadata": {
        "id": "aMrVb-PmPZwB"
      }
    },
    {
      "cell_type": "code",
      "source": [
        "impute_knn5 = KNNImputer(n_neighbors=5)\n",
        "admit_knn5 = admit.copy(deep=True)\n",
        "impute_knn5.fit(admit_knn5)\n",
        "admit_knn5 = impute_knn5.transform(admit_knn5)\n",
        "admit_knn5 = pd.DataFrame(admit_knn5)\n",
        "admit_knn5.columns = admit.columns"
      ],
      "metadata": {
        "id": "mkyJKGnfPfym"
      },
      "execution_count": 8,
      "outputs": []
    },
    {
      "cell_type": "code",
      "source": [
        "sns.histplot(admit['TOEFL Score'], alpha=0.2, kde=True)\n",
        "sns.histplot(admit_knn5['TOEFL Score'], alpha=0.2, kde=True, color='red')\n",
        "plt.legend(['pre', 'post'])\n",
        "plt.show()\n",
        "print('pre: mean: {}, std: {}'.format(np.mean(admit['TOEFL Score']), \n",
        "                                      np.std(admit['TOEFL Score'])))\n",
        "print('post: mean: {}, std: {}'.format(np.mean(admit_knn5['TOEFL Score']), \n",
        "                                      np.std(admit_knn5['TOEFL Score'])))"
      ],
      "metadata": {
        "colab": {
          "base_uri": "https://localhost:8080/",
          "height": 314
        },
        "id": "RZ38piRTPsU9",
        "outputId": "6add969f-3468-4345-c1ae-d35818661588"
      },
      "execution_count": 12,
      "outputs": [
        {
          "output_type": "display_data",
          "data": {
            "text/plain": [
              "<Figure size 432x288 with 1 Axes>"
            ],
            "image/png": "[encoded data removed]"
          },
          "metadata": {
            "needs_background": "light"
          }
        },
        {
          "output_type": "stream",
          "name": "stdout",
          "text": [
            "pre: mean: 107.39627659574468, std: 6.111976990467603\n",
            "post: mean: 107.2164, std: 5.717241558653961\n"
          ]
        }
      ]
    },
    {
      "cell_type": "markdown",
      "source": [
        "###### **MICE**"
      ],
      "metadata": {
        "id": "oydnIxJ1F9QD"
      }
    },
    {
      "cell_type": "markdown",
      "source": [
        "jika ada data kategorik atau type object,<p>\n",
        "maka diperlukan labeling (get.dummies, LabelEncoder, OrdinalEncoder)\n",
        "jika terdapat missing value, maka labeling dilakukan dengan mask agar NaN tidak ikut terlabel"
      ],
      "metadata": {
        "id": "JO-UlY-ommkb"
      }
    },
    {
      "cell_type": "code",
      "source": [
        "pip install impyute"
      ],
      "metadata": {
        "id": "i3SucjYZF-_s",
        "colab": {
          "base_uri": "https://localhost:8080/"
        },
        "outputId": "1b781dc2-8aec-459c-b567-07de5b0aa385"
      },
      "execution_count": 14,
      "outputs": [
        {
          "output_type": "stream",
          "name": "stdout",
          "text": [
            "Requirement already satisfied: impyute in /usr/local/lib/python3.7/dist-packages (0.0.8)\n",
            "Requirement already satisfied: scikit-learn in /usr/local/lib/python3.7/dist-packages (from impyute) (1.0.2)\n",
            "Requirement already satisfied: scipy in /usr/local/lib/python3.7/dist-packages (from impyute) (1.4.1)\n",
            "Requirement already satisfied: numpy in /usr/local/lib/python3.7/dist-packages (from impyute) (1.21.5)\n",
            "Requirement already satisfied: threadpoolctl>=2.0.0 in /usr/local/lib/python3.7/dist-packages (from scikit-learn->impyute) (3.1.0)\n",
            "Requirement already satisfied: joblib>=0.11 in /usr/local/lib/python3.7/dist-packages (from scikit-learn->impyute) (1.1.0)\n"
          ]
        }
      ]
    },
    {
      "cell_type": "code",
      "source": [
        "from impyute.imputation.cs import mice "
      ],
      "metadata": {
        "id": "3tAi9AOVig9V"
      },
      "execution_count": 16,
      "outputs": []
    },
    {
      "cell_type": "code",
      "source": [
        "admit_mice = admit.copy(deep=True)\n",
        "admit_mice = mice(admit_mice.values)\n",
        "admit_mice = pd.DataFrame(admit_mice)\n",
        "admit_mice.columns = admit.columns"
      ],
      "metadata": {
        "id": "iu9C6i8ritVJ"
      },
      "execution_count": 17,
      "outputs": []
    },
    {
      "cell_type": "code",
      "source": [
        "sns.histplot(admit['TOEFL Score'], alpha=0.2,kde=True,label='pre')\n",
        "sns.histplot(admit_mice['TOEFL Score'], alpha=0.2,kde=True,color='red',label='post')\n",
        "plt.title('Imputation:MICE', size=20)\n",
        "plt.legend(['pre', 'post'])\n",
        "plt.show()\n",
        "print('pre: mean: {}, std: {}'.format(np.mean(admit['TOEFL Score']), \n",
        "                                      np.std(admit['TOEFL Score'])))\n",
        "print('post: mean: {}, std: {}'.format(np.mean(admit_mice['TOEFL Score']), \n",
        "                                      np.std(admit_mice['TOEFL Score'])))"
      ],
      "metadata": {
        "colab": {
          "base_uri": "https://localhost:8080/",
          "height": 335
        },
        "id": "k-mZ0FqUmSZ8",
        "outputId": "323f28cb-aa7c-4c58-ede8-37c8b343aad8"
      },
      "execution_count": 19,
      "outputs": [
        {
          "output_type": "display_data",
          "data": {
            "text/plain": [
              "<Figure size 432x288 with 1 Axes>"
            ],
            "image/png": "[encoded data removed]"
          },
          "metadata": {
            "needs_background": "light"
          }
        },
        {
          "output_type": "stream",
          "name": "stdout",
          "text": [
            "pre: mean: 107.39627659574468, std: 6.111976990467603\n",
            "post: mean: 107.21655931630016, std: 5.853359292771116\n"
          ]
        }
      ]
    },
    {
      "cell_type": "code",
      "source": [
        ""
      ],
      "metadata": {
        "id": "C8n0ezwMmTij"
      },
      "execution_count": null,
      "outputs": []
    },
    {
      "cell_type": "markdown",
      "source": [
        "- data dengan type object/categoric"
      ],
      "metadata": {
        "id": "U-tO79HqnIG3"
      }
    },
    {
      "cell_type": "code",
      "source": [
        "import pandas as pd\n",
        "import numpy as np\n",
        "import seaborn as sns\n",
        "import matplotlib.pyplot as plt\n",
        "from impyute.imputation.cs import mice"
      ],
      "metadata": {
        "id": "eigwSoTdnQtR"
      },
      "execution_count": 21,
      "outputs": []
    },
    {
      "cell_type": "code",
      "source": [
        "titanic = pd.read_csv('/titanic.csv')\n",
        "titanic.head(2)"
      ],
      "metadata": {
        "colab": {
          "base_uri": "https://localhost:8080/",
          "height": 191
        },
        "id": "9ue7zW_-nqGX",
        "outputId": "66cf823a-d851-4cc3-8571-21de293e519c"
      },
      "execution_count": 22,
      "outputs": [
        {
          "output_type": "execute_result",
          "data": {
            "text/plain": [
              "   PassengerId  Survived  Pclass  \\\n",
              "0            1         0       3   \n",
              "1            2         1       1   \n",
              "\n",
              "                                                Name     Sex   Age  SibSp  \\\n",
              "0                            Braund, Mr. Owen Harris    male  22.0      1   \n",
              "1  Cumings, Mrs. John Bradley (Florence Briggs Th...  female  38.0      1   \n",
              "\n",
              "   Parch     Ticket     Fare Cabin Embarked  \n",
              "0      0  A/5 21171   7.2500   NaN        S  \n",
              "1      0   PC 17599  71.2833   C85        C  "
            ],
            "text/html": [
              "\n",
              "  <div id=\"df-ef0329fb-f6ce-4090-b500-e957fb3ef55b\">\n",
              "    <div class=\"colab-df-container\">\n",
              "      <div>\n",
              "<style scoped>\n",
              "    .dataframe tbody tr th:only-of-type {\n",
              "        vertical-align: middle;\n",
              "    }\n",
              "\n",
              "    .dataframe tbody tr th {\n",
              "        vertical-align: top;\n",
              "    }\n",
              "\n",
              "    .dataframe thead th {\n",
              "        text-align: right;\n",
              "    }\n",
              "</style>\n",
              "<table border=\"1\" class=\"dataframe\">\n",
              "  <thead>\n",
              "    <tr style=\"text-align: right;\">\n",
              "      <th></th>\n",
              "      <th>PassengerId</th>\n",
              "      <th>Survived</th>\n",
              "      <th>Pclass</th>\n",
              "      <th>Name</th>\n",
              "      <th>Sex</th>\n",
              "      <th>Age</th>\n",
              "      <th>SibSp</th>\n",
              "      <th>Parch</th>\n",
              "      <th>Ticket</th>\n",
              "      <th>Fare</th>\n",
              "      <th>Cabin</th>\n",
              "      <th>Embarked</th>\n",
              "    </tr>\n",
              "  </thead>\n",
              "  <tbody>\n",
              "    <tr>\n",
              "      <th>0</th>\n",
              "      <td>1</td>\n",
              "      <td>0</td>\n",
              "      <td>3</td>\n",
              "      <td>Braund, Mr. Owen Harris</td>\n",
              "      <td>male</td>\n",
              "      <td>22.0</td>\n",
              "      <td>1</td>\n",
              "      <td>0</td>\n",
              "      <td>A/5 21171</td>\n",
              "      <td>7.2500</td>\n",
              "      <td>NaN</td>\n",
              "      <td>S</td>\n",
              "    </tr>\n",
              "    <tr>\n",
              "      <th>1</th>\n",
              "      <td>2</td>\n",
              "      <td>1</td>\n",
              "      <td>1</td>\n",
              "      <td>Cumings, Mrs. John Bradley (Florence Briggs Th...</td>\n",
              "      <td>female</td>\n",
              "      <td>38.0</td>\n",
              "      <td>1</td>\n",
              "      <td>0</td>\n",
              "      <td>PC 17599</td>\n",
              "      <td>71.2833</td>\n",
              "      <td>C85</td>\n",
              "      <td>C</td>\n",
              "    </tr>\n",
              "  </tbody>\n",
              "</table>\n",
              "</div>\n",
              "      <button class=\"colab-df-convert\" onclick=\"convertToInteractive('df-ef0329fb-f6ce-4090-b500-e957fb3ef55b')\"\n",
              "              title=\"Convert this dataframe to an interactive table.\"\n",
              "              style=\"display:none;\">\n",
              "        \n",
              "  <svg xmlns=\"http://www.w3.org/2000/svg\" height=\"24px\"viewBox=\"0 0 24 24\"\n",
              "       width=\"24px\">\n",
              "    <path d=\"M0 0h24v24H0V0z\" fill=\"none\"/>\n",
              "    <path d=\"M18.56 5.44l.94 2.06.94-2.06 2.06-.94-2.06-.94-.94-2.06-.94 2.06-2.06.94zm-11 1L8.5 8.5l.94-2.06 2.06-.94-2.06-.94L8.5 2.5l-.94 2.06-2.06.94zm10 10l.94 2.06.94-2.06 2.06-.94-2.06-.94-.94-2.06-.94 2.06-2.06.94z\"/><path d=\"M17.41 7.96l-1.37-1.37c-.4-.4-.92-.59-1.43-.59-.52 0-1.04.2-1.43.59L10.3 9.45l-7.72 7.72c-.78.78-.78 2.05 0 2.83L4 21.41c.39.39.9.59 1.41.59.51 0 1.02-.2 1.41-.59l7.78-7.78 2.81-2.81c.8-.78.8-2.07 0-2.86zM5.41 20L4 18.59l7.72-7.72 1.47 1.35L5.41 20z\"/>\n",
              "  </svg>\n",
              "      </button>\n",
              "      \n",
              "  <style>\n",
              "    .colab-df-container {\n",
              "      display:flex;\n",
              "      flex-wrap:wrap;\n",
              "      gap: 12px;\n",
              "    }\n",
              "\n",
              "    .colab-df-convert {\n",
              "      background-color: #E8F0FE;\n",
              "      border: none;\n",
              "      border-radius: 50%;\n",
              "      cursor: pointer;\n",
              "      display: none;\n",
              "      fill: #1967D2;\n",
              "      height: 32px;\n",
              "      padding: 0 0 0 0;\n",
              "      width: 32px;\n",
              "    }\n",
              "\n",
              "    .colab-df-convert:hover {\n",
              "      background-color: #E2EBFA;\n",
              "      box-shadow: 0px 1px 2px rgba(60, 64, 67, 0.3), 0px 1px 3px 1px rgba(60, 64, 67, 0.15);\n",
              "      fill: #174EA6;\n",
              "    }\n",
              "\n",
              "    [theme=dark] .colab-df-convert {\n",
              "      background-color: #3B4455;\n",
              "      fill: #D2E3FC;\n",
              "    }\n",
              "\n",
              "    [theme=dark] .colab-df-convert:hover {\n",
              "      background-color: #434B5C;\n",
              "      box-shadow: 0px 1px 3px 1px rgba(0, 0, 0, 0.15);\n",
              "      filter: drop-shadow(0px 1px 2px rgba(0, 0, 0, 0.3));\n",
              "      fill: #FFFFFF;\n",
              "    }\n",
              "  </style>\n",
              "\n",
              "      <script>\n",
              "        const buttonEl =\n",
              "          document.querySelector('#df-ef0329fb-f6ce-4090-b500-e957fb3ef55b button.colab-df-convert');\n",
              "        buttonEl.style.display =\n",
              "          google.colab.kernel.accessAllowed ? 'block' : 'none';\n",
              "\n",
              "        async function convertToInteractive(key) {\n",
              "          const element = document.querySelector('#df-ef0329fb-f6ce-4090-b500-e957fb3ef55b');\n",
              "          const dataTable =\n",
              "            await google.colab.kernel.invokeFunction('convertToInteractive',\n",
              "                                                     [key], {});\n",
              "          if (!dataTable) return;\n",
              "\n",
              "          const docLinkHtml = 'Like what you see? Visit the ' +\n",
              "            '<a target=\"_blank\" href=https://colab.research.google.com/notebooks/data_table.ipynb>data table notebook</a>'\n",
              "            + ' to learn more about interactive tables.';\n",
              "          element.innerHTML = '';\n",
              "          dataTable['output_type'] = 'display_data';\n",
              "          await google.colab.output.renderOutput(dataTable, element);\n",
              "          const docLink = document.createElement('div');\n",
              "          docLink.innerHTML = docLinkHtml;\n",
              "          element.appendChild(docLink);\n",
              "        }\n",
              "      </script>\n",
              "    </div>\n",
              "  </div>\n",
              "  "
            ]
          },
          "metadata": {},
          "execution_count": 22
        }
      ]
    },
    {
      "cell_type": "code",
      "source": [
        "titanic2 = titanic.copy(deep=True)\n",
        "\n",
        "#drop variable yg terlalu banyak variansi\n",
        "titanic_mice = titanic2.drop(['PassengerId', 'Name', 'Ticket', 'Cabin'], axis=1)\n",
        "titanic_mice.head()"
      ],
      "metadata": {
        "colab": {
          "base_uri": "https://localhost:8080/",
          "height": 206
        },
        "id": "ycoE23x_oAin",
        "outputId": "cfdb98fc-47ef-46ad-fe52-9bac9755443d"
      },
      "execution_count": 39,
      "outputs": [
        {
          "output_type": "execute_result",
          "data": {
            "text/plain": [
              "   Survived  Pclass     Sex   Age  SibSp  Parch     Fare Embarked\n",
              "0         0       3    male  22.0      1      0   7.2500        S\n",
              "1         1       1  female  38.0      1      0  71.2833        C\n",
              "2         1       3  female  26.0      0      0   7.9250        S\n",
              "3         1       1  female  35.0      1      0  53.1000        S\n",
              "4         0       3    male  35.0      0      0   8.0500        S"
            ],
            "text/html": [
              "\n",
              "  <div id=\"df-ab507851-c144-4cab-aa7f-49560905c8d4\">\n",
              "    <div class=\"colab-df-container\">\n",
              "      <div>\n",
              "<style scoped>\n",
              "    .dataframe tbody tr th:only-of-type {\n",
              "        vertical-align: middle;\n",
              "    }\n",
              "\n",
              "    .dataframe tbody tr th {\n",
              "        vertical-align: top;\n",
              "    }\n",
              "\n",
              "    .dataframe thead th {\n",
              "        text-align: right;\n",
              "    }\n",
              "</style>\n",
              "<table border=\"1\" class=\"dataframe\">\n",
              "  <thead>\n",
              "    <tr style=\"text-align: right;\">\n",
              "      <th></th>\n",
              "      <th>Survived</th>\n",
              "      <th>Pclass</th>\n",
              "      <th>Sex</th>\n",
              "      <th>Age</th>\n",
              "      <th>SibSp</th>\n",
              "      <th>Parch</th>\n",
              "      <th>Fare</th>\n",
              "      <th>Embarked</th>\n",
              "    </tr>\n",
              "  </thead>\n",
              "  <tbody>\n",
              "    <tr>\n",
              "      <th>0</th>\n",
              "      <td>0</td>\n",
              "      <td>3</td>\n",
              "      <td>male</td>\n",
              "      <td>22.0</td>\n",
              "      <td>1</td>\n",
              "      <td>0</td>\n",
              "      <td>7.2500</td>\n",
              "      <td>S</td>\n",
              "    </tr>\n",
              "    <tr>\n",
              "      <th>1</th>\n",
              "      <td>1</td>\n",
              "      <td>1</td>\n",
              "      <td>female</td>\n",
              "      <td>38.0</td>\n",
              "      <td>1</td>\n",
              "      <td>0</td>\n",
              "      <td>71.2833</td>\n",
              "      <td>C</td>\n",
              "    </tr>\n",
              "    <tr>\n",
              "      <th>2</th>\n",
              "      <td>1</td>\n",
              "      <td>3</td>\n",
              "      <td>female</td>\n",
              "      <td>26.0</td>\n",
              "      <td>0</td>\n",
              "      <td>0</td>\n",
              "      <td>7.9250</td>\n",
              "      <td>S</td>\n",
              "    </tr>\n",
              "    <tr>\n",
              "      <th>3</th>\n",
              "      <td>1</td>\n",
              "      <td>1</td>\n",
              "      <td>female</td>\n",
              "      <td>35.0</td>\n",
              "      <td>1</td>\n",
              "      <td>0</td>\n",
              "      <td>53.1000</td>\n",
              "      <td>S</td>\n",
              "    </tr>\n",
              "    <tr>\n",
              "      <th>4</th>\n",
              "      <td>0</td>\n",
              "      <td>3</td>\n",
              "      <td>male</td>\n",
              "      <td>35.0</td>\n",
              "      <td>0</td>\n",
              "      <td>0</td>\n",
              "      <td>8.0500</td>\n",
              "      <td>S</td>\n",
              "    </tr>\n",
              "  </tbody>\n",
              "</table>\n",
              "</div>\n",
              "      <button class=\"colab-df-convert\" onclick=\"convertToInteractive('df-ab507851-c144-4cab-aa7f-49560905c8d4')\"\n",
              "              title=\"Convert this dataframe to an interactive table.\"\n",
              "              style=\"display:none;\">\n",
              "        \n",
              "  <svg xmlns=\"http://www.w3.org/2000/svg\" height=\"24px\"viewBox=\"0 0 24 24\"\n",
              "       width=\"24px\">\n",
              "    <path d=\"M0 0h24v24H0V0z\" fill=\"none\"/>\n",
              "    <path d=\"M18.56 5.44l.94 2.06.94-2.06 2.06-.94-2.06-.94-.94-2.06-.94 2.06-2.06.94zm-11 1L8.5 8.5l.94-2.06 2.06-.94-2.06-.94L8.5 2.5l-.94 2.06-2.06.94zm10 10l.94 2.06.94-2.06 2.06-.94-2.06-.94-.94-2.06-.94 2.06-2.06.94z\"/><path d=\"M17.41 7.96l-1.37-1.37c-.4-.4-.92-.59-1.43-.59-.52 0-1.04.2-1.43.59L10.3 9.45l-7.72 7.72c-.78.78-.78 2.05 0 2.83L4 21.41c.39.39.9.59 1.41.59.51 0 1.02-.2 1.41-.59l7.78-7.78 2.81-2.81c.8-.78.8-2.07 0-2.86zM5.41 20L4 18.59l7.72-7.72 1.47 1.35L5.41 20z\"/>\n",
              "  </svg>\n",
              "      </button>\n",
              "      \n",
              "  <style>\n",
              "    .colab-df-container {\n",
              "      display:flex;\n",
              "      flex-wrap:wrap;\n",
              "      gap: 12px;\n",
              "    }\n",
              "\n",
              "    .colab-df-convert {\n",
              "      background-color: #E8F0FE;\n",
              "      border: none;\n",
              "      border-radius: 50%;\n",
              "      cursor: pointer;\n",
              "      display: none;\n",
              "      fill: #1967D2;\n",
              "      height: 32px;\n",
              "      padding: 0 0 0 0;\n",
              "      width: 32px;\n",
              "    }\n",
              "\n",
              "    .colab-df-convert:hover {\n",
              "      background-color: #E2EBFA;\n",
              "      box-shadow: 0px 1px 2px rgba(60, 64, 67, 0.3), 0px 1px 3px 1px rgba(60, 64, 67, 0.15);\n",
              "      fill: #174EA6;\n",
              "    }\n",
              "\n",
              "    [theme=dark] .colab-df-convert {\n",
              "      background-color: #3B4455;\n",
              "      fill: #D2E3FC;\n",
              "    }\n",
              "\n",
              "    [theme=dark] .colab-df-convert:hover {\n",
              "      background-color: #434B5C;\n",
              "      box-shadow: 0px 1px 3px 1px rgba(0, 0, 0, 0.15);\n",
              "      filter: drop-shadow(0px 1px 2px rgba(0, 0, 0, 0.3));\n",
              "      fill: #FFFFFF;\n",
              "    }\n",
              "  </style>\n",
              "\n",
              "      <script>\n",
              "        const buttonEl =\n",
              "          document.querySelector('#df-ab507851-c144-4cab-aa7f-49560905c8d4 button.colab-df-convert');\n",
              "        buttonEl.style.display =\n",
              "          google.colab.kernel.accessAllowed ? 'block' : 'none';\n",
              "\n",
              "        async function convertToInteractive(key) {\n",
              "          const element = document.querySelector('#df-ab507851-c144-4cab-aa7f-49560905c8d4');\n",
              "          const dataTable =\n",
              "            await google.colab.kernel.invokeFunction('convertToInteractive',\n",
              "                                                     [key], {});\n",
              "          if (!dataTable) return;\n",
              "\n",
              "          const docLinkHtml = 'Like what you see? Visit the ' +\n",
              "            '<a target=\"_blank\" href=https://colab.research.google.com/notebooks/data_table.ipynb>data table notebook</a>'\n",
              "            + ' to learn more about interactive tables.';\n",
              "          element.innerHTML = '';\n",
              "          dataTable['output_type'] = 'display_data';\n",
              "          await google.colab.output.renderOutput(dataTable, element);\n",
              "          const docLink = document.createElement('div');\n",
              "          docLink.innerHTML = docLinkHtml;\n",
              "          element.appendChild(docLink);\n",
              "        }\n",
              "      </script>\n",
              "    </div>\n",
              "  </div>\n",
              "  "
            ]
          },
          "metadata": {},
          "execution_count": 39
        }
      ]
    },
    {
      "cell_type": "code",
      "source": [
        "titanic_mice.isnull().sum()"
      ],
      "metadata": {
        "colab": {
          "base_uri": "https://localhost:8080/"
        },
        "id": "IhT1SMPcoUUg",
        "outputId": "7583dfca-9847-4149-df5a-6a437c0df6f8"
      },
      "execution_count": 25,
      "outputs": [
        {
          "output_type": "execute_result",
          "data": {
            "text/plain": [
              "Survived      0\n",
              "Pclass        0\n",
              "Sex           0\n",
              "Age         177\n",
              "SibSp         0\n",
              "Parch         0\n",
              "Fare          0\n",
              "Embarked      2\n",
              "dtype: int64"
            ]
          },
          "metadata": {},
          "execution_count": 25
        }
      ]
    },
    {
      "cell_type": "code",
      "source": [
        "#pd.get_dummies untuk merubah kolom kategorik\n",
        "#mice2 = get dummies dari mice\n",
        "#mice3 = melakukan mice dari mice2\n",
        "\n",
        "titanic_mice2 = pd.get_dummies(titanic_mice)\n",
        "titanic_mice3 = mice(titanic_mice2.values)\n",
        "titanic_mice3 = pd.DataFrame(titanic_mice3)\n",
        "titanic_mice3.columns = titanic_mice2.columns\n",
        "titanic_mice3.head()"
      ],
      "metadata": {
        "colab": {
          "base_uri": "https://localhost:8080/",
          "height": 206
        },
        "id": "lwMzIGcJohbk",
        "outputId": "79f8eb25-6a4c-4c87-9937-3a5f8f4d4bfc"
      },
      "execution_count": 41,
      "outputs": [
        {
          "output_type": "execute_result",
          "data": {
            "text/plain": [
              "   Survived  Pclass   Age  SibSp  Parch     Fare  Sex_female  Sex_male  \\\n",
              "0       0.0     3.0  22.0    1.0    0.0   7.2500         0.0       1.0   \n",
              "1       1.0     1.0  38.0    1.0    0.0  71.2833         1.0       0.0   \n",
              "2       1.0     3.0  26.0    0.0    0.0   7.9250         1.0       0.0   \n",
              "3       1.0     1.0  35.0    1.0    0.0  53.1000         1.0       0.0   \n",
              "4       0.0     3.0  35.0    0.0    0.0   8.0500         0.0       1.0   \n",
              "\n",
              "   Embarked_C  Embarked_Q  Embarked_S  \n",
              "0         0.0         0.0         1.0  \n",
              "1         1.0         0.0         0.0  \n",
              "2         0.0         0.0         1.0  \n",
              "3         0.0         0.0         1.0  \n",
              "4         0.0         0.0         1.0  "
            ],
            "text/html": [
              "\n",
              "  <div id=\"df-64cebfc6-9452-42c0-9bc6-d280fc8994b1\">\n",
              "    <div class=\"colab-df-container\">\n",
              "      <div>\n",
              "<style scoped>\n",
              "    .dataframe tbody tr th:only-of-type {\n",
              "        vertical-align: middle;\n",
              "    }\n",
              "\n",
              "    .dataframe tbody tr th {\n",
              "        vertical-align: top;\n",
              "    }\n",
              "\n",
              "    .dataframe thead th {\n",
              "        text-align: right;\n",
              "    }\n",
              "</style>\n",
              "<table border=\"1\" class=\"dataframe\">\n",
              "  <thead>\n",
              "    <tr style=\"text-align: right;\">\n",
              "      <th></th>\n",
              "      <th>Survived</th>\n",
              "      <th>Pclass</th>\n",
              "      <th>Age</th>\n",
              "      <th>SibSp</th>\n",
              "      <th>Parch</th>\n",
              "      <th>Fare</th>\n",
              "      <th>Sex_female</th>\n",
              "      <th>Sex_male</th>\n",
              "      <th>Embarked_C</th>\n",
              "      <th>Embarked_Q</th>\n",
              "      <th>Embarked_S</th>\n",
              "    </tr>\n",
              "  </thead>\n",
              "  <tbody>\n",
              "    <tr>\n",
              "      <th>0</th>\n",
              "      <td>0.0</td>\n",
              "      <td>3.0</td>\n",
              "      <td>22.0</td>\n",
              "      <td>1.0</td>\n",
              "      <td>0.0</td>\n",
              "      <td>7.2500</td>\n",
              "      <td>0.0</td>\n",
              "      <td>1.0</td>\n",
              "      <td>0.0</td>\n",
              "      <td>0.0</td>\n",
              "      <td>1.0</td>\n",
              "    </tr>\n",
              "    <tr>\n",
              "      <th>1</th>\n",
              "      <td>1.0</td>\n",
              "      <td>1.0</td>\n",
              "      <td>38.0</td>\n",
              "      <td>1.0</td>\n",
              "      <td>0.0</td>\n",
              "      <td>71.2833</td>\n",
              "      <td>1.0</td>\n",
              "      <td>0.0</td>\n",
              "      <td>1.0</td>\n",
              "      <td>0.0</td>\n",
              "      <td>0.0</td>\n",
              "    </tr>\n",
              "    <tr>\n",
              "      <th>2</th>\n",
              "      <td>1.0</td>\n",
              "      <td>3.0</td>\n",
              "      <td>26.0</td>\n",
              "      <td>0.0</td>\n",
              "      <td>0.0</td>\n",
              "      <td>7.9250</td>\n",
              "      <td>1.0</td>\n",
              "      <td>0.0</td>\n",
              "      <td>0.0</td>\n",
              "      <td>0.0</td>\n",
              "      <td>1.0</td>\n",
              "    </tr>\n",
              "    <tr>\n",
              "      <th>3</th>\n",
              "      <td>1.0</td>\n",
              "      <td>1.0</td>\n",
              "      <td>35.0</td>\n",
              "      <td>1.0</td>\n",
              "      <td>0.0</td>\n",
              "      <td>53.1000</td>\n",
              "      <td>1.0</td>\n",
              "      <td>0.0</td>\n",
              "      <td>0.0</td>\n",
              "      <td>0.0</td>\n",
              "      <td>1.0</td>\n",
              "    </tr>\n",
              "    <tr>\n",
              "      <th>4</th>\n",
              "      <td>0.0</td>\n",
              "      <td>3.0</td>\n",
              "      <td>35.0</td>\n",
              "      <td>0.0</td>\n",
              "      <td>0.0</td>\n",
              "      <td>8.0500</td>\n",
              "      <td>0.0</td>\n",
              "      <td>1.0</td>\n",
              "      <td>0.0</td>\n",
              "      <td>0.0</td>\n",
              "      <td>1.0</td>\n",
              "    </tr>\n",
              "  </tbody>\n",
              "</table>\n",
              "</div>\n",
              "      <button class=\"colab-df-convert\" onclick=\"convertToInteractive('df-64cebfc6-9452-42c0-9bc6-d280fc8994b1')\"\n",
              "              title=\"Convert this dataframe to an interactive table.\"\n",
              "              style=\"display:none;\">\n",
              "        \n",
              "  <svg xmlns=\"http://www.w3.org/2000/svg\" height=\"24px\"viewBox=\"0 0 24 24\"\n",
              "       width=\"24px\">\n",
              "    <path d=\"M0 0h24v24H0V0z\" fill=\"none\"/>\n",
              "    <path d=\"M18.56 5.44l.94 2.06.94-2.06 2.06-.94-2.06-.94-.94-2.06-.94 2.06-2.06.94zm-11 1L8.5 8.5l.94-2.06 2.06-.94-2.06-.94L8.5 2.5l-.94 2.06-2.06.94zm10 10l.94 2.06.94-2.06 2.06-.94-2.06-.94-.94-2.06-.94 2.06-2.06.94z\"/><path d=\"M17.41 7.96l-1.37-1.37c-.4-.4-.92-.59-1.43-.59-.52 0-1.04.2-1.43.59L10.3 9.45l-7.72 7.72c-.78.78-.78 2.05 0 2.83L4 21.41c.39.39.9.59 1.41.59.51 0 1.02-.2 1.41-.59l7.78-7.78 2.81-2.81c.8-.78.8-2.07 0-2.86zM5.41 20L4 18.59l7.72-7.72 1.47 1.35L5.41 20z\"/>\n",
              "  </svg>\n",
              "      </button>\n",
              "      \n",
              "  <style>\n",
              "    .colab-df-container {\n",
              "      display:flex;\n",
              "      flex-wrap:wrap;\n",
              "      gap: 12px;\n",
              "    }\n",
              "\n",
              "    .colab-df-convert {\n",
              "      background-color: #E8F0FE;\n",
              "      border: none;\n",
              "      border-radius: 50%;\n",
              "      cursor: pointer;\n",
              "      display: none;\n",
              "      fill: #1967D2;\n",
              "      height: 32px;\n",
              "      padding: 0 0 0 0;\n",
              "      width: 32px;\n",
              "    }\n",
              "\n",
              "    .colab-df-convert:hover {\n",
              "      background-color: #E2EBFA;\n",
              "      box-shadow: 0px 1px 2px rgba(60, 64, 67, 0.3), 0px 1px 3px 1px rgba(60, 64, 67, 0.15);\n",
              "      fill: #174EA6;\n",
              "    }\n",
              "\n",
              "    [theme=dark] .colab-df-convert {\n",
              "      background-color: #3B4455;\n",
              "      fill: #D2E3FC;\n",
              "    }\n",
              "\n",
              "    [theme=dark] .colab-df-convert:hover {\n",
              "      background-color: #434B5C;\n",
              "      box-shadow: 0px 1px 3px 1px rgba(0, 0, 0, 0.15);\n",
              "      filter: drop-shadow(0px 1px 2px rgba(0, 0, 0, 0.3));\n",
              "      fill: #FFFFFF;\n",
              "    }\n",
              "  </style>\n",
              "\n",
              "      <script>\n",
              "        const buttonEl =\n",
              "          document.querySelector('#df-64cebfc6-9452-42c0-9bc6-d280fc8994b1 button.colab-df-convert');\n",
              "        buttonEl.style.display =\n",
              "          google.colab.kernel.accessAllowed ? 'block' : 'none';\n",
              "\n",
              "        async function convertToInteractive(key) {\n",
              "          const element = document.querySelector('#df-64cebfc6-9452-42c0-9bc6-d280fc8994b1');\n",
              "          const dataTable =\n",
              "            await google.colab.kernel.invokeFunction('convertToInteractive',\n",
              "                                                     [key], {});\n",
              "          if (!dataTable) return;\n",
              "\n",
              "          const docLinkHtml = 'Like what you see? Visit the ' +\n",
              "            '<a target=\"_blank\" href=https://colab.research.google.com/notebooks/data_table.ipynb>data table notebook</a>'\n",
              "            + ' to learn more about interactive tables.';\n",
              "          element.innerHTML = '';\n",
              "          dataTable['output_type'] = 'display_data';\n",
              "          await google.colab.output.renderOutput(dataTable, element);\n",
              "          const docLink = document.createElement('div');\n",
              "          docLink.innerHTML = docLinkHtml;\n",
              "          element.appendChild(docLink);\n",
              "        }\n",
              "      </script>\n",
              "    </div>\n",
              "  </div>\n",
              "  "
            ]
          },
          "metadata": {},
          "execution_count": 41
        }
      ]
    },
    {
      "cell_type": "code",
      "source": [
        "titanic_mice3.isnull().sum()"
      ],
      "metadata": {
        "colab": {
          "base_uri": "https://localhost:8080/"
        },
        "id": "0Y_9FZy-rfm8",
        "outputId": "4544ea0a-7760-4630-ed7a-0c6fadfa74b6"
      },
      "execution_count": 42,
      "outputs": [
        {
          "output_type": "execute_result",
          "data": {
            "text/plain": [
              "Survived      0\n",
              "Pclass        0\n",
              "Age           0\n",
              "SibSp         0\n",
              "Parch         0\n",
              "Fare          0\n",
              "Sex_female    0\n",
              "Sex_male      0\n",
              "Embarked_C    0\n",
              "Embarked_Q    0\n",
              "Embarked_S    0\n",
              "dtype: int64"
            ]
          },
          "metadata": {},
          "execution_count": 42
        }
      ]
    },
    {
      "cell_type": "code",
      "source": [
        "sns.histplot(titanic['Age'], alpha=0.2,kde=True,label='pre')\n",
        "sns.histplot(titanic_mice3['Age'], alpha=0.2,kde=True,color='red',label='post')\n",
        "plt.title('Imputation:MICE', size=20)\n",
        "plt.legend(['pre', 'post'])\n",
        "plt.show()\n",
        "print('pre: mean: {}, std: {}'.format(np.mean(titanic['Age']), \n",
        "                                      np.std(titanic['Age'])))\n",
        "print('post: mean: {}, std: {}'.format(np.mean(titanic_mice3['Age']), \n",
        "                                      np.std(titanic_mice3['Age'])))"
      ],
      "metadata": {
        "colab": {
          "base_uri": "https://localhost:8080/",
          "height": 335
        },
        "id": "7QkHEeBrpchU",
        "outputId": "0545256c-2f4a-48b7-91f0-237cdadd7584"
      },
      "execution_count": 43,
      "outputs": [
        {
          "output_type": "display_data",
          "data": {
            "text/plain": [
              "<Figure size 432x288 with 1 Axes>"
            ],
            "image/png": "[encoded data removed]"
          },
          "metadata": {
            "needs_background": "light"
          }
        },
        {
          "output_type": "stream",
          "name": "stdout",
          "text": [
            "pre: mean: 29.69911764705882, std: 14.516321150817317\n",
            "post: mean: 29.395671162586517, std: 13.699203221849322\n"
          ]
        }
      ]
    },
    {
      "cell_type": "markdown",
      "source": [
        "###### Imputing Categorical Feature"
      ],
      "metadata": {
        "id": "vVevbxG2weHV"
      }
    },
    {
      "cell_type": "markdown",
      "source": [
        "- **Label Encoder**"
      ],
      "metadata": {
        "id": "8EWFhfPl1cKN"
      }
    },
    {
      "cell_type": "code",
      "source": [
        "from sklearn.preprocessing import LabelEncoder"
      ],
      "metadata": {
        "id": "Ho0ypdZrxVaJ"
      },
      "execution_count": 46,
      "outputs": []
    },
    {
      "cell_type": "code",
      "source": [
        ""
      ],
      "metadata": {
        "id": "hppa0XDt1kSB"
      },
      "execution_count": null,
      "outputs": []
    },
    {
      "cell_type": "code",
      "source": [
        "titanic_imp = titanic.copy(deep=True)\n",
        "titanic_imp = titanic_imp.drop(['PassengerId', 'Name', 'Ticket'], axis=1)\n",
        "titanic_imp.head()"
      ],
      "metadata": {
        "colab": {
          "base_uri": "https://localhost:8080/",
          "height": 206
        },
        "id": "6tA96PapwmkM",
        "outputId": "76da89b9-a6e3-4e73-f68a-752a22852e20"
      },
      "execution_count": 50,
      "outputs": [
        {
          "output_type": "execute_result",
          "data": {
            "text/plain": [
              "   Survived  Pclass     Sex   Age  SibSp  Parch     Fare Cabin Embarked\n",
              "0         0       3    male  22.0      1      0   7.2500   NaN        S\n",
              "1         1       1  female  38.0      1      0  71.2833   C85        C\n",
              "2         1       3  female  26.0      0      0   7.9250   NaN        S\n",
              "3         1       1  female  35.0      1      0  53.1000  C123        S\n",
              "4         0       3    male  35.0      0      0   8.0500   NaN        S"
            ],
            "text/html": [
              "\n",
              "  <div id=\"df-49452ffb-2531-420f-bcc9-e1fcc590921e\">\n",
              "    <div class=\"colab-df-container\">\n",
              "      <div>\n",
              "<style scoped>\n",
              "    .dataframe tbody tr th:only-of-type {\n",
              "        vertical-align: middle;\n",
              "    }\n",
              "\n",
              "    .dataframe tbody tr th {\n",
              "        vertical-align: top;\n",
              "    }\n",
              "\n",
              "    .dataframe thead th {\n",
              "        text-align: right;\n",
              "    }\n",
              "</style>\n",
              "<table border=\"1\" class=\"dataframe\">\n",
              "  <thead>\n",
              "    <tr style=\"text-align: right;\">\n",
              "      <th></th>\n",
              "      <th>Survived</th>\n",
              "      <th>Pclass</th>\n",
              "      <th>Sex</th>\n",
              "      <th>Age</th>\n",
              "      <th>SibSp</th>\n",
              "      <th>Parch</th>\n",
              "      <th>Fare</th>\n",
              "      <th>Cabin</th>\n",
              "      <th>Embarked</th>\n",
              "    </tr>\n",
              "  </thead>\n",
              "  <tbody>\n",
              "    <tr>\n",
              "      <th>0</th>\n",
              "      <td>0</td>\n",
              "      <td>3</td>\n",
              "      <td>male</td>\n",
              "      <td>22.0</td>\n",
              "      <td>1</td>\n",
              "      <td>0</td>\n",
              "      <td>7.2500</td>\n",
              "      <td>NaN</td>\n",
              "      <td>S</td>\n",
              "    </tr>\n",
              "    <tr>\n",
              "      <th>1</th>\n",
              "      <td>1</td>\n",
              "      <td>1</td>\n",
              "      <td>female</td>\n",
              "      <td>38.0</td>\n",
              "      <td>1</td>\n",
              "      <td>0</td>\n",
              "      <td>71.2833</td>\n",
              "      <td>C85</td>\n",
              "      <td>C</td>\n",
              "    </tr>\n",
              "    <tr>\n",
              "      <th>2</th>\n",
              "      <td>1</td>\n",
              "      <td>3</td>\n",
              "      <td>female</td>\n",
              "      <td>26.0</td>\n",
              "      <td>0</td>\n",
              "      <td>0</td>\n",
              "      <td>7.9250</td>\n",
              "      <td>NaN</td>\n",
              "      <td>S</td>\n",
              "    </tr>\n",
              "    <tr>\n",
              "      <th>3</th>\n",
              "      <td>1</td>\n",
              "      <td>1</td>\n",
              "      <td>female</td>\n",
              "      <td>35.0</td>\n",
              "      <td>1</td>\n",
              "      <td>0</td>\n",
              "      <td>53.1000</td>\n",
              "      <td>C123</td>\n",
              "      <td>S</td>\n",
              "    </tr>\n",
              "    <tr>\n",
              "      <th>4</th>\n",
              "      <td>0</td>\n",
              "      <td>3</td>\n",
              "      <td>male</td>\n",
              "      <td>35.0</td>\n",
              "      <td>0</td>\n",
              "      <td>0</td>\n",
              "      <td>8.0500</td>\n",
              "      <td>NaN</td>\n",
              "      <td>S</td>\n",
              "    </tr>\n",
              "  </tbody>\n",
              "</table>\n",
              "</div>\n",
              "      <button class=\"colab-df-convert\" onclick=\"convertToInteractive('df-49452ffb-2531-420f-bcc9-e1fcc590921e')\"\n",
              "              title=\"Convert this dataframe to an interactive table.\"\n",
              "              style=\"display:none;\">\n",
              "        \n",
              "  <svg xmlns=\"http://www.w3.org/2000/svg\" height=\"24px\"viewBox=\"0 0 24 24\"\n",
              "       width=\"24px\">\n",
              "    <path d=\"M0 0h24v24H0V0z\" fill=\"none\"/>\n",
              "    <path d=\"M18.56 5.44l.94 2.06.94-2.06 2.06-.94-2.06-.94-.94-2.06-.94 2.06-2.06.94zm-11 1L8.5 8.5l.94-2.06 2.06-.94-2.06-.94L8.5 2.5l-.94 2.06-2.06.94zm10 10l.94 2.06.94-2.06 2.06-.94-2.06-.94-.94-2.06-.94 2.06-2.06.94z\"/><path d=\"M17.41 7.96l-1.37-1.37c-.4-.4-.92-.59-1.43-.59-.52 0-1.04.2-1.43.59L10.3 9.45l-7.72 7.72c-.78.78-.78 2.05 0 2.83L4 21.41c.39.39.9.59 1.41.59.51 0 1.02-.2 1.41-.59l7.78-7.78 2.81-2.81c.8-.78.8-2.07 0-2.86zM5.41 20L4 18.59l7.72-7.72 1.47 1.35L5.41 20z\"/>\n",
              "  </svg>\n",
              "      </button>\n",
              "      \n",
              "  <style>\n",
              "    .colab-df-container {\n",
              "      display:flex;\n",
              "      flex-wrap:wrap;\n",
              "      gap: 12px;\n",
              "    }\n",
              "\n",
              "    .colab-df-convert {\n",
              "      background-color: #E8F0FE;\n",
              "      border: none;\n",
              "      border-radius: 50%;\n",
              "      cursor: pointer;\n",
              "      display: none;\n",
              "      fill: #1967D2;\n",
              "      height: 32px;\n",
              "      padding: 0 0 0 0;\n",
              "      width: 32px;\n",
              "    }\n",
              "\n",
              "    .colab-df-convert:hover {\n",
              "      background-color: #E2EBFA;\n",
              "      box-shadow: 0px 1px 2px rgba(60, 64, 67, 0.3), 0px 1px 3px 1px rgba(60, 64, 67, 0.15);\n",
              "      fill: #174EA6;\n",
              "    }\n",
              "\n",
              "    [theme=dark] .colab-df-convert {\n",
              "      background-color: #3B4455;\n",
              "      fill: #D2E3FC;\n",
              "    }\n",
              "\n",
              "    [theme=dark] .colab-df-convert:hover {\n",
              "      background-color: #434B5C;\n",
              "      box-shadow: 0px 1px 3px 1px rgba(0, 0, 0, 0.15);\n",
              "      filter: drop-shadow(0px 1px 2px rgba(0, 0, 0, 0.3));\n",
              "      fill: #FFFFFF;\n",
              "    }\n",
              "  </style>\n",
              "\n",
              "      <script>\n",
              "        const buttonEl =\n",
              "          document.querySelector('#df-49452ffb-2531-420f-bcc9-e1fcc590921e button.colab-df-convert');\n",
              "        buttonEl.style.display =\n",
              "          google.colab.kernel.accessAllowed ? 'block' : 'none';\n",
              "\n",
              "        async function convertToInteractive(key) {\n",
              "          const element = document.querySelector('#df-49452ffb-2531-420f-bcc9-e1fcc590921e');\n",
              "          const dataTable =\n",
              "            await google.colab.kernel.invokeFunction('convertToInteractive',\n",
              "                                                     [key], {});\n",
              "          if (!dataTable) return;\n",
              "\n",
              "          const docLinkHtml = 'Like what you see? Visit the ' +\n",
              "            '<a target=\"_blank\" href=https://colab.research.google.com/notebooks/data_table.ipynb>data table notebook</a>'\n",
              "            + ' to learn more about interactive tables.';\n",
              "          element.innerHTML = '';\n",
              "          dataTable['output_type'] = 'display_data';\n",
              "          await google.colab.output.renderOutput(dataTable, element);\n",
              "          const docLink = document.createElement('div');\n",
              "          docLink.innerHTML = docLinkHtml;\n",
              "          element.appendChild(docLink);\n",
              "        }\n",
              "      </script>\n",
              "    </div>\n",
              "  </div>\n",
              "  "
            ]
          },
          "metadata": {},
          "execution_count": 50
        }
      ]
    },
    {
      "cell_type": "code",
      "source": [
        "titanic_imp2 = titanic.copy(deep=True)\n",
        "titanic_imp2[['Sex', 'Cabin', 'Embarked']] = titanic_imp[['Sex', 'Cabin', 'Embarked']].apply(LabelEncoder().fit_transform)\n",
        "titanic_imp2.head()\n",
        "# NaN berubah menjadi angka, seharusnya NaN tetap NaN"
      ],
      "metadata": {
        "colab": {
          "base_uri": "https://localhost:8080/",
          "height": 302
        },
        "id": "pKKdX-lVxL7n",
        "outputId": "5d1ab6bd-dc52-406b-ee8a-ba4e0af4da6a"
      },
      "execution_count": 52,
      "outputs": [
        {
          "output_type": "execute_result",
          "data": {
            "text/plain": [
              "   PassengerId  Survived  Pclass  \\\n",
              "0            1         0       3   \n",
              "1            2         1       1   \n",
              "2            3         1       3   \n",
              "3            4         1       1   \n",
              "4            5         0       3   \n",
              "\n",
              "                                                Name  Sex   Age  SibSp  Parch  \\\n",
              "0                            Braund, Mr. Owen Harris    1  22.0      1      0   \n",
              "1  Cumings, Mrs. John Bradley (Florence Briggs Th...    0  38.0      1      0   \n",
              "2                             Heikkinen, Miss. Laina    0  26.0      0      0   \n",
              "3       Futrelle, Mrs. Jacques Heath (Lily May Peel)    0  35.0      1      0   \n",
              "4                           Allen, Mr. William Henry    1  35.0      0      0   \n",
              "\n",
              "             Ticket     Fare  Cabin  Embarked  \n",
              "0         A/5 21171   7.2500    147         2  \n",
              "1          PC 17599  71.2833     81         0  \n",
              "2  STON/O2. 3101282   7.9250    147         2  \n",
              "3            113803  53.1000     55         2  \n",
              "4            373450   8.0500    147         2  "
            ],
            "text/html": [
              "\n",
              "  <div id=\"df-4984dbfd-9b4d-4b67-925e-3d0e181e4760\">\n",
              "    <div class=\"colab-df-container\">\n",
              "      <div>\n",
              "<style scoped>\n",
              "    .dataframe tbody tr th:only-of-type {\n",
              "        vertical-align: middle;\n",
              "    }\n",
              "\n",
              "    .dataframe tbody tr th {\n",
              "        vertical-align: top;\n",
              "    }\n",
              "\n",
              "    .dataframe thead th {\n",
              "        text-align: right;\n",
              "    }\n",
              "</style>\n",
              "<table border=\"1\" class=\"dataframe\">\n",
              "  <thead>\n",
              "    <tr style=\"text-align: right;\">\n",
              "      <th></th>\n",
              "      <th>PassengerId</th>\n",
              "      <th>Survived</th>\n",
              "      <th>Pclass</th>\n",
              "      <th>Name</th>\n",
              "      <th>Sex</th>\n",
              "      <th>Age</th>\n",
              "      <th>SibSp</th>\n",
              "      <th>Parch</th>\n",
              "      <th>Ticket</th>\n",
              "      <th>Fare</th>\n",
              "      <th>Cabin</th>\n",
              "      <th>Embarked</th>\n",
              "    </tr>\n",
              "  </thead>\n",
              "  <tbody>\n",
              "    <tr>\n",
              "      <th>0</th>\n",
              "      <td>1</td>\n",
              "      <td>0</td>\n",
              "      <td>3</td>\n",
              "      <td>Braund, Mr. Owen Harris</td>\n",
              "      <td>1</td>\n",
              "      <td>22.0</td>\n",
              "      <td>1</td>\n",
              "      <td>0</td>\n",
              "      <td>A/5 21171</td>\n",
              "      <td>7.2500</td>\n",
              "      <td>147</td>\n",
              "      <td>2</td>\n",
              "    </tr>\n",
              "    <tr>\n",
              "      <th>1</th>\n",
              "      <td>2</td>\n",
              "      <td>1</td>\n",
              "      <td>1</td>\n",
              "      <td>Cumings, Mrs. John Bradley (Florence Briggs Th...</td>\n",
              "      <td>0</td>\n",
              "      <td>38.0</td>\n",
              "      <td>1</td>\n",
              "      <td>0</td>\n",
              "      <td>PC 17599</td>\n",
              "      <td>71.2833</td>\n",
              "      <td>81</td>\n",
              "      <td>0</td>\n",
              "    </tr>\n",
              "    <tr>\n",
              "      <th>2</th>\n",
              "      <td>3</td>\n",
              "      <td>1</td>\n",
              "      <td>3</td>\n",
              "      <td>Heikkinen, Miss. Laina</td>\n",
              "      <td>0</td>\n",
              "      <td>26.0</td>\n",
              "      <td>0</td>\n",
              "      <td>0</td>\n",
              "      <td>STON/O2. 3101282</td>\n",
              "      <td>7.9250</td>\n",
              "      <td>147</td>\n",
              "      <td>2</td>\n",
              "    </tr>\n",
              "    <tr>\n",
              "      <th>3</th>\n",
              "      <td>4</td>\n",
              "      <td>1</td>\n",
              "      <td>1</td>\n",
              "      <td>Futrelle, Mrs. Jacques Heath (Lily May Peel)</td>\n",
              "      <td>0</td>\n",
              "      <td>35.0</td>\n",
              "      <td>1</td>\n",
              "      <td>0</td>\n",
              "      <td>113803</td>\n",
              "      <td>53.1000</td>\n",
              "      <td>55</td>\n",
              "      <td>2</td>\n",
              "    </tr>\n",
              "    <tr>\n",
              "      <th>4</th>\n",
              "      <td>5</td>\n",
              "      <td>0</td>\n",
              "      <td>3</td>\n",
              "      <td>Allen, Mr. William Henry</td>\n",
              "      <td>1</td>\n",
              "      <td>35.0</td>\n",
              "      <td>0</td>\n",
              "      <td>0</td>\n",
              "      <td>373450</td>\n",
              "      <td>8.0500</td>\n",
              "      <td>147</td>\n",
              "      <td>2</td>\n",
              "    </tr>\n",
              "  </tbody>\n",
              "</table>\n",
              "</div>\n",
              "      <button class=\"colab-df-convert\" onclick=\"convertToInteractive('df-4984dbfd-9b4d-4b67-925e-3d0e181e4760')\"\n",
              "              title=\"Convert this dataframe to an interactive table.\"\n",
              "              style=\"display:none;\">\n",
              "        \n",
              "  <svg xmlns=\"http://www.w3.org/2000/svg\" height=\"24px\"viewBox=\"0 0 24 24\"\n",
              "       width=\"24px\">\n",
              "    <path d=\"M0 0h24v24H0V0z\" fill=\"none\"/>\n",
              "    <path d=\"M18.56 5.44l.94 2.06.94-2.06 2.06-.94-2.06-.94-.94-2.06-.94 2.06-2.06.94zm-11 1L8.5 8.5l.94-2.06 2.06-.94-2.06-.94L8.5 2.5l-.94 2.06-2.06.94zm10 10l.94 2.06.94-2.06 2.06-.94-2.06-.94-.94-2.06-.94 2.06-2.06.94z\"/><path d=\"M17.41 7.96l-1.37-1.37c-.4-.4-.92-.59-1.43-.59-.52 0-1.04.2-1.43.59L10.3 9.45l-7.72 7.72c-.78.78-.78 2.05 0 2.83L4 21.41c.39.39.9.59 1.41.59.51 0 1.02-.2 1.41-.59l7.78-7.78 2.81-2.81c.8-.78.8-2.07 0-2.86zM5.41 20L4 18.59l7.72-7.72 1.47 1.35L5.41 20z\"/>\n",
              "  </svg>\n",
              "      </button>\n",
              "      \n",
              "  <style>\n",
              "    .colab-df-container {\n",
              "      display:flex;\n",
              "      flex-wrap:wrap;\n",
              "      gap: 12px;\n",
              "    }\n",
              "\n",
              "    .colab-df-convert {\n",
              "      background-color: #E8F0FE;\n",
              "      border: none;\n",
              "      border-radius: 50%;\n",
              "      cursor: pointer;\n",
              "      display: none;\n",
              "      fill: #1967D2;\n",
              "      height: 32px;\n",
              "      padding: 0 0 0 0;\n",
              "      width: 32px;\n",
              "    }\n",
              "\n",
              "    .colab-df-convert:hover {\n",
              "      background-color: #E2EBFA;\n",
              "      box-shadow: 0px 1px 2px rgba(60, 64, 67, 0.3), 0px 1px 3px 1px rgba(60, 64, 67, 0.15);\n",
              "      fill: #174EA6;\n",
              "    }\n",
              "\n",
              "    [theme=dark] .colab-df-convert {\n",
              "      background-color: #3B4455;\n",
              "      fill: #D2E3FC;\n",
              "    }\n",
              "\n",
              "    [theme=dark] .colab-df-convert:hover {\n",
              "      background-color: #434B5C;\n",
              "      box-shadow: 0px 1px 3px 1px rgba(0, 0, 0, 0.15);\n",
              "      filter: drop-shadow(0px 1px 2px rgba(0, 0, 0, 0.3));\n",
              "      fill: #FFFFFF;\n",
              "    }\n",
              "  </style>\n",
              "\n",
              "      <script>\n",
              "        const buttonEl =\n",
              "          document.querySelector('#df-4984dbfd-9b4d-4b67-925e-3d0e181e4760 button.colab-df-convert');\n",
              "        buttonEl.style.display =\n",
              "          google.colab.kernel.accessAllowed ? 'block' : 'none';\n",
              "\n",
              "        async function convertToInteractive(key) {\n",
              "          const element = document.querySelector('#df-4984dbfd-9b4d-4b67-925e-3d0e181e4760');\n",
              "          const dataTable =\n",
              "            await google.colab.kernel.invokeFunction('convertToInteractive',\n",
              "                                                     [key], {});\n",
              "          if (!dataTable) return;\n",
              "\n",
              "          const docLinkHtml = 'Like what you see? Visit the ' +\n",
              "            '<a target=\"_blank\" href=https://colab.research.google.com/notebooks/data_table.ipynb>data table notebook</a>'\n",
              "            + ' to learn more about interactive tables.';\n",
              "          element.innerHTML = '';\n",
              "          dataTable['output_type'] = 'display_data';\n",
              "          await google.colab.output.renderOutput(dataTable, element);\n",
              "          const docLink = document.createElement('div');\n",
              "          docLink.innerHTML = docLinkHtml;\n",
              "          element.appendChild(docLink);\n",
              "        }\n",
              "      </script>\n",
              "    </div>\n",
              "  </div>\n",
              "  "
            ]
          },
          "metadata": {},
          "execution_count": 52
        }
      ]
    },
    {
      "cell_type": "code",
      "source": [
        "# mask digunakan untuk mempertahanan NaN agar tidak ikut terlabel\n",
        "#mask dilakukan setelah dilakukan label encoder\n",
        "mask = titanic_imp[['Sex', 'Cabin', 'Embarked']].isna()\n",
        "\n",
        "titanic_imp2[['Sex', 'Cabin', 'Embarked']] = titanic_imp2[['Sex', 'Cabin', 'Embarked']].mask(mask)\n",
        "titanic_imp2.head()"
      ],
      "metadata": {
        "colab": {
          "base_uri": "https://localhost:8080/",
          "height": 302
        },
        "id": "UjXBUj0LyNO7",
        "outputId": "61f70c59-21a7-4aed-c4fe-8a67f9e81266"
      },
      "execution_count": 55,
      "outputs": [
        {
          "output_type": "execute_result",
          "data": {
            "text/plain": [
              "   PassengerId  Survived  Pclass  \\\n",
              "0            1         0       3   \n",
              "1            2         1       1   \n",
              "2            3         1       3   \n",
              "3            4         1       1   \n",
              "4            5         0       3   \n",
              "\n",
              "                                                Name  Sex   Age  SibSp  Parch  \\\n",
              "0                            Braund, Mr. Owen Harris    1  22.0      1      0   \n",
              "1  Cumings, Mrs. John Bradley (Florence Briggs Th...    0  38.0      1      0   \n",
              "2                             Heikkinen, Miss. Laina    0  26.0      0      0   \n",
              "3       Futrelle, Mrs. Jacques Heath (Lily May Peel)    0  35.0      1      0   \n",
              "4                           Allen, Mr. William Henry    1  35.0      0      0   \n",
              "\n",
              "             Ticket     Fare  Cabin  Embarked  \n",
              "0         A/5 21171   7.2500    NaN       2.0  \n",
              "1          PC 17599  71.2833   81.0       0.0  \n",
              "2  STON/O2. 3101282   7.9250    NaN       2.0  \n",
              "3            113803  53.1000   55.0       2.0  \n",
              "4            373450   8.0500    NaN       2.0  "
            ],
            "text/html": [
              "\n",
              "  <div id=\"df-ab05cb99-bf09-42c3-8e97-37f22c3797d0\">\n",
              "    <div class=\"colab-df-container\">\n",
              "      <div>\n",
              "<style scoped>\n",
              "    .dataframe tbody tr th:only-of-type {\n",
              "        vertical-align: middle;\n",
              "    }\n",
              "\n",
              "    .dataframe tbody tr th {\n",
              "        vertical-align: top;\n",
              "    }\n",
              "\n",
              "    .dataframe thead th {\n",
              "        text-align: right;\n",
              "    }\n",
              "</style>\n",
              "<table border=\"1\" class=\"dataframe\">\n",
              "  <thead>\n",
              "    <tr style=\"text-align: right;\">\n",
              "      <th></th>\n",
              "      <th>PassengerId</th>\n",
              "      <th>Survived</th>\n",
              "      <th>Pclass</th>\n",
              "      <th>Name</th>\n",
              "      <th>Sex</th>\n",
              "      <th>Age</th>\n",
              "      <th>SibSp</th>\n",
              "      <th>Parch</th>\n",
              "      <th>Ticket</th>\n",
              "      <th>Fare</th>\n",
              "      <th>Cabin</th>\n",
              "      <th>Embarked</th>\n",
              "    </tr>\n",
              "  </thead>\n",
              "  <tbody>\n",
              "    <tr>\n",
              "      <th>0</th>\n",
              "      <td>1</td>\n",
              "      <td>0</td>\n",
              "      <td>3</td>\n",
              "      <td>Braund, Mr. Owen Harris</td>\n",
              "      <td>1</td>\n",
              "      <td>22.0</td>\n",
              "      <td>1</td>\n",
              "      <td>0</td>\n",
              "      <td>A/5 21171</td>\n",
              "      <td>7.2500</td>\n",
              "      <td>NaN</td>\n",
              "      <td>2.0</td>\n",
              "    </tr>\n",
              "    <tr>\n",
              "      <th>1</th>\n",
              "      <td>2</td>\n",
              "      <td>1</td>\n",
              "      <td>1</td>\n",
              "      <td>Cumings, Mrs. John Bradley (Florence Briggs Th...</td>\n",
              "      <td>0</td>\n",
              "      <td>38.0</td>\n",
              "      <td>1</td>\n",
              "      <td>0</td>\n",
              "      <td>PC 17599</td>\n",
              "      <td>71.2833</td>\n",
              "      <td>81.0</td>\n",
              "      <td>0.0</td>\n",
              "    </tr>\n",
              "    <tr>\n",
              "      <th>2</th>\n",
              "      <td>3</td>\n",
              "      <td>1</td>\n",
              "      <td>3</td>\n",
              "      <td>Heikkinen, Miss. Laina</td>\n",
              "      <td>0</td>\n",
              "      <td>26.0</td>\n",
              "      <td>0</td>\n",
              "      <td>0</td>\n",
              "      <td>STON/O2. 3101282</td>\n",
              "      <td>7.9250</td>\n",
              "      <td>NaN</td>\n",
              "      <td>2.0</td>\n",
              "    </tr>\n",
              "    <tr>\n",
              "      <th>3</th>\n",
              "      <td>4</td>\n",
              "      <td>1</td>\n",
              "      <td>1</td>\n",
              "      <td>Futrelle, Mrs. Jacques Heath (Lily May Peel)</td>\n",
              "      <td>0</td>\n",
              "      <td>35.0</td>\n",
              "      <td>1</td>\n",
              "      <td>0</td>\n",
              "      <td>113803</td>\n",
              "      <td>53.1000</td>\n",
              "      <td>55.0</td>\n",
              "      <td>2.0</td>\n",
              "    </tr>\n",
              "    <tr>\n",
              "      <th>4</th>\n",
              "      <td>5</td>\n",
              "      <td>0</td>\n",
              "      <td>3</td>\n",
              "      <td>Allen, Mr. William Henry</td>\n",
              "      <td>1</td>\n",
              "      <td>35.0</td>\n",
              "      <td>0</td>\n",
              "      <td>0</td>\n",
              "      <td>373450</td>\n",
              "      <td>8.0500</td>\n",
              "      <td>NaN</td>\n",
              "      <td>2.0</td>\n",
              "    </tr>\n",
              "  </tbody>\n",
              "</table>\n",
              "</div>\n",
              "      <button class=\"colab-df-convert\" onclick=\"convertToInteractive('df-ab05cb99-bf09-42c3-8e97-37f22c3797d0')\"\n",
              "              title=\"Convert this dataframe to an interactive table.\"\n",
              "              style=\"display:none;\">\n",
              "        \n",
              "  <svg xmlns=\"http://www.w3.org/2000/svg\" height=\"24px\"viewBox=\"0 0 24 24\"\n",
              "       width=\"24px\">\n",
              "    <path d=\"M0 0h24v24H0V0z\" fill=\"none\"/>\n",
              "    <path d=\"M18.56 5.44l.94 2.06.94-2.06 2.06-.94-2.06-.94-.94-2.06-.94 2.06-2.06.94zm-11 1L8.5 8.5l.94-2.06 2.06-.94-2.06-.94L8.5 2.5l-.94 2.06-2.06.94zm10 10l.94 2.06.94-2.06 2.06-.94-2.06-.94-.94-2.06-.94 2.06-2.06.94z\"/><path d=\"M17.41 7.96l-1.37-1.37c-.4-.4-.92-.59-1.43-.59-.52 0-1.04.2-1.43.59L10.3 9.45l-7.72 7.72c-.78.78-.78 2.05 0 2.83L4 21.41c.39.39.9.59 1.41.59.51 0 1.02-.2 1.41-.59l7.78-7.78 2.81-2.81c.8-.78.8-2.07 0-2.86zM5.41 20L4 18.59l7.72-7.72 1.47 1.35L5.41 20z\"/>\n",
              "  </svg>\n",
              "      </button>\n",
              "      \n",
              "  <style>\n",
              "    .colab-df-container {\n",
              "      display:flex;\n",
              "      flex-wrap:wrap;\n",
              "      gap: 12px;\n",
              "    }\n",
              "\n",
              "    .colab-df-convert {\n",
              "      background-color: #E8F0FE;\n",
              "      border: none;\n",
              "      border-radius: 50%;\n",
              "      cursor: pointer;\n",
              "      display: none;\n",
              "      fill: #1967D2;\n",
              "      height: 32px;\n",
              "      padding: 0 0 0 0;\n",
              "      width: 32px;\n",
              "    }\n",
              "\n",
              "    .colab-df-convert:hover {\n",
              "      background-color: #E2EBFA;\n",
              "      box-shadow: 0px 1px 2px rgba(60, 64, 67, 0.3), 0px 1px 3px 1px rgba(60, 64, 67, 0.15);\n",
              "      fill: #174EA6;\n",
              "    }\n",
              "\n",
              "    [theme=dark] .colab-df-convert {\n",
              "      background-color: #3B4455;\n",
              "      fill: #D2E3FC;\n",
              "    }\n",
              "\n",
              "    [theme=dark] .colab-df-convert:hover {\n",
              "      background-color: #434B5C;\n",
              "      box-shadow: 0px 1px 3px 1px rgba(0, 0, 0, 0.15);\n",
              "      filter: drop-shadow(0px 1px 2px rgba(0, 0, 0, 0.3));\n",
              "      fill: #FFFFFF;\n",
              "    }\n",
              "  </style>\n",
              "\n",
              "      <script>\n",
              "        const buttonEl =\n",
              "          document.querySelector('#df-ab05cb99-bf09-42c3-8e97-37f22c3797d0 button.colab-df-convert');\n",
              "        buttonEl.style.display =\n",
              "          google.colab.kernel.accessAllowed ? 'block' : 'none';\n",
              "\n",
              "        async function convertToInteractive(key) {\n",
              "          const element = document.querySelector('#df-ab05cb99-bf09-42c3-8e97-37f22c3797d0');\n",
              "          const dataTable =\n",
              "            await google.colab.kernel.invokeFunction('convertToInteractive',\n",
              "                                                     [key], {});\n",
              "          if (!dataTable) return;\n",
              "\n",
              "          const docLinkHtml = 'Like what you see? Visit the ' +\n",
              "            '<a target=\"_blank\" href=https://colab.research.google.com/notebooks/data_table.ipynb>data table notebook</a>'\n",
              "            + ' to learn more about interactive tables.';\n",
              "          element.innerHTML = '';\n",
              "          dataTable['output_type'] = 'display_data';\n",
              "          await google.colab.output.renderOutput(dataTable, element);\n",
              "          const docLink = document.createElement('div');\n",
              "          docLink.innerHTML = docLinkHtml;\n",
              "          element.appendChild(docLink);\n",
              "        }\n",
              "      </script>\n",
              "    </div>\n",
              "  </div>\n",
              "  "
            ]
          },
          "metadata": {},
          "execution_count": 55
        }
      ]
    },
    {
      "cell_type": "code",
      "source": [
        ""
      ],
      "metadata": {
        "id": "4Up1Bex5yogA"
      },
      "execution_count": null,
      "outputs": []
    },
    {
      "cell_type": "markdown",
      "source": [
        "- **Ordinal Encoder**"
      ],
      "metadata": {
        "id": "Rc3GbDAK1m_w"
      }
    },
    {
      "cell_type": "markdown",
      "source": [
        "# **EXPLORATORY DATA ANALYSIS**\n",
        "\n"
      ],
      "metadata": {
        "id": "Nw-IgyIhfZ3Z"
      }
    },
    {
      "cell_type": "markdown",
      "source": [
        "Investigasi awal untuk menemukan:\n",
        "- Pattern data\n",
        "- Anomali data\n",
        "- Hipotesis test<p>\n",
        "dengan bantuan metric statistic dan plot (histogram & boxplot)"
      ],
      "metadata": {
        "id": "U7KaVefiCy0s"
      }
    },
    {
      "cell_type": "markdown",
      "source": [
        "## Univariat"
      ],
      "metadata": {
        "id": "jjMgWSQafk9c"
      }
    },
    {
      "cell_type": "markdown",
      "source": [
        "**Histogram<p>**\n",
        "- untuk data numerik\n",
        "- bentuk distribusi (skewed/normal)\n",
        "- membandingkan 2 dist data (pre & post imputation)\n",
        "- (-) mengurangi clarity\n",
        "\n",
        "**Boxplot**<p>\n",
        "- mengetahui outlier\n",
        "\n",
        "SKEWED - dibaca dimana tail berada (tail kanan = right skewed)"
      ],
      "metadata": {
        "id": "PeWdQAnLDQ6I"
      }
    },
    {
      "cell_type": "code",
      "execution_count": null,
      "metadata": {
        "id": "39c1d3e0-d787-40a0-afea-45bad1d7a852"
      },
      "outputs": [],
      "source": [
        "import pandas as pd\n",
        "import seaborn as sns\n",
        "import matplotlib.pyplot as plt\n",
        "import numpy as np\n",
        "import warnings\n",
        "\n",
        "warnings.filterwarnings('ignore')"
      ]
    },
    {
      "cell_type": "markdown",
      "source": [
        "### Numerik"
      ],
      "metadata": {
        "id": "hdAPuhemE0jc"
      }
    },
    {
      "cell_type": "markdown",
      "source": [
        "### Kategorikal"
      ],
      "metadata": {
        "id": "mUN0IhaMHi25"
      }
    },
    {
      "cell_type": "markdown",
      "source": [
        "## Multivariat"
      ],
      "metadata": {
        "id": "Evg5iksffnTQ"
      }
    },
    {
      "cell_type": "markdown",
      "source": [
        "### Numerik"
      ],
      "metadata": {
        "id": "P4b4541UHm0I"
      }
    },
    {
      "cell_type": "markdown",
      "source": [
        "### Numerik-Kategorikal"
      ],
      "metadata": {
        "id": "nTnVyHUQHo__"
      }
    },
    {
      "cell_type": "markdown",
      "source": [
        "### Kategorikal-Kategorikal"
      ],
      "metadata": {
        "id": "DiEw6UzLHs2f"
      }
    },
    {
      "cell_type": "markdown",
      "source": [
        "## Hypotesis Test"
      ],
      "metadata": {
        "id": "pWTe9bWtH3e3"
      }
    },
    {
      "cell_type": "markdown",
      "source": [
        "# **MACHINE LEARNING**"
      ],
      "metadata": {
        "id": "r8P5xllQfp2h"
      }
    },
    {
      "cell_type": "markdown",
      "source": [
        "## Supervised Learning\n",
        "- Classification\n",
        "- Regression + Forecasting\n",
        "- Cross Validation\n",
        "- Hyper Parametrics Tuning"
      ],
      "metadata": {
        "id": "O76ZuyF3fx1R"
      }
    }
  ]
}